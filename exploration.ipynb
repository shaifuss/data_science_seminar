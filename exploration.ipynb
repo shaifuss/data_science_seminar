{
 "cells": [
  {
   "cell_type": "code",
   "execution_count": 1,
   "metadata": {},
   "outputs": [],
   "source": [
    "import itertools\n",
    "import json\n",
    "import multiprocessing\n",
    "import os\n",
    "import time\n",
    "import pandas as pd"
   ]
  },
  {
   "cell_type": "code",
   "execution_count": 2,
   "metadata": {},
   "outputs": [
    {
     "data": {
      "text/plain": [
       "7302"
      ]
     },
     "execution_count": 2,
     "metadata": {},
     "output_type": "execute_result"
    }
   ],
   "source": [
    "pizza_businesses = []\n",
    "with open('yelp_academic_dataset_business.json', 'r') as f:\n",
    "    for line in f:\n",
    "        line_json = json.loads(line)\n",
    "        if 'Pizza' in (line_json.get('categories') or ''):\n",
    "            pizza_businesses.append(line_json)\n",
    "len(pizza_businesses)"
   ]
  },
  {
   "cell_type": "code",
   "execution_count": 3,
   "metadata": {},
   "outputs": [
    {
     "data": {
      "text/plain": [
       "460965"
      ]
     },
     "execution_count": 3,
     "metadata": {},
     "output_type": "execute_result"
    }
   ],
   "source": [
    "sum([pizza_business['review_count'] for pizza_business in pizza_businesses])"
   ]
  },
  {
   "cell_type": "code",
   "execution_count": 4,
   "metadata": {},
   "outputs": [
    {
     "data": {
      "text/plain": [
       "{'business_id': 'ZkzutF0P_u0C0yTulwaHkA',\n",
       " 'name': 'Lelulos Pizzeria',\n",
       " 'address': '311 Unity Center Rd',\n",
       " 'city': 'Plum',\n",
       " 'state': 'PA',\n",
       " 'postal_code': '15239',\n",
       " 'latitude': 40.4899958,\n",
       " 'longitude': -79.7792879,\n",
       " 'stars': 4.0,\n",
       " 'review_count': 31,\n",
       " 'is_open': 1,\n",
       " 'attributes': {'RestaurantsPriceRange2': '1',\n",
       "  'BusinessAcceptsCreditCards': 'True',\n",
       "  'GoodForKids': 'True',\n",
       "  'OutdoorSeating': 'False',\n",
       "  'HasTV': 'True',\n",
       "  'WiFi': \"'no'\",\n",
       "  'BusinessParking': \"{'garage': False, 'street': False, 'validated': False, 'lot': False, 'valet': False}\",\n",
       "  'RestaurantsGoodForGroups': 'True',\n",
       "  'RestaurantsTakeOut': 'True',\n",
       "  'RestaurantsAttire': \"'casual'\",\n",
       "  'RestaurantsReservations': 'True',\n",
       "  'BikeParking': 'True',\n",
       "  'RestaurantsDelivery': 'True',\n",
       "  'GoodForMeal': \"{'dessert': False, 'latenight': False, 'lunch': False, 'dinner': False, 'brunch': False, 'breakfast': False}\",\n",
       "  'NoiseLevel': \"'quiet'\",\n",
       "  'Ambience': \"{'romantic': False, 'intimate': False, 'classy': False, 'hipster': False, 'divey': False, 'touristy': False, 'trendy': False, 'upscale': False, 'casual': False}\",\n",
       "  'Alcohol': \"'none'\"},\n",
       " 'categories': 'Restaurants, Pizza',\n",
       " 'hours': {'Monday': '0:0-0:0',\n",
       "  'Tuesday': '11:0-21:0',\n",
       "  'Wednesday': '11:0-21:0',\n",
       "  'Thursday': '11:0-21:0',\n",
       "  'Friday': '11:0-22:0',\n",
       "  'Saturday': '11:0-22:0',\n",
       "  'Sunday': '11:0-20:0'}}"
      ]
     },
     "execution_count": 4,
     "metadata": {},
     "output_type": "execute_result"
    }
   ],
   "source": [
    "pizza_businesses[0]"
   ]
  },
  {
   "cell_type": "code",
   "execution_count": 5,
   "metadata": {},
   "outputs": [
    {
     "data": {
      "text/plain": [
       "479792"
      ]
     },
     "execution_count": 5,
     "metadata": {},
     "output_type": "execute_result"
    }
   ],
   "source": [
    "pizza_business_ids = set([pizza_business['business_id'] for pizza_business in pizza_businesses])\n",
    "pizza_reviews = []\n",
    "with open('yelp_academic_dataset_review.json', 'r') as f:\n",
    "    for line in f:\n",
    "        line_json = json.loads(line)\n",
    "        if line_json['business_id'] in pizza_business_ids:\n",
    "            pizza_reviews.append(line_json)\n",
    "len(pizza_reviews)"
   ]
  },
  {
   "cell_type": "code",
   "execution_count": 6,
   "metadata": {},
   "outputs": [
    {
     "data": {
      "text/plain": [
       "{'review_id': 'mM8i91yWP1QbImEvz5ds0w',\n",
       " 'user_id': 'TZQSUDDcA4ek5gBd6BzcjA',\n",
       " 'business_id': 'qUWqjjjfpB2-4P3He5rsKw',\n",
       " 'stars': 4.0,\n",
       " 'useful': 0,\n",
       " 'funny': 0,\n",
       " 'cool': 0,\n",
       " 'text': 'In the heart of Chinatown, I discovered it enroute to Kensington Market one day. It\\'s quite hard to see, if you don\\'t know it\\'s there. First experience was very positive - would definitely return!\\n\\nATMOSPHERE: Small space. Think Banh Mi Boys, and other trendy over-the-counter eateries. Vibe is casual. Free WiFi is nice.\\n\\nSERVICE: Okay. Staff does their job, but not overly helpful upon entering the space. Maybe because it\\'s an over-the-counter style place, but it would have been nice to be walked through their ordering process and menu.\\n\\nPRICE: Average. Depends on the size of pizza you order.The small pizza ($7-9.50) is filling for one. Large size pizza ($13-18.50) is good for sharing... or one VERY hungry person.  Pasta portions are very generous for the price tag ($9-14)\\n\\n\\nFOOD: My friends and I were here for the first time, and we thought it was a pizza place so we all ordered pizza. It wasn\\'t until we were waiting for the food to come, that we looked around and realised EVERY other table around us only had pasta on them. Guess we gotta come back to try! We did notice that the menu said their pasta is homemade. So will definitely come back.\\n\\nHere\\'s the pizza we ordered:\\n\\nPeking Duck Pizza - Very tasty! Rich flavours that work well. But it\\'s heavy, so come hungry - or order to share.\\n\\nMargherita - Good, but not the best. I recommend trying the more \"special\" toppings instead.\\n\\nShall return, and/or try other locations.',\n",
       " 'date': '2017-06-06 19:04:10'}"
      ]
     },
     "execution_count": 6,
     "metadata": {},
     "output_type": "execute_result"
    }
   ],
   "source": [
    "pizza_reviews[0]"
   ]
  },
  {
   "cell_type": "code",
   "execution_count": 7,
   "metadata": {},
   "outputs": [
    {
     "data": {
      "text/html": [
       "<div>\n",
       "<style scoped>\n",
       "    .dataframe tbody tr th:only-of-type {\n",
       "        vertical-align: middle;\n",
       "    }\n",
       "\n",
       "    .dataframe tbody tr th {\n",
       "        vertical-align: top;\n",
       "    }\n",
       "\n",
       "    .dataframe thead th {\n",
       "        text-align: right;\n",
       "    }\n",
       "</style>\n",
       "<table border=\"1\" class=\"dataframe\">\n",
       "  <thead>\n",
       "    <tr style=\"text-align: right;\">\n",
       "      <th></th>\n",
       "      <th>review_id</th>\n",
       "      <th>user_id</th>\n",
       "      <th>business_id</th>\n",
       "      <th>stars</th>\n",
       "      <th>useful</th>\n",
       "      <th>funny</th>\n",
       "      <th>cool</th>\n",
       "      <th>text</th>\n",
       "      <th>date</th>\n",
       "    </tr>\n",
       "  </thead>\n",
       "  <tbody>\n",
       "    <tr>\n",
       "      <th>0</th>\n",
       "      <td>mM8i91yWP1QbImEvz5ds0w</td>\n",
       "      <td>TZQSUDDcA4ek5gBd6BzcjA</td>\n",
       "      <td>qUWqjjjfpB2-4P3He5rsKw</td>\n",
       "      <td>4.0</td>\n",
       "      <td>0</td>\n",
       "      <td>0</td>\n",
       "      <td>0</td>\n",
       "      <td>In the heart of Chinatown, I discovered it enr...</td>\n",
       "      <td>2017-06-06 19:04:10</td>\n",
       "    </tr>\n",
       "    <tr>\n",
       "      <th>1</th>\n",
       "      <td>09qxjFi4abaW66JeSLazuQ</td>\n",
       "      <td>mbdtyUUzZZx5ld1Qc4iGtQ</td>\n",
       "      <td>wkzWdo1mBqbzR2KPoXtWZw</td>\n",
       "      <td>4.0</td>\n",
       "      <td>1</td>\n",
       "      <td>0</td>\n",
       "      <td>0</td>\n",
       "      <td>Was a Chicago style deep dish.  Homemade type ...</td>\n",
       "      <td>2010-08-21 01:19:17</td>\n",
       "    </tr>\n",
       "    <tr>\n",
       "      <th>2</th>\n",
       "      <td>K-wdPGHbErfxbKK6PetrmA</td>\n",
       "      <td>FCoXqPxuI7GRBYyzJIwVxw</td>\n",
       "      <td>r4HkiC71nB9k8Fe8zIORFQ</td>\n",
       "      <td>5.0</td>\n",
       "      <td>1</td>\n",
       "      <td>0</td>\n",
       "      <td>1</td>\n",
       "      <td>First time eating there and everything was so ...</td>\n",
       "      <td>2015-12-05 02:16:06</td>\n",
       "    </tr>\n",
       "    <tr>\n",
       "      <th>3</th>\n",
       "      <td>jkVxX4ieJwVRO9n4E8tNMw</td>\n",
       "      <td>z8-Y3mHdujSZS7JcvzFP8A</td>\n",
       "      <td>vhKUBKcOm8zOLxeS3XM9iA</td>\n",
       "      <td>3.0</td>\n",
       "      <td>1</td>\n",
       "      <td>0</td>\n",
       "      <td>0</td>\n",
       "      <td>More than just  Pizza. This location is small ...</td>\n",
       "      <td>2009-03-01 02:20:56</td>\n",
       "    </tr>\n",
       "    <tr>\n",
       "      <th>4</th>\n",
       "      <td>Lb9r62Qlu12ZB909CbFeOQ</td>\n",
       "      <td>sHUQOhH75nK0J6n_INkKDA</td>\n",
       "      <td>E54AvEdLfCFFkCvXmXJ7GA</td>\n",
       "      <td>1.0</td>\n",
       "      <td>1</td>\n",
       "      <td>1</td>\n",
       "      <td>1</td>\n",
       "      <td>I ordered a pizza at 4:49. Got an email that s...</td>\n",
       "      <td>2018-04-04 01:38:49</td>\n",
       "    </tr>\n",
       "    <tr>\n",
       "      <th>...</th>\n",
       "      <td>...</td>\n",
       "      <td>...</td>\n",
       "      <td>...</td>\n",
       "      <td>...</td>\n",
       "      <td>...</td>\n",
       "      <td>...</td>\n",
       "      <td>...</td>\n",
       "      <td>...</td>\n",
       "      <td>...</td>\n",
       "    </tr>\n",
       "    <tr>\n",
       "      <th>479787</th>\n",
       "      <td>hpg5PY7o8aBEerCIHWSF1Q</td>\n",
       "      <td>VVZK1H2bc61Vjouht1d0ag</td>\n",
       "      <td>dUffgo9Lh_Vk9TLuFR5ywg</td>\n",
       "      <td>1.0</td>\n",
       "      <td>0</td>\n",
       "      <td>0</td>\n",
       "      <td>0</td>\n",
       "      <td>Horrible customer service and service in gener...</td>\n",
       "      <td>2019-11-06 02:18:56</td>\n",
       "    </tr>\n",
       "    <tr>\n",
       "      <th>479788</th>\n",
       "      <td>4tVxtkqWX9qCL4JuUwlbuw</td>\n",
       "      <td>jNrwIRGwKE404C20K3TsJw</td>\n",
       "      <td>wWDNwNb6ygJorKujOuifhA</td>\n",
       "      <td>5.0</td>\n",
       "      <td>0</td>\n",
       "      <td>0</td>\n",
       "      <td>0</td>\n",
       "      <td>It really doesn't get any better. Authentic (a...</td>\n",
       "      <td>2019-11-14 04:27:56</td>\n",
       "    </tr>\n",
       "    <tr>\n",
       "      <th>479789</th>\n",
       "      <td>ZhUeFHPAjUbEKRnYO_pl_w</td>\n",
       "      <td>WS-GsWbN4ltzigWl01t8Xw</td>\n",
       "      <td>o_dWM_hlpgjjd7F15UPjZw</td>\n",
       "      <td>3.0</td>\n",
       "      <td>0</td>\n",
       "      <td>0</td>\n",
       "      <td>0</td>\n",
       "      <td>First let me say Lindys in Columbus is one of ...</td>\n",
       "      <td>2019-11-16 14:37:10</td>\n",
       "    </tr>\n",
       "    <tr>\n",
       "      <th>479790</th>\n",
       "      <td>ubj8ca4hojVcIM-QngBXyg</td>\n",
       "      <td>9-j94j2eq7Gt0Pb1Meg-9A</td>\n",
       "      <td>60uVlCUiLJvq3xNo_3bhQQ</td>\n",
       "      <td>1.0</td>\n",
       "      <td>0</td>\n",
       "      <td>0</td>\n",
       "      <td>0</td>\n",
       "      <td>Pepperoni Roll- From back east and had a cravi...</td>\n",
       "      <td>2019-12-04 22:19:17</td>\n",
       "    </tr>\n",
       "    <tr>\n",
       "      <th>479791</th>\n",
       "      <td>l_aXr5I5ZNQDZEOeReNTow</td>\n",
       "      <td>o3HP46fVcGTCU9oj0LwVBg</td>\n",
       "      <td>CV05rBOr5DdDGvxUZkRFmg</td>\n",
       "      <td>5.0</td>\n",
       "      <td>0</td>\n",
       "      <td>0</td>\n",
       "      <td>0</td>\n",
       "      <td>We thoroughly enjoyed a delicious Italiano din...</td>\n",
       "      <td>2019-12-07 16:27:24</td>\n",
       "    </tr>\n",
       "  </tbody>\n",
       "</table>\n",
       "<p>479792 rows × 9 columns</p>\n",
       "</div>"
      ],
      "text/plain": [
       "                     review_id                 user_id  \\\n",
       "0       mM8i91yWP1QbImEvz5ds0w  TZQSUDDcA4ek5gBd6BzcjA   \n",
       "1       09qxjFi4abaW66JeSLazuQ  mbdtyUUzZZx5ld1Qc4iGtQ   \n",
       "2       K-wdPGHbErfxbKK6PetrmA  FCoXqPxuI7GRBYyzJIwVxw   \n",
       "3       jkVxX4ieJwVRO9n4E8tNMw  z8-Y3mHdujSZS7JcvzFP8A   \n",
       "4       Lb9r62Qlu12ZB909CbFeOQ  sHUQOhH75nK0J6n_INkKDA   \n",
       "...                        ...                     ...   \n",
       "479787  hpg5PY7o8aBEerCIHWSF1Q  VVZK1H2bc61Vjouht1d0ag   \n",
       "479788  4tVxtkqWX9qCL4JuUwlbuw  jNrwIRGwKE404C20K3TsJw   \n",
       "479789  ZhUeFHPAjUbEKRnYO_pl_w  WS-GsWbN4ltzigWl01t8Xw   \n",
       "479790  ubj8ca4hojVcIM-QngBXyg  9-j94j2eq7Gt0Pb1Meg-9A   \n",
       "479791  l_aXr5I5ZNQDZEOeReNTow  o3HP46fVcGTCU9oj0LwVBg   \n",
       "\n",
       "                   business_id  stars  useful  funny  cool  \\\n",
       "0       qUWqjjjfpB2-4P3He5rsKw    4.0       0      0     0   \n",
       "1       wkzWdo1mBqbzR2KPoXtWZw    4.0       1      0     0   \n",
       "2       r4HkiC71nB9k8Fe8zIORFQ    5.0       1      0     1   \n",
       "3       vhKUBKcOm8zOLxeS3XM9iA    3.0       1      0     0   \n",
       "4       E54AvEdLfCFFkCvXmXJ7GA    1.0       1      1     1   \n",
       "...                        ...    ...     ...    ...   ...   \n",
       "479787  dUffgo9Lh_Vk9TLuFR5ywg    1.0       0      0     0   \n",
       "479788  wWDNwNb6ygJorKujOuifhA    5.0       0      0     0   \n",
       "479789  o_dWM_hlpgjjd7F15UPjZw    3.0       0      0     0   \n",
       "479790  60uVlCUiLJvq3xNo_3bhQQ    1.0       0      0     0   \n",
       "479791  CV05rBOr5DdDGvxUZkRFmg    5.0       0      0     0   \n",
       "\n",
       "                                                     text                 date  \n",
       "0       In the heart of Chinatown, I discovered it enr...  2017-06-06 19:04:10  \n",
       "1       Was a Chicago style deep dish.  Homemade type ...  2010-08-21 01:19:17  \n",
       "2       First time eating there and everything was so ...  2015-12-05 02:16:06  \n",
       "3       More than just  Pizza. This location is small ...  2009-03-01 02:20:56  \n",
       "4       I ordered a pizza at 4:49. Got an email that s...  2018-04-04 01:38:49  \n",
       "...                                                   ...                  ...  \n",
       "479787  Horrible customer service and service in gener...  2019-11-06 02:18:56  \n",
       "479788  It really doesn't get any better. Authentic (a...  2019-11-14 04:27:56  \n",
       "479789  First let me say Lindys in Columbus is one of ...  2019-11-16 14:37:10  \n",
       "479790  Pepperoni Roll- From back east and had a cravi...  2019-12-04 22:19:17  \n",
       "479791  We thoroughly enjoyed a delicious Italiano din...  2019-12-07 16:27:24  \n",
       "\n",
       "[479792 rows x 9 columns]"
      ]
     },
     "execution_count": 7,
     "metadata": {},
     "output_type": "execute_result"
    }
   ],
   "source": [
    "pizza_data = pd.DataFrame(pizza_reviews)\n",
    "pizza_data"
   ]
  },
  {
   "cell_type": "code",
   "execution_count": 8,
   "metadata": {},
   "outputs": [
    {
     "data": {
      "text/html": [
       "<div>\n",
       "<style scoped>\n",
       "    .dataframe tbody tr th:only-of-type {\n",
       "        vertical-align: middle;\n",
       "    }\n",
       "\n",
       "    .dataframe tbody tr th {\n",
       "        vertical-align: top;\n",
       "    }\n",
       "\n",
       "    .dataframe thead th {\n",
       "        text-align: right;\n",
       "    }\n",
       "</style>\n",
       "<table border=\"1\" class=\"dataframe\">\n",
       "  <thead>\n",
       "    <tr style=\"text-align: right;\">\n",
       "      <th></th>\n",
       "      <th>stars</th>\n",
       "      <th>useful</th>\n",
       "      <th>funny</th>\n",
       "      <th>cool</th>\n",
       "    </tr>\n",
       "  </thead>\n",
       "  <tbody>\n",
       "    <tr>\n",
       "      <th>count</th>\n",
       "      <td>479792.000000</td>\n",
       "      <td>479792.000000</td>\n",
       "      <td>479792.000000</td>\n",
       "      <td>479792.000000</td>\n",
       "    </tr>\n",
       "    <tr>\n",
       "      <th>mean</th>\n",
       "      <td>3.708130</td>\n",
       "      <td>1.059109</td>\n",
       "      <td>0.453807</td>\n",
       "      <td>0.513481</td>\n",
       "    </tr>\n",
       "    <tr>\n",
       "      <th>std</th>\n",
       "      <td>1.448307</td>\n",
       "      <td>4.439882</td>\n",
       "      <td>4.160658</td>\n",
       "      <td>2.409803</td>\n",
       "    </tr>\n",
       "    <tr>\n",
       "      <th>min</th>\n",
       "      <td>1.000000</td>\n",
       "      <td>0.000000</td>\n",
       "      <td>0.000000</td>\n",
       "      <td>0.000000</td>\n",
       "    </tr>\n",
       "    <tr>\n",
       "      <th>25%</th>\n",
       "      <td>3.000000</td>\n",
       "      <td>0.000000</td>\n",
       "      <td>0.000000</td>\n",
       "      <td>0.000000</td>\n",
       "    </tr>\n",
       "    <tr>\n",
       "      <th>50%</th>\n",
       "      <td>4.000000</td>\n",
       "      <td>0.000000</td>\n",
       "      <td>0.000000</td>\n",
       "      <td>0.000000</td>\n",
       "    </tr>\n",
       "    <tr>\n",
       "      <th>75%</th>\n",
       "      <td>5.000000</td>\n",
       "      <td>1.000000</td>\n",
       "      <td>0.000000</td>\n",
       "      <td>0.000000</td>\n",
       "    </tr>\n",
       "    <tr>\n",
       "      <th>max</th>\n",
       "      <td>5.000000</td>\n",
       "      <td>1122.000000</td>\n",
       "      <td>976.000000</td>\n",
       "      <td>502.000000</td>\n",
       "    </tr>\n",
       "  </tbody>\n",
       "</table>\n",
       "</div>"
      ],
      "text/plain": [
       "               stars         useful          funny           cool\n",
       "count  479792.000000  479792.000000  479792.000000  479792.000000\n",
       "mean        3.708130       1.059109       0.453807       0.513481\n",
       "std         1.448307       4.439882       4.160658       2.409803\n",
       "min         1.000000       0.000000       0.000000       0.000000\n",
       "25%         3.000000       0.000000       0.000000       0.000000\n",
       "50%         4.000000       0.000000       0.000000       0.000000\n",
       "75%         5.000000       1.000000       0.000000       0.000000\n",
       "max         5.000000    1122.000000     976.000000     502.000000"
      ]
     },
     "execution_count": 8,
     "metadata": {},
     "output_type": "execute_result"
    }
   ],
   "source": [
    "pizza_data.describe()"
   ]
  },
  {
   "cell_type": "markdown",
   "metadata": {},
   "source": [
    "## Extract review photo jsons"
   ]
  },
  {
   "cell_type": "code",
   "execution_count": null,
   "metadata": {},
   "outputs": [],
   "source": [
    "import requests\n",
    "\n",
    "USER_AGENT = \"Mozilla/5.0 (X11; Linux x86_64) AppleWebKit/537.36 (KHTML, like Gecko) Chrome/74.0.3729.169 Safari/537.36\"\n",
    "REVIEW_PHOTOS_LIST_TEMPLATE = \"https://www.yelp.com/biz_photos/get_media_slice/{business_id}?userid={user_id}&get_local_ads=1&start=0&dir=f\"\n",
    "session = requests.session()\n",
    "session.headers[\"User-Agent\"] = USER_AGENT"
   ]
  },
  {
   "cell_type": "code",
   "execution_count": null,
   "metadata": {},
   "outputs": [],
   "source": [
    "def get_review_photos(review):\n",
    "    review_photos_resp = session.get(\n",
    "        REVIEW_PHOTOS_LIST_TEMPLATE.format(\n",
    "            business_id=review[\"business_id\"],\n",
    "            user_id=review[\"user_id\"],\n",
    "        ),\n",
    "        headers={\"x-requested-with\": \"XMLHttpRequest\"},\n",
    "    )\n",
    "    if review_photos_resp.status_code == 503:\n",
    "        raise Exception(\"Got blocked\")\n",
    "    elif review_photos_resp.status_code != 200:\n",
    "        return []\n",
    "    else:\n",
    "        return [media[\"src\"] for media in review_photos_resp.json()[\"media\"]]"
   ]
  },
  {
   "cell_type": "code",
   "execution_count": null,
   "metadata": {},
   "outputs": [],
   "source": [
    "tmp_reviews = []\n",
    "with multiprocessing.Pool(6) as pool:\n",
    "    with open('yelp_academic_dataset_review.json', 'r') as f:\n",
    "        for line in enumerate(f):\n",
    "            line_json = json.loads(line)\n",
    "            if (line_json['business_id'] in pizza_business_ids) and (not os.path.exists(os.path.join(\"review_photos\", f\"{line_json['review_id']}.json\"))):\n",
    "                tmp_reviews.append(line_json)\n",
    "            if len(tmp_reviews) >= 6:\n",
    "                batch_result = pool.map(get_review_photos, tmp_reviews)\n",
    "                for i, review_photos in enumerate(batch_result):\n",
    "                    if len(review_photos) == 0:\n",
    "                        continue\n",
    "                    with open(os.path.join(\"review_photos\", f\"{tmp_reviews[i]['review_id']}.json\"), \"w\") as review_file:\n",
    "                        json.dump(review_photos, review_file)\n",
    "                tmp_reviews = []\n",
    "                time.sleep(0.5)"
   ]
  }
 ],
 "metadata": {
  "kernelspec": {
   "display_name": "Python 3",
   "language": "python",
   "name": "python3"
  },
  "language_info": {
   "codemirror_mode": {
    "name": "ipython",
    "version": 3
   },
   "file_extension": ".py",
   "mimetype": "text/x-python",
   "name": "python",
   "nbconvert_exporter": "python",
   "pygments_lexer": "ipython3",
   "version": "3.6.7"
  }
 },
 "nbformat": 4,
 "nbformat_minor": 2
}
