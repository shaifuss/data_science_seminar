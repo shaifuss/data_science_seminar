{
  "nbformat": 4,
  "nbformat_minor": 0,
  "metadata": {
    "colab": {
      "name": "meta_data_exploration",
      "provenance": [],
      "authorship_tag": "ABX9TyO8o2MiGuG88BX668YkEUmq"
    },
    "kernelspec": {
      "name": "python3",
      "display_name": "Python 3"
    }
  },
  "cells": [
    {
      "cell_type": "code",
      "metadata": {
        "id": "xl0AkEVYnZlF",
        "colab_type": "code",
        "colab": {
          "base_uri": "https://localhost:8080/",
          "height": 71
        },
        "outputId": "365d414d-77b1-4e17-8c00-de85583aff35"
      },
      "source": [
        "import os\n",
        "import json\n",
        "import pandas as pd\n",
        "import matplotlib.pyplot as plt\n",
        "import seaborn as sns "
      ],
      "execution_count": 19,
      "outputs": [
        {
          "output_type": "stream",
          "text": [
            "/usr/local/lib/python3.6/dist-packages/statsmodels/tools/_testing.py:19: FutureWarning: pandas.util.testing is deprecated. Use the functions in the public API at pandas.testing instead.\n",
            "  import pandas.util.testing as tm\n"
          ],
          "name": "stderr"
        }
      ]
    },
    {
      "cell_type": "code",
      "metadata": {
        "id": "tw4NkWV0gp2O",
        "colab_type": "code",
        "outputId": "d6d3b96c-1153-42f4-ceda-3f3b8f697d93",
        "colab": {
          "base_uri": "https://localhost:8080/",
          "height": 136
        }
      },
      "source": [
        "if (not os.path.exists('yelp_academic_dataset_business.json')) or (not os.path.exists('yelp_academic_dataset_review.json')):\n",
        "    kaggle_path = os.path.expanduser('~/.kaggle')\n",
        "    kaggle_json_path = os.path.join(kaggle_path, 'kaggle.json')\n",
        "    if not os.path.exists(kaggle_json_path):\n",
        "        from getpass import getpass\n",
        "        kaggle_json = getpass('Insert kaggle.json:')\n",
        "        os.makedirs(kaggle_path, exist_ok=True)\n",
        "        with open(kaggle_json_path, 'w') as f:\n",
        "            f.write(kaggle_json)\n",
        "        os.chmod(kaggle_json_path, 0o600)\n",
        "    !kaggle datasets download yelp-dataset/yelp-dataset\n",
        "    !unzip yelp-dataset.zip yelp_academic_dataset_business.json yelp_academic_dataset_review.json\n",
        "    !rm yelp-dataset.zip"
      ],
      "execution_count": 2,
      "outputs": [
        {
          "output_type": "stream",
          "text": [
            "Insert kaggle.json:··········\n",
            "Downloading yelp-dataset.zip to /content\n",
            "100% 4.46G/4.48G [01:00<00:01, 16.6MB/s]\n",
            "100% 4.48G/4.48G [01:00<00:00, 79.1MB/s]\n",
            "Archive:  yelp-dataset.zip\n",
            "  inflating: yelp_academic_dataset_business.json  \n",
            "  inflating: yelp_academic_dataset_review.json  \n"
          ],
          "name": "stdout"
        }
      ]
    },
    {
      "cell_type": "code",
      "metadata": {
        "id": "az1nVK4snWnR",
        "colab_type": "code",
        "outputId": "ba8aec78-c4b3-4dba-8d54-f157ee229e06",
        "colab": {
          "base_uri": "https://localhost:8080/",
          "height": 34
        }
      },
      "source": [
        "business_df = pd.read_json('yelp_academic_dataset_business.json', lines=True)\n",
        "print(\"The dataset contains total {} businesses\".format(len(business_df.index)))"
      ],
      "execution_count": 13,
      "outputs": [
        {
          "output_type": "stream",
          "text": [
            "The dataset contains 209393 businesses\n"
          ],
          "name": "stdout"
        }
      ]
    },
    {
      "cell_type": "code",
      "metadata": {
        "id": "JzWUjqqGEGI1",
        "colab_type": "code",
        "colab": {
          "base_uri": "https://localhost:8080/",
          "height": 564
        },
        "outputId": "3a7012ef-1e2c-4546-842c-ce5b3e74894b"
      },
      "source": [
        "business_df = business_df[business_df['categories'].notna()]\n",
        "pizza_biz_df = business_df[business_df['categories'].str.contains(\"Pizza\")]\n",
        "print(\"Of those, {} businesses sell pizza\".format(len(business_df.index)))\n",
        "print(\"Here are a few examples\")\n",
        "pizza_biz_df.head()"
      ],
      "execution_count": 14,
      "outputs": [
        {
          "output_type": "stream",
          "text": [
            "Of those, 208869 businesses sell pizza\n",
            "Here are a few examples\n"
          ],
          "name": "stdout"
        },
        {
          "output_type": "execute_result",
          "data": {
            "text/html": [
              "<div>\n",
              "<style scoped>\n",
              "    .dataframe tbody tr th:only-of-type {\n",
              "        vertical-align: middle;\n",
              "    }\n",
              "\n",
              "    .dataframe tbody tr th {\n",
              "        vertical-align: top;\n",
              "    }\n",
              "\n",
              "    .dataframe thead th {\n",
              "        text-align: right;\n",
              "    }\n",
              "</style>\n",
              "<table border=\"1\" class=\"dataframe\">\n",
              "  <thead>\n",
              "    <tr style=\"text-align: right;\">\n",
              "      <th></th>\n",
              "      <th>business_id</th>\n",
              "      <th>name</th>\n",
              "      <th>address</th>\n",
              "      <th>city</th>\n",
              "      <th>state</th>\n",
              "      <th>postal_code</th>\n",
              "      <th>latitude</th>\n",
              "      <th>longitude</th>\n",
              "      <th>stars</th>\n",
              "      <th>review_count</th>\n",
              "      <th>is_open</th>\n",
              "      <th>attributes</th>\n",
              "      <th>categories</th>\n",
              "      <th>hours</th>\n",
              "    </tr>\n",
              "  </thead>\n",
              "  <tbody>\n",
              "    <tr>\n",
              "      <th>63</th>\n",
              "      <td>ZkzutF0P_u0C0yTulwaHkA</td>\n",
              "      <td>Lelulos Pizzeria</td>\n",
              "      <td>311 Unity Center Rd</td>\n",
              "      <td>Plum</td>\n",
              "      <td>PA</td>\n",
              "      <td>15239</td>\n",
              "      <td>40.489996</td>\n",
              "      <td>-79.779288</td>\n",
              "      <td>4.0</td>\n",
              "      <td>31</td>\n",
              "      <td>1</td>\n",
              "      <td>{'RestaurantsPriceRange2': '1', 'BusinessAccep...</td>\n",
              "      <td>Restaurants, Pizza</td>\n",
              "      <td>{'Monday': '0:0-0:0', 'Tuesday': '11:0-21:0', ...</td>\n",
              "    </tr>\n",
              "    <tr>\n",
              "      <th>86</th>\n",
              "      <td>OWkS1FXNJbozn-qPg3LWxg</td>\n",
              "      <td>Mama Napoli Pizza</td>\n",
              "      <td></td>\n",
              "      <td>Las Vegas</td>\n",
              "      <td>NV</td>\n",
              "      <td>89109</td>\n",
              "      <td>36.128561</td>\n",
              "      <td>-115.171130</td>\n",
              "      <td>4.5</td>\n",
              "      <td>11</td>\n",
              "      <td>1</td>\n",
              "      <td>{'RestaurantsDelivery': 'False', 'BusinessAcce...</td>\n",
              "      <td>Food, Food Trucks, Restaurants, Pizza</td>\n",
              "      <td>{'Friday': '18:0-0:0'}</td>\n",
              "    </tr>\n",
              "    <tr>\n",
              "      <th>105</th>\n",
              "      <td>-C0AlwLuXpcP609madJZQQ</td>\n",
              "      <td>Pizzaville</td>\n",
              "      <td>1030 Kennedy Circle, Unit 10</td>\n",
              "      <td>Milton</td>\n",
              "      <td>ON</td>\n",
              "      <td>L9T 0J9</td>\n",
              "      <td>43.508962</td>\n",
              "      <td>-79.837990</td>\n",
              "      <td>3.5</td>\n",
              "      <td>7</td>\n",
              "      <td>1</td>\n",
              "      <td>None</td>\n",
              "      <td>Restaurants, Pizza</td>\n",
              "      <td>{'Monday': '11:0-0:0', 'Tuesday': '11:0-0:0', ...</td>\n",
              "    </tr>\n",
              "    <tr>\n",
              "      <th>120</th>\n",
              "      <td>39lLJK_rrYY2NYomSsQdUA</td>\n",
              "      <td>Marco's Pizza</td>\n",
              "      <td>24335 Chagrin Blvd</td>\n",
              "      <td>Beachwood</td>\n",
              "      <td>OH</td>\n",
              "      <td>44122</td>\n",
              "      <td>41.465789</td>\n",
              "      <td>-81.506349</td>\n",
              "      <td>2.5</td>\n",
              "      <td>11</td>\n",
              "      <td>1</td>\n",
              "      <td>{'RestaurantsDelivery': 'True', 'GoodForKids':...</td>\n",
              "      <td>Restaurants, Pizza</td>\n",
              "      <td>None</td>\n",
              "    </tr>\n",
              "    <tr>\n",
              "      <th>126</th>\n",
              "      <td>0y6alZmSLnPzmG5_kP5Quw</td>\n",
              "      <td>J J's Pizza</td>\n",
              "      <td>20542 Lorain Rd</td>\n",
              "      <td>Fairview Park</td>\n",
              "      <td>OH</td>\n",
              "      <td>44126</td>\n",
              "      <td>41.448341</td>\n",
              "      <td>-81.847644</td>\n",
              "      <td>4.5</td>\n",
              "      <td>21</td>\n",
              "      <td>1</td>\n",
              "      <td>{'NoiseLevel': 'u'quiet'', 'WiFi': ''no'', 'Bu...</td>\n",
              "      <td>Pizza, Italian, Restaurants</td>\n",
              "      <td>{'Monday': '11:0-21:0', 'Tuesday': '11:0-21:0'...</td>\n",
              "    </tr>\n",
              "  </tbody>\n",
              "</table>\n",
              "</div>"
            ],
            "text/plain": [
              "                business_id  ...                                              hours\n",
              "63   ZkzutF0P_u0C0yTulwaHkA  ...  {'Monday': '0:0-0:0', 'Tuesday': '11:0-21:0', ...\n",
              "86   OWkS1FXNJbozn-qPg3LWxg  ...                             {'Friday': '18:0-0:0'}\n",
              "105  -C0AlwLuXpcP609madJZQQ  ...  {'Monday': '11:0-0:0', 'Tuesday': '11:0-0:0', ...\n",
              "120  39lLJK_rrYY2NYomSsQdUA  ...                                               None\n",
              "126  0y6alZmSLnPzmG5_kP5Quw  ...  {'Monday': '11:0-21:0', 'Tuesday': '11:0-21:0'...\n",
              "\n",
              "[5 rows x 14 columns]"
            ]
          },
          "metadata": {
            "tags": []
          },
          "execution_count": 14
        }
      ]
    },
    {
      "cell_type": "markdown",
      "metadata": {
        "id": "CaSRccqSH70m",
        "colab_type": "text"
      },
      "source": [
        "Not everyone posts online reviews, it's a self selecting group. It takes some time to  write out a review and upload pictures. It's typical to see an extreme distribution where ratings are really high or really low but not in the middle. Let's check how the pizza business ratings are distributed."
      ]
    },
    {
      "cell_type": "code",
      "metadata": {
        "id": "Sn3Ntm4aH6u9",
        "colab_type": "code",
        "colab": {
          "base_uri": "https://localhost:8080/",
          "height": 298
        },
        "outputId": "4898bbf5-6a40-4a4c-ea4d-7bbe8d15115c"
      },
      "source": [
        "x=pizza_biz_df['stars'].value_counts()\n",
        "x=x.sort_index()\n",
        "plt.figure(figsize=(8,4))\n",
        "ax= sns.barplot(x.index, x.values, alpha=0.8)\n",
        "plt.title(\"Star Rating Distribution\")\n",
        "plt.ylabel('# of businesses', fontsize=12)\n",
        "plt.xlabel('Star Ratings ', fontsize=12)\n",
        "\n",
        "#adding the text labels\n",
        "rects = ax.patches\n",
        "labels = x.values\n",
        "for rect, label in zip(rects, labels):\n",
        "    height = rect.get_height()\n",
        "    ax.text(rect.get_x() + rect.get_width()/2, height + 5, label, ha='center', va='bottom')\n",
        "\n",
        "plt.show()"
      ],
      "execution_count": 20,
      "outputs": [
        {
          "output_type": "display_data",
          "data": {
            "image/png": "[encoded data removed]",
            "text/plain": [
              "<Figure size 576x288 with 1 Axes>"
            ]
          },
          "metadata": {
            "tags": [],
            "needs_background": "light"
          }
        }
      ]
    },
    {
      "cell_type": "markdown",
      "metadata": {
        "id": "G7xSU3f2J0V_",
        "colab_type": "text"
      },
      "source": [
        "Interestingly, the opposite is true of our data. The distribution is somewhat normal with a slight negative skew. "
      ]
    }
  ]
}