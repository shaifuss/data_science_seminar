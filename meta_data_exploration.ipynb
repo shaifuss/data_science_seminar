{
  "nbformat": 4,
  "nbformat_minor": 0,
  "metadata": {
    "colab": {
      "name": "meta_data_exploration",
      "provenance": [],
      "mount_file_id": "https://github.com/shaifuss/data_science_seminar/blob/master/meta_data_exploration.ipynb",
      "authorship_tag": "ABX9TyOFOZgdZrcXEQgNqrKCYK0N"
    },
    "kernelspec": {
      "name": "python3",
      "display_name": "Python 3"
    },
    "accelerator": "GPU"
  },
  "cells": [
    {
      "cell_type": "code",
      "metadata": {
        "id": "xl0AkEVYnZlF",
        "colab_type": "code",
        "colab": {
          "base_uri": "https://localhost:8080/",
          "height": 71
        },
        "outputId": "9b1a7ccf-7641-40dc-9c8b-8458ed85eb73"
      },
      "source": [
        "import os\n",
        "import json\n",
        "import pandas as pd\n",
        "import matplotlib.pyplot as plt\n",
        "import seaborn as sns "
      ],
      "execution_count": 2,
      "outputs": [
        {
          "output_type": "stream",
          "text": [
            "/usr/local/lib/python3.6/dist-packages/statsmodels/tools/_testing.py:19: FutureWarning: pandas.util.testing is deprecated. Use the functions in the public API at pandas.testing instead.\n",
            "  import pandas.util.testing as tm\n"
          ],
          "name": "stderr"
        }
      ]
    },
    {
      "cell_type": "code",
      "metadata": {
        "id": "tw4NkWV0gp2O",
        "colab_type": "code",
        "outputId": "6e1bbd38-be89-4910-8e43-d6bc0e014a6b",
        "colab": {
          "base_uri": "https://localhost:8080/",
          "height": 136
        }
      },
      "source": [
        "if (not os.path.exists('yelp_academic_dataset_business.json')) or (not os.path.exists('yelp_academic_dataset_review.json')):\n",
        "    kaggle_path = os.path.expanduser('~/.kaggle')\n",
        "    kaggle_json_path = os.path.join(kaggle_path, 'kaggle.json')\n",
        "    if not os.path.exists(kaggle_json_path):\n",
        "        from getpass import getpass\n",
        "        kaggle_json = getpass('Insert kaggle.json:')\n",
        "        os.makedirs(kaggle_path, exist_ok=True)\n",
        "        with open(kaggle_json_path, 'w') as f:\n",
        "            f.write(kaggle_json)\n",
        "        os.chmod(kaggle_json_path, 0o600)\n",
        "    !kaggle datasets download yelp-dataset/yelp-dataset\n",
        "    !unzip yelp-dataset.zip yelp_academic_dataset_business.json yelp_academic_dataset_review.json\n",
        "    !rm yelp-dataset.zip"
      ],
      "execution_count": 2,
      "outputs": [
        {
          "output_type": "stream",
          "text": [
            "Insert kaggle.json:··········\n",
            "Downloading yelp-dataset.zip to /content\n",
            "100% 4.48G/4.48G [01:31<00:00, 51.5MB/s]\n",
            "100% 4.48G/4.48G [01:31<00:00, 52.6MB/s]\n",
            "Archive:  yelp-dataset.zip\n",
            "  inflating: yelp_academic_dataset_business.json  \n",
            "  inflating: yelp_academic_dataset_review.json  \n"
          ],
          "name": "stdout"
        }
      ]
    },
    {
      "cell_type": "code",
      "metadata": {
        "id": "az1nVK4snWnR",
        "colab_type": "code",
        "outputId": "c8d1aa0f-560a-43d5-b19e-eb949c1b396f",
        "colab": {
          "base_uri": "https://localhost:8080/",
          "height": 34
        }
      },
      "source": [
        "business_df = pd.read_json('yelp_academic_dataset_business.json', lines=True)\n",
        "print(\"The dataset contains total {} businesses\".format(len(business_df.index)))"
      ],
      "execution_count": 5,
      "outputs": [
        {
          "output_type": "stream",
          "text": [
            "The dataset contains total 209393 businesses\n"
          ],
          "name": "stdout"
        }
      ]
    },
    {
      "cell_type": "code",
      "metadata": {
        "id": "JzWUjqqGEGI1",
        "colab_type": "code",
        "colab": {
          "base_uri": "https://localhost:8080/",
          "height": 564
        },
        "outputId": "d3ab65c2-29be-4e8d-a909-11ea7121b405"
      },
      "source": [
        "business_df = business_df[business_df['categories'].notna()]\n",
        "pizza_biz_df = business_df[business_df['categories'].str.contains(\"Pizza\")]\n",
        "print(\"Of those, {} businesses sell pizza\".format(len(pizza_biz_df.index)))\n",
        "print(\"Here are a few examples\")\n",
        "pizza_biz_df.head()"
      ],
      "execution_count": 6,
      "outputs": [
        {
          "output_type": "stream",
          "text": [
            "Of those, 7302 businesses sell pizza\n",
            "Here are a few examples\n"
          ],
          "name": "stdout"
        },
        {
          "output_type": "execute_result",
          "data": {
            "text/html": [
              "<div>\n",
              "<style scoped>\n",
              "    .dataframe tbody tr th:only-of-type {\n",
              "        vertical-align: middle;\n",
              "    }\n",
              "\n",
              "    .dataframe tbody tr th {\n",
              "        vertical-align: top;\n",
              "    }\n",
              "\n",
              "    .dataframe thead th {\n",
              "        text-align: right;\n",
              "    }\n",
              "</style>\n",
              "<table border=\"1\" class=\"dataframe\">\n",
              "  <thead>\n",
              "    <tr style=\"text-align: right;\">\n",
              "      <th></th>\n",
              "      <th>business_id</th>\n",
              "      <th>name</th>\n",
              "      <th>address</th>\n",
              "      <th>city</th>\n",
              "      <th>state</th>\n",
              "      <th>postal_code</th>\n",
              "      <th>latitude</th>\n",
              "      <th>longitude</th>\n",
              "      <th>stars</th>\n",
              "      <th>review_count</th>\n",
              "      <th>is_open</th>\n",
              "      <th>attributes</th>\n",
              "      <th>categories</th>\n",
              "      <th>hours</th>\n",
              "    </tr>\n",
              "  </thead>\n",
              "  <tbody>\n",
              "    <tr>\n",
              "      <th>63</th>\n",
              "      <td>ZkzutF0P_u0C0yTulwaHkA</td>\n",
              "      <td>Lelulos Pizzeria</td>\n",
              "      <td>311 Unity Center Rd</td>\n",
              "      <td>Plum</td>\n",
              "      <td>PA</td>\n",
              "      <td>15239</td>\n",
              "      <td>40.489996</td>\n",
              "      <td>-79.779288</td>\n",
              "      <td>4.0</td>\n",
              "      <td>31</td>\n",
              "      <td>1</td>\n",
              "      <td>{'RestaurantsPriceRange2': '1', 'BusinessAccep...</td>\n",
              "      <td>Restaurants, Pizza</td>\n",
              "      <td>{'Monday': '0:0-0:0', 'Tuesday': '11:0-21:0', ...</td>\n",
              "    </tr>\n",
              "    <tr>\n",
              "      <th>86</th>\n",
              "      <td>OWkS1FXNJbozn-qPg3LWxg</td>\n",
              "      <td>Mama Napoli Pizza</td>\n",
              "      <td></td>\n",
              "      <td>Las Vegas</td>\n",
              "      <td>NV</td>\n",
              "      <td>89109</td>\n",
              "      <td>36.128561</td>\n",
              "      <td>-115.171130</td>\n",
              "      <td>4.5</td>\n",
              "      <td>11</td>\n",
              "      <td>1</td>\n",
              "      <td>{'RestaurantsDelivery': 'False', 'BusinessAcce...</td>\n",
              "      <td>Food, Food Trucks, Restaurants, Pizza</td>\n",
              "      <td>{'Friday': '18:0-0:0'}</td>\n",
              "    </tr>\n",
              "    <tr>\n",
              "      <th>105</th>\n",
              "      <td>-C0AlwLuXpcP609madJZQQ</td>\n",
              "      <td>Pizzaville</td>\n",
              "      <td>1030 Kennedy Circle, Unit 10</td>\n",
              "      <td>Milton</td>\n",
              "      <td>ON</td>\n",
              "      <td>L9T 0J9</td>\n",
              "      <td>43.508962</td>\n",
              "      <td>-79.837990</td>\n",
              "      <td>3.5</td>\n",
              "      <td>7</td>\n",
              "      <td>1</td>\n",
              "      <td>None</td>\n",
              "      <td>Restaurants, Pizza</td>\n",
              "      <td>{'Monday': '11:0-0:0', 'Tuesday': '11:0-0:0', ...</td>\n",
              "    </tr>\n",
              "    <tr>\n",
              "      <th>120</th>\n",
              "      <td>39lLJK_rrYY2NYomSsQdUA</td>\n",
              "      <td>Marco's Pizza</td>\n",
              "      <td>24335 Chagrin Blvd</td>\n",
              "      <td>Beachwood</td>\n",
              "      <td>OH</td>\n",
              "      <td>44122</td>\n",
              "      <td>41.465789</td>\n",
              "      <td>-81.506349</td>\n",
              "      <td>2.5</td>\n",
              "      <td>11</td>\n",
              "      <td>1</td>\n",
              "      <td>{'RestaurantsDelivery': 'True', 'GoodForKids':...</td>\n",
              "      <td>Restaurants, Pizza</td>\n",
              "      <td>None</td>\n",
              "    </tr>\n",
              "    <tr>\n",
              "      <th>126</th>\n",
              "      <td>0y6alZmSLnPzmG5_kP5Quw</td>\n",
              "      <td>J J's Pizza</td>\n",
              "      <td>20542 Lorain Rd</td>\n",
              "      <td>Fairview Park</td>\n",
              "      <td>OH</td>\n",
              "      <td>44126</td>\n",
              "      <td>41.448341</td>\n",
              "      <td>-81.847644</td>\n",
              "      <td>4.5</td>\n",
              "      <td>21</td>\n",
              "      <td>1</td>\n",
              "      <td>{'NoiseLevel': 'u'quiet'', 'WiFi': ''no'', 'Bu...</td>\n",
              "      <td>Pizza, Italian, Restaurants</td>\n",
              "      <td>{'Monday': '11:0-21:0', 'Tuesday': '11:0-21:0'...</td>\n",
              "    </tr>\n",
              "  </tbody>\n",
              "</table>\n",
              "</div>"
            ],
            "text/plain": [
              "                business_id  ...                                              hours\n",
              "63   ZkzutF0P_u0C0yTulwaHkA  ...  {'Monday': '0:0-0:0', 'Tuesday': '11:0-21:0', ...\n",
              "86   OWkS1FXNJbozn-qPg3LWxg  ...                             {'Friday': '18:0-0:0'}\n",
              "105  -C0AlwLuXpcP609madJZQQ  ...  {'Monday': '11:0-0:0', 'Tuesday': '11:0-0:0', ...\n",
              "120  39lLJK_rrYY2NYomSsQdUA  ...                                               None\n",
              "126  0y6alZmSLnPzmG5_kP5Quw  ...  {'Monday': '11:0-21:0', 'Tuesday': '11:0-21:0'...\n",
              "\n",
              "[5 rows x 14 columns]"
            ]
          },
          "metadata": {
            "tags": []
          },
          "execution_count": 6
        }
      ]
    },
    {
      "cell_type": "markdown",
      "metadata": {
        "id": "KL4IlwCvOySo",
        "colab_type": "text"
      },
      "source": [
        "Here's the distribution of rating count per pizzaria"
      ]
    },
    {
      "cell_type": "code",
      "metadata": {
        "id": "Zmnl3uK6PBx_",
        "colab_type": "code",
        "colab": {
          "base_uri": "https://localhost:8080/",
          "height": 381
        },
        "outputId": "44972733-b25d-42a4-f2a9-92c76e5e2116"
      },
      "source": [
        "out = pd.cut(pizza_biz_df['review_count'], bins=[0, 10, 20, 30, 40, 50, 100, 110, 120, 130, 140, 150, 160, 170, 180, 190, 200, float(\"inf\")])\n",
        "x= out.value_counts()\n",
        "x = x.sort_index()\n",
        "plt.figure(figsize=(22,8))\n",
        "ax= sns.barplot(x.index, x.values, alpha=0.8)\n",
        "plt.title(\"Pizzaria Review Count Distribution\")\n",
        "plt.ylabel('Pizzaria Count', fontsize=12)\n",
        "plt.xlabel('Review Count ', fontsize=12)\n",
        "\n",
        "rects = ax.patches\n",
        "labels = x.values\n",
        "for rect, label in zip(rects, labels):\n",
        "    height = rect.get_height()\n",
        "    ax.text(rect.get_x() + rect.get_width()/2, height + 5, label, ha='center', va='bottom')\n",
        "\n",
        "plt.show()"
      ],
      "execution_count": 7,
      "outputs": [
        {
          "output_type": "display_data",
          "data": {
            "image/png": "[encoded data removed]",
            "text/plain": [
              "<Figure size 1584x576 with 1 Axes>"
            ]
          },
          "metadata": {
            "tags": [],
            "needs_background": "light"
          }
        }
      ]
    },
    {
      "cell_type": "markdown",
      "metadata": {
        "id": "CaSRccqSH70m",
        "colab_type": "text"
      },
      "source": [
        "About a third of pizzerias have between 0-10 reviews, which muight cast doubt as to whether those reviews are representative."
      ]
    },
    {
      "cell_type": "code",
      "metadata": {
        "id": "Sn3Ntm4aH6u9",
        "colab_type": "code",
        "colab": {
          "base_uri": "https://localhost:8080/",
          "height": 298
        },
        "outputId": "90e86759-4969-4a2e-ef63-82d5dd425f97"
      },
      "source": [
        "x=pizza_biz_df['stars'].value_counts()\n",
        "x=x.sort_index()\n",
        "plt.figure(figsize=(8,4))\n",
        "ax= sns.barplot(x.index, x.values, alpha=0.8)\n",
        "plt.title(\"Pizzaria Rating Distribution\")\n",
        "plt.ylabel('Pizzaria Count', fontsize=12)\n",
        "plt.xlabel('Stars ', fontsize=12)\n",
        "\n",
        "rects = ax.patches\n",
        "labels = x.values\n",
        "for rect, label in zip(rects, labels):\n",
        "    height = rect.get_height()\n",
        "    ax.text(rect.get_x() + rect.get_width()/2, height + 5, label, ha='center', va='bottom')\n",
        "\n",
        "plt.show()"
      ],
      "execution_count": 21,
      "outputs": [
        {
          "output_type": "display_data",
          "data": {
            "image/png": "[encoded data removed]",
            "text/plain": [
              "<Figure size 576x288 with 1 Axes>"
            ]
          },
          "metadata": {
            "tags": [],
            "needs_background": "light"
          }
        }
      ]
    },
    {
      "cell_type": "markdown",
      "metadata": {
        "id": "G7xSU3f2J0V_",
        "colab_type": "text"
      },
      "source": [
        "The distribution is generally normal with a slight negative skew."
      ]
    },
    {
      "cell_type": "markdown",
      "metadata": {
        "id": "ikwUhqY_LCyF",
        "colab_type": "text"
      },
      "source": [
        "Online reviewers are a self selecting group. It takes some time and effort to write out a review and upload pictures. Intuitively, customer who feel passionate about thier experience should be more likely to upload a review. It's typical to see an extreme distribution where ratings are bunched really high and really low but not in the middle. Let's look at the score distribution for a few example pizzarias. "
      ]
    },
    {
      "cell_type": "code",
      "metadata": {
        "id": "43oKiVXTUEuw",
        "colab_type": "code",
        "colab": {
          "base_uri": "https://localhost:8080/",
          "height": 54
        },
        "outputId": "011534df-a5ac-464a-e9f0-414f9d3cf283"
      },
      "source": [
        "pizza_business_ids = pizza_biz_df.business_id.unique()\n",
        "pizza_reviews = []\n",
        "with open('yelp_academic_dataset_review.json', 'r') as f:\n",
        "    for line in f:\n",
        "        line_json = json.loads(line)\n",
        "        if line_json['business_id'] in pizza_business_ids:\n",
        "            pizza_reviews.append(line_json)\n",
        "\n",
        "print(pizza_reviews[0])\n",
        "\n",
        "pic_path = r'/content/drive/My Drive/Data Science Class/review_photos'\n",
        "review_ids = [f for f in os.listdir(pic_path) if os.path.isdir(os.path.join(pic_path, f))]\n",
        "\n",
        "#review_df = pd.read_json('yelp_academic_dataset_review.json', lines=True)\n",
        "#\n",
        "#lenprint(review_ids)\n",
        "\n",
        "#reviews_with_pics = review_df[review_df[]]\n",
        "\n",
        "\n",
        "\n",
        "#reviews_with_pics = pizza_biz_df[pizza_biz_df['business_id'].isin(pizzeria_ids)]\n",
        "#za_biz_with_pics = za_biz_with_pics[za_biz_with_pics['review_count'] > 5]\n",
        "#print(\"Of those, {} businesses are left\".format(len(za_biz_with_pics.index)))"
      ],
      "execution_count": 11,
      "outputs": [
        {
          "output_type": "stream",
          "text": [
            "{'review_id': 'mM8i91yWP1QbImEvz5ds0w', 'user_id': 'TZQSUDDcA4ek5gBd6BzcjA', 'business_id': 'qUWqjjjfpB2-4P3He5rsKw', 'stars': 4.0, 'useful': 0, 'funny': 0, 'cool': 0, 'text': 'In the heart of Chinatown, I discovered it enroute to Kensington Market one day. It\\'s quite hard to see, if you don\\'t know it\\'s there. First experience was very positive - would definitely return!\\n\\nATMOSPHERE: Small space. Think Banh Mi Boys, and other trendy over-the-counter eateries. Vibe is casual. Free WiFi is nice.\\n\\nSERVICE: Okay. Staff does their job, but not overly helpful upon entering the space. Maybe because it\\'s an over-the-counter style place, but it would have been nice to be walked through their ordering process and menu.\\n\\nPRICE: Average. Depends on the size of pizza you order.The small pizza ($7-9.50) is filling for one. Large size pizza ($13-18.50) is good for sharing... or one VERY hungry person.  Pasta portions are very generous for the price tag ($9-14)\\n\\n\\nFOOD: My friends and I were here for the first time, and we thought it was a pizza place so we all ordered pizza. It wasn\\'t until we were waiting for the food to come, that we looked around and realised EVERY other table around us only had pasta on them. Guess we gotta come back to try! We did notice that the menu said their pasta is homemade. So will definitely come back.\\n\\nHere\\'s the pizza we ordered:\\n\\nPeking Duck Pizza - Very tasty! Rich flavours that work well. But it\\'s heavy, so come hungry - or order to share.\\n\\nMargherita - Good, but not the best. I recommend trying the more \"special\" toppings instead.\\n\\nShall return, and/or try other locations.', 'date': '2017-06-06 19:04:10'}\n"
          ],
          "name": "stdout"
        }
      ]
    },
    {
      "cell_type": "code",
      "metadata": {
        "id": "twybANckr_p2",
        "colab_type": "code",
        "colab": {}
      },
      "source": [
        "with open('pizza_reviews.json', 'w') as pr:\n",
        "  json.dump(pizza_reviews, pr, indent=2)"
      ],
      "execution_count": 0,
      "outputs": []
    },
    {
      "cell_type": "code",
      "metadata": {
        "id": "fWtcYdKIwlTK",
        "colab_type": "code",
        "colab": {
          "base_uri": "https://localhost:8080/",
          "height": 34
        },
        "outputId": "73750b33-0732-4094-904a-9f2e4f349eca"
      },
      "source": [
        "pic_path = r'/content/drive/My Drive/Data Science Class/review_photos'\n",
        "pix_review_ids = [f for f in os.listdir(pic_path) if os.path.isdir(os.path.join(pic_path, f))]\n",
        "\n",
        "pizza_business_with_pix_ids = []\n",
        "for review in pizza_reviews:\n",
        "  if review['review_id'] in pix_review_ids: \n",
        "    pizza_business_with_pix_ids.append(review['business_id'])\n",
        "pizza_business_with_pix_ids = set(pizza_business_with_pix_ids)\n",
        "\n",
        "pizza_biz_pix_df = pizza_biz_df[pizza_biz_df['business_id'].isin(pizza_business_with_pix_ids)]\n",
        "sort_za = pizza_biz_pix_df.sort_values(by=['review_count'], ascending=False)\n",
        "example_id = sort_za['business_id'].iloc[0]\n",
        "print(\"This is the rating distribution for pizzaria id: {}\".format(example_id)) "
      ],
      "execution_count": 25,
      "outputs": [
        {
          "output_type": "stream",
          "text": [
            "This is the rating distribution for pizzaria id: 0FUtlsQrJI7LhqDPxLumEw\n"
          ],
          "name": "stdout"
        }
      ]
    },
    {
      "cell_type": "code",
      "metadata": {
        "id": "wGLqzijs3ydB",
        "colab_type": "code",
        "colab": {
          "base_uri": "https://localhost:8080/",
          "height": 530
        },
        "outputId": "6755d88f-974d-4746-9e8b-41261c7ae85a"
      },
      "source": [
        "# gather reviews\n",
        "review_df = pd.DataFrame.from_records(pizza_reviews)\n",
        "pic_review_df = review_df[review_df['business_id'] == example_id]\n",
        "pic_review_df.head()"
      ],
      "execution_count": 30,
      "outputs": [
        {
          "output_type": "execute_result",
          "data": {
            "text/html": [
              "<div>\n",
              "<style scoped>\n",
              "    .dataframe tbody tr th:only-of-type {\n",
              "        vertical-align: middle;\n",
              "    }\n",
              "\n",
              "    .dataframe tbody tr th {\n",
              "        vertical-align: top;\n",
              "    }\n",
              "\n",
              "    .dataframe thead th {\n",
              "        text-align: right;\n",
              "    }\n",
              "</style>\n",
              "<table border=\"1\" class=\"dataframe\">\n",
              "  <thead>\n",
              "    <tr style=\"text-align: right;\">\n",
              "      <th></th>\n",
              "      <th>review_id</th>\n",
              "      <th>user_id</th>\n",
              "      <th>business_id</th>\n",
              "      <th>stars</th>\n",
              "      <th>useful</th>\n",
              "      <th>funny</th>\n",
              "      <th>cool</th>\n",
              "      <th>text</th>\n",
              "      <th>date</th>\n",
              "    </tr>\n",
              "  </thead>\n",
              "  <tbody>\n",
              "    <tr>\n",
              "      <th>19</th>\n",
              "      <td>8HE6Wc_A5eHcPGqpeWplvw</td>\n",
              "      <td>I4RpSWfgDSlDZ6DL2FYfiw</td>\n",
              "      <td>0FUtlsQrJI7LhqDPxLumEw</td>\n",
              "      <td>4.0</td>\n",
              "      <td>0</td>\n",
              "      <td>0</td>\n",
              "      <td>0</td>\n",
              "      <td>Are you looking for an organic, unique, and hi...</td>\n",
              "      <td>2012-06-25 23:41:20</td>\n",
              "    </tr>\n",
              "    <tr>\n",
              "      <th>29</th>\n",
              "      <td>fhLlAM-NJUMu6MSvuibOBg</td>\n",
              "      <td>Pwa3X14Olao484xDGJELFw</td>\n",
              "      <td>0FUtlsQrJI7LhqDPxLumEw</td>\n",
              "      <td>5.0</td>\n",
              "      <td>1</td>\n",
              "      <td>0</td>\n",
              "      <td>0</td>\n",
              "      <td>Holy smokes!  I can see driving to Gilbert, AZ...</td>\n",
              "      <td>2011-04-22 02:17:14</td>\n",
              "    </tr>\n",
              "    <tr>\n",
              "      <th>36</th>\n",
              "      <td>AXUX4m1lo9hK_Lk64W92-w</td>\n",
              "      <td>EumK5NjRJaO8Gz2PDTlvEw</td>\n",
              "      <td>0FUtlsQrJI7LhqDPxLumEw</td>\n",
              "      <td>3.0</td>\n",
              "      <td>0</td>\n",
              "      <td>0</td>\n",
              "      <td>0</td>\n",
              "      <td>Going a little down hill. Place is getting dat...</td>\n",
              "      <td>2016-08-03 23:48:07</td>\n",
              "    </tr>\n",
              "    <tr>\n",
              "      <th>37</th>\n",
              "      <td>sgrWBH4rLE3tLfWtsu5gHA</td>\n",
              "      <td>bGgobkuYRKZAgwg8km83vw</td>\n",
              "      <td>0FUtlsQrJI7LhqDPxLumEw</td>\n",
              "      <td>5.0</td>\n",
              "      <td>1</td>\n",
              "      <td>0</td>\n",
              "      <td>0</td>\n",
              "      <td>A great local place. Good food. Good atmospher...</td>\n",
              "      <td>2018-06-08 23:25:30</td>\n",
              "    </tr>\n",
              "    <tr>\n",
              "      <th>61</th>\n",
              "      <td>Z81ZNU-3--n_gJD11aCC9g</td>\n",
              "      <td>4fNHV9nkjf84BmmKiP1Npw</td>\n",
              "      <td>0FUtlsQrJI7LhqDPxLumEw</td>\n",
              "      <td>4.0</td>\n",
              "      <td>0</td>\n",
              "      <td>0</td>\n",
              "      <td>0</td>\n",
              "      <td>Tough menu.  A lot of choices, so I was vacill...</td>\n",
              "      <td>2011-02-13 16:54:56</td>\n",
              "    </tr>\n",
              "  </tbody>\n",
              "</table>\n",
              "</div>"
            ],
            "text/plain": [
              "                 review_id  ...                 date\n",
              "19  8HE6Wc_A5eHcPGqpeWplvw  ...  2012-06-25 23:41:20\n",
              "29  fhLlAM-NJUMu6MSvuibOBg  ...  2011-04-22 02:17:14\n",
              "36  AXUX4m1lo9hK_Lk64W92-w  ...  2016-08-03 23:48:07\n",
              "37  sgrWBH4rLE3tLfWtsu5gHA  ...  2018-06-08 23:25:30\n",
              "61  Z81ZNU-3--n_gJD11aCC9g  ...  2011-02-13 16:54:56\n",
              "\n",
              "[5 rows x 9 columns]"
            ]
          },
          "metadata": {
            "tags": []
          },
          "execution_count": 30
        }
      ]
    },
    {
      "cell_type": "code",
      "metadata": {
        "id": "oHZ_bG-QaF6b",
        "colab_type": "code",
        "colab": {
          "base_uri": "https://localhost:8080/",
          "height": 298
        },
        "outputId": "3510d1e2-8e32-4812-a0d7-c41c4f17c223"
      },
      "source": [
        "x=pic_review_df['stars'].value_counts()\n",
        "x=x.sort_index()\n",
        "plt.figure(figsize=(8,4))\n",
        "ax= sns.barplot(x.index, x.values, alpha=0.8)\n",
        "plt.title(\"Business {} Rating Distribution\".format(example_id))\n",
        "plt.ylabel('Review Count', fontsize=12)\n",
        "plt.xlabel('Stars ', fontsize=12)\n",
        "\n",
        "rects = ax.patches\n",
        "labels = x.values\n",
        "for rect, label in zip(rects, labels):\n",
        "    height = rect.get_height()\n",
        "    ax.text(rect.get_x() + rect.get_width()/2, height + 5, label, ha='center', va='bottom')\n",
        "\n",
        "plt.show()"
      ],
      "execution_count": 32,
      "outputs": [
        {
          "output_type": "display_data",
          "data": {
            "image/png": "[encoded data removed]",
            "text/plain": [
              "<Figure size 576x288 with 1 Axes>"
            ]
          },
          "metadata": {
            "tags": [],
            "needs_background": "light"
          }
        }
      ]
    }
  ]
}