{
  "nbformat": 4,
  "nbformat_minor": 0,
  "metadata": {
    "colab": {
      "name": "Goals_section",
      "provenance": [],
      "authorship_tag": "ABX9TyP2C1/QnDq7nhrqKpxrdllE"
    },
    "kernelspec": {
      "name": "python3",
      "display_name": "Python 3"
    }
  },
  "cells": [
    {
      "cell_type": "markdown",
      "metadata": {
        "id": "H67VveZbQ4_-",
        "colab_type": "text"
      },
      "source": [
        "### Goals\n",
        "\n",
        "The goal of our project is to design a classification model that predicts user ratings from images. As demonstrated by the initial results above, simply running the images through an artificial neural net isn't enough to accomplish this task. We will attempt to design a more robust model, comparing between the following strategies. \n",
        "\n",
        "#### Improve image classification\n",
        "1) Image preprocessing. Identify the pizza within the image and erase the background. Scale the pizza images so that they are alike in size. Normalize image features like brightness and color. //this is a necessity. honestly, we probably should have initial results for this in the proposal, if only there was time\n",
        "\n",
        "2) Many reviews contain multiple images. Stack those images into a single sample. [Mnih et. al. (2013)](https://www.cs.toronto.edu/~vmnih/docs/dqn.pdf) used stacked image inputs to capture motion in Atari games. Could the added information improve results in this domain?  \n",
        "\n",
        "3) In the analysis stage, use feature extraction algorithms such as ORB or KAZE to determine what components are prevelent in highly rated meals or conversely in poorly rated ones. \n",
        "\n",
        "\n",
        "\n",
        "#### Hybrid image-text classifier\n",
        "Concatenate the image and the text to create a hybrid sample. This can be done in a few ways: \n",
        "\n",
        "1) Stack the meal image with an image of text. \n",
        "\n",
        "2) Concatenate a word embedding of the text to the meal image. Compare various word embedding algorithms, such as word2vec, GloVe, and ALBERT.\n",
        "\n",
        "\n",
        "\n",
        "#### NLP-based filtering\n",
        "Use NLP tools during the preprocessing stage to filter out irrelevant reviews.\n",
        "\n",
        "1) Include only images where the text of the review discusses the food. \n",
        "\n",
        "2) Remove any images where the text expresses strong opinions about other aspects of the customer experience not relevent to food (i.e. \"the service was really slow\", \"the waiter was very rude to us\", etc). //I think one is very hard to do\n",
        "\n",
        "3) Filter out suspicious reviews that appear deceitful based on the text and user profile. For instance, if the same or similar phrases are used, those reviews should be removed. Similarly, remove reviews from users that post at a very high frequency and/or at restaurants that are very far apart from one another (within a given timeframe). "
      ]
    }
  ]
}