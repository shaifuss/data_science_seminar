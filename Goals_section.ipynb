{
  "nbformat": 4,
  "nbformat_minor": 0,
  "metadata": {
    "colab": {
      "name": "Goals_section",
      "provenance": [],
      "authorship_tag": "ABX9TyMmWL+aE+soo3TfoU8Jc5FL"
    },
    "kernelspec": {
      "name": "python3",
      "display_name": "Python 3"
    }
  },
  "cells": [
    {
      "cell_type": "markdown",
      "metadata": {
        "id": "H67VveZbQ4_-",
        "colab_type": "text"
      },
      "source": [
        "### Solution Design\n",
        "\n",
        "As demonstrated by the initial results above, there is room for improvement beyond running the images through a binary classifier. We will attempt to design a more robust model, using the following strategies. \n",
        "\n",
        "#### Improved Image Classification\n",
        "\n",
        "1) Comparing different classifiers including a non-pretrained baseline, pretrained models, and a Support Vector Machine. \n",
        "\n",
        "2) Finetuning training, comparing different training algorithms\n",
        "\n",
        "3) Many reviews contain multiple images. Essentially, all of these images are tied to the same class label. Classification may improve if they all could be treated as one example. [Multiple instance learning](https://en.wikipedia.org/wiki/Multiple_instance_learning) is a strategy that trains a classifier to predict labels from a group of items. This sounds promising for our task. \n",
        "\n",
        "\n",
        "#### NLP-based Filtering\n",
        "Use NLP tools during the preprocessing stage to filter out irrelevant reviews. Some filtering conditions include:\n",
        "\n",
        "1) Retain only reviews where the text discusses on the food. \n",
        "\n",
        "2) Remove any reviews where the text expresses strong opinions about other aspects of the customer experience not relevent to food (i.e. \"the service was really slow\", \"the waiter was very rude to us\", etc).\n",
        "\n",
        "Of course, all of these improvements require more data. We'll continue to expand the dataset through scraping.\n",
        "\n",
        "\n",
        "#### Extras\n",
        "Here are some other ideas that interested us, but we're not sure whether they are appropriate for the scope of this project.\n",
        "\n",
        "1) Adding a visual attention mechinism to the image classifier. Attention has gained a lot of momentum in the NLP domain, and is being explored in computer vision as well. As we learned in the presentation we did on adversarial attacks on computer vision systems, image classification can be very fragile. Explicitly training the network to focus on the subject rather than the background with attention could improve results.\n",
        "\n",
        "2) Hybrid image-text classification. This would entail concatenating a word embedding of the review text to the image. Various word embedding algorithms, such as word2vec, GloVe, and ALBERT could be compared. Another strategy is to stack an image of the text with the image of the meal. "
      ]
    }
  ]
}