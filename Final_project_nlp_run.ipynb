{
  "nbformat": 4,
  "nbformat_minor": 0,
  "metadata": {
    "colab": {
      "name": "Final_project.ipynb",
      "provenance": [],
      "collapsed_sections": []
    },
    "kernelspec": {
      "name": "python3",
      "display_name": "Python 3"
    },
    "accelerator": "GPU",
    "widgets": {
      "application/vnd.jupyter.widget-state+json": {
        "437b02fead7b4ae4b23833eaa343c7c6": {
          "model_module": "@jupyter-widgets/controls",
          "model_name": "HBoxModel",
          "state": {
            "_view_name": "HBoxView",
            "_dom_classes": [],
            "_model_name": "HBoxModel",
            "_view_module": "@jupyter-widgets/controls",
            "_model_module_version": "1.5.0",
            "_view_count": null,
            "_view_module_version": "1.5.0",
            "box_style": "",
            "layout": "IPY_MODEL_454551092b2c481184d66997e8a43a04",
            "_model_module": "@jupyter-widgets/controls",
            "children": [
              "IPY_MODEL_483b89ebcde249e78c1ba84bd14c48e9",
              "IPY_MODEL_a30ff6ff1df94377ab12ede7304f2e10"
            ]
          }
        },
        "454551092b2c481184d66997e8a43a04": {
          "model_module": "@jupyter-widgets/base",
          "model_name": "LayoutModel",
          "state": {
            "_view_name": "LayoutView",
            "grid_template_rows": null,
            "right": null,
            "justify_content": null,
            "_view_module": "@jupyter-widgets/base",
            "overflow": null,
            "_model_module_version": "1.2.0",
            "_view_count": null,
            "flex_flow": null,
            "width": null,
            "min_width": null,
            "border": null,
            "align_items": null,
            "bottom": null,
            "_model_module": "@jupyter-widgets/base",
            "top": null,
            "grid_column": null,
            "overflow_y": null,
            "overflow_x": null,
            "grid_auto_flow": null,
            "grid_area": null,
            "grid_template_columns": null,
            "flex": null,
            "_model_name": "LayoutModel",
            "justify_items": null,
            "grid_row": null,
            "max_height": null,
            "align_content": null,
            "visibility": null,
            "align_self": null,
            "height": null,
            "min_height": null,
            "padding": null,
            "grid_auto_rows": null,
            "grid_gap": null,
            "max_width": null,
            "order": null,
            "_view_module_version": "1.2.0",
            "grid_template_areas": null,
            "object_position": null,
            "object_fit": null,
            "grid_auto_columns": null,
            "margin": null,
            "display": null,
            "left": null
          }
        },
        "483b89ebcde249e78c1ba84bd14c48e9": {
          "model_module": "@jupyter-widgets/controls",
          "model_name": "FloatProgressModel",
          "state": {
            "_view_name": "ProgressView",
            "style": "IPY_MODEL_3b1a195454d54c958a67f0e79e13e925",
            "_dom_classes": [],
            "description": "Batches: 100%",
            "_model_name": "FloatProgressModel",
            "bar_style": "success",
            "max": 1288,
            "_view_module": "@jupyter-widgets/controls",
            "_model_module_version": "1.5.0",
            "value": 1288,
            "_view_count": null,
            "_view_module_version": "1.5.0",
            "orientation": "horizontal",
            "min": 0,
            "description_tooltip": null,
            "_model_module": "@jupyter-widgets/controls",
            "layout": "IPY_MODEL_752e57df47ef4fb7a55b418e538d28f5"
          }
        },
        "a30ff6ff1df94377ab12ede7304f2e10": {
          "model_module": "@jupyter-widgets/controls",
          "model_name": "HTMLModel",
          "state": {
            "_view_name": "HTMLView",
            "style": "IPY_MODEL_850286721ec949afabe830d64cd04b71",
            "_dom_classes": [],
            "description": "",
            "_model_name": "HTMLModel",
            "placeholder": "​",
            "_view_module": "@jupyter-widgets/controls",
            "_model_module_version": "1.5.0",
            "value": " 1288/1288 [02:19&lt;00:00,  9.26it/s]",
            "_view_count": null,
            "_view_module_version": "1.5.0",
            "description_tooltip": null,
            "_model_module": "@jupyter-widgets/controls",
            "layout": "IPY_MODEL_f177ebf774764e71bae9fa7c996d3256"
          }
        },
        "3b1a195454d54c958a67f0e79e13e925": {
          "model_module": "@jupyter-widgets/controls",
          "model_name": "ProgressStyleModel",
          "state": {
            "_view_name": "StyleView",
            "_model_name": "ProgressStyleModel",
            "description_width": "initial",
            "_view_module": "@jupyter-widgets/base",
            "_model_module_version": "1.5.0",
            "_view_count": null,
            "_view_module_version": "1.2.0",
            "bar_color": null,
            "_model_module": "@jupyter-widgets/controls"
          }
        },
        "752e57df47ef4fb7a55b418e538d28f5": {
          "model_module": "@jupyter-widgets/base",
          "model_name": "LayoutModel",
          "state": {
            "_view_name": "LayoutView",
            "grid_template_rows": null,
            "right": null,
            "justify_content": null,
            "_view_module": "@jupyter-widgets/base",
            "overflow": null,
            "_model_module_version": "1.2.0",
            "_view_count": null,
            "flex_flow": null,
            "width": null,
            "min_width": null,
            "border": null,
            "align_items": null,
            "bottom": null,
            "_model_module": "@jupyter-widgets/base",
            "top": null,
            "grid_column": null,
            "overflow_y": null,
            "overflow_x": null,
            "grid_auto_flow": null,
            "grid_area": null,
            "grid_template_columns": null,
            "flex": null,
            "_model_name": "LayoutModel",
            "justify_items": null,
            "grid_row": null,
            "max_height": null,
            "align_content": null,
            "visibility": null,
            "align_self": null,
            "height": null,
            "min_height": null,
            "padding": null,
            "grid_auto_rows": null,
            "grid_gap": null,
            "max_width": null,
            "order": null,
            "_view_module_version": "1.2.0",
            "grid_template_areas": null,
            "object_position": null,
            "object_fit": null,
            "grid_auto_columns": null,
            "margin": null,
            "display": null,
            "left": null
          }
        },
        "850286721ec949afabe830d64cd04b71": {
          "model_module": "@jupyter-widgets/controls",
          "model_name": "DescriptionStyleModel",
          "state": {
            "_view_name": "StyleView",
            "_model_name": "DescriptionStyleModel",
            "description_width": "",
            "_view_module": "@jupyter-widgets/base",
            "_model_module_version": "1.5.0",
            "_view_count": null,
            "_view_module_version": "1.2.0",
            "_model_module": "@jupyter-widgets/controls"
          }
        },
        "f177ebf774764e71bae9fa7c996d3256": {
          "model_module": "@jupyter-widgets/base",
          "model_name": "LayoutModel",
          "state": {
            "_view_name": "LayoutView",
            "grid_template_rows": null,
            "right": null,
            "justify_content": null,
            "_view_module": "@jupyter-widgets/base",
            "overflow": null,
            "_model_module_version": "1.2.0",
            "_view_count": null,
            "flex_flow": null,
            "width": null,
            "min_width": null,
            "border": null,
            "align_items": null,
            "bottom": null,
            "_model_module": "@jupyter-widgets/base",
            "top": null,
            "grid_column": null,
            "overflow_y": null,
            "overflow_x": null,
            "grid_auto_flow": null,
            "grid_area": null,
            "grid_template_columns": null,
            "flex": null,
            "_model_name": "LayoutModel",
            "justify_items": null,
            "grid_row": null,
            "max_height": null,
            "align_content": null,
            "visibility": null,
            "align_self": null,
            "height": null,
            "min_height": null,
            "padding": null,
            "grid_auto_rows": null,
            "grid_gap": null,
            "max_width": null,
            "order": null,
            "_view_module_version": "1.2.0",
            "grid_template_areas": null,
            "object_position": null,
            "object_fit": null,
            "grid_auto_columns": null,
            "margin": null,
            "display": null,
            "left": null
          }
        },
        "b91677361976492b83c56af8a89b04af": {
          "model_module": "@jupyter-widgets/controls",
          "model_name": "HBoxModel",
          "state": {
            "_view_name": "HBoxView",
            "_dom_classes": [],
            "_model_name": "HBoxModel",
            "_view_module": "@jupyter-widgets/controls",
            "_model_module_version": "1.5.0",
            "_view_count": null,
            "_view_module_version": "1.5.0",
            "box_style": "",
            "layout": "IPY_MODEL_6af4297cc1e347e0bb0441857be0fc03",
            "_model_module": "@jupyter-widgets/controls",
            "children": [
              "IPY_MODEL_aa03c499e2e7461186b1796f18ebdcbb",
              "IPY_MODEL_e54b6004fe1341e78b9fe88d057106e0"
            ]
          }
        },
        "6af4297cc1e347e0bb0441857be0fc03": {
          "model_module": "@jupyter-widgets/base",
          "model_name": "LayoutModel",
          "state": {
            "_view_name": "LayoutView",
            "grid_template_rows": null,
            "right": null,
            "justify_content": null,
            "_view_module": "@jupyter-widgets/base",
            "overflow": null,
            "_model_module_version": "1.2.0",
            "_view_count": null,
            "flex_flow": null,
            "width": null,
            "min_width": null,
            "border": null,
            "align_items": null,
            "bottom": null,
            "_model_module": "@jupyter-widgets/base",
            "top": null,
            "grid_column": null,
            "overflow_y": null,
            "overflow_x": null,
            "grid_auto_flow": null,
            "grid_area": null,
            "grid_template_columns": null,
            "flex": null,
            "_model_name": "LayoutModel",
            "justify_items": null,
            "grid_row": null,
            "max_height": null,
            "align_content": null,
            "visibility": null,
            "align_self": null,
            "height": null,
            "min_height": null,
            "padding": null,
            "grid_auto_rows": null,
            "grid_gap": null,
            "max_width": null,
            "order": null,
            "_view_module_version": "1.2.0",
            "grid_template_areas": null,
            "object_position": null,
            "object_fit": null,
            "grid_auto_columns": null,
            "margin": null,
            "display": null,
            "left": null
          }
        },
        "aa03c499e2e7461186b1796f18ebdcbb": {
          "model_module": "@jupyter-widgets/controls",
          "model_name": "FloatProgressModel",
          "state": {
            "_view_name": "ProgressView",
            "style": "IPY_MODEL_0e5ce8c311064adb82ac9f301127f296",
            "_dom_classes": [],
            "description": "Batches: 100%",
            "_model_name": "FloatProgressModel",
            "bar_style": "success",
            "max": 1288,
            "_view_module": "@jupyter-widgets/controls",
            "_model_module_version": "1.5.0",
            "value": 1288,
            "_view_count": null,
            "_view_module_version": "1.5.0",
            "orientation": "horizontal",
            "min": 0,
            "description_tooltip": null,
            "_model_module": "@jupyter-widgets/controls",
            "layout": "IPY_MODEL_c64e6f06e6114cee80f98d77db3e1de1"
          }
        },
        "e54b6004fe1341e78b9fe88d057106e0": {
          "model_module": "@jupyter-widgets/controls",
          "model_name": "HTMLModel",
          "state": {
            "_view_name": "HTMLView",
            "style": "IPY_MODEL_85d8c8e5fe254dee8a3fd62455ea46aa",
            "_dom_classes": [],
            "description": "",
            "_model_name": "HTMLModel",
            "placeholder": "​",
            "_view_module": "@jupyter-widgets/controls",
            "_model_module_version": "1.5.0",
            "value": " 1288/1288 [02:19&lt;00:00,  9.26it/s]",
            "_view_count": null,
            "_view_module_version": "1.5.0",
            "description_tooltip": null,
            "_model_module": "@jupyter-widgets/controls",
            "layout": "IPY_MODEL_3e83703f318842ec86d93a1ec3f0dd23"
          }
        },
        "0e5ce8c311064adb82ac9f301127f296": {
          "model_module": "@jupyter-widgets/controls",
          "model_name": "ProgressStyleModel",
          "state": {
            "_view_name": "StyleView",
            "_model_name": "ProgressStyleModel",
            "description_width": "initial",
            "_view_module": "@jupyter-widgets/base",
            "_model_module_version": "1.5.0",
            "_view_count": null,
            "_view_module_version": "1.2.0",
            "bar_color": null,
            "_model_module": "@jupyter-widgets/controls"
          }
        },
        "c64e6f06e6114cee80f98d77db3e1de1": {
          "model_module": "@jupyter-widgets/base",
          "model_name": "LayoutModel",
          "state": {
            "_view_name": "LayoutView",
            "grid_template_rows": null,
            "right": null,
            "justify_content": null,
            "_view_module": "@jupyter-widgets/base",
            "overflow": null,
            "_model_module_version": "1.2.0",
            "_view_count": null,
            "flex_flow": null,
            "width": null,
            "min_width": null,
            "border": null,
            "align_items": null,
            "bottom": null,
            "_model_module": "@jupyter-widgets/base",
            "top": null,
            "grid_column": null,
            "overflow_y": null,
            "overflow_x": null,
            "grid_auto_flow": null,
            "grid_area": null,
            "grid_template_columns": null,
            "flex": null,
            "_model_name": "LayoutModel",
            "justify_items": null,
            "grid_row": null,
            "max_height": null,
            "align_content": null,
            "visibility": null,
            "align_self": null,
            "height": null,
            "min_height": null,
            "padding": null,
            "grid_auto_rows": null,
            "grid_gap": null,
            "max_width": null,
            "order": null,
            "_view_module_version": "1.2.0",
            "grid_template_areas": null,
            "object_position": null,
            "object_fit": null,
            "grid_auto_columns": null,
            "margin": null,
            "display": null,
            "left": null
          }
        },
        "85d8c8e5fe254dee8a3fd62455ea46aa": {
          "model_module": "@jupyter-widgets/controls",
          "model_name": "DescriptionStyleModel",
          "state": {
            "_view_name": "StyleView",
            "_model_name": "DescriptionStyleModel",
            "description_width": "",
            "_view_module": "@jupyter-widgets/base",
            "_model_module_version": "1.5.0",
            "_view_count": null,
            "_view_module_version": "1.2.0",
            "_model_module": "@jupyter-widgets/controls"
          }
        },
        "3e83703f318842ec86d93a1ec3f0dd23": {
          "model_module": "@jupyter-widgets/base",
          "model_name": "LayoutModel",
          "state": {
            "_view_name": "LayoutView",
            "grid_template_rows": null,
            "right": null,
            "justify_content": null,
            "_view_module": "@jupyter-widgets/base",
            "overflow": null,
            "_model_module_version": "1.2.0",
            "_view_count": null,
            "flex_flow": null,
            "width": null,
            "min_width": null,
            "border": null,
            "align_items": null,
            "bottom": null,
            "_model_module": "@jupyter-widgets/base",
            "top": null,
            "grid_column": null,
            "overflow_y": null,
            "overflow_x": null,
            "grid_auto_flow": null,
            "grid_area": null,
            "grid_template_columns": null,
            "flex": null,
            "_model_name": "LayoutModel",
            "justify_items": null,
            "grid_row": null,
            "max_height": null,
            "align_content": null,
            "visibility": null,
            "align_self": null,
            "height": null,
            "min_height": null,
            "padding": null,
            "grid_auto_rows": null,
            "grid_gap": null,
            "max_width": null,
            "order": null,
            "_view_module_version": "1.2.0",
            "grid_template_areas": null,
            "object_position": null,
            "object_fit": null,
            "grid_auto_columns": null,
            "margin": null,
            "display": null,
            "left": null
          }
        },
        "6089f6965e8d46b79a22a7aefa3f8fa8": {
          "model_module": "@jupyter-widgets/controls",
          "model_name": "HBoxModel",
          "state": {
            "_view_name": "HBoxView",
            "_dom_classes": [],
            "_model_name": "HBoxModel",
            "_view_module": "@jupyter-widgets/controls",
            "_model_module_version": "1.5.0",
            "_view_count": null,
            "_view_module_version": "1.5.0",
            "box_style": "",
            "layout": "IPY_MODEL_43a6f743be2644bfb75c6151a196d28f",
            "_model_module": "@jupyter-widgets/controls",
            "children": [
              "IPY_MODEL_30efa3e5d0dd4204a2a6344963ae2ce0",
              "IPY_MODEL_9f3ecfe9ca09466f9e8c597126fbb2ac"
            ]
          }
        },
        "43a6f743be2644bfb75c6151a196d28f": {
          "model_module": "@jupyter-widgets/base",
          "model_name": "LayoutModel",
          "state": {
            "_view_name": "LayoutView",
            "grid_template_rows": null,
            "right": null,
            "justify_content": null,
            "_view_module": "@jupyter-widgets/base",
            "overflow": null,
            "_model_module_version": "1.2.0",
            "_view_count": null,
            "flex_flow": null,
            "width": null,
            "min_width": null,
            "border": null,
            "align_items": null,
            "bottom": null,
            "_model_module": "@jupyter-widgets/base",
            "top": null,
            "grid_column": null,
            "overflow_y": null,
            "overflow_x": null,
            "grid_auto_flow": null,
            "grid_area": null,
            "grid_template_columns": null,
            "flex": null,
            "_model_name": "LayoutModel",
            "justify_items": null,
            "grid_row": null,
            "max_height": null,
            "align_content": null,
            "visibility": null,
            "align_self": null,
            "height": null,
            "min_height": null,
            "padding": null,
            "grid_auto_rows": null,
            "grid_gap": null,
            "max_width": null,
            "order": null,
            "_view_module_version": "1.2.0",
            "grid_template_areas": null,
            "object_position": null,
            "object_fit": null,
            "grid_auto_columns": null,
            "margin": null,
            "display": null,
            "left": null
          }
        },
        "30efa3e5d0dd4204a2a6344963ae2ce0": {
          "model_module": "@jupyter-widgets/controls",
          "model_name": "FloatProgressModel",
          "state": {
            "_view_name": "ProgressView",
            "style": "IPY_MODEL_950f6906f0684468ab8c51cdd0c63124",
            "_dom_classes": [],
            "description": "Batches: 100%",
            "_model_name": "FloatProgressModel",
            "bar_style": "success",
            "max": 1288,
            "_view_module": "@jupyter-widgets/controls",
            "_model_module_version": "1.5.0",
            "value": 1288,
            "_view_count": null,
            "_view_module_version": "1.5.0",
            "orientation": "horizontal",
            "min": 0,
            "description_tooltip": null,
            "_model_module": "@jupyter-widgets/controls",
            "layout": "IPY_MODEL_065d992c354640f29e47538036bd72b8"
          }
        },
        "9f3ecfe9ca09466f9e8c597126fbb2ac": {
          "model_module": "@jupyter-widgets/controls",
          "model_name": "HTMLModel",
          "state": {
            "_view_name": "HTMLView",
            "style": "IPY_MODEL_85ba7682450b4040b1c43888c0e53a74",
            "_dom_classes": [],
            "description": "",
            "_model_name": "HTMLModel",
            "placeholder": "​",
            "_view_module": "@jupyter-widgets/controls",
            "_model_module_version": "1.5.0",
            "value": " 1288/1288 [02:18&lt;00:00,  9.27it/s]",
            "_view_count": null,
            "_view_module_version": "1.5.0",
            "description_tooltip": null,
            "_model_module": "@jupyter-widgets/controls",
            "layout": "IPY_MODEL_507e55a12a8e42c480bcd1be311a5fcd"
          }
        },
        "950f6906f0684468ab8c51cdd0c63124": {
          "model_module": "@jupyter-widgets/controls",
          "model_name": "ProgressStyleModel",
          "state": {
            "_view_name": "StyleView",
            "_model_name": "ProgressStyleModel",
            "description_width": "initial",
            "_view_module": "@jupyter-widgets/base",
            "_model_module_version": "1.5.0",
            "_view_count": null,
            "_view_module_version": "1.2.0",
            "bar_color": null,
            "_model_module": "@jupyter-widgets/controls"
          }
        },
        "065d992c354640f29e47538036bd72b8": {
          "model_module": "@jupyter-widgets/base",
          "model_name": "LayoutModel",
          "state": {
            "_view_name": "LayoutView",
            "grid_template_rows": null,
            "right": null,
            "justify_content": null,
            "_view_module": "@jupyter-widgets/base",
            "overflow": null,
            "_model_module_version": "1.2.0",
            "_view_count": null,
            "flex_flow": null,
            "width": null,
            "min_width": null,
            "border": null,
            "align_items": null,
            "bottom": null,
            "_model_module": "@jupyter-widgets/base",
            "top": null,
            "grid_column": null,
            "overflow_y": null,
            "overflow_x": null,
            "grid_auto_flow": null,
            "grid_area": null,
            "grid_template_columns": null,
            "flex": null,
            "_model_name": "LayoutModel",
            "justify_items": null,
            "grid_row": null,
            "max_height": null,
            "align_content": null,
            "visibility": null,
            "align_self": null,
            "height": null,
            "min_height": null,
            "padding": null,
            "grid_auto_rows": null,
            "grid_gap": null,
            "max_width": null,
            "order": null,
            "_view_module_version": "1.2.0",
            "grid_template_areas": null,
            "object_position": null,
            "object_fit": null,
            "grid_auto_columns": null,
            "margin": null,
            "display": null,
            "left": null
          }
        },
        "85ba7682450b4040b1c43888c0e53a74": {
          "model_module": "@jupyter-widgets/controls",
          "model_name": "DescriptionStyleModel",
          "state": {
            "_view_name": "StyleView",
            "_model_name": "DescriptionStyleModel",
            "description_width": "",
            "_view_module": "@jupyter-widgets/base",
            "_model_module_version": "1.5.0",
            "_view_count": null,
            "_view_module_version": "1.2.0",
            "_model_module": "@jupyter-widgets/controls"
          }
        },
        "507e55a12a8e42c480bcd1be311a5fcd": {
          "model_module": "@jupyter-widgets/base",
          "model_name": "LayoutModel",
          "state": {
            "_view_name": "LayoutView",
            "grid_template_rows": null,
            "right": null,
            "justify_content": null,
            "_view_module": "@jupyter-widgets/base",
            "overflow": null,
            "_model_module_version": "1.2.0",
            "_view_count": null,
            "flex_flow": null,
            "width": null,
            "min_width": null,
            "border": null,
            "align_items": null,
            "bottom": null,
            "_model_module": "@jupyter-widgets/base",
            "top": null,
            "grid_column": null,
            "overflow_y": null,
            "overflow_x": null,
            "grid_auto_flow": null,
            "grid_area": null,
            "grid_template_columns": null,
            "flex": null,
            "_model_name": "LayoutModel",
            "justify_items": null,
            "grid_row": null,
            "max_height": null,
            "align_content": null,
            "visibility": null,
            "align_self": null,
            "height": null,
            "min_height": null,
            "padding": null,
            "grid_auto_rows": null,
            "grid_gap": null,
            "max_width": null,
            "order": null,
            "_view_module_version": "1.2.0",
            "grid_template_areas": null,
            "object_position": null,
            "object_fit": null,
            "grid_auto_columns": null,
            "margin": null,
            "display": null,
            "left": null
          }
        }
      }
    }
  },
  "cells": [
    {
      "cell_type": "markdown",
      "metadata": {
        "id": "A_Vn1s8eQR5J",
        "colab_type": "text"
      },
      "source": [
        "# Predicting Online Review Ratings of Pizzarias Using Review Photos \n",
        "\n",
        "Ziv Branstein 301782215\n",
        "\n",
        "Avishai Fuss 332658608"
      ]
    },
    {
      "cell_type": "markdown",
      "metadata": {
        "id": "px_4ubGwSHmx",
        "colab_type": "text"
      },
      "source": [
        "## Scraping\n",
        "As discussed in the project proposal Yelp's dataset does not include photos of reviews, so we had to scrape the photos for our project.\n",
        "For the project proposal we used a basic web scraper, after analyzing the web traffic we used the same requests as their website to download the photos of reviews found in the dataset. This worked well, however, after a few hundred reviews scraped we encountered a consistent \"503 service unavailable\" response, checking their website revealed that we were blocked:\n",
        "![Yelp's ip block](https://github.com/shaifuss/data_science_seminar/blob/master/yelp-ip-address-ban.jpg?raw=1)\n",
        "After disconnecting from the internet and acquiring a new IP address the website was working again, meaning the blocking was done based on the IP.\n",
        "This was a real problem, as there are 479792 reviews in total, and using only a few hundred photos for the project will not produce meaningful results.\n",
        "After getting blocked again we tested the mobile application and it was still operating, giving hope for a new direction for scraping.\n",
        "Analyzing the traffic for the mobile application was a bit more cumbersome - Yelp's app uses SSL pinning(a technique which prevents man-in-the-middle attack for reading the traffic) that needed to be disabled. Also, the HTTP requests performed by the app were signed using logic run inside the app which needed to be reverse engineered.\n",
        "The signature algorithm of the android app uses HMAC-SHA1 on the query string with a key embedded in the binary.\n",
        "\n",
        "The scraping process is performed as follows: \n",
        "```\n",
        "review_scaper.py -> image_scraper.py -> pizza_classifier_xception.py\n",
        "review_scraper.py: For each review it scrapes the urls of the images of the review.\n",
        "image_scraper.py: Given the scraped urls it downloads the photos\n",
        "pizza_classifier_xception.py: Deletes photos which are not classified as pizza in the top 5 results for the Xception classifier\n",
        "```\n",
        "After reverse engineering the signature mechanism we retested the scraping and managed to scrape all 1 star reviews from the dataset and a similar amount of 5 star reviews.\n",
        "After filtering for images of pizzas only (using the pretrained network Xception) we are left with 14,566 photos of pizzas."
      ]
    },
    {
      "cell_type": "markdown",
      "metadata": {
        "id": "pdXgQf9EUA_n",
        "colab_type": "text"
      },
      "source": [
        "## Results"
      ]
    },
    {
      "cell_type": "code",
      "metadata": {
        "id": "wA4QlKGA8YTQ",
        "colab_type": "code",
        "colab": {}
      },
      "source": [
        "import warnings\n",
        "warnings.filterwarnings('ignore')\n",
        "import logging\n",
        "logging.getLogger().setLevel(logging.ERROR)\n",
        "\n",
        "from collections import defaultdict\n",
        "from IPython.display import Image\n",
        "from scipy.stats import binom\n",
        "from shutil import copyfile, move\n",
        "from sklearn.metrics import confusion_matrix\n",
        "from sklearn.model_selection import train_test_split\n",
        "from sklearn.svm import SVC\n",
        "from tensorflow.keras import backend as K\n",
        "from tensorflow.keras.applications.xception import Xception, preprocess_input\n",
        "from tensorflow.keras.callbacks import EarlyStopping\n",
        "from tensorflow.keras.layers import Dense, GlobalAveragePooling2D, Dropout, Input\n",
        "from tensorflow.keras.models import Model\n",
        "from tensorflow.keras.optimizers import Adam, RMSprop, SGD\n",
        "from tensorflow.keras.preprocessing import image\n",
        "from tensorflow.keras.preprocessing.image import ImageDataGenerator\n",
        "from traceback import format_exc\n",
        "import json\n",
        "import matplotlib.pyplot as plt\n",
        "import numpy as np\n",
        "import os\n",
        "import pandas as pd\n",
        "import pprint\n",
        "import random\n",
        "import seaborn as sns \n",
        "import tensorflow\n",
        "import tensorflow.keras.applications\n",
        "import time\n",
        "\n",
        "!pip install pyspellchecker -q\n",
        "!pip install sentence-transformers -q\n",
        "\n",
        "# Fix random for consistent results\n",
        "def fix_random():\n",
        "    np.random.seed(42)\n",
        "    random.seed(42)\n",
        "    tensorflow.random.set_seed(42)\n",
        "fix_random()"
      ],
      "execution_count": 17,
      "outputs": []
    },
    {
      "cell_type": "code",
      "metadata": {
        "id": "-ZyJJd5PFSE8",
        "colab_type": "code",
        "colab": {
          "base_uri": "https://localhost:8080/",
          "height": 34
        },
        "outputId": "65dc8924-f1ce-407d-e099-52d3988b3be9"
      },
      "source": [
        "%cd ..\n",
        "%rm -rf data_science_seminar/"
      ],
      "execution_count": 18,
      "outputs": [
        {
          "output_type": "stream",
          "text": [
            "/\n"
          ],
          "name": "stdout"
        }
      ]
    },
    {
      "cell_type": "code",
      "metadata": {
        "id": "BR4I-ydg8e9e",
        "colab_type": "code",
        "colab": {
          "base_uri": "https://localhost:8080/",
          "height": 272
        },
        "outputId": "9dae7278-42d8-4ecc-ce87-c0e2ff29d3b2"
      },
      "source": [
        "if not os.path.exists('review_photos'):\n",
        "    if os.path.exists('data_science_seminar'):\n",
        "        %cd data_science_seminar\n",
        "    else:\n",
        "        !git clone https://github.com/shaifuss/data_science_seminar.git\n",
        "        %cd data_science_seminar\n",
        "if (not os.path.exists('yelp_academic_dataset_business.json')) or (not os.path.exists('yelp_academic_dataset_review.json')):\n",
        "    kaggle_path = os.path.expanduser('~/.kaggle')\n",
        "    kaggle_json_path = os.path.join(kaggle_path, 'kaggle.json')\n",
        "    if not os.path.exists(kaggle_json_path):\n",
        "        from getpass import getpass\n",
        "        kaggle_json = getpass('Insert kaggle.json:')\n",
        "        os.makedirs(kaggle_path, exist_ok=True)\n",
        "        with open(kaggle_json_path, 'w') as f:\n",
        "            f.write(kaggle_json)\n",
        "        os.chmod(kaggle_json_path, 0o600)\n",
        "    !kaggle datasets download yelp-dataset/yelp-dataset\n",
        "    !unzip yelp-dataset.zip yelp_academic_dataset_business.json yelp_academic_dataset_review.json\n",
        "    !rm yelp-dataset.zip"
      ],
      "execution_count": 19,
      "outputs": [
        {
          "output_type": "stream",
          "text": [
            "Cloning into 'data_science_seminar'...\n",
            "remote: Enumerating objects: 85, done.\u001b[K\n",
            "remote: Counting objects: 100% (85/85), done.\u001b[K\n",
            "remote: Compressing objects: 100% (84/84), done.\u001b[K\n",
            "remote: Total 23728 (delta 48), reused 7 (delta 1), pack-reused 23643\u001b[K\n",
            "Receiving objects: 100% (23728/23728), 1.66 GiB | 15.94 MiB/s, done.\n",
            "Resolving deltas: 100% (169/169), done.\n",
            "Checking out files: 100% (14967/14967), done.\n",
            "/data_science_seminar\n",
            "Downloading yelp-dataset.zip to /data_science_seminar\n",
            "100% 4.47G/4.48G [01:57<00:00, 52.4MB/s]\n",
            "100% 4.48G/4.48G [01:59<00:00, 40.4MB/s]\n",
            "Archive:  yelp-dataset.zip\n",
            "  inflating: yelp_academic_dataset_business.json  \n",
            "  inflating: yelp_academic_dataset_review.json  \n"
          ],
          "name": "stdout"
        }
      ]
    },
    {
      "cell_type": "code",
      "metadata": {
        "id": "0dfjKh1V8imk",
        "colab_type": "code",
        "colab": {
          "base_uri": "https://localhost:8080/",
          "height": 34
        },
        "outputId": "22dd20d1-eaa1-4533-8824-f7c390c51853"
      },
      "source": [
        "business_df = pd.read_json('yelp_academic_dataset_business.json', lines=True)\n",
        "print(\"The dataset contains a total of {} businesses\".format(len(business_df.index)))"
      ],
      "execution_count": 20,
      "outputs": [
        {
          "output_type": "stream",
          "text": [
            "The dataset contains a total of 209393 businesses\n"
          ],
          "name": "stdout"
        }
      ]
    },
    {
      "cell_type": "code",
      "metadata": {
        "id": "9yPZKfSk-QA0",
        "colab_type": "code",
        "colab": {
          "base_uri": "https://localhost:8080/",
          "height": 564
        },
        "outputId": "9cddc3ca-9e66-429c-80ae-ce8af7017644"
      },
      "source": [
        "business_df = business_df[business_df['categories'].notna()]\n",
        "pizza_biz_df = business_df[business_df['categories'].str.contains(\"Pizza\")]\n",
        "print(\"Of those, {} businesses sell pizza\".format(len(pizza_biz_df.index)))\n",
        "print(\"Here are a few examples\")\n",
        "pizza_biz_df.head()"
      ],
      "execution_count": 21,
      "outputs": [
        {
          "output_type": "stream",
          "text": [
            "Of those, 7302 businesses sell pizza\n",
            "Here are a few examples\n"
          ],
          "name": "stdout"
        },
        {
          "output_type": "execute_result",
          "data": {
            "text/html": [
              "<div>\n",
              "<style scoped>\n",
              "    .dataframe tbody tr th:only-of-type {\n",
              "        vertical-align: middle;\n",
              "    }\n",
              "\n",
              "    .dataframe tbody tr th {\n",
              "        vertical-align: top;\n",
              "    }\n",
              "\n",
              "    .dataframe thead th {\n",
              "        text-align: right;\n",
              "    }\n",
              "</style>\n",
              "<table border=\"1\" class=\"dataframe\">\n",
              "  <thead>\n",
              "    <tr style=\"text-align: right;\">\n",
              "      <th></th>\n",
              "      <th>business_id</th>\n",
              "      <th>name</th>\n",
              "      <th>address</th>\n",
              "      <th>city</th>\n",
              "      <th>state</th>\n",
              "      <th>postal_code</th>\n",
              "      <th>latitude</th>\n",
              "      <th>longitude</th>\n",
              "      <th>stars</th>\n",
              "      <th>review_count</th>\n",
              "      <th>is_open</th>\n",
              "      <th>attributes</th>\n",
              "      <th>categories</th>\n",
              "      <th>hours</th>\n",
              "    </tr>\n",
              "  </thead>\n",
              "  <tbody>\n",
              "    <tr>\n",
              "      <th>63</th>\n",
              "      <td>ZkzutF0P_u0C0yTulwaHkA</td>\n",
              "      <td>Lelulos Pizzeria</td>\n",
              "      <td>311 Unity Center Rd</td>\n",
              "      <td>Plum</td>\n",
              "      <td>PA</td>\n",
              "      <td>15239</td>\n",
              "      <td>40.489996</td>\n",
              "      <td>-79.779288</td>\n",
              "      <td>4.0</td>\n",
              "      <td>31</td>\n",
              "      <td>1</td>\n",
              "      <td>{'RestaurantsPriceRange2': '1', 'BusinessAccep...</td>\n",
              "      <td>Restaurants, Pizza</td>\n",
              "      <td>{'Monday': '0:0-0:0', 'Tuesday': '11:0-21:0', ...</td>\n",
              "    </tr>\n",
              "    <tr>\n",
              "      <th>86</th>\n",
              "      <td>OWkS1FXNJbozn-qPg3LWxg</td>\n",
              "      <td>Mama Napoli Pizza</td>\n",
              "      <td></td>\n",
              "      <td>Las Vegas</td>\n",
              "      <td>NV</td>\n",
              "      <td>89109</td>\n",
              "      <td>36.128561</td>\n",
              "      <td>-115.171130</td>\n",
              "      <td>4.5</td>\n",
              "      <td>11</td>\n",
              "      <td>1</td>\n",
              "      <td>{'RestaurantsDelivery': 'False', 'BusinessAcce...</td>\n",
              "      <td>Food, Food Trucks, Restaurants, Pizza</td>\n",
              "      <td>{'Friday': '18:0-0:0'}</td>\n",
              "    </tr>\n",
              "    <tr>\n",
              "      <th>105</th>\n",
              "      <td>-C0AlwLuXpcP609madJZQQ</td>\n",
              "      <td>Pizzaville</td>\n",
              "      <td>1030 Kennedy Circle, Unit 10</td>\n",
              "      <td>Milton</td>\n",
              "      <td>ON</td>\n",
              "      <td>L9T 0J9</td>\n",
              "      <td>43.508962</td>\n",
              "      <td>-79.837990</td>\n",
              "      <td>3.5</td>\n",
              "      <td>7</td>\n",
              "      <td>1</td>\n",
              "      <td>None</td>\n",
              "      <td>Restaurants, Pizza</td>\n",
              "      <td>{'Monday': '11:0-0:0', 'Tuesday': '11:0-0:0', ...</td>\n",
              "    </tr>\n",
              "    <tr>\n",
              "      <th>120</th>\n",
              "      <td>39lLJK_rrYY2NYomSsQdUA</td>\n",
              "      <td>Marco's Pizza</td>\n",
              "      <td>24335 Chagrin Blvd</td>\n",
              "      <td>Beachwood</td>\n",
              "      <td>OH</td>\n",
              "      <td>44122</td>\n",
              "      <td>41.465789</td>\n",
              "      <td>-81.506349</td>\n",
              "      <td>2.5</td>\n",
              "      <td>11</td>\n",
              "      <td>1</td>\n",
              "      <td>{'RestaurantsDelivery': 'True', 'GoodForKids':...</td>\n",
              "      <td>Restaurants, Pizza</td>\n",
              "      <td>None</td>\n",
              "    </tr>\n",
              "    <tr>\n",
              "      <th>126</th>\n",
              "      <td>0y6alZmSLnPzmG5_kP5Quw</td>\n",
              "      <td>J J's Pizza</td>\n",
              "      <td>20542 Lorain Rd</td>\n",
              "      <td>Fairview Park</td>\n",
              "      <td>OH</td>\n",
              "      <td>44126</td>\n",
              "      <td>41.448341</td>\n",
              "      <td>-81.847644</td>\n",
              "      <td>4.5</td>\n",
              "      <td>21</td>\n",
              "      <td>1</td>\n",
              "      <td>{'NoiseLevel': 'u'quiet'', 'WiFi': ''no'', 'Bu...</td>\n",
              "      <td>Pizza, Italian, Restaurants</td>\n",
              "      <td>{'Monday': '11:0-21:0', 'Tuesday': '11:0-21:0'...</td>\n",
              "    </tr>\n",
              "  </tbody>\n",
              "</table>\n",
              "</div>"
            ],
            "text/plain": [
              "                business_id  ...                                              hours\n",
              "63   ZkzutF0P_u0C0yTulwaHkA  ...  {'Monday': '0:0-0:0', 'Tuesday': '11:0-21:0', ...\n",
              "86   OWkS1FXNJbozn-qPg3LWxg  ...                             {'Friday': '18:0-0:0'}\n",
              "105  -C0AlwLuXpcP609madJZQQ  ...  {'Monday': '11:0-0:0', 'Tuesday': '11:0-0:0', ...\n",
              "120  39lLJK_rrYY2NYomSsQdUA  ...                                               None\n",
              "126  0y6alZmSLnPzmG5_kP5Quw  ...  {'Monday': '11:0-21:0', 'Tuesday': '11:0-21:0'...\n",
              "\n",
              "[5 rows x 14 columns]"
            ]
          },
          "metadata": {
            "tags": []
          },
          "execution_count": 21
        }
      ]
    },
    {
      "cell_type": "code",
      "metadata": {
        "id": "rBuz-3W38nq2",
        "colab_type": "code",
        "colab": {
          "base_uri": "https://localhost:8080/",
          "height": 34
        },
        "outputId": "1f88c9d7-7590-4d47-cd54-be6d4559662b"
      },
      "source": [
        "pizza_business_ids = set(pizza_biz_df.business_id)\n",
        "pizza_reviews = []\n",
        "with open('yelp_academic_dataset_review.json', 'r') as f:\n",
        "    for line in f:\n",
        "        line_json = json.loads(line)\n",
        "        if line_json['business_id'] in pizza_business_ids:\n",
        "            pizza_reviews.append(line_json)\n",
        "print(f\"And a total of {len(pizza_reviews)} reviews\")"
      ],
      "execution_count": 22,
      "outputs": [
        {
          "output_type": "stream",
          "text": [
            "And a total of 479792 reviews\n"
          ],
          "name": "stdout"
        }
      ]
    },
    {
      "cell_type": "code",
      "metadata": {
        "id": "jsioQyhf0hCp",
        "colab_type": "code",
        "colab": {}
      },
      "source": [
        "review_ids_with_photos = list(os.listdir(\"review_photos\"))\n",
        "pizza_reviews_by_id = {pizza_review[\"review_id\"]: pizza_review for pizza_review in pizza_reviews}\n",
        "output_path = \"review_photos_by_stars\"\n",
        "os.makedirs(os.path.join(output_path, \"0\"), exist_ok=True)\n",
        "os.makedirs(os.path.join(output_path, \"1\"), exist_ok=True)\n",
        "for review_id_with_photos in review_ids_with_photos:\n",
        "    review_path = os.path.join(\"review_photos\", review_id_with_photos)\n",
        "    if pizza_reviews_by_id[review_id_with_photos][\"stars\"] in [1.0, 5.0]:\n",
        "        for filename in os.listdir(review_path):\n",
        "            img_path = os.path.join(review_path, filename)\n",
        "            copyfile(img_path, os.path.join(output_path, str((int(pizza_reviews_by_id[review_id_with_photos][\"stars\"]) - 1) // 4), f\"{review_id_with_photos}_{filename}\"))"
      ],
      "execution_count": 23,
      "outputs": []
    },
    {
      "cell_type": "code",
      "metadata": {
        "id": "msdnhjq3_pcu",
        "colab_type": "code",
        "colab": {
          "base_uri": "https://localhost:8080/",
          "height": 34
        },
        "outputId": "3080db80-fcbd-4edd-9011-ad44fcf8cbd7"
      },
      "source": [
        "len(os.listdir(os.path.join(output_path, \"0\"))), len(os.listdir(os.path.join(output_path, \"1\")))"
      ],
      "execution_count": 24,
      "outputs": [
        {
          "output_type": "execute_result",
          "data": {
            "text/plain": [
              "(4320, 10246)"
            ]
          },
          "metadata": {
            "tags": []
          },
          "execution_count": 24
        }
      ]
    },
    {
      "cell_type": "markdown",
      "metadata": {
        "id": "GHSto-oN8e49",
        "colab_type": "text"
      },
      "source": [
        "We are left wtih 4,320 photos from 1-star reviews and 10,246 photos of 5 star reviews. To make training and evaluation easier, we will drop the excess of 5 star review photos."
      ]
    },
    {
      "cell_type": "code",
      "metadata": {
        "id": "tJ2lJ56V_5jh",
        "colab_type": "code",
        "colab": {}
      },
      "source": [
        "for _ in range(max(0, len(os.listdir(os.path.join(output_path, \"1\"))) - len(os.listdir(os.path.join(output_path, \"0\"))))):\n",
        "    os.unlink(os.path.join(output_path, \"1\", np.random.choice(os.listdir(os.path.join(output_path, \"1\")))))"
      ],
      "execution_count": 25,
      "outputs": []
    },
    {
      "cell_type": "code",
      "metadata": {
        "id": "33gY_hqUAfvC",
        "colab_type": "code",
        "colab": {
          "base_uri": "https://localhost:8080/",
          "height": 34
        },
        "outputId": "7f281e31-1a87-422f-a3da-ba0fc0d32d86"
      },
      "source": [
        "len(os.listdir(os.path.join(output_path, \"0\"))), len(os.listdir(os.path.join(output_path, \"1\")))"
      ],
      "execution_count": 26,
      "outputs": [
        {
          "output_type": "execute_result",
          "data": {
            "text/plain": [
              "(4320, 4320)"
            ]
          },
          "metadata": {
            "tags": []
          },
          "execution_count": 26
        }
      ]
    },
    {
      "cell_type": "markdown",
      "metadata": {
        "id": "g9ET1G_Dy09R",
        "colab_type": "text"
      },
      "source": [
        "We will split the data for training, validation and test sets with 60%:20%:20% respectively. Unlike the proposal, the dataset no longer fits the RAM so we will prepare directories for each subset and feed the model from disk."
      ]
    },
    {
      "cell_type": "code",
      "metadata": {
        "id": "gYPpGFZJ_EG9",
        "colab_type": "code",
        "colab": {
          "base_uri": "https://localhost:8080/",
          "height": 34
        },
        "outputId": "1b69b185-2a86-4f66-df67-f056d784e39d"
      },
      "source": [
        "def split_train_validation_test(input_path, output_path, seed=42):\n",
        "    np.random.seed(seed)\n",
        "    subsets = [\"train\", \"val\", \"test\"]\n",
        "    train_samples = 0\n",
        "    validation_samples = 0\n",
        "    test_samples = 0\n",
        "    for subset in subsets:\n",
        "        os.makedirs(os.path.join(output_path, subset, \"0\"), exist_ok=True)\n",
        "        os.makedirs(os.path.join(output_path, subset, \"1\"), exist_ok=True)\n",
        "    for class_name in os.listdir(input_path):\n",
        "        class_samples = os.listdir(os.path.join(input_path, class_name))\n",
        "        np.random.shuffle(class_samples)\n",
        "        for class_sample in class_samples[:int(len(class_samples) * 0.6)]:\n",
        "            move(os.path.join(input_path, class_name, class_sample), os.path.join(output_path, \"train\", class_name, class_sample))\n",
        "            train_samples += 1\n",
        "        for class_sample in class_samples[int(len(class_samples) * 0.6):int(len(class_samples) * 0.8)]:\n",
        "            move(os.path.join(input_path, class_name, class_sample), os.path.join(output_path, \"val\", class_name, class_sample))\n",
        "            validation_samples += 1\n",
        "        for class_sample in class_samples[int(len(class_samples) * 0.8):]:\n",
        "            move(os.path.join(input_path, class_name, class_sample), os.path.join(output_path, \"test\", class_name, class_sample))\n",
        "            test_samples += 1\n",
        "    print(f\"Splitted data into [training={train_samples}, validation={validation_samples}, test={test_samples}]\")\n",
        "        \n",
        "split_train_validation_test(\"review_photos_by_stars\", \"review_photos_split\")        "
      ],
      "execution_count": 27,
      "outputs": [
        {
          "output_type": "stream",
          "text": [
            "Splitted data into [training=5184, validation=1728, test=1728]\n"
          ],
          "name": "stdout"
        }
      ]
    },
    {
      "cell_type": "markdown",
      "metadata": {
        "id": "oOHOREZHSQ7_",
        "colab_type": "text"
      },
      "source": [
        "We will now try to compare different available pretrained models on our validation set. We will assume the best pretrained model will perform well with other architectures as well."
      ]
    },
    {
      "cell_type": "code",
      "metadata": {
        "id": "GgSDJivT83hr",
        "colab_type": "code",
        "colab": {
          "base_uri": "https://localhost:8080/",
          "height": 105
        },
        "outputId": "75f1f187-19f1-4997-be77-cadac94b41bb"
      },
      "source": [
        "%%capture\n",
        "DEFAULT_INPUT_SIZE = 500\n",
        "pretrained_networks =  [\n",
        "  ('DenseNet121', tensorflow.keras.applications.densenet.preprocess_input),\n",
        "  ('DenseNet169', tensorflow.keras.applications.densenet.preprocess_input),\n",
        "  ('DenseNet201', tensorflow.keras.applications.densenet.preprocess_input),\n",
        "  ('InceptionResNetV2', tensorflow.keras.applications.inception_resnet_v2.preprocess_input),\n",
        "  ('InceptionV3', tensorflow.keras.applications.inception_v3.preprocess_input),\n",
        "  ('MobileNet', tensorflow.keras.applications.mobilenet.preprocess_input),\n",
        "  ('MobileNetV2', tensorflow.keras.applications.mobilenet_v2.preprocess_input),\n",
        "  ('NASNetLarge', tensorflow.keras.applications.nasnet.preprocess_input),\n",
        "  ('NASNetMobile', tensorflow.keras.applications.nasnet.preprocess_input),\n",
        "  ('ResNet101', tensorflow.keras.applications.resnet.preprocess_input),\n",
        "  ('ResNet101V2', tensorflow.keras.applications.resnet_v2.preprocess_input),\n",
        "  ('ResNet152', tensorflow.keras.applications.resnet.preprocess_input),\n",
        "  ('ResNet152V2', tensorflow.keras.applications.resnet_v2.preprocess_input),\n",
        "  ('ResNet50', tensorflow.keras.applications.resnet50.preprocess_input),\n",
        "  ('ResNet50V2', tensorflow.keras.applications.resnet_v2.preprocess_input),\n",
        "  ('VGG16', tensorflow.keras.applications.vgg16.preprocess_input),\n",
        "  ('VGG19', tensorflow.keras.applications.vgg19.preprocess_input),\n",
        "  ('Xception', tensorflow.keras.applications.xception.preprocess_input)\n",
        "]\n",
        "patience = 5\n",
        "BATCH_SIZE = 64\n",
        "pretrained_network_results = {}\n",
        "for (pretrained_network_name, pretrained_network_preprocessing) in pretrained_networks:\n",
        "    fix_random()\n",
        "    K.clear_session()\n",
        "    try:\n",
        "        pretrained_network = getattr(tensorflow.keras.applications, pretrained_network_name)\n",
        "        try:\n",
        "            input_shape = (DEFAULT_INPUT_SIZE, DEFAULT_INPUT_SIZE)\n",
        "            base_model = pretrained_network(include_top=False, pooling='avg', input_shape=(input_shape[0], input_shape[1], 3))\n",
        "        except Exception:\n",
        "            # Maybe the model has a specific input shape\n",
        "            base_model = pretrained_network(include_top=False, pooling='avg')\n",
        "            input_shape = (base_model.input_shape[1], base_model.input_shape[2])\n",
        "        train_generator = ImageDataGenerator(preprocessing_function=tensorflow.keras.applications.densenet.preprocess_input).flow_from_directory(\n",
        "            directory=\"review_photos_split/train\", \n",
        "            class_mode=\"binary\", \n",
        "            target_size=input_shape, \n",
        "            batch_size=BATCH_SIZE, \n",
        "            shuffle=False\n",
        "        )\n",
        "        X_train = base_model.predict(train_generator, batch_size=BATCH_SIZE)\n",
        "        y_train = train_generator.classes\n",
        "        validation_generator = ImageDataGenerator(preprocessing_function=tensorflow.keras.applications.densenet.preprocess_input).flow_from_directory(\n",
        "            directory=\"review_photos_split/val\", \n",
        "            class_mode=\"binary\", \n",
        "            target_size=input_shape, \n",
        "            batch_size=BATCH_SIZE, \n",
        "            shuffle=False\n",
        "        )\n",
        "        X_validation = base_model.predict(validation_generator, batch_size=BATCH_SIZE)\n",
        "        y_validation = validation_generator.classes\n",
        "        K.clear_session()\n",
        "        input_layer = Input(shape=(base_model.output_shape[1], ))\n",
        "        x = Dense(8, activation='relu')(input_layer)\n",
        "        predictions = Dense(1, activation='sigmoid')(x)\n",
        "        model = Model(inputs=input_layer, outputs=predictions)\n",
        "        model.compile(optimizer='adam', loss='binary_crossentropy', metrics=[\"accuracy\"])\n",
        "        h = model.fit(\n",
        "            X_train,\n",
        "            y_train,\n",
        "            validation_data = (X_validation, y_validation), \n",
        "            batch_size=BATCH_SIZE,\n",
        "            epochs=1000, \n",
        "            callbacks=[EarlyStopping(patience=patience, restore_best_weights=True)],\n",
        "            verbose=0\n",
        "        )\n",
        "        pretrained_network_results[pretrained_network_name] = h.history['val_accuracy'][-patience - 1]\n",
        "    except Exception:\n",
        "      print(f\"Warning - failed to execute {pretrained_network_name}: {format_exc()}\")"
      ],
      "execution_count": 28,
      "outputs": [
        {
          "output_type": "stream",
          "text": [
            "WARNING:tensorflow:`input_shape` is undefined or non-square, or `rows` is not in [128, 160, 192, 224]. Weights for input shape (224, 224) will be loaded as the default.\n"
          ],
          "name": "stdout"
        },
        {
          "output_type": "stream",
          "text": [
            "WARNING:tensorflow:`input_shape` is undefined or non-square, or `rows` is not in [128, 160, 192, 224]. Weights for input shape (224, 224) will be loaded as the default.\n"
          ],
          "name": "stderr"
        },
        {
          "output_type": "stream",
          "text": [
            "WARNING:tensorflow:`input_shape` is undefined or non-square, or `rows` is not in [96, 128, 160, 192, 224]. Weights for input shape (224, 224) will be loaded as the default.\n"
          ],
          "name": "stdout"
        },
        {
          "output_type": "stream",
          "text": [
            "WARNING:tensorflow:`input_shape` is undefined or non-square, or `rows` is not in [96, 128, 160, 192, 224]. Weights for input shape (224, 224) will be loaded as the default.\n"
          ],
          "name": "stderr"
        }
      ]
    },
    {
      "cell_type": "code",
      "metadata": {
        "id": "nwRusU9Rmy2G",
        "colab_type": "code",
        "colab": {
          "base_uri": "https://localhost:8080/",
          "height": 442
        },
        "outputId": "aaf517c4-1e89-4744-8cad-e58852b9e9db"
      },
      "source": [
        "plt.figure(figsize=(30, 10))\n",
        "sorted_pretrained_network_results = sorted(pretrained_network_results.items(), key=lambda result_item: result_item[1])\n",
        "barplot = sns.barplot(x=[network_name for (network_name, _) in sorted_pretrained_network_results], y=[network_result for (_, network_result) in sorted_pretrained_network_results])\n",
        "_, pretrained_network_result_values = zip(*sorted_pretrained_network_results)\n",
        "barplot.set(ylim=(min(pretrained_network_result_values) - 0.01, max(pretrained_network_result_values) + 0.01))\n",
        "plt.ylabel(\"Validation Accuracy\", fontsize=14)\n",
        "plt.xlabel(\"Pretrained Network\", fontsize=14)\n",
        "for i, p in enumerate(barplot.patches):\n",
        "    barplot.text(i, p.get_height() + 0.0005, '%.2f%%' % (sorted_pretrained_network_results[i][1] * 100, ), color='black', ha=\"center\")"
      ],
      "execution_count": 29,
      "outputs": [
        {
          "output_type": "display_data",
          "data": {
            "image/png": "[encoded data removed]",
            "text/plain": [
              "<Figure size 2160x720 with 1 Axes>"
            ]
          },
          "metadata": {
            "tags": [],
            "needs_background": "light"
          }
        }
      ]
    },
    {
      "cell_type": "markdown",
      "metadata": {
        "id": "hTWgb24iUXOw",
        "colab_type": "text"
      },
      "source": [
        "As you can see DenseNet201 performed the best on our validation set with 73.26% accuracy.\n",
        "From now on we will use the extracted features from DenseNet201 as the base for different algorithms:"
      ]
    },
    {
      "cell_type": "markdown",
      "metadata": {
        "id": "m0jfTtS5fzGC",
        "colab_type": "text"
      },
      "source": [
        "### Neural network"
      ]
    },
    {
      "cell_type": "code",
      "metadata": {
        "id": "BRPlJLfEVcjS",
        "colab_type": "code",
        "colab": {
          "base_uri": "https://localhost:8080/",
          "height": 68
        },
        "outputId": "30ea8857-501b-449a-ce30-74e377a5c095"
      },
      "source": [
        "K.clear_session()\n",
        "# Create the base pre-trained model\n",
        "base_model = tensorflow.keras.applications.DenseNet201(include_top=False, input_shape=(DEFAULT_INPUT_SIZE, DEFAULT_INPUT_SIZE, 3), pooling='avg')\n",
        "\n",
        "BATCH_SIZE = 128\n",
        "train_generator = ImageDataGenerator(preprocessing_function=tensorflow.keras.applications.densenet.preprocess_input).flow_from_directory(\n",
        "    directory=\"review_photos_split/train\", \n",
        "    class_mode=\"binary\", \n",
        "    target_size=(DEFAULT_INPUT_SIZE, DEFAULT_INPUT_SIZE), \n",
        "    batch_size=BATCH_SIZE, \n",
        "    shuffle=False\n",
        ")\n",
        "validation_generator = ImageDataGenerator(preprocessing_function=tensorflow.keras.applications.densenet.preprocess_input).flow_from_directory(\n",
        "    directory=\"review_photos_split/val\", \n",
        "    class_mode=\"binary\", \n",
        "    target_size=(DEFAULT_INPUT_SIZE, DEFAULT_INPUT_SIZE), \n",
        "    batch_size=BATCH_SIZE, \n",
        "    shuffle=False\n",
        ")\n",
        "test_generator = ImageDataGenerator(preprocessing_function=tensorflow.keras.applications.densenet.preprocess_input).flow_from_directory(\n",
        "    directory=\"review_photos_split/test\", \n",
        "    class_mode=\"binary\", \n",
        "    target_size=(DEFAULT_INPUT_SIZE, DEFAULT_INPUT_SIZE), \n",
        "    batch_size=BATCH_SIZE, \n",
        "    shuffle=False\n",
        ")\n",
        "# Precalculate extracted features for the different sets once to save time\n",
        "X_train = base_model.predict(train_generator, batch_size=BATCH_SIZE)\n",
        "y_train = train_generator.classes\n",
        "X_validation = base_model.predict(validation_generator, batch_size=BATCH_SIZE)\n",
        "y_validation = validation_generator.classes\n",
        "X_test = base_model.predict(test_generator, batch_size=BATCH_SIZE)\n",
        "y_test = test_generator.classes"
      ],
      "execution_count": 30,
      "outputs": [
        {
          "output_type": "stream",
          "text": [
            "Found 5184 images belonging to 2 classes.\n",
            "Found 1728 images belonging to 2 classes.\n",
            "Found 1728 images belonging to 2 classes.\n"
          ],
          "name": "stdout"
        }
      ]
    },
    {
      "cell_type": "markdown",
      "metadata": {
        "id": "avgwO25enqbg",
        "colab_type": "text"
      },
      "source": [
        "We will try to use a Dropout layer to avoid overfitting on the training set. \n",
        "\n",
        "We also decided to drop the data augmentation, since it made the training very slow and we didn't see a significant improvement."
      ]
    },
    {
      "cell_type": "code",
      "metadata": {
        "id": "neKKxATLfGuJ",
        "colab_type": "code",
        "colab": {
          "base_uri": "https://localhost:8080/",
          "height": 34
        },
        "outputId": "1900b3ea-09cf-450d-d002-7c83a152f7a2"
      },
      "source": [
        "fix_random()\n",
        "patience = 15\n",
        "BATCH_SIZE = 128\n",
        "input_layer = Input(shape=(base_model.output_shape[1], ))\n",
        "x = Dropout(0.5)(input_layer)\n",
        "x = Dense(8, activation='relu')(x)\n",
        "predictions = Dense(1, activation='sigmoid')(x)\n",
        "model = Model(inputs=input_layer, outputs=predictions)\n",
        "model.compile(optimizer='adam', loss='binary_crossentropy', metrics=[\"accuracy\"])\n",
        "\n",
        "h = model.fit(\n",
        "    X_train, y_train,\n",
        "    validation_data = (X_validation, y_validation), \n",
        "    epochs=1000, \n",
        "    callbacks=[EarlyStopping(patience=patience, restore_best_weights=True)],\n",
        "    verbose=0\n",
        ")\n",
        "print(f\"Best epoch: loss: {h.history['loss'][-patience - 1]}, accuracy: {h.history['accuracy'][-patience - 1]}, val_loss: {h.history['val_loss'][-patience - 1]}, val_accuracy: {h.history['val_accuracy'][-patience - 1]}\")"
      ],
      "execution_count": 31,
      "outputs": [
        {
          "output_type": "stream",
          "text": [
            "Best epoch: loss: 0.5484086275100708, accuracy: 0.7247299551963806, val_loss: 0.5345181822776794, val_accuracy: 0.7372685074806213\n"
          ],
          "name": "stdout"
        }
      ]
    },
    {
      "cell_type": "markdown",
      "metadata": {
        "id": "y5c_SHlznKnr",
        "colab_type": "text"
      },
      "source": [
        "We can see an improvement over the original result (74.94% compared to 73.26%).\n",
        "\n",
        "Let's try to fine-tune the model to further improve the results. We will recreate the model with the trained weights, unfreeze the last few layers in the base model, and use a low learning rate to avoid destroying the pretrained model:"
      ]
    },
    {
      "cell_type": "code",
      "metadata": {
        "id": "Nd4hIC6dmWoy",
        "colab_type": "code",
        "colab": {
          "base_uri": "https://localhost:8080/",
          "height": 68
        },
        "outputId": "4564cc6b-8257-4fff-f027-4c0f34964282"
      },
      "source": [
        "K.clear_session()\n",
        "input_layer = Input(shape=(DEFAULT_INPUT_SIZE, DEFAULT_INPUT_SIZE, 3))\n",
        "x = Dense(8, activation='relu')(base_model(input_layer, training=False))\n",
        "predictions = Dense(1, activation='sigmoid')(x)\n",
        "fine_tune_model = Model(inputs=input_layer, outputs=predictions)\n",
        "fine_tune_model.layers[-1].set_weights(model.layers[-1].get_weights())\n",
        "fine_tune_model.layers[-2].set_weights(model.layers[-2].get_weights())\n",
        "for layer in base_model.layers[:-9]:\n",
        "    layer.trainable = False\n",
        "fine_tune_model.compile(optimizer=SGD(learning_rate=0.0001), loss='binary_crossentropy', metrics=[\"accuracy\"])\n",
        "\n",
        "BATCH_SIZE = 128\n",
        "patience = 3\n",
        "train_generator = ImageDataGenerator(\n",
        "    preprocessing_function=tensorflow.keras.applications.densenet.preprocess_input,\n",
        ").flow_from_directory(\n",
        "    directory=\"review_photos_split/train\", \n",
        "    class_mode=\"binary\", \n",
        "    target_size=(DEFAULT_INPUT_SIZE, DEFAULT_INPUT_SIZE), \n",
        "    batch_size=BATCH_SIZE, \n",
        "    seed=42\n",
        ")\n",
        "validation_generator = ImageDataGenerator(preprocessing_function=tensorflow.keras.applications.densenet.preprocess_input).flow_from_directory(\n",
        "    directory=\"review_photos_split/val\", \n",
        "    class_mode=\"binary\", \n",
        "    target_size=(DEFAULT_INPUT_SIZE, DEFAULT_INPUT_SIZE), \n",
        "    batch_size=BATCH_SIZE, \n",
        "    seed=42\n",
        ")\n",
        "h = fine_tune_model.fit(\n",
        "    train_generator,\n",
        "    steps_per_epoch = train_generator.samples // BATCH_SIZE,\n",
        "    validation_data = validation_generator, \n",
        "    validation_steps = validation_generator.samples // BATCH_SIZE,\n",
        "    epochs=1000, \n",
        "    callbacks=[EarlyStopping(patience=patience, restore_best_weights=True)],\n",
        "    verbose=0\n",
        ")\n",
        "print(f\"Best epoch: loss: {h.history['loss'][-patience - 1]}, accuracy: {h.history['accuracy'][-patience - 1]}, val_loss: {h.history['val_loss'][-patience - 1]}, val_accuracy: {h.history['val_accuracy'][-patience - 1]}\")"
      ],
      "execution_count": 32,
      "outputs": [
        {
          "output_type": "stream",
          "text": [
            "Found 5184 images belonging to 2 classes.\n",
            "Found 1728 images belonging to 2 classes.\n",
            "Best epoch: loss: 0.49373120069503784, accuracy: 0.7583984136581421, val_loss: 0.5328277349472046, val_accuracy: 0.7409855723381042\n"
          ],
          "name": "stdout"
        }
      ]
    },
    {
      "cell_type": "markdown",
      "metadata": {
        "id": "ucyOayELU9k4",
        "colab_type": "text"
      },
      "source": [
        "### Support vector machine"
      ]
    },
    {
      "cell_type": "code",
      "metadata": {
        "id": "kCBHfROTU8dY",
        "colab_type": "code",
        "colab": {
          "base_uri": "https://localhost:8080/",
          "height": 34
        },
        "outputId": "9c5f3bdb-6559-48a7-945b-1c292eef5f94"
      },
      "source": [
        "fix_random()\n",
        "svm = SVC()\n",
        "svm.fit(X_train, y_train)\n",
        "y_validation_predicted = svm.predict(X_validation)\n",
        "print(f\"Validation accuracy for SVM over pretrained model is: {np.sum(y_validation_predicted == y_validation) / y_validation.shape[0]}\")"
      ],
      "execution_count": 33,
      "outputs": [
        {
          "output_type": "stream",
          "text": [
            "Validation accuracy for SVM over pretrained model is: 0.7453703703703703\n"
          ],
          "name": "stdout"
        }
      ]
    },
    {
      "cell_type": "markdown",
      "metadata": {
        "id": "gvAdgEQD1M0Z",
        "colab_type": "text"
      },
      "source": [
        "SVM performed better than the neural network on the validation set. Let's see if it has the same accuracy on the test set:"
      ]
    },
    {
      "cell_type": "code",
      "metadata": {
        "id": "-ASXozUgYp1u",
        "colab_type": "code",
        "colab": {
          "base_uri": "https://localhost:8080/",
          "height": 128
        },
        "outputId": "a0423bdc-6d2a-4d43-82f6-7efbb91b6c95"
      },
      "source": [
        "y_test_predicted = svm.predict(X_test)\n",
        "print(f\"Test accuracy for the SVM over pretrained model is: {np.sum(y_test_predicted == y_test) / y_test.shape[0]}\")\n",
        "pd.DataFrame(confusion_matrix(y_test, y_test_predicted), index=['True: 1 star', 'True: 5 stars'], columns=['Predicted: 1 star', 'Predicted: 5 stars'])"
      ],
      "execution_count": 34,
      "outputs": [
        {
          "output_type": "stream",
          "text": [
            "Test accuracy for the SVM over pretrained model is: 0.7806712962962963\n"
          ],
          "name": "stdout"
        },
        {
          "output_type": "execute_result",
          "data": {
            "text/html": [
              "<div>\n",
              "<style scoped>\n",
              "    .dataframe tbody tr th:only-of-type {\n",
              "        vertical-align: middle;\n",
              "    }\n",
              "\n",
              "    .dataframe tbody tr th {\n",
              "        vertical-align: top;\n",
              "    }\n",
              "\n",
              "    .dataframe thead th {\n",
              "        text-align: right;\n",
              "    }\n",
              "</style>\n",
              "<table border=\"1\" class=\"dataframe\">\n",
              "  <thead>\n",
              "    <tr style=\"text-align: right;\">\n",
              "      <th></th>\n",
              "      <th>Predicted: 1 star</th>\n",
              "      <th>Predicted: 5 stars</th>\n",
              "    </tr>\n",
              "  </thead>\n",
              "  <tbody>\n",
              "    <tr>\n",
              "      <th>True: 1 star</th>\n",
              "      <td>655</td>\n",
              "      <td>209</td>\n",
              "    </tr>\n",
              "    <tr>\n",
              "      <th>True: 5 stars</th>\n",
              "      <td>170</td>\n",
              "      <td>694</td>\n",
              "    </tr>\n",
              "  </tbody>\n",
              "</table>\n",
              "</div>"
            ],
            "text/plain": [
              "               Predicted: 1 star  Predicted: 5 stars\n",
              "True: 1 star                 655                 209\n",
              "True: 5 stars                170                 694"
            ]
          },
          "metadata": {
            "tags": []
          },
          "execution_count": 34
        }
      ]
    },
    {
      "cell_type": "markdown",
      "metadata": {
        "id": "Tth6Sy9gsf6j",
        "colab_type": "text"
      },
      "source": [
        "It seems like the test set accuracy is similar to the validation accuracy which probably indicates that the model has generalized pretty well. "
      ]
    },
    {
      "cell_type": "markdown",
      "metadata": {
        "id": "gYRRLyWXAQai",
        "colab_type": "text"
      },
      "source": [
        "### NLP Filtering"
      ]
    },
    {
      "cell_type": "markdown",
      "metadata": {
        "id": "J4ruz0EdAC4a",
        "colab_type": "text"
      },
      "source": [
        "In this section we aim to identify distinct topics discussed in the corpus of pizza review texts. Once topics are identified, reviews that do not contain food-related topics can be filtered out. This has the potential to improve the image classification in the next stage by weeding out irrelevent samples - where reviewers didn't base their scores on the pizza. \n",
        "\n",
        "This will be achieved by building a topic model that categorizes the information present in each review. A topic can be modeled as a set of words that are all related. For instance, we might say that [noise, smell, music, dirt, lighting] reflects the topic of restaurant atmosphere.  \n",
        "\n",
        "The first algorithm we will utilize is latent Dirichlet allocation. The premise of LDA (Biel et al., 2003) is that documents with similar topics use similar words. The algorithm aims to discover groups of words the occur frequently occur together in the same document. A topic is modeled as a probability distribution over words. Moreover, a document can be modeled as a probability distribution over different topics. \n",
        "\n",
        "Thus, the algorithm works as follows:\n",
        "\n",
        "1.   Remove unimportant words and set how many topics to find.\n",
        "2.   Randomly assign each word in each document to a random topic\n",
        "3.   For each document,\n",
        ">a. choose a topic, assuming all others are allocated correctly\n",
        "\n",
        ">>i. calculate the topic distribution within the document:  p(topic | document)\n",
        "\n",
        ">>ii. calculate the word distribution within the topic: p(word | topic)\n",
        "\n",
        ">> iii. multiply i and ii together and assign words to new topics based on the result\n",
        "\n",
        "4. terminate when there are no new assignments\n",
        "\n",
        "The LDA model is finetuned by several parameters:\n",
        "Alpha reflects how many topics are in a given document (higher values lead to more topics per document in the model)\n",
        "Beta reflects how many words are in a given topic (higher values lead to more words per topic in the model). In this implementation, the model is set to learn these values automatically.\n",
        "\n",
        "We compare the pure LDA model with a hybrid version that utilizes sentence embeddings of the review texts crafted by BERT (Devlin et al., 2018). Inspiration for this hybrid model comes from https://blog.insightdatascience.com/contextual-topic-identification-4291d256a032.\n",
        "\n",
        "BERT is a pretrained language model from researchers at Google that utilizes a multiheaded transformer ANN architecture to craft word vectors that learns to capture the meaning of words from the context in which they are found. BERT and its successors have acheived impressive performance on language understatnding tasks like question answering and others. \n",
        "\n",
        "The hybrid model attempted here fuses the topic probability vector from LDA with the review text embedding from BERT to create a hybrid sample. Since the BERT vectors are much larger that the LDA vectors, scaling is performed on the LDA vectors to even out their relative importance. \n",
        "\n",
        "Clustering is then performed to distinguish different topics in the corpus (the default algorithm used here is KMeans). The most frequent words in the cluster become the topic. \n",
        "\n",
        " \n"
      ]
    },
    {
      "cell_type": "markdown",
      "metadata": {
        "id": "7uxtOU-NAdOl",
        "colab_type": "text"
      },
      "source": [
        "Preprocessing is necessary to create a universal vocabulary for the corpus. Each text is first processed at the string level and then at the word level. \n",
        "\n",
        "Examples:\n",
        "1. fix typos and missing spaces\n",
        "2. remove punctuation, capitalization, and numbers\n",
        "3. remove unimportant words (stopwords)\n",
        "4. stem words so that a fair comparison can be made (for example, salted and salty both become salt)\n",
        "\n",
        "For the sake of brevity, the preproccessing functions are contained in a seperate script located at:\n",
        "https://github.com/shaifuss/data_science_seminar/blob/master/preproccessing.py"
      ]
    },
    {
      "cell_type": "markdown",
      "metadata": {
        "id": "K82IjiGhCMo2",
        "colab_type": "text"
      },
      "source": [
        "In an attempt to improve the clustering for the hybrid model, dimensionality reduction is performed. An autoencoder is trained on the LDA+BERT vectors. Once training is complete, the middle hidden layer of length 32 is taken as a representation of the original data. This achieves compression of at least 25x. \n",
        "\n",
        "Clustering is performed on the compressed vectors. After clustering, topics are constructed from the top 5 most frequent words in each cluster.\n",
        "\n",
        "For the hybrid model, BERT outputs sentence-level encodings of length 768 (the first output vector corresponding to the CLS token passed in at the start of each text). An LDA vector contains a probability value in range [0.0, 1.0] for each possible topic. \n",
        "\n"
      ]
    },
    {
      "cell_type": "code",
      "metadata": {
        "id": "oQzgdG14COCl",
        "colab_type": "code",
        "colab": {}
      },
      "source": [
        "import keras\n",
        "from keras.layers import Input, Dense\n",
        "from keras.models import Model\n",
        "from sklearn.model_selection import train_test_split\n",
        "import warnings\n",
        "warnings.filterwarnings('ignore')\n",
        "\n",
        "\n",
        "class Autoencoder:\n",
        "    \"\"\"\n",
        "    Autoencoder for learning latent space representation\n",
        "    architecture simplified for only one hidden layer\n",
        "    \"\"\"\n",
        "\n",
        "    def __init__(self, latent_dim=32, activation='relu', epochs=200, batch_size=128):\n",
        "        self.latent_dim = latent_dim\n",
        "        self.activation = activation\n",
        "        self.epochs = epochs\n",
        "        self.batch_size = batch_size\n",
        "        self.autoencoder = None\n",
        "        self.encoder = None\n",
        "        self.decoder = None\n",
        "        self.his = None\n",
        "\n",
        "    def _compile(self, input_dim):\n",
        "        \"\"\"\n",
        "        compile the computational graph\n",
        "        \"\"\"\n",
        "        input_vec = Input(shape=(input_dim,))\n",
        "        encoded = Dense(self.latent_dim, activation=self.activation)(input_vec)\n",
        "        decoded = Dense(input_dim, activation=self.activation)(encoded)\n",
        "        self.autoencoder = Model(input_vec, decoded)\n",
        "        self.encoder = Model(input_vec, encoded)\n",
        "        encoded_input = Input(shape=(self.latent_dim,))\n",
        "        decoder_layer = self.autoencoder.layers[-1]\n",
        "        self.decoder = Model(encoded_input, self.autoencoder.layers[-1](encoded_input))\n",
        "        self.autoencoder.compile(optimizer='adam', loss=keras.losses.mean_squared_error)\n",
        "\n",
        "    def fit(self, X):\n",
        "        if not self.autoencoder:\n",
        "            self._compile(X.shape[1])\n",
        "        X_train, X_test = train_test_split(X)\n",
        "        self.his = self.autoencoder.fit(X_train, X_train,\n",
        "                                        epochs=200,\n",
        "                                        batch_size=128,\n",
        "                                        shuffle=True,\n",
        "                                        validation_data=(X_test, X_test), verbose=0)"
      ],
      "execution_count": 35,
      "outputs": []
    },
    {
      "cell_type": "code",
      "metadata": {
        "id": "GwBiHU0lC8vs",
        "colab_type": "code",
        "colab": {}
      },
      "source": [
        "from sklearn.feature_extraction.text import TfidfVectorizer\n",
        "from sklearn.cluster import KMeans\n",
        "from gensim import corpora\n",
        "import gensim\n",
        "\n",
        "# define model object\n",
        "class Topic_Model:\n",
        "    def __init__(self, method, k=4):\n",
        "        \"\"\"\n",
        "        :param k: number of topics\n",
        "        :param method: method chosen for the topic model\n",
        "        \"\"\"\n",
        "        if method not in {'LDA', 'BERT', 'LDA_BERT'}:\n",
        "            raise Exception('Invalid method!')\n",
        "        self.k = k\n",
        "        self.dictionary = None\n",
        "        self.corpus = None\n",
        "        self.cluster_model = None\n",
        "        self.ldamodel = None\n",
        "        self.vec = {}\n",
        "        self.gamma = 250  # parameter for reletive importance of lda\n",
        "        self.method = method\n",
        "        self.AE = None\n",
        "        self.id = method + '_' + str(round(time.time(),0))\n",
        "\n",
        "    def vectorize(self, sentences, token_lists, method=None):\n",
        "        \"\"\"\n",
        "        Get vector representations from selected methods\n",
        "        \"\"\"\n",
        "        # Default method\n",
        "        if method is None:\n",
        "            method = self.method\n",
        "\n",
        "        # turn tokenized documents into a id <-> term dictionary\n",
        "        self.dictionary = corpora.Dictionary(token_lists)\n",
        "        # convert tokenized documents into a document-term matrix\n",
        "        self.corpus = [self.dictionary.doc2bow(text) for text in token_lists]\n",
        "\n",
        "        if method == 'LDA':\n",
        "            print('Getting vector representations for LDA ...')\n",
        "            if not self.ldamodel:\n",
        "                self.ldamodel = gensim.models.ldamodel.LdaModel(self.corpus, num_topics=self.k, id2word=self.dictionary,\n",
        "                                                                passes=20, alpha='auto', )\n",
        "\n",
        "            def get_vec_lda(model, corpus, k):\n",
        "                \"\"\"\n",
        "                Get the LDA vector representation (probabilistic topic assignments for all documents)\n",
        "                :return: vec_lda with dimension: (n_doc * n_topic)\n",
        "                \"\"\"\n",
        "                n_doc = len(corpus)\n",
        "                vec_lda = np.zeros((n_doc, k))\n",
        "                for i in range(n_doc):\n",
        "                    # get the distribution for the i-th document in corpus\n",
        "                    for topic, prob in model.get_document_topics(corpus[i]):\n",
        "                        vec_lda[i, topic] = prob\n",
        "\n",
        "                return vec_lda\n",
        "\n",
        "            vec = get_vec_lda(self.ldamodel, self.corpus, self.k)\n",
        "            return vec\n",
        "\n",
        "        elif method == 'BERT':\n",
        "\n",
        "            print('Getting vector representations for BERT ...')\n",
        "            from sentence_transformers import SentenceTransformer\n",
        "            model = SentenceTransformer('bert-base-nli-max-tokens')\n",
        "            vec = np.array(model.encode(sentences, show_progress_bar=True))\n",
        "            return vec\n",
        "\n",
        "        #         elif method == 'LDA_BERT':\n",
        "        else: \n",
        "            vec_lda = self.vectorize(sentences, token_lists, method='LDA')\n",
        "            vec_bert = self.vectorize(sentences, token_lists, method='BERT')\n",
        "            vec_ldabert = np.c_[vec_lda * self.gamma, vec_bert]\n",
        "            self.vec['LDA_BERT_FULL'] = vec_ldabert\n",
        "            if not self.AE:\n",
        "                self.AE = Autoencoder()\n",
        "                print('Fitting Autoencoder ...')\n",
        "                self.AE.fit(vec_ldabert)\n",
        "            vec = self.AE.encoder.predict(vec_ldabert)\n",
        "            return vec\n",
        "\n",
        "    def fit(self, sentences, token_lists, method=None, m_clustering=None):\n",
        "        \"\"\"\n",
        "        Fit the topic model for selected method given the preprocessed data\n",
        "        :docs: list of documents, each doc is preprocessed as tokens\n",
        "        :return:\n",
        "        \"\"\"\n",
        "        # Default method\n",
        "        if method is None:\n",
        "            method = self.method\n",
        "        # Default clustering method\n",
        "        if m_clustering is None:\n",
        "            m_clustering = KMeans\n",
        "\n",
        "        # turn tokenized documents into a id <-> term dictionary\n",
        "        if not self.dictionary:\n",
        "            self.dictionary = corpora.Dictionary(token_lists)\n",
        "            # convert tokenized documents into a document-term matrix\n",
        "            self.corpus = [self.dictionary.doc2bow(text) for text in token_lists]\n",
        "\n",
        "        ####################################################\n",
        "        #### Getting ldamodel or vector representations ####\n",
        "        ####################################################\n",
        "\n",
        "        if method == 'LDA':\n",
        "            if not self.ldamodel:\n",
        "                print('Fitting LDA ...')\n",
        "                self.ldamodel = gensim.models.ldamodel.LdaModel(self.corpus, num_topics=self.k, id2word=self.dictionary\n",
        "                                                                , alpha='auto', eta='auto', minimum_probability=0.3)\n",
        "        else:\n",
        "            print('Clustering embeddings ...')\n",
        "            self.cluster_model = m_clustering(self.k)\n",
        "            self.vec[method] = self.vectorize(sentences, token_lists, method)\n",
        "            self.cluster_model.fit(self.vec[method])\n",
        "\n",
        "    def predict(self, sentences, token_lists, out_of_sample=None):\n",
        "        \"\"\"\n",
        "        Predict topics for new_documents\n",
        "        \"\"\"\n",
        "        # Default as False\n",
        "        out_of_sample = out_of_sample is not None\n",
        "\n",
        "        print(\"Predicting...\")\n",
        "        if out_of_sample:\n",
        "            corpus = [self.dictionary.doc2bow(text) for text in token_lists]\n",
        "            if self.method != 'LDA':\n",
        "                vec = self.vectorize(sentences, token_lists)\n",
        "                print(vec)\n",
        "        else:\n",
        "            corpus = self.corpus\n",
        "            vec = self.vec.get(self.method, None)\n",
        "\n",
        "        if self.method == \"LDA\":   # take the most prevalent topic\n",
        "            #lbs = np.array(list(map(lambda x: sorted(self.ldamodel.get_document_topics(x),\n",
        "                                                     #key=lambda x: x[1], reverse=True)[0][0], corpus)))\n",
        "            lbs = []\n",
        "            for text in corpus:\n",
        "              lbs.append(self.ldamodel.get_document_topics(text))\n",
        "        else:\n",
        "            lbs = self.cluster_model.predict(vec)\n",
        "        return lbs\n",
        "    def persist(self, workdir):\n",
        "      with open(os.path.join(workdir, \"test_\" + self.id), 'wb') as f:\n",
        "        pickle.dump(self, f, pickle.HIGHEST_PROTOCOL)"
      ],
      "execution_count": 36,
      "outputs": []
    },
    {
      "cell_type": "markdown",
      "metadata": {
        "id": "bjdLrj_5DGvw",
        "colab_type": "text"
      },
      "source": [
        "Coherence is used for topic model evaluation (Roder et al., 2015). As topic models produced algorithmically are sometimes not easily interpreted by humans, it is necessary to have a way to objectively measure how well the words in a topic go together. \n",
        "\n",
        "Very generally, coherence can be evaluated for a topic by first computing a Cartesian product on itself to construct pairs (excluding twin pairs). The co-occurence of each pair is checked in an external reference - a very large corpus of texts said to represent common language usage. The higher the co-occurence scores, the higher the topic coherence."
      ]
    },
    {
      "cell_type": "markdown",
      "metadata": {
        "id": "gDekpuykvS47",
        "colab_type": "text"
      },
      "source": [
        "We hypothesize that the following four topics are relevant to pizza reviews.\n",
        "\n",
        "1. Food\n",
        "2. Service\n",
        "3. Atmosphere\n",
        "4. Value\n",
        "\n",
        "Adding +/- 1, we train models with 3, 4, and 5 topics for each method. \n"
      ]
    },
    {
      "cell_type": "code",
      "metadata": {
        "id": "AY2urPDtaoRu",
        "colab_type": "code",
        "colab": {}
      },
      "source": [
        "def train(method, ntopic, sentences, token_lists, idx_in):\n",
        "  \n",
        "  print(\"Starting training...\")\n",
        "  start = time.time()\n",
        "  tm = Topic_Model(method, k = ntopic)\n",
        "  tm.fit(sentences, token_lists)\n",
        "  end = time.time()\n",
        "  print(\"Training on {} reviews took {} minutes\".format(len(sentences), str((end - start)/60)))\n",
        "  \n",
        "  return tm\n"
      ],
      "execution_count": 37,
      "outputs": []
    },
    {
      "cell_type": "code",
      "metadata": {
        "id": "caQQy8uEoa3y",
        "colab_type": "code",
        "colab": {
          "base_uri": "https://localhost:8080/",
          "height": 1000,
          "referenced_widgets": [
            "437b02fead7b4ae4b23833eaa343c7c6",
            "454551092b2c481184d66997e8a43a04",
            "483b89ebcde249e78c1ba84bd14c48e9",
            "a30ff6ff1df94377ab12ede7304f2e10",
            "3b1a195454d54c958a67f0e79e13e925",
            "752e57df47ef4fb7a55b418e538d28f5",
            "850286721ec949afabe830d64cd04b71",
            "f177ebf774764e71bae9fa7c996d3256",
            "b91677361976492b83c56af8a89b04af",
            "6af4297cc1e347e0bb0441857be0fc03",
            "aa03c499e2e7461186b1796f18ebdcbb",
            "e54b6004fe1341e78b9fe88d057106e0",
            "0e5ce8c311064adb82ac9f301127f296",
            "c64e6f06e6114cee80f98d77db3e1de1",
            "85d8c8e5fe254dee8a3fd62455ea46aa",
            "3e83703f318842ec86d93a1ec3f0dd23",
            "6089f6965e8d46b79a22a7aefa3f8fa8",
            "43a6f743be2644bfb75c6151a196d28f",
            "30efa3e5d0dd4204a2a6344963ae2ce0",
            "9f3ecfe9ca09466f9e8c597126fbb2ac",
            "950f6906f0684468ab8c51cdd0c63124",
            "065d992c354640f29e47538036bd72b8",
            "85ba7682450b4040b1c43888c0e53a74",
            "507e55a12a8e42c480bcd1be311a5fcd"
          ]
        },
        "outputId": "37f71b83-9f1b-4118-e472-f93200cc8619"
      },
      "source": [
        "import preprocessing\n",
        "import postprocess\n",
        "\n",
        "pic_path = 'review_photos'\n",
        "pix_review_ids = [f for f in os.listdir(pic_path) if os.path.isdir(os.path.join(pic_path, f))]\n",
        "\n",
        "text_df = pd.DataFrame.from_records(pizza_reviews)\n",
        "\n",
        "pic_review_df = text_df[text_df['review_id'].isin(pix_review_ids)]\n",
        "pic_review_df = pic_review_df.reset_index(drop=True)\n",
        "pic_review_df = pic_review_df.fillna('')\n",
        "reviews = pic_review_df.text\n",
        "\n",
        "sentences, token_lists, idx_in = preprocessing.preprocess(reviews, len(reviews) + 1)\n",
        "\n",
        "model_dict = dict()\n",
        "for method in [\"LDA\", \"LDA_BERT\"]:\n",
        "  for num_topics in range(3, 6):\n",
        "    tm = train(method, num_topics, sentences, token_lists, idx_in)\n",
        "    model_dict[method + \"_\" + str(num_topics)] = dict()\n",
        "    model_dict[method + \"_\" + str(num_topics)][\"model\"] = tm\n",
        "    model_dict[method + \"_\" + str(num_topics)][\"coherence\"] = postprocess.get_coherence(tm, token_lists, 'c_v')\n",
        "    model_dict[method + \"_\" + str(num_topics)][\"silhouette\"] = postprocess.get_silhouette(tm)\n",
        "    if method == \"LDA\":\n",
        "      model_dict[method + \"_\" + str(num_topics)][\"topics\"] = postprocess.get_topic_words_lda(tm)\n",
        "    else:\n",
        "      model_dict[method + \"_\" + str(num_topics)][\"topics\"] = postprocess.get_topic_words_hybrid(token_lists, tm.cluster_model.labels_, k=None)\n",
        "      postprocess.visualize(tm)\n",
        "\n"
      ],
      "execution_count": 38,
      "outputs": [
        {
          "output_type": "stream",
          "text": [
            "[nltk_data] Downloading package stopwords to /root/nltk_data...\n",
            "[nltk_data]   Package stopwords is already up-to-date!\n",
            "[nltk_data] Downloading package averaged_perceptron_tagger to\n",
            "[nltk_data]     /root/nltk_data...\n",
            "[nltk_data]   Package averaged_perceptron_tagger is already up-to-\n",
            "[nltk_data]       date!\n",
            "[nltk_data] Downloading package punkt to /root/nltk_data...\n",
            "[nltk_data]   Package punkt is already up-to-date!\n",
            "Stage 1: Preprocess raw review texts\n",
            "Preprocessing 10305 reviews took 137.4144615292549 minutes\n",
            "Starting training...\n",
            "Fitting LDA ...\n",
            "Training on 10304 reviews took 0.11782392660776773 minutes\n",
            "[['pizza', 'place', 'crust', 'sauc', 'time'], ['pizza', 'order', 'time', 'place', 'servic'], ['food', 'pizza', 'place', 'servic', 'time']]\n",
            "Starting training...\n",
            "Fitting LDA ...\n",
            "Training on 10304 reviews took 0.11124993165334066 minutes\n",
            "[['food', 'place', 'pizza', 'servic', 'time'], ['pizza', 'sauc', 'place', 'crust', 'food'], ['pizza', 'order', 'time', 'manag', 'minut'], ['pizza', 'place', 'time', 'food', 'crust']]\n",
            "Starting training...\n",
            "Fitting LDA ...\n",
            "Training on 10304 reviews took 0.10555744568506877 minutes\n",
            "[['pizza', 'order', 'place', 'time', 'food'], ['pizza', 'place', 'food', 'servic', 'time'], ['pizza', 'sauc', 'time', 'restaur', 'crust'], ['food', 'pizza', 'servic', 'chicken', 'restaur'], ['pizza', 'order', 'manag', 'sauc', 'crust']]\n",
            "Starting training...\n",
            "Clustering embeddings ...\n",
            "Getting vector representations for LDA ...\n",
            "Getting vector representations for BERT ...\n"
          ],
          "name": "stdout"
        },
        {
          "output_type": "display_data",
          "data": {
            "application/vnd.jupyter.widget-view+json": {
              "model_id": "437b02fead7b4ae4b23833eaa343c7c6",
              "version_minor": 0,
              "version_major": 2
            },
            "text/plain": [
              "HBox(children=(FloatProgress(value=0.0, description='Batches', max=1288.0, style=ProgressStyle(description_wid…"
            ]
          },
          "metadata": {
            "tags": []
          }
        },
        {
          "output_type": "stream",
          "text": [
            "\n",
            "Fitting Autoencoder ...\n",
            "Training on 10304 reviews took 5.056576148668925 minutes\n",
            "Topics are:\n",
            "[['food', 'pizza', 'place', 'servic', 'time'], ['pizza', 'place', 'crust', 'time', 'food'], ['pizza', 'order', 'time', 'place', 'food']]\n",
            "Calculating UMAP projection ...\n",
            "Starting training...\n",
            "Clustering embeddings ...\n",
            "Getting vector representations for LDA ...\n",
            "Getting vector representations for BERT ...\n"
          ],
          "name": "stdout"
        },
        {
          "output_type": "display_data",
          "data": {
            "application/vnd.jupyter.widget-view+json": {
              "model_id": "b91677361976492b83c56af8a89b04af",
              "version_minor": 0,
              "version_major": 2
            },
            "text/plain": [
              "HBox(children=(FloatProgress(value=0.0, description='Batches', max=1288.0, style=ProgressStyle(description_wid…"
            ]
          },
          "metadata": {
            "tags": []
          }
        },
        {
          "output_type": "stream",
          "text": [
            "\n",
            "Fitting Autoencoder ...\n",
            "Training on 10304 reviews took 4.877256309986114 minutes\n",
            "Topics are:\n",
            "[['food', 'pizza', 'servic', 'place', 'time'], ['pizza', 'place', 'crust', 'sauc', 'time'], ['pizza', 'order', 'time', 'food', 'place'], ['pizza', 'place', 'time', 'food', 'order']]\n",
            "Calculating UMAP projection ...\n",
            "Starting training...\n",
            "Clustering embeddings ...\n",
            "Getting vector representations for LDA ...\n",
            "Getting vector representations for BERT ...\n"
          ],
          "name": "stdout"
        },
        {
          "output_type": "display_data",
          "data": {
            "application/vnd.jupyter.widget-view+json": {
              "model_id": "6089f6965e8d46b79a22a7aefa3f8fa8",
              "version_minor": 0,
              "version_major": 2
            },
            "text/plain": [
              "HBox(children=(FloatProgress(value=0.0, description='Batches', max=1288.0, style=ProgressStyle(description_wid…"
            ]
          },
          "metadata": {
            "tags": []
          }
        },
        {
          "output_type": "stream",
          "text": [
            "\n",
            "Fitting Autoencoder ...\n",
            "Training on 10304 reviews took 4.778389938672384 minutes\n",
            "Topics are:\n",
            "[['food', 'pizza', 'place', 'servic', 'time'], ['pizza', 'time', 'order', 'place', 'food'], ['pizza', 'place', 'crust', 'time', 'top'], ['pizza', 'place', 'food', 'time', 'servic'], ['pizza', 'order', 'time', 'food', 'manag']]\n",
            "Calculating UMAP projection ...\n"
          ],
          "name": "stdout"
        },
        {
          "output_type": "display_data",
          "data": {
            "image/png": "[encoded data removed]",
            "text/plain": [
              "<Figure size 432x288 with 1 Axes>"
            ]
          },
          "metadata": {
            "tags": [],
            "needs_background": "light"
          }
        }
      ]
    },
    {
      "cell_type": "markdown",
      "metadata": {
        "id": "ph1S4BbBbGEJ",
        "colab_type": "text"
      },
      "source": [
        "Evaluation\n",
        "\n",
        "1. Coherence was consistently an order of magnitude higher for the pure LDA model. \n",
        "2. Silhoutte scores improved as the LDA vectors were weighted more heavily in the hybrid model\n",
        "3. The pure LDA model produced higher quality topics as judged by two human evaluators (us). \n",
        "\n"
      ]
    },
    {
      "cell_type": "code",
      "metadata": {
        "id": "JR5CIIYosI7m",
        "colab_type": "code",
        "colab": {
          "base_uri": "https://localhost:8080/",
          "height": 306
        },
        "outputId": "adfa5d32-1239-4168-8c56-ba7a4fc44c88"
      },
      "source": [
        "stemmed_pizza_vocab = preprocessing.stem_words([\"crust\", \"slice\", \"sauce\", \"topping\", \"cheese\", \"tomato\", \"food\", \"pie\"])\n",
        "model_dict = postprocess.get_scores(model_dict, stemmed_pizza_vocab)\n",
        "best_method = max(model_dict, key=lambda v: model_dict[v]['coherence'])\n",
        "best_topic = max(range(len(model_dict[best_method][\"scores\"])), key=model_dict[best_method][\"scores\"].__getitem__)\n",
        "print(\"best method is {}\".format(best_method))\n",
        "print(\"best_topic is at index {}\".format(best_topic))"
      ],
      "execution_count": 39,
      "outputs": [
        {
          "output_type": "stream",
          "text": [
            "method: LDA_3, topic scores: [15, 10, 13]\n",
            "method: LDA_3, coherence: 0.5062908654328051\n",
            "method: LDA_4, topic scores: [11, 17, 10, 13]\n",
            "method: LDA_4, coherence: 0.5111806473205667\n",
            "method: LDA_5, topic scores: [11, 13, 15, 13, 13]\n",
            "method: LDA_5, coherence: 0.4989099622875021\n",
            "method: LDA_BERT_3, topic scores: [13, 14, 11]\n",
            "method: LDA_BERT_3, coherence: 0.4693933743373133\n",
            "method: LDA_BERT_3, silhouette: 0.6129589080810547\n",
            "method: LDA_BERT_4, topic scores: [13, 15, 12, 12]\n",
            "method: LDA_BERT_4, coherence: 0.49552298313567406\n",
            "method: LDA_BERT_4, silhouette: 0.44394344091415405\n",
            "method: LDA_BERT_5, topic scores: [13, 11, 14, 13, 12]\n",
            "method: LDA_BERT_5, coherence: 0.49997930644259403\n",
            "method: LDA_BERT_5, silhouette: 0.37909355759620667\n",
            "best method is LDA_4\n",
            "best_topic is at index 1\n"
          ],
          "name": "stdout"
        }
      ]
    },
    {
      "cell_type": "markdown",
      "metadata": {
        "id": "P02iiJwSQWYI",
        "colab_type": "text"
      },
      "source": [
        "For prediction with the pure LDA model, the topics are retrieved for a given review. If the best pizza topic is not the most prominent topic in that review, our hypothesis is that discarding it will lead to improved performance for the image classifier.\n",
        "\n",
        "For prediction with the LDA+BERT version, a review is place into a cluster with the pretrained model. Similar to the pure model, we should keep the reviews that fall into the best pizza topic cluster."
      ]
    },
    {
      "cell_type": "code",
      "metadata": {
        "id": "J4ZNfuv3QVgU",
        "colab_type": "code",
        "colab": {
          "base_uri": "https://localhost:8080/",
          "height": 241
        },
        "outputId": "2eb7ea6f-c8b0-48c6-cca8-d39981e85772"
      },
      "source": [
        "import random\n",
        "\n",
        "print(\"There are {} reviews before filtering\".format(len(sentences)))\n",
        "topic_lists = model_dict[best_method][\"model\"].predict(sentences, token_lists, True)\n",
        "indicies = []\n",
        "for i, topic_list in enumerate(topic_lists):\n",
        "  topics = [x[0] for x in topic_list]\n",
        "  if best_topic in topics:\n",
        "    indicies.append(i)\n",
        "print(\"There are {} reviews afer filtering\".format(len(indicies)))\n",
        "\n",
        "food_based_reviews = pic_review_df[pic_review_df.index.isin(indicies)]\n",
        "print(\"Example reviews that passed the filter:\\n\")\n",
        "print(food_based_reviews.loc[random.choice(indicies), \"text\"])\n",
        "print(\"---------------------------------------------------------------\")\n",
        "print(food_based_reviews.loc[random.choice(indicies), \"text\"])"
      ],
      "execution_count": 40,
      "outputs": [
        {
          "output_type": "stream",
          "text": [
            "There are 10304 reviews before filtering\n",
            "Predicting...\n",
            "Out of sample is ()\n",
            "[[(3, 0.7774984)], [(3, 0.9406086)], [(0, 0.45151785), (2, 0.34508932)], [(0, 0.8418997)], [(2, 0.94761926)], [(1, 0.80300677)], [(3, 0.78160214)], [(3, 0.97994965)], [(0, 0.65036523), (1, 0.32970342)], [(3, 0.7002299)], [(2, 0.97043383)], [(0, 0.96898526)], [(0, 0.9137725)], [(1, 0.3448042), (2, 0.6090397)], [(3, 0.8387943)], [(1, 0.98960143)], [(0, 0.95418006)], [(0, 0.35157773), (1, 0.6337934)], [(2, 0.73353666)], [(0, 0.9802465)], [(3, 0.9317)], [(3, 0.94074696)], [(0, 0.86619955)], [(1, 0.79300123)], [(0, 0.48566797), (2, 0.43465093)], [(1, 0.3924385), (3, 0.3821988)], [(3, 0.65849835)], [(3, 0.9756923)], [(1, 0.6970913)], [(1, 0.31477344), (2, 0.60602975)], [(0, 0.45207065), (3, 0.38234118)], [(3, 0.90271854)], [(1, 0.7993554)], [(1, 0.6952731)], [(3, 0.90585536)], [(3, 0.919419)], [(0, 0.6098506), (3, 0.3831506)], [(1, 0.8691511)], [(2, 0.7837434)], [(0, 0.7576009)], [(1, 0.9401625)], [(2, 0.9556574)], [(2, 0.55917823)], [(2, 0.927657)], [(3, 0.96094835)], [(3, 0.9197796)], [(0, 0.34340996), (3, 0.64038146)], [(3, 0.7487819)], [(2, 0.36115327), (3, 0.4298971)], [(3, 0.97104174)], [(3, 0.9904501)], [(2, 0.9159562)], [(0, 0.60735667), (1, 0.3813576)], [(3, 0.99224645)], [(3, 0.97989184)], [(3, 0.91473716)], [(3, 0.9441788)], [(3, 0.9807435)], [(2, 0.97011906)], [(0, 0.5133888), (2, 0.44361028)], [(1, 0.45355663), (3, 0.49302244)], [(3, 0.97556067)], [(3, 0.9815498)], [(2, 0.92786425)], [(3, 0.97087544)], [(2, 0.33501768), (3, 0.64336145)], [(2, 0.9643231)], [(0, 0.32789308), (1, 0.65741074)], [(0, 0.68977934)], [(1, 0.8008412)], [(3, 0.9405402)], [(2, 0.97652787)], [(0, 0.9120522)], [(1, 0.7532626)], [(0, 0.40468267), (2, 0.32665205)], [(2, 0.8800447)], [(1, 0.5696956), (2, 0.38365325)], [(0, 0.8682693)], [(2, 0.6669105)], [(0, 0.92664224)], [(2, 0.74457467)], [(2, 0.9719028)], [(0, 0.3303842), (1, 0.6550043)], [(1, 0.97974426)], [(2, 0.9357414)], [(0, 0.9544989)], [(2, 0.50292414), (3, 0.4373555)], [(0, 0.97957426)], [(0, 0.5519413), (1, 0.43449676)], [(1, 0.7374892)], [(3, 0.96106666)], [(0, 0.596471)], [(0, 0.76280046)], [(3, 0.9525433)], [(3, 0.8243462)], [(2, 0.9870278)], [(0, 0.5858919), (2, 0.39843363)], [(1, 0.9869753)], [(3, 0.8958003)], [(0, 0.4493501), (3, 0.5418297)], [(0, 0.9581657)], [(1, 0.90817326)], [(3, 0.9610553)], [(0, 0.9262917)], [(2, 0.9180252)], [(3, 0.96665436)], [(0, 0.8982341)], [(0, 0.41710234), (1, 0.57413745)], [(3, 0.99045765)], [(0, 0.44278654), (3, 0.36954397)], [(0, 0.9151301)], [(0, 0.4474596), (1, 0.53849953)], [(1, 0.95143914)], [(3, 0.93196386)], [(0, 0.47957578), (3, 0.4923717)], [(1, 0.88333726)], [(0, 0.70120436)], [(3, 0.97686666)], [(2, 0.98361593)], [(3, 0.9884994)], [(0, 0.64652985), (2, 0.30047113)], [(0, 0.9902139)], [(0, 0.3622151), (3, 0.6097575)], [(0, 0.9491775)], [(0, 0.4476955), (1, 0.5420618)], [(2, 0.7548088)], [(3, 0.70221317)], [(2, 0.6533676)], [(1, 0.36458874), (2, 0.6177027)], [(2, 0.56437457), (3, 0.39668837)], [(0, 0.48029414), (1, 0.5037291)], [(1, 0.6627106)], [(3, 0.76944196)], [(2, 0.959153)], [(3, 0.89088476)], [(3, 0.96678466)], [(0, 0.9441384)], [(1, 0.9846329)], [(1, 0.94028103)], [(3, 0.5091151)], [(3, 0.70938534)], [(1, 0.9467308)], [(3, 0.7297223)], [(2, 0.6660833), (3, 0.30721968)], [(0, 0.43550405), (1, 0.53824085)], [(1, 0.7747148)], [(3, 0.96098024)], [(0, 0.81261945)], [(1, 0.33984923), (2, 0.38563842)], [(0, 0.3775266), (1, 0.4689704)], [(0, 0.56378055), (1, 0.4136326)], [(3, 0.7468111)], [(0, 0.68969065)], [(3, 0.9574181)], [(0, 0.6279262), (3, 0.32427466)], [(2, 0.9840805)], [(2, 0.776692)], [(0, 0.44921818), (1, 0.54398227)], [(1, 0.31471702), (2, 0.5746367)], [(0, 0.71418035)], [(3, 0.9640016)], [(1, 0.96748465)], [(0, 0.68467575), (3, 0.3028327)], [(1, 0.767931)], [(1, 0.3475055), (2, 0.59280956)], [(0, 0.9870352)], [(1, 0.7132513)], [(3, 0.75806093)], [(2, 0.9220168)], [(1, 0.58899456), (2, 0.3648452)], [(0, 0.6254013), (1, 0.32489842)], [(0, 0.6036528), (1, 0.39292818)], [(3, 0.62096006)], [(1, 0.4056399)], [(0, 0.9613846)], [(3, 0.98078704)], [(0, 0.9438625)], [(1, 0.9018779)], [(2, 0.7896214)], [(1, 0.9555173)], [(1, 0.52118087), (2, 0.46651992)], [(2, 0.959311)], [(1, 0.9402415)], [(1, 0.990252)], [(1, 0.9671384)], [(0, 0.42104393), (3, 0.57066995)], [(2, 0.5791392)], [(0, 0.9764325)], [(1, 0.63523614), (2, 0.3373662)], [(1, 0.3147235), (2, 0.57464135)], [(1, 0.97819823)], [(0, 0.9544351)], [(0, 0.42976868), (1, 0.54765594)], [(0, 0.9143694)], [(1, 0.9355227)], [(2, 0.95951)], [(0, 0.5720678), (3, 0.42393324)], [(1, 0.39891696), (3, 0.5951598)], [(0, 0.7045345)], [(1, 0.9516093)], [(0, 0.38061228), (3, 0.6049073)], [(2, 0.9884371)], [(1, 0.63419014), (3, 0.35907376)], [(3, 0.6174946)], [(0, 0.9582904)], [(1, 0.74942595)], [(0, 0.91358423)], [(3, 0.5471738)], [(1, 0.976102)], [(1, 0.9645393)], [(3, 0.94047415)], [(0, 0.9495337)], [(2, 0.98922026)], [(3, 0.9405621)], [(0, 0.5924525), (1, 0.40345678)], [(2, 0.49262893), (3, 0.48821053)], [(2, 0.742255)], [(0, 0.7244115)], [(1, 0.49986246), (2, 0.4759794)], [(2, 0.65365845), (3, 0.3194881)], [(2, 0.67752564)], [(0, 0.98701686)], [(0, 0.9272387)], [(1, 0.73549587)], [(2, 0.71624726)], [(1, 0.33223674), (3, 0.6560292)], [(2, 0.8797141)], [(2, 0.98574543)], [(0, 0.43556228), (3, 0.5490984)], [(0, 0.79238003)], [(1, 0.5639492), (3, 0.41902694)], [(0, 0.9077471)], [(3, 0.97993296)], [(0, 0.44221315), (2, 0.3949682)], [(0, 0.98561233)], [(1, 0.9095415)], [(0, 0.9364213)], [(2, 0.8814775)], [(1, 0.8006018)], [(3, 0.98410577)], [(3, 0.9404918)], [(3, 0.7890931)], [(1, 0.7374226)], [(2, 0.31469625), (3, 0.6461514)], [(2, 0.82044566)], [(0, 0.97407734)], [(3, 0.7199585)], [(2, 0.35420853), (3, 0.6140211)], [(1, 0.9326676)], [(0, 0.43085286), (3, 0.5586109)], [(0, 0.75605446)], [(3, 0.98411167)], [(0, 0.9500793)], [(1, 0.8038314)], [(0, 0.377042), (2, 0.38201314)], [(3, 0.9024815)], [(0, 0.97047114)], [(2, 0.98523194)], [(3, 0.83374923)], [(2, 0.94768417)], [(3, 0.93262327)], [(1, 0.6574681), (3, 0.33456093)], [(1, 0.9783213)], [(1, 0.65858173)], [(0, 0.44949323), (1, 0.54370725)], [(0, 0.9138042)], [(3, 0.91679853)], [(3, 0.74935484)], [(3, 0.92367136)], [(1, 0.9760813)], [(2, 0.52617675), (3, 0.44695804)], [(0, 0.7016927)], [(0, 0.91638887)], [(3, 0.9755967)], [(0, 0.7253642)], [(0, 0.55854136), (2, 0.41310835)], [(2, 0.5287605), (3, 0.4362753)], [(3, 0.72316617)], [(0, 0.9427765)], [(1, 0.42055702), (3, 0.5536931)], [(0, 0.7770974)], [(1, 0.5027319), (3, 0.48947942)], [(0, 0.38438663), (1, 0.5944615)], [(1, 0.97612613)], [(0, 0.35141703), (1, 0.6339474)], [(1, 0.85725015)], [(0, 0.5006327), (3, 0.4953062)], [(0, 0.9871071)], [(1, 0.813714)], [(3, 0.94070244)], [(3, 0.902567)], [(3, 0.6105377)], [(0, 0.79317933)], [(3, 0.90289253)], [(0, 0.96159357)], [(3, 0.9315711)], [(0, 0.98683995)], [(1, 0.9879029)], [(0, 0.6720843), (2, 0.32321736)], [(1, 0.6876314)], [(0, 0.97768545)], [(2, 0.6606043), (3, 0.33317763)], [(2, 0.94279176)], [(3, 0.95469606)], [(0, 0.7148091)], [(3, 0.9780155)], [(1, 0.9464365)], [(3, 0.85895914)], [(0, 0.9264963)], [(0, 0.93664175)], [(1, 0.9646841)], [(1, 0.83055544)], [(3, 0.6173688)], [(2, 0.68452793), (3, 0.30171108)], [(0, 0.7477577)], [(2, 0.81113315)], [(0, 0.7581847)], [(2, 0.34502152), (3, 0.6412671)], [(1, 0.7620156)], [(2, 0.94259876)], [(0, 0.8677233)], [(0, 0.9612794)], [(0, 0.36714602), (3, 0.39887753)], [(3, 0.9474594)], [(0, 0.95419115)], [(0, 0.60586226), (3, 0.3831722)], [(1, 0.53876215), (3, 0.42198336)], [(1, 0.9826122)], [(1, 0.988164)], [(1, 0.715603)], [(3, 0.70452213)], [(3, 0.96409875)], [(3, 0.9028059)], [(1, 0.771488)], [(1, 0.8484686)], [(0, 0.62804157), (2, 0.3450104)], [(3, 0.99345845)], [(3, 0.77534425)], [(3, 0.74521315)], [(1, 0.98052764)], [(0, 0.6666589), (3, 0.32236353)], [(3, 0.96876186)], [(1, 0.97989696)], [(0, 0.9763154)], [(0, 0.48835945), (2, 0.43830976)], [(0, 0.35658506), (3, 0.62614876)], [(0, 0.9668531)], [(1, 0.3850125), (3, 0.60408425)], [(2, 0.7980859)], [(2, 0.9360834)], [(3, 0.96670294)], [(2, 0.9927831)], [(2, 0.6270383), (3, 0.3579994)], [(1, 0.95577735)], [(1, 0.96187603)], [(3, 0.96098465)], [(0, 0.91428685)], [(2, 0.6421375), (3, 0.34292316)], [(3, 0.80241334)], [(0, 0.9087291)], [(3, 0.95033354)], [(2, 0.7199044)], [(3, 0.9689395)], [(1, 0.9813212)], [(0, 0.9907495)], [(2, 0.8105588)], [(0, 0.50869817), (3, 0.46811408)], [(1, 0.68384576)], [(3, 0.970936)], [(2, 0.96999854)], [(2, 0.97461146)], [(2, 0.912612)], [(1, 0.75195146)], [(2, 0.9884421)], [(2, 0.5513937), (3, 0.39780027)], [(0, 0.980879)], [(3, 0.7197357)], [(1, 0.817628)], [(1, 0.3658281), (2, 0.54596734)], [(0, 0.46616894), (1, 0.490886)], [(0, 0.94387776)], [(0, 0.93661135)], [(1, 0.97057235)], [(0, 0.37454277), (2, 0.5961852)], [(0, 0.818015)], [(1, 0.60115844), (3, 0.35962468)], [(3, 0.78150666)], [(0, 0.40194687), (3, 0.45365274)], [(2, 0.5936446), (3, 0.38296214)], [(0, 0.4455649)], [(3, 0.76445615)], [(2, 0.62485844)], [(3, 0.98463476)], [(1, 0.44875398)], [(3, 0.9726205)], [(3, 0.77969)], [(0, 0.9500081)], [(2, 0.5973864)], [(3, 0.9755869)], [(2, 0.7246335)], [(3, 0.9025655)], [(3, 0.9841113)], [(1, 0.9772971)], [(0, 0.64566493), (2, 0.32508585)], [(0, 0.86728096)], [(0, 0.86829746)], [(2, 0.67752653)], [(2, 0.40229625), (3, 0.5812373)], [(3, 0.9318453)], [(0, 0.7280511)], [(2, 0.7412298)], [(1, 0.92097163)], [(0, 0.96685266)], [(0, 0.38090006), (3, 0.59591997)], [(0, 0.63518775), (2, 0.35194564)], [(1, 0.92228025)], [(3, 0.9318677)], [(0, 0.56628996), (2, 0.39094368)], [(0, 0.38331693), (2, 0.37253013)], [(3, 0.98849934)], [(0, 0.96453214)], [(0, 0.31363693), (3, 0.6795414)], [(0, 0.36438826), (1, 0.62919354)], [(3, 0.968958)], [(0, 0.6312586), (1, 0.3444498)], [(1, 0.49143657), (3, 0.41016212)], [(2, 0.7597205)], [(0, 0.48530015)], [(0, 0.56436676), (2, 0.41043803)], [(3, 0.8189754)], [(0, 0.5848761), (2, 0.3950966)], [(3, 0.9945434)], [(3, 0.97801435)], [(1, 0.82491344)], [(2, 0.96447635)], [(3, 0.8590344)], [(1, 0.66479987), (2, 0.31744358)], [(0, 0.47142014), (1, 0.4372497)], [(3, 0.8178928)], [(0, 0.8945135)], [(0, 0.5295112), (1, 0.46317816)], [(2, 0.4767568)], [(2, 0.96664107)], [(0, 0.40127155), (3, 0.58929)], [(3, 0.9709814)], [(0, 0.6559614), (2, 0.32042584)], [(3, 0.9574499)], [(3, 0.9020535)], [(1, 0.64498633), (3, 0.34414524)], [(3, 0.5157679)], [(3, 0.9666873)], [(2, 0.41881007), (3, 0.57529837)], [(0, 0.34553894), (1, 0.33183816), (2, 0.32027712)], [(0, 0.94937694)], [(3, 0.8415197)], [(0, 0.9582936)], [(0, 0.9666702)], [(3, 0.63464177)], [(1, 0.9761254)], [(0, 0.5425032), (2, 0.4458192)], [(1, 0.9671378)], [(2, 0.9276536)], [(3, 0.57762957)], [(3, 0.82602674)], [(3, 0.9017931)], [(3, 0.9845906)], [(2, 0.991517)], [(1, 0.9621364)], [(1, 0.7171163)], [(0, 0.4368076), (3, 0.33276087)], [(3, 0.93150365)], [(3, 0.7257612)], [(0, 0.9583961)], [(0, 0.5253763), (3, 0.36884567)], [(0, 0.4528317), (1, 0.52033883)], [(0, 0.5391066), (1, 0.44884604)], [(1, 0.75811666)], [(1, 0.716885)], [(0, 0.44833428), (3, 0.531882)], [(0, 0.89519876)], [(0, 0.9067302)], [(2, 0.9813189)], [(0, 0.91466033)], [(3, 0.97902954)], [(0, 0.5889127), (3, 0.39576182)], [(3, 0.9188489)], [(0, 0.6399706), (3, 0.34754956)], [(2, 0.66439134), (3, 0.31405362)], [(2, 0.9357975)], [(1, 0.7352613)], [(1, 0.8227184)], [(0, 0.43811837), (1, 0.5357834)], [(3, 0.9610803)], [(2, 0.91745234)], [(2, 0.7651829)], [(0, 0.6722456), (2, 0.31053856)], [(1, 0.426466), (3, 0.36192074)], [(3, 0.9528283)], [(0, 0.588802), (3, 0.39138773)], [(3, 0.9840945)], [(2, 0.731644)], [(0, 0.9707298)], [(0, 0.5525428), (3, 0.3835022)], [(0, 0.95438063)], [(3, 0.9572438)], [(3, 0.98282194)], [(0, 0.7280682)], [(1, 0.93289477)], [(0, 0.95014584)], [(3, 0.9789329)], [(1, 0.9737325)], [(0, 0.9752838)], [(1, 0.5189686), (3, 0.47664624)], [(0, 0.49633434), (1, 0.4997574)], [(0, 0.9368421)], [(3, 0.93159676)], [(0, 0.39272445), (3, 0.59923923)], [(0, 0.5962777), (3, 0.36307856)], [(0, 0.5702586), (2, 0.4203799)], [(0, 0.5152163), (3, 0.46158415)], [(2, 0.98646206)], [(0, 0.58880305), (3, 0.39138666)], [(0, 0.9495626)], [(1, 0.98408395)], [(1, 0.9671326)], [(3, 0.9529825)], [(2, 0.84690136)], [(0, 0.43088737), (3, 0.5585764)], [(1, 0.6282673), (2, 0.34020206)], [(0, 0.68336195), (2, 0.30790836)], [(1, 0.4955218), (3, 0.48921278)], [(3, 0.8831225)], [(2, 0.5353697), (3, 0.45089015)], [(2, 0.91682065)], [(3, 0.975554)], [(0, 0.64927036), (1, 0.33381203)], [(3, 0.9710432)], [(2, 0.9011444)], [(1, 0.9670696)], [(3, 0.95299405)], [(0, 0.71933913)], [(1, 0.8448348)], [(0, 0.35470095), (3, 0.6046503)], [(0, 0.569825), (2, 0.38192698)], [(0, 0.81265223)], [(2, 0.69666487)], [(1, 0.6655773), (2, 0.30269518)], [(2, 0.8717685)], [(3, 0.73132193)], [(0, 0.98110706)], [(0, 0.6635036)], [(2, 0.713175)], [(0, 0.44726527), (2, 0.48775733)], [(2, 0.5412326), (3, 0.44736102)], [(0, 0.5296512), (3, 0.46500877)], [(0, 0.33088052), (3, 0.51245743)], [(2, 0.749125)], [(2, 0.74488884)], [(0, 0.35473195), (3, 0.5974374)], [(2, 0.39996353), (3, 0.5556799)], [(3, 0.96669143)], [(0, 0.51140285)], [(1, 0.6143127)], [(3, 0.44946963)], [(3, 0.9755345)], [(3, 0.90515447)], [(0, 0.87154466)], [(3, 0.9407182)], [(1, 0.9621148)], [(3, 0.90211546)], [(0, 0.9902142)], [(2, 0.881589)], [(2, 0.8809996)], [(3, 0.6984404)], [(3, 0.9949345)], [(3, 0.9667632)], [(1, 0.43628582), (3, 0.5572857)], [(0, 0.9863618)], [(0, 0.9495841)], [(1, 0.59409297), (2, 0.37222576)], [(0, 0.5223876), (2, 0.46260157)], [(2, 0.5131055), (3, 0.35657886)], [(3, 0.976797)], [(3, 0.96878064)], [(3, 0.70116705)], [(0, 0.4503766), (2, 0.50178784)], [(1, 0.932432)], [(3, 0.69711477)], [(0, 0.39072794), (1, 0.60089725)], [(1, 0.9303658)], [(3, 0.96714914)], [(1, 0.4423243), (3, 0.3895738)], [(0, 0.30765095), (1, 0.45772102)], [(0, 0.4385916), (3, 0.50336045)], [(3, 0.9472512)], [(1, 0.3901096), (3, 0.5971992)], [(2, 0.7548066)], [(3, 0.9666684)], [(3, 0.9807525)], [(0, 0.9615771)], [(3, 0.85895556)], [(1, 0.98695385)], [(3, 0.72579235)], [(0, 0.97760993)], [(1, 0.61681825), (3, 0.35745886)], [(3, 0.8048706)], [(2, 0.56146866)], [(3, 0.51686084)], [(1, 0.73562187)], [(2, 0.6251621), (3, 0.35920504)], [(1, 0.4502776), (2, 0.5370379)], [(3, 0.69702744)], [(3, 0.88927656)], [(3, 0.9314219)], [(1, 0.87446123)], [(3, 0.55140644)], [(0, 0.4234422), (3, 0.5620406)], [(3, 0.9472403)], [(0, 0.32402113), (3, 0.5682068)], [(0, 0.3584317), (3, 0.6135686)], [(0, 0.5645758), (1, 0.4128372)], [(3, 0.9742436)], [(1, 0.5043044), (3, 0.4817726)], [(3, 0.45822513)], [(0, 0.45974717), (3, 0.51704514)], [(2, 0.97916985)], [(3, 0.9754905)], [(0, 0.8090684)], [(3, 0.7544247)], [(1, 0.56650555)], [(3, 0.9741985)], [(1, 0.92949)], [(3, 0.9904669)], [(2, 0.7715001)], [(2, 0.9163702)], [(2, 0.8338484)], [(3, 0.82075584)], [(0, 0.44963974), (3, 0.5372628)], [(1, 0.9095462)], [(2, 0.90230906)], [(0, 0.47322354), (3, 0.51226705)], [(3, 0.9708608)], [(0, 0.5017915), (3, 0.41124946)], [(2, 0.53858566), (3, 0.34683165)], [(0, 0.37470692), (2, 0.40730292)], [(1, 0.4183409), (2, 0.52962923)], [(2, 0.93597585)], [(2, 0.92711574)], [(3, 0.9107269)], [(0, 0.70836496)], [(0, 0.3527898), (1, 0.42286593)], [(0, 0.4794643), (2, 0.49824622)], [(2, 0.3539855), (3, 0.5733857)], [(0, 0.93685305)], [(3, 0.79268384)], [(1, 0.3366988), (3, 0.39899904)], [(2, 0.9927244)], [(1, 0.9748467)], [(2, 0.34474456), (3, 0.41314209)], [(0, 0.33345464), (3, 0.6452018)], [(3, 0.58070356)], [(0, 0.913932)], [(3, 0.85401016)], [(1, 0.46804202), (2, 0.50619656)], [(0, 0.47199214), (3, 0.5182254)], [(0, 0.9906966)], [(1, 0.9709622)], [(3, 0.96894795)], [(2, 0.81237936)], [(2, 0.97028524)], [(0, 0.7342626)], [(2, 0.95942634)], [(0, 0.4499108), (1, 0.5158066)], [(1, 0.52695227)], [(3, 0.96675414)], [(3, 0.8679166)], [(0, 0.96161896)], [(2, 0.9198306)], [(0, 0.94387263)], [(1, 0.9192856)], [(3, 0.95289826)], [(0, 0.9803786)], [(2, 0.34322), (3, 0.6248758)], [(1, 0.94075114)], [(3, 0.9193573)], [(2, 0.41325304), (3, 0.5495478)], [(0, 0.99021316)], [(3, 0.9610362)], [(1, 0.96213365)], [(0, 0.52014637), (1, 0.4636696)], [(3, 0.9529945)], [(2, 0.54133064), (3, 0.43379396)], [(1, 0.9517188)], [(2, 0.94263184)], [(0, 0.9774611)], [(0, 0.30072415), (1, 0.6768564)], [(2, 0.7713155)], [(0, 0.66867197), (1, 0.30986503)], [(3, 0.9609399)], [(1, 0.97916263)], [(0, 0.91524565)], [(0, 0.8131306)], [(0, 0.73909676)], [(0, 0.44818267), (3, 0.5165093)], [(3, 0.9665963)], [(3, 0.52899545)], [(0, 0.93669605)], [(1, 0.8598774)], [(3, 0.9501008)], [(0, 0.68222946), (1, 0.3137244)], [(2, 0.94245416)], [(0, 0.8961333)], [(3, 0.95740324)], [(2, 0.9824408)], [(3, 0.7302304)], [(0, 0.4010722), (3, 0.388226)], [(1, 0.44147676), (3, 0.5365211)], [(1, 0.98417)], [(3, 0.9799911)], [(0, 0.61712193), (1, 0.34420452)], [(1, 0.9075872)], [(0, 0.9497534)], [(0, 0.98742473)], [(0, 0.45424226), (2, 0.31095782)], [(0, 0.70032996)], [(2, 0.84897554)], [(2, 0.95971644)], [(3, 0.974182)], [(0, 0.364506), (3, 0.6298232)], [(2, 0.3855312), (3, 0.4031844)], [(1, 0.39988837), (2, 0.57057375)], [(0, 0.38244322), (3, 0.60742176)], [(2, 0.45355332), (3, 0.53002286)], [(0, 0.9617148)], [(1, 0.76494193)], [(2, 0.9362565)], [(1, 0.42078495), (3, 0.56698525)], [(1, 0.946129)], [(3, 0.94732434)], [(0, 0.9689882)], [(0, 0.41266674), (2, 0.55282325)], [(0, 0.9688482)], [(3, 0.9742951)], [(0, 0.9751971)], [(3, 0.90236455)], [(1, 0.88968056)], [(0, 0.4456396), (2, 0.37157613)], [(0, 0.32727295), (3, 0.5026564)], [(0, 0.5654977), (3, 0.41130668)], [(3, 0.9641022)], [(3, 0.9023838)], [(1, 0.91784376)], [(0, 0.9893643)], [(3, 0.6737068)], [(0, 0.3853235), (2, 0.5983878)], [(0, 0.37712327), (3, 0.59749544)], [(2, 0.942606)], [(0, 0.43123677), (3, 0.5489485)], [(0, 0.38534486), (3, 0.5948528)], [(0, 0.57640517), (3, 0.38832426)], [(1, 0.94628507)], [(2, 0.90132177)], [(3, 0.70850176)], [(0, 0.4320544), (1, 0.3727073)], [(1, 0.97038347)], [(1, 0.42879477), (3, 0.44369748)], [(3, 0.91978467)], [(3, 0.9768636)], [(0, 0.97635555)], [(0, 0.93662983)], [(0, 0.9139332)], [(1, 0.9465829)], [(1, 0.85312927)], [(2, 0.30510628), (3, 0.5944576)], [(2, 0.97921866)], [(3, 0.7021934)], [(3, 0.56729364)], [(2, 0.95621383)], [(3, 0.9640826)], [(3, 0.9688787)], [(1, 0.49645102), (2, 0.48647013)], [(3, 0.7633429)], [(0, 0.3737853), (1, 0.6082832)], [(0, 0.8969389)], [(0, 0.6612905), (3, 0.32026172)], [(0, 0.3990607), (1, 0.5885292)], [(2, 0.47661206), (3, 0.47239754)], [(0, 0.34622905), (2, 0.64035374)], [(2, 0.95959353)], [(3, 0.9936682)], [(2, 0.90202355)], [(0, 0.8755392)], [(0, 0.7920192)], [(2, 0.9002306)], [(0, 0.41569266), (2, 0.5749336)], [(0, 0.94390005)], [(0, 0.6525538), (2, 0.34242487)], [(0, 0.39955774), (3, 0.45897958)], [(0, 0.9776212)], [(3, 0.90257645)], [(1, 0.5341889), (3, 0.43305087)], [(0, 0.74325573)], [(3, 0.79311067)], [(0, 0.4057153), (2, 0.5283534)], [(1, 0.67370063), (3, 0.30833888)], [(3, 0.9822729)], [(0, 0.94367594)], [(0, 0.79280984)], [(0, 0.5992903), (1, 0.38193798)], [(0, 0.97649485)], [(0, 0.9817965)], [(3, 0.6887616)], [(0, 0.94919825)], [(1, 0.6009395)], [(1, 0.6699729), (2, 0.31069648)], [(3, 0.67781764)], [(2, 0.92758006)], [(3, 0.74733776)], [(2, 0.78007424)], [(1, 0.52711266)], [(0, 0.7268981)], [(2, 0.97847164)], [(3, 0.9193534)], [(3, 0.8260333)], [(0, 0.9094408)], [(0, 0.7941663)], [(1, 0.74165547)], [(1, 0.98188716)], [(2, 0.9685893)], [(0, 0.9822765)], [(0, 0.3141993), (2, 0.67535496)], [(0, 0.9669514)], [(0, 0.92764467)], [(3, 0.9314117)], [(1, 0.9328541)], [(3, 0.53042793)], [(3, 0.9609138)], [(0, 0.96898544)], [(3, 0.7280038)], [(1, 0.85459375)], [(1, 0.9514936)], [(0, 0.42503184), (2, 0.5092014)], [(0, 0.31526214), (3, 0.6716483)], [(3, 0.49378365)], [(1, 0.3894074), (3, 0.59790146)], [(1, 0.6655073), (2, 0.30276516)], [(1, 0.78586066)], [(0, 0.9834507)], [(0, 0.9668992)], [(0, 0.9615625)], [(0, 0.9809442)], [(0, 0.43342283), (3, 0.50861275)], [(0, 0.6234987), (2, 0.33357027)], [(0, 0.3755831), (1, 0.4644391)], [(0, 0.75502765)], [(2, 0.92773557)], [(3, 0.71304774)], [(3, 0.7450119)], [(2, 0.94280905)], [(2, 0.41884378), (3, 0.5726159)], [(1, 0.98254466)], [(0, 0.9498059)], [(0, 0.55351496)], [(0, 0.9146885)], [(2, 0.9357126)], [(0, 0.8185041)], [(0, 0.95463765)], [(3, 0.9818848)], [(3, 0.91046435)], [(2, 0.5151759)], [(0, 0.97659063)], [(3, 0.7643578)], [(2, 0.51170975), (3, 0.44912082)], [(0, 0.96149206)], [(3, 0.9609534)], [(0, 0.9665449)], [(1, 0.9781999)], [(1, 0.97225654)], [(1, 0.9553441)], [(0, 0.31457645), (3, 0.4045866)], [(0, 0.40969968)], [(2, 0.98337895)], [(1, 0.40751857), (2, 0.5817696)], [(3, 0.7700231)], [(1, 0.30948564), (3, 0.39543486)], [(0, 0.9265397)], [(0, 0.37350872), (1, 0.61531675)], [(3, 0.7667997)], [(3, 0.7387846)], [(3, 0.83115435)], [(1, 0.9791186)], [(1, 0.68529046)], [(1, 0.30061525), (3, 0.47494182)], [(3, 0.82383436)], [(3, 0.96899253)], [(0, 0.91343373)], [(3, 0.9840687)], [(3, 0.9474599)], [(0, 0.9864128)], [(0, 0.6660246)], [(3, 0.97424)], [(2, 0.85373724)], [(0, 0.86698276)], [(2, 0.46934667), (3, 0.50909066)], [(2, 0.9595768)], [(1, 0.48299083), (3, 0.5017252)], [(0, 0.40561026), (3, 0.30072913)], [(3, 0.9476598)], [(1, 0.8598558)], [(3, 0.7041343)], [(2, 0.8332407)], [(0, 0.8855003)], [(1, 0.9721826)], [(1, 0.9723748)], [(0, 0.3003939), (1, 0.47411776)], [(0, 0.93590355)], [(0, 0.95846725)], [(0, 0.85357946)], [(2, 0.5125458), (3, 0.44829023)], [(0, 0.44983318), (1, 0.5158842)], [(3, 0.84423685)], [(2, 0.31918663), (3, 0.6212612)], [(0, 0.9823113)], [(1, 0.93239325)], [(0, 0.3434277), (3, 0.64036363)], [(0, 0.59382117), (3, 0.38635972)], [(1, 0.6851029)], [(1, 0.9789605)], [(1, 0.5536365), (2, 0.3536274)], [(0, 0.98663294)], [(0, 0.43210128), (1, 0.3727207)], [(0, 0.9751076)], [(0, 0.9496538)], [(2, 0.7766684)], [(2, 0.956204)], [(2, 0.7115695)], [(3, 0.97793525)], [(0, 0.78007823)], [(2, 0.72997874)], [(3, 0.99366796)], [(0, 0.5768137), (1, 0.41389972)], [(2, 0.3907342), (3, 0.5636994)], [(0, 0.72575855)], [(3, 0.98790085)], [(3, 0.96103144)], [(1, 0.40472803), (3, 0.5747406)], [(1, 0.9514583)], [(2, 0.98850846)], [(3, 0.9828402)], [(1, 0.9939848)], [(1, 0.9405091)], [(0, 0.45727283), (3, 0.37040576)], [(0, 0.768769)], [(3, 0.64373136)], [(2, 0.6849947)], [(0, 0.35980687), (3, 0.5995894)], [(0, 0.97519755)], [(0, 0.34936234), (2, 0.6316693)], [(3, 0.9828491)], [(0, 0.5103545), (1, 0.45843187)], [(3, 0.98979574)], [(0, 0.95631725)], [(3, 0.7659726)], [(0, 0.93666524)], [(2, 0.9792724)], [(3, 0.87562984)], [(2, 0.49285913), (3, 0.31224972)], [(3, 0.94051087)], [(0, 0.3953628), (2, 0.5837052)], [(1, 0.41868356), (2, 0.5125859)], [(3, 0.96401334)], [(3, 0.8624107)], [(0, 0.97395736)], [(1, 0.31609502), (3, 0.6677981)], [(1, 0.96903735)], [(1, 0.5159709), (3, 0.4766345)], [(3, 0.8092918)], [(1, 0.9735739)], [(1, 0.4079936), (3, 0.5683539)], [(3, 0.91986257)], [(3, 0.97103876)], [(2, 0.95594895)], [(1, 0.9735929)], [(3, 0.9851523)], [(1, 0.98362976)], [(3, 0.9846535)], [(1, 0.92267156)], [(0, 0.44506478), (1, 0.54714537)], [(0, 0.5698488), (2, 0.3919046)], [(3, 0.97793293)], [(3, 0.97993165)], [(0, 0.9582815)], [(0, 0.9266821)], [(0, 0.47306904), (2, 0.49499533)], [(2, 0.33136496), (3, 0.6244234)], [(2, 0.9643334)], [(0, 0.6247235), (3, 0.37058067)], [(0, 0.9890599)], [(0, 0.9541479)], [(1, 0.92191947)], [(2, 0.901231)], [(3, 0.7189759)], [(0, 0.52424914), (1, 0.45315045)], [(0, 0.97412753)], [(0, 0.6003171), (1, 0.31924042)], [(0, 0.9270991)], [(1, 0.94082886)], [(0, 0.9775046)], [(0, 0.3512717), (2, 0.61386824)], [(0, 0.4776516), (3, 0.48707286)], [(2, 0.46412122), (3, 0.43069604)], [(1, 0.9825467)], [(0, 0.49100515), (2, 0.48676428)], [(0, 0.41609177), (3, 0.56857896)], [(0, 0.6064228), (2, 0.3796167)], [(3, 0.9106671)], [(2, 0.3272176), (3, 0.6637745)], [(3, 0.9406851)], [(1, 0.44913647), (3, 0.51983017)], [(0, 0.9851404)], [(3, 0.982896)], [(1, 0.33411732), (3, 0.6437779)], [(1, 0.98248583)], [(3, 0.91473854)], [(0, 0.88789475)], [(2, 0.8068852)], [(3, 0.9423778)], [(0, 0.9643727)], [(0, 0.66229886)], [(2, 0.3472632), (3, 0.58022463)], [(1, 0.8749792)], [(1, 0.3492344), (2, 0.6015899)], [(3, 0.9666959)], [(2, 0.8783752)], [(0, 0.6086927), (1, 0.38252214)], [(0, 0.62233585)], [(1, 0.90896505)], [(3, 0.94080645)], [(0, 0.30747905), (3, 0.65722865)], [(0, 0.93574476)], [(2, 0.94741124)], [(2, 0.9592397)], [(0, 0.96451)], [(1, 0.36761558), (3, 0.6184844)], [(0, 0.38511577), (2, 0.59859556)], [(2, 0.34254262), (3, 0.6479294)], [(0, 0.9751568)], [(2, 0.36160848), (3, 0.6092853)], [(1, 0.7529154)], [(0, 0.49085826), (2, 0.4961924)], [(0, 0.5425901), (3, 0.3305573)], [(0, 0.66778076)], [(3, 0.8288797)], [(3, 0.9315096)], [(0, 0.7713831)], [(3, 0.7299902)], [(3, 0.9822715)], [(2, 0.66594565)], [(1, 0.97979456)], [(0, 0.34168327), (1, 0.5425531)], [(1, 0.7356145)], [(3, 0.9608901)], [(0, 0.98944354)], [(2, 0.88707125)], [(0, 0.7181069)], [(1, 0.77599126)], [(3, 0.9689633)], [(1, 0.7408168)], [(3, 0.96675086)], [(1, 0.45576197), (3, 0.30610096)], [(0, 0.98094094)], [(0, 0.56727886), (1, 0.4012783)], [(1, 0.98430294)], [(2, 0.5716332), (3, 0.39561087)], [(0, 0.6093262), (2, 0.38292205)], [(1, 0.5376644), (2, 0.44666386)], [(1, 0.3462021), (3, 0.63922596)], [(0, 0.59327406), (3, 0.38692495)], [(2, 0.97518724)], [(0, 0.98960394)], [(3, 0.93169916)], [(3, 0.94699377)], [(3, 0.6267681)], [(0, 0.57896495), (3, 0.4127589)], [(1, 0.94010985)], [(1, 0.85726035)], [(0, 0.68325436), (1, 0.30815065)], [(1, 0.9830896)], [(0, 0.41919985), (1, 0.5524345)], [(0, 0.9561089)], [(3, 0.8332985)], [(0, 0.7517397)], [(2, 0.48487395)], [(1, 0.7168703)], [(3, 0.94768924)], [(1, 0.33505294), (3, 0.5454731)], [(0, 0.3547396), (3, 0.60461164)], [(0, 0.9919836)], [(0, 0.7643374)], [(1, 0.9724966)], [(2, 0.47216076), (3, 0.5160142)], [(0, 0.96902966)], [(0, 0.5298754), (1, 0.42025402)], [(2, 0.9806721)], [(1, 0.89075696)], [(1, 0.99482703)], [(2, 0.9354047)], [(0, 0.88974243)], [(1, 0.6430634)], [(0, 0.9810919)], [(1, 0.8782138)], [(2, 0.7443557)], [(0, 0.89650255)], [(3, 0.9780417)], [(3, 0.93174493)], [(1, 0.891993)], [(1, 0.96193755)], [(0, 0.37317625), (3, 0.612329)], [(2, 0.92784655)], [(0, 0.53743684), (3, 0.45401815)], [(1, 0.9670197)], [(3, 0.9529897)], [(0, 0.8952321)], [(3, 0.97553813)], [(0, 0.77501315)], [(1, 0.9920454)], [(1, 0.458259), (3, 0.5211618)], [(3, 0.98078674)], [(2, 0.7528004)], [(2, 0.9717611)], [(0, 0.3023142), (3, 0.6905073)], [(1, 0.6254147), (3, 0.34880182)], [(0, 0.44119763), (1, 0.3581397)], [(2, 0.9620134)], [(3, 0.93172187)], [(1, 0.62188196), (2, 0.36656344)], [(2, 0.7406382)], [(3, 0.91971207)], [(3, 0.95287246)], [(0, 0.9764005)], [(1, 0.6259878), (2, 0.3362781)], [(3, 0.7302232)], [(3, 0.9807746)], [(0, 0.91400474)], [(3, 0.9408992)], [(0, 0.93167996)], [(3, 0.3937736)], [(3, 0.72661257)], [(1, 0.6094443), (3, 0.34666663)], [(3, 0.93170434)], [(2, 0.9014714)], [(3, 0.69761366)], [(2, 0.6922432)], [(0, 0.7431551)], [(2, 0.5720261), (3, 0.39807248)], [(1, 0.97372323)], [(1, 0.82589245)], [(1, 0.9512751)], [(0, 0.972487)], [(3, 0.95729756)], [(1, 0.85862464)], [(1, 0.9403991)], [(0, 0.3633982), (1, 0.598227)], [(3, 0.8113287)], [(0, 0.44561058), (3, 0.5503323)], [(1, 0.43863916), (3, 0.53015745)], [(0, 0.80578524)], [(1, 0.968748)], [(2, 0.9685269)], [(0, 0.9435056)], [(0, 0.84678453)], [(3, 0.8595985)], [(3, 0.9405284)], [(2, 0.6308072), (3, 0.34001413)], [(2, 0.84672797)], [(0, 0.93572086)], [(3, 0.8655586)], [(2, 0.39788973), (3, 0.43022504)], [(0, 0.8324983)], [(2, 0.33475664), (3, 0.63351077)], [(2, 0.95912546)], [(0, 0.30882788), (2, 0.6722475)], [(0, 0.97631603)], [(3, 0.66535205)], [(0, 0.7193442)], [(3, 0.98605675)], [(2, 0.30868533), (3, 0.44925988)], [(0, 0.9582281)], [(1, 0.93258196)], [(1, 0.95577955)], [(1, 0.8586319)], [(0, 0.59317833), (1, 0.36814427)], [(0, 0.32816878), (3, 0.65048593)], [(1, 0.3359892), (3, 0.6558014)], [(1, 0.9813219)], [(0, 0.63352424), (3, 0.34667283)], [(1, 0.38111004), (3, 0.60623306)], [(1, 0.5173128), (3, 0.47843158)], [(0, 0.38946232), (3, 0.575226)], [(1, 0.6947121)], [(0, 0.98072493)], [(3, 0.97103816)], [(3, 0.91963726)], [(3, 0.9835112)], [(0, 0.9128772)], [(3, 0.96097594)], [(1, 0.962099)], [(1, 0.96222305)], [(3, 0.9897847)], [(0, 0.90983206)], [(2, 0.9361307)], [(2, 0.9792874)], [(0, 0.44281048), (3, 0.36869028)], [(0, 0.34204504), (3, 0.6521551)], [(0, 0.97762007)], [(1, 0.39844644), (3, 0.4753197)], [(2, 0.40728915), (3, 0.58436954)], [(3, 0.9689644)], [(0, 0.40103102), (3, 0.38822493)], [(1, 0.917282)], [(1, 0.98059815)], [(2, 0.91710734)], [(2, 0.6875098)], [(3, 0.47795337)], [(1, 0.5260412), (3, 0.4667495)], [(0, 0.8416893)], [(0, 0.90873975)], [(3, 0.9756225)], [(0, 0.49189627), (1, 0.44236112)], [(2, 0.94305325)], [(0, 0.6507266), (3, 0.33948997)], [(2, 0.9819)], [(0, 0.7032546)], [(0, 0.8307761)], [(0, 0.5652421), (3, 0.4273824)], [(1, 0.62602425), (2, 0.33624166)], [(2, 0.8815597)], [(3, 0.9949821)], [(0, 0.9851414)], [(1, 0.9592448)], [(1, 0.98724)], [(1, 0.91950953)], [(3, 0.9789788)], [(2, 0.9270066)], [(0, 0.7756148)], [(2, 0.40954822), (3, 0.49181607)], [(0, 0.5244945), (3, 0.4686707)], [(1, 0.99538445)], [(3, 0.9828449)], [(2, 0.9718312)], [(0, 0.7148171)], [(2, 0.9271196)], [(3, 0.96415335)], [(0, 0.3499448), (3, 0.48816094)], [(3, 0.97548825)], [(3, 0.9189645)], [(0, 0.91436064)], [(1, 0.49280015)], [(3, 0.9314697)], [(3, 0.9799789)], [(2, 0.4394887), (3, 0.52866304)], [(3, 0.7144818)], [(0, 0.47313702), (2, 0.49492738)], [(2, 0.5648458)], [(1, 0.3977645), (3, 0.5889431)], [(0, 0.45607182), (2, 0.5367557)], [(1, 0.4285576), (3, 0.5612849)], [(0, 0.57492363), (3, 0.40527293)], [(0, 0.6821605)], [(1, 0.9669078)], [(0, 0.32950124), (2, 0.46471503)], [(0, 0.44802278), (3, 0.53821695)], [(2, 0.63014984)], [(0, 0.3305086), (1, 0.6495107)], [(3, 0.87547004)], [(2, 0.30380726), (3, 0.67455107)], [(0, 0.58482486), (3, 0.40983027)], [(1, 0.70658195)], [(0, 0.47159553), (3, 0.51825136)], [(3, 0.90214837)], [(2, 0.9026191)], [(3, 0.9528905)], [(2, 0.9890833)], [(2, 0.57151616), (3, 0.39484861)], [(1, 0.7649725)], [(1, 0.61368775), (3, 0.37171108)], [(0, 0.37329832), (1, 0.5398899)], [(2, 0.93570256)], [(3, 0.87496215)], [(3, 0.97267485)], [(3, 0.98722684)], [(1, 0.92212605)], [(1, 0.38524497), (2, 0.57695043)], [(3, 0.9865059)], [(3, 0.9727365)], [(1, 0.92249036)], [(0, 0.974062)], [(0, 0.58483607), (3, 0.40981907)], [(1, 0.95929664)], [(0, 0.5935632), (3, 0.3832443)], [(3, 0.82918215)], [(0, 0.44831476), (3, 0.5319015)], [(0, 0.9435248)], [(3, 0.92078316)], [(0, 0.30063117), (3, 0.68313175)], [(3, 0.9028933)], [(3, 0.96896493)], [(1, 0.9846765)], [(0, 0.9871101)], [(0, 0.6500023), (3, 0.32197708)], [(3, 0.712677)], [(1, 0.34743267), (2, 0.59288245)], [(0, 0.6391266), (2, 0.3319721)], [(1, 0.38752908), (3, 0.5919531)], [(1, 0.6871958)], [(0, 0.35441047), (3, 0.6241996)], [(2, 0.8796889)], [(0, 0.48792392), (2, 0.46326357)], [(1, 0.8888197)], [(3, 0.9317245)], [(2, 0.52221936), (3, 0.45104215)], [(2, 0.9022758)], [(3, 0.7638471)], [(1, 0.94641167)], [(3, 0.9609789)], [(2, 0.5798374), (3, 0.38468722)], [(0, 0.9839198)], [(2, 0.7990337)], [(0, 0.4269293), (3, 0.54984343)], [(2, 0.97746396)], [(0, 0.7685716)], [(2, 0.6909358)], [(3, 0.89956933)], [(0, 0.36711776), (3, 0.6144523)], [(3, 0.97264224)], [(0, 0.9616247)], [(0, 0.9689489)], [(0, 0.97954214)], [(2, 0.7666362)], [(3, 0.7474796)], [(0, 0.92613494)], [(3, 0.91927576)], [(1, 0.90844905)], [(1, 0.98247385)], [(0, 0.47847414), (1, 0.509874)], [(1, 0.99036753)], [(3, 0.9314236)], [(1, 0.9323248)], [(3, 0.56102794)], [(3, 0.94735163)], [(1, 0.8888296)], [(1, 0.3540345), (3, 0.6004635)], [(1, 0.8900524)], [(2, 0.7800802)], [(0, 0.34468684), (2, 0.6329862)], [(0, 0.41451576), (1, 0.5111505)], [(1, 0.41336656), (2, 0.5610859)], [(0, 0.46888646), (3, 0.47312093)], [(0, 0.45714095), (3, 0.37068513)], [(3, 0.94763523)], [(0, 0.60167396)], [(0, 0.95447713)], [(2, 0.97547126)], [(2, 0.9648024)], [(3, 0.6593666)], [(3, 0.9315691)], [(0, 0.9810824)], [(1, 0.3236751), (3, 0.66410214)], [(3, 0.8175439)], [(2, 0.9362829)], [(2, 0.79807746)], [(0, 0.9785956)], [(1, 0.8577271)], [(0, 0.4614319), (2, 0.5036294)], [(3, 0.7880569)], [(2, 0.9645985)], [(0, 0.3921165), (1, 0.5647878)], [(0, 0.9546429)], [(3, 0.9709508)], [(3, 0.9196884)], [(3, 0.9476387)], [(2, 0.3704877), (3, 0.44823578)], [(0, 0.9669066)], [(0, 0.9841558)], [(3, 0.7692472)], [(1, 0.36107042), (3, 0.5859573)], [(0, 0.87656045)], [(2, 0.39045915), (3, 0.56069434)], [(1, 0.9324594)], [(3, 0.957211)], [(3, 0.93163157)], [(3, 0.8015413)], [(0, 0.98116744)], [(0, 0.47656345), (3, 0.4922379)], [(0, 0.92680115)], [(1, 0.9813213)], [(1, 0.47527057), (3, 0.5145532)], [(0, 0.9370867)], [(0, 0.37472463), (3, 0.34231275)], [(0, 0.5438311), (3, 0.33666638)], [(3, 0.9708975)], [(2, 0.9276412)], [(0, 0.9491522)], [(1, 0.6589642)], [(2, 0.90262336)], [(3, 0.97429377)], [(0, 0.72562736)], [(3, 0.95306563)], [(2, 0.9820152)], [(2, 0.48141807), (3, 0.48931226)], [(2, 0.6143138), (3, 0.38043007)], [(1, 0.9517026)], [(1, 0.6280057), (2, 0.35694987)], [(0, 0.6062542), (3, 0.38278162)], [(1, 0.5659246), (3, 0.42081332)], [(2, 0.95934963)], [(0, 0.9368538)], [(0, 0.39228535), (3, 0.31460822)], [(3, 0.9860381)], [(3, 0.98220587)], [(3, 0.9875848)], [(0, 0.9617368)], [(1, 0.9326586)], [(0, 0.9801762)], [(1, 0.4244688), (3, 0.55497694)], [(0, 0.8962655)], [(1, 0.64777154), (3, 0.3480287)], [(0, 0.95021087)], [(0, 0.9366394)], [(0, 0.9019043)], [(1, 0.9086997)], [(2, 0.5351863), (3, 0.33700705)], [(0, 0.8679636)], [(3, 0.8442801)], [(1, 0.93252987)], [(1, 0.5905854), (3, 0.388829)], [(1, 0.97484064)], [(0, 0.8963646)], [(0, 0.38863447), (3, 0.59409064)], [(0, 0.9688373)], [(0, 0.9726228)], [(1, 0.983171)], [(2, 0.48145086), (3, 0.40389293)], [(3, 0.9767327)], [(3, 0.9798509)], [(2, 0.7427405)], [(3, 0.61048764)], [(1, 0.968954)], [(0, 0.75175506)], [(2, 0.8577653)], [(1, 0.50273764), (3, 0.48947367)], [(3, 0.842019)], [(3, 0.94734293)], [(2, 0.76540107)], [(2, 0.423933), (3, 0.4950281)], [(2, 0.63655025), (3, 0.34524035)], [(0, 0.3876287), (1, 0.58619523)], [(3, 0.7070994)], [(0, 0.48888028), (2, 0.45530006)], [(0, 0.9616741)], [(3, 0.9609895)], [(3, 0.6968705)], [(1, 0.9092943)], [(1, 0.984677)], [(1, 0.74991894)], [(3, 0.9768936)], [(2, 0.95641804)], [(2, 0.6090203), (3, 0.3811694)], [(2, 0.69511795)], [(0, 0.37999701), (2, 0.60796124)], [(2, 0.4783095), (3, 0.51293415)], [(2, 0.7920863)], [(3, 0.9743475)], [(0, 0.5845952), (3, 0.40092254)], [(3, 0.9193315)], [(2, 0.6671467), (3, 0.31364805)], [(0, 0.708344)], [(3, 0.8754225)], [(0, 0.41365758), (2, 0.5609156)], [(3, 0.9851033)], [(1, 0.45025557), (2, 0.53705984)], [(0, 0.39846575), (1, 0.43156022)], [(2, 0.7286755)], [(0, 0.8942651)], [(0, 0.9723228)], [(2, 0.7409236)], [(1, 0.99268425)], [(0, 0.6101601), (3, 0.37969193)], [(0, 0.49589732), (3, 0.49465194)], [(0, 0.9836334)], [(2, 0.98133457)], [(3, 0.71391296)], [(1, 0.5261831)], [(1, 0.98994666)], [(1, 0.7123691)], [(0, 0.8960559)], [(1, 0.99070346)], [(0, 0.94311285)], [(1, 0.77083516)], [(0, 0.5549298), (2, 0.4379317)], [(3, 0.75335324)], [(0, 0.8941493)], [(3, 0.7130912)], [(0, 0.64493597), (1, 0.3371769)], [(0, 0.96694535)], [(2, 0.4617331), (3, 0.5250678)], [(3, 0.9799905)], [(3, 0.9640595)], [(0, 0.56656194), (3, 0.42289326)], [(2, 0.9893164)], [(0, 0.97084343)], [(2, 0.4048884), (3, 0.58719534)], [(3, 0.9528301)], [(3, 0.98226035)], [(0, 0.34571078), (1, 0.33097735), (3, 0.31964725)], [(3, 0.9742694)], [(0, 0.9262074)], [(1, 0.9790239)], [(3, 0.9872279)], [(1, 0.96458125)], [(0, 0.4962739), (1, 0.49287626)], [(0, 0.97102803)], [(0, 0.47206834), (3, 0.496655)], [(1, 0.30881435), (2, 0.64460814)], [(0, 0.7671261)], [(2, 0.9719233)], [(2, 0.93583494)], [(3, 0.93199587)], [(1, 0.96896434)], [(0, 0.9364564)], [(0, 0.9860721)], [(2, 0.97019404)], [(0, 0.66121274), (3, 0.32033956)], [(3, 0.9574683)], [(1, 0.5808904), (3, 0.40519485)], [(3, 0.9406006)], [(2, 0.3798678), (3, 0.61135906)], [(1, 0.9214626)], [(3, 0.94069666)], [(2, 0.3490608), (3, 0.4955455)], [(3, 0.9910283)], [(3, 0.7178886)], [(1, 0.7400232)], [(1, 0.8268748)], [(0, 0.87717086)], [(0, 0.40535614), (3, 0.5866106)], [(3, 0.931751)], [(2, 0.9479974)], [(1, 0.98192406)], [(2, 0.9151361)], [(3, 0.52260315)], [(1, 0.9228357)], [(3, 0.87526983)], [(1, 0.74164885)], [(2, 0.97724706)], [(3, 0.97899354)], [(0, 0.8353653)], [(2, 0.59774715), (3, 0.3565143)], [(3, 0.7268452)], [(0, 0.5282258), (2, 0.45086387)], [(3, 0.95299435)], [(1, 0.95166916)], [(0, 0.49125418), (1, 0.49180362)], [(3, 0.96408516)], [(2, 0.9829294)], [(2, 0.8055773)], [(3, 0.593167)], [(3, 0.9773753)], [(0, 0.8951249)], [(0, 0.98563313)], [(0, 0.9492506)], [(3, 0.94049907)], [(2, 0.9593839)], [(0, 0.96462524)], [(0, 0.4928299)], [(1, 0.9402688)], [(0, 0.30095482), (1, 0.68604475)], [(1, 0.77378136)], [(0, 0.57509524), (3, 0.3335883)], [(3, 0.9573543)], [(1, 0.3183267), (3, 0.6612058)], [(2, 0.38848445), (3, 0.57253796)], [(1, 0.96215343)], [(0, 0.9441341)], [(2, 0.91658485)], [(1, 0.95568734)], [(1, 0.81706005)], [(1, 0.9914098)], [(0, 0.39612633), (3, 0.595059)], [(3, 0.9406015)], [(0, 0.67033535), (3, 0.31589612)], [(0, 0.9500794)], [(2, 0.9161965)], [(0, 0.45594946)], [(3, 0.970933)], [(1, 0.3344362), (3, 0.62619543)], [(0, 0.60870403), (1, 0.38251084)], [(2, 0.93619686)], [(3, 0.9026142)], [(0, 0.41363716), (3, 0.5701422)], [(2, 0.9031056)], [(2, 0.90681136)], [(3, 0.67891645)], [(0, 0.40865725), (3, 0.58375573)], [(2, 0.83493346)], [(0, 0.356962), (3, 0.34466448)], [(3, 0.9609362)], [(2, 0.75131184)], [(3, 0.6889053)], [(1, 0.8547805)], [(2, 0.704305)], [(0, 0.5488896), (3, 0.44475392)], [(0, 0.36130568), (2, 0.6195779)], [(3, 0.4477906)], [(3, 0.77111876)], [(0, 0.6891655)], [(2, 0.90304965)], [(2, 0.75277096)], [(1, 0.7374296)], [(3, 0.9904494)], [(2, 0.36153868), (3, 0.60935515)], [(0, 0.61604583), (3, 0.37084147)], [(3, 0.9406311)], [(0, 0.91373175)], [(0, 0.7291545)], [(2, 0.41600108), (3, 0.5449899)], [(1, 0.7314367)], [(0, 0.93652254)], [(0, 0.94333017)], [(3, 0.87592137)], [(1, 0.9083129)], [(0, 0.39142212), (3, 0.31644672)], [(0, 0.577772), (2, 0.409355)], [(2, 0.73675996)], [(3, 0.9609455)], [(0, 0.5481579), (3, 0.40779954)], [(2, 0.64727163), (3, 0.32607064)], [(0, 0.55794376), (1, 0.4220233)], [(3, 0.9726722)], [(2, 0.5467926)], [(3, 0.9690025)], [(3, 0.46888924)], [(3, 0.9200506)], [(0, 0.4547967), (2, 0.5182059)], [(0, 0.5120766)], [(0, 0.3614692), (2, 0.3831405)], [(1, 0.9342141)], [(2, 0.6209667), (3, 0.33495125)], [(3, 0.8760645)], [(1, 0.39085487), (3, 0.596454)], [(1, 0.9088721)], [(0, 0.62682307)], [(0, 0.74677044)], [(2, 0.9155226)], [(0, 0.4287427), (3, 0.54992753)], [(3, 0.70168984)], [(0, 0.51939815)], [(0, 0.9725668)], [(2, 0.9522715)], [(0, 0.8358921)], [(1, 0.52456164), (3, 0.33701783)], [(1, 0.5996578), (3, 0.33354363)], [(0, 0.9581037)], [(0, 0.98100865)], [(1, 0.9724228)], [(2, 0.9829254)], [(2, 0.98930454)], [(1, 0.8484796)], [(3, 0.9640839)], [(0, 0.34852552), (2, 0.64313424)], [(3, 0.96104515)], [(1, 0.9648983)], [(3, 0.982229)], [(0, 0.7070226)], [(2, 0.6756682)], [(3, 0.97424203)], [(3, 0.9195922)], [(1, 0.90820694)], [(2, 0.9853833)], [(0, 0.96140176)], [(0, 0.78064716)], [(1, 0.41874543), (2, 0.40370566)], [(0, 0.9774721)], [(2, 0.61138535), (3, 0.34387422)], [(0, 0.61331695), (1, 0.36971512)], [(1, 0.98354274)], [(2, 0.66461575)], [(3, 0.70197904)], [(0, 0.48095745), (3, 0.49106354)], [(0, 0.89654726)], [(3, 0.9028714)], [(3, 0.9316146)], [(3, 0.94065726)], [(2, 0.96860474)], [(3, 0.7591576)], [(1, 0.7338332)], [(3, 0.5422762)], [(1, 0.923689)], [(0, 0.79170495)], [(3, 0.69486547)], [(0, 0.96890455)], [(0, 0.9882887)], [(1, 0.452824), (3, 0.5366597)], [(2, 0.41171846), (3, 0.36907107)], [(3, 0.94869703)], [(1, 0.62368906), (3, 0.3683239)], [(0, 0.9723666)], [(3, 0.96417993)], [(3, 0.94037884)], [(0, 0.76751846)], [(1, 0.84120715)], [(2, 0.34699377), (3, 0.6298642)], [(0, 0.73174065)], [(3, 0.9879322)], [(0, 0.4118605), (3, 0.56013143)], [(2, 0.6996633)], [(3, 0.9528741)], [(3, 0.94074684)], [(3, 0.9864941)], [(0, 0.5928334), (2, 0.34174505)], [(3, 0.73777705)], [(3, 0.7321061)], [(0, 0.75048995)], [(2, 0.59259963)], [(3, 0.5869736)], [(2, 0.96226704)], [(0, 0.7016215)], [(0, 0.3083252), (1, 0.6852501)], [(0, 0.47659197), (3, 0.49220932)], [(1, 0.44217363)], [(0, 0.6829426)], [(0, 0.5644993), (3, 0.30540293)], [(0, 0.9685987)], [(3, 0.9024811)], [(1, 0.8476717)], [(0, 0.9866692)], [(1, 0.7657217)], [(3, 0.95748883)], [(1, 0.9669527)], [(1, 0.5824811), (3, 0.31156045)], [(3, 0.9015863)], [(0, 0.47262686), (1, 0.38499206)], [(0, 0.9585173)], [(0, 0.9141754)], [(0, 0.72520274)], [(2, 0.91713107)], [(0, 0.7674239)], [(2, 0.72197515)], [(1, 0.40818307), (3, 0.5726881)], [(0, 0.4863351), (3, 0.4922919)], [(2, 0.32554454), (3, 0.55248576)], [(1, 0.9087563)], [(0, 0.42558432), (1, 0.56103754)], [(2, 0.9152415)], [(3, 0.77198803)], [(3, 0.952737)], [(1, 0.53111845), (2, 0.42264536)], [(2, 0.74132746)], [(2, 0.96858346)], [(2, 0.9274473)], [(1, 0.9403661)], [(2, 0.91636586)], [(0, 0.98563313)], [(3, 0.9474629)], [(3, 0.9404622)], [(3, 0.71815175)], [(1, 0.9096644)], [(0, 0.93645316)], [(0, 0.9617459)], [(2, 0.6850264)], [(2, 0.69227004)], [(2, 0.9860846)], [(0, 0.69861585)], [(0, 0.3515934), (1, 0.6337777)], [(0, 0.56948096), (1, 0.42093986)], [(0, 0.96171975)], [(0, 0.9783564)], [(2, 0.575268)], [(3, 0.8950512)], [(2, 0.927061)], [(1, 0.554263)], [(2, 0.90375066)], [(2, 0.72273076)], [(0, 0.5963045), (1, 0.38829967)], [(1, 0.97249556)], [(2, 0.5842337), (3, 0.3985511)], [(2, 0.56460255), (3, 0.39124462)], [(3, 0.90289325)], [(2, 0.8699742)], [(1, 0.69770753)], [(2, 0.3344705), (3, 0.62300956)], [(0, 0.93690115)], [(3, 0.93124914)], [(2, 0.3257631), (3, 0.645168)], [(0, 0.46190298), (1, 0.3251929)], [(0, 0.5835724), (1, 0.4024493)], [(2, 0.78683436)], [(1, 0.31492692), (2, 0.60609025)], [(0, 0.5003255), (1, 0.39344156)], [(3, 0.6452355)], [(1, 0.95904464)], [(2, 0.7116508)], [(3, 0.97424775)], [(3, 0.9196003)], [(1, 0.74577075)], [(3, 0.982229)], [(1, 0.6118504), (2, 0.3771308)], [(3, 0.9755818)], [(0, 0.701696)], [(3, 0.7516629)], [(0, 0.9436675)], [(3, 0.8368946)], [(2, 0.96234494)], [(2, 0.9021644)], [(3, 0.9689115)], [(0, 0.3468732), (1, 0.6426276)], [(0, 0.9688667)], [(1, 0.8574086)], [(0, 0.9364036)], [(0, 0.9784668)], [(3, 0.98148525)], [(2, 0.8684685)], [(0, 0.43949655), (2, 0.5501286)], [(2, 0.9171929)], [(3, 0.9919663)], [(1, 0.98983026)], [(3, 0.696359)], [(1, 0.9399091)], [(3, 0.6974212)], [(0, 0.9809374)], [(3, 0.93177605)], [(3, 0.97434217)], [(3, 0.81491774)], [(3, 0.9313859)], [(1, 0.97366446)], [(2, 0.98536575)], [(2, 0.8807574)], [(3, 0.75141037)], [(0, 0.730924)], [(0, 0.53858536)], [(1, 0.9407232)], [(0, 0.89333063)], [(1, 0.36265007), (3, 0.60920185)], [(0, 0.9370118)], [(3, 0.72499424)], [(0, 0.42594472), (3, 0.5587512)], [(1, 0.7253273)], [(1, 0.68162113)], [(1, 0.9923916)], [(2, 0.33800438), (3, 0.6543792)], [(0, 0.57808095), (3, 0.41309068)], [(0, 0.9542988)], [(3, 0.93157053)], [(0, 0.97750497)], [(1, 0.3915505), (3, 0.47437823)], [(0, 0.4395119), (3, 0.3363424)], [(1, 0.42768553), (3, 0.5577312)], [(0, 0.94399965)], [(0, 0.87926155)], [(3, 0.97995126)], [(3, 0.91023207)], [(3, 0.7473622)], [(0, 0.72834206)], [(3, 0.940505)], [(1, 0.46282828), (3, 0.50255674)], [(2, 0.5728597), (3, 0.41072175)], [(1, 0.7356705)], [(0, 0.37460375), (2, 0.5961247)], [(1, 0.654611), (2, 0.31367177)], [(2, 0.6312905), (3, 0.36130306)], [(3, 0.9573433)], [(3, 0.9710389)], [(0, 0.9143091)], [(0, 0.9141004)], [(0, 0.9584312)], [(2, 0.5513436), (3, 0.39785028)], [(2, 0.38417122), (3, 0.5942006)], [(0, 0.6592315), (1, 0.312602)], [(1, 0.96470016)], [(0, 0.98363686)], [(3, 0.9526809)], [(1, 0.9772024)], [(3, 0.97797674)], [(2, 0.90231323)], [(1, 0.69653606)], [(0, 0.5080483), (2, 0.47905284)], [(3, 0.74806726)], [(2, 0.6435608)], [(0, 0.5501546), (1, 0.42737132)], [(0, 0.5023429), (3, 0.48454842)], [(2, 0.44138762), (3, 0.48353142)], [(1, 0.92171186)], [(3, 0.95723146)], [(1, 0.5220923), (3, 0.44349054)], [(3, 0.95742023)], [(3, 0.8960774)], [(0, 0.9615334)], [(3, 0.9196236)], [(2, 0.98450124)], [(1, 0.98131067)], [(2, 0.40038154), (3, 0.34814197)], [(3, 0.990044)], [(3, 0.988519)], [(1, 0.35367712), (3, 0.6402668)], [(2, 0.52544546), (3, 0.447816)], [(1, 0.51596177), (3, 0.47664365)], [(2, 0.35497406), (3, 0.4578155)], [(0, 0.65714467), (3, 0.32976234)], [(0, 0.44922438), (1, 0.5439761)], [(0, 0.9138654)], [(2, 0.5009608), (3, 0.47875777)], [(3, 0.9609372)], [(1, 0.58785367), (2, 0.388218)], [(1, 0.93277854)], [(3, 0.70914364)], [(0, 0.9862443)], [(2, 0.9666999)], [(3, 0.98222286)], [(3, 0.898304)], [(1, 0.86637354)], [(2, 0.97651327)], [(3, 0.97558415)], [(1, 0.9512986)], [(3, 0.9190778)], [(2, 0.84930384)], [(3, 0.94058883)], [(1, 0.9588126)], [(1, 0.397102), (3, 0.5998275)], [(0, 0.97102827)], [(2, 0.9853712)], [(3, 0.9799695)], [(1, 0.74669564)], [(0, 0.8955799)], [(2, 0.337995), (3, 0.65438855)], [(0, 0.97380805)], [(1, 0.5721777), (3, 0.38873798)], [(0, 0.49210447), (3, 0.48807293)], [(3, 0.73549324)], [(0, 0.96149004)], [(1, 0.6328051), (2, 0.33263683)], [(1, 0.7532063)], [(1, 0.9759085)], [(0, 0.9273849)], [(0, 0.4614753), (1, 0.521759)], [(2, 0.8483651)], [(3, 0.824261)], [(2, 0.98054737)], [(3, 0.93162346)], [(1, 0.9087113)], [(2, 0.69746894)], [(1, 0.967032)], [(1, 0.97243065)], [(2, 0.9476802)], [(2, 0.70906)], [(3, 0.93142015)], [(0, 0.46521723), (3, 0.52424645)], [(2, 0.90064394)], [(0, 0.7464556)], [(0, 0.57429636), (2, 0.39952037)], [(1, 0.37861663), (3, 0.6033839)], [(1, 0.51753354), (3, 0.4732632)], [(2, 0.9927241)], [(2, 0.5794305), (3, 0.38891277)], [(0, 0.95827276)], [(2, 0.72919345)], [(1, 0.32124543), (2, 0.49151593)], [(0, 0.40346676), (1, 0.47486082)], [(2, 0.9019853)], [(2, 0.82353306)], [(0, 0.40958774), (2, 0.558573)], [(0, 0.49939743), (3, 0.35925266)], [(3, 0.84711474)], [(2, 0.6745324)], [(2, 0.39938357), (3, 0.4007009)], [(0, 0.9689286)], [(0, 0.7033126)], [(0, 0.4011086), (1, 0.58934355)], [(0, 0.98420554)], [(0, 0.98031455)], [(0, 0.5388074), (2, 0.45073506)], [(3, 0.8589963)], [(0, 0.7845295)], [(2, 0.58397436), (3, 0.3718765)], [(0, 0.44788954), (1, 0.5178283)], [(3, 0.9573802)], [(3, 0.81620985)], [(3, 0.9024768)], [(2, 0.73924226)], [(3, 0.9609236)], [(3, 0.9473913)], [(3, 0.97988427)], [(3, 0.97559786)], [(1, 0.36796692), (3, 0.6062434)], [(1, 0.3428614), (3, 0.38403285)], [(1, 0.6104578), (3, 0.35027596)], [(0, 0.50153196), (3, 0.42458186)], [(3, 0.8891793)], [(3, 0.98723745)], [(3, 0.9316406)], [(3, 0.95266974)], [(1, 0.41670862), (3, 0.40890926)], [(2, 0.97742033)], [(3, 0.970893)], [(1, 0.3454102), (2, 0.3256599), (3, 0.31306714)], [(0, 0.9618548)], [(1, 0.68378985), (3, 0.31163546)], [(3, 0.8760416)], [(1, 0.5598287)], [(0, 0.6817901)], [(3, 0.95710355)], [(3, 0.81632346)], [(0, 0.5537912)], [(3, 0.53891873)], [(2, 0.9622078)], [(0, 0.45244408), (2, 0.49190983)], [(0, 0.3271732), (2, 0.6585955)], [(2, 0.7098308)], [(2, 0.62930846), (3, 0.3453679)], [(2, 0.966628)], [(3, 0.8419818)], [(2, 0.9704334)], [(1, 0.66899794)], [(3, 0.97095066)], [(0, 0.9795948)], [(3, 0.9474476)], [(3, 0.9407897)], [(0, 0.96426886)], [(3, 0.97560006)], [(0, 0.36499465), (3, 0.35148633)], [(0, 0.30212283), (1, 0.6735219)], [(0, 0.57176065), (1, 0.34313643)], [(2, 0.34246984), (3, 0.64918166)], [(0, 0.5618288)], [(0, 0.6310994), (1, 0.33052236)], [(1, 0.40263686), (3, 0.4075114)], [(0, 0.55541235)], [(2, 0.5351848), (3, 0.33698258)], [(1, 0.7671585)], [(0, 0.95463663)], [(1, 0.9760723)], [(1, 0.8551174)], [(2, 0.935412)], [(3, 0.966527)], [(3, 0.83885705)], [(1, 0.41942433), (3, 0.5613137)], [(3, 0.9316225)], [(0, 0.6065516), (3, 0.37204888)], [(0, 0.439816)], [(0, 0.39725775), (3, 0.5795568)], [(0, 0.84350306)], [(3, 0.7450932)], [(0, 0.76755935)], [(3, 0.87525743)], [(1, 0.96214145)], [(2, 0.980671)], [(0, 0.9544251)], [(2, 0.39938837), (3, 0.40068442)], [(0, 0.8825736)], [(1, 0.64670926), (2, 0.33705017)], [(1, 0.9647635)], [(1, 0.95976305)], [(0, 0.5030124), (3, 0.4832278)], [(3, 0.9879323)], [(0, 0.36670387), (2, 0.31404215)], [(0, 0.96171707)], [(1, 0.73741925)], [(0, 0.48097098), (3, 0.49105006)], [(3, 0.8113021)], [(1, 0.33119336), (2, 0.57358277)], [(0, 0.35600102), (3, 0.627753)], [(0, 0.34140667), (1, 0.6321381)], [(2, 0.7110705)], [(0, 0.94803685)], [(3, 0.82599866)], [(3, 0.9106865)], [(0, 0.5016939), (3, 0.4820736)], [(3, 0.9945453)], [(1, 0.5581494), (3, 0.43266153)], [(3, 0.8207788)], [(0, 0.6795658), (1, 0.30692002)], [(0, 0.6727355), (3, 0.31101638)], [(0, 0.4636348), (1, 0.51951134)], [(3, 0.93126744)], [(0, 0.98737913)], [(2, 0.719891)], [(0, 0.3742599), (3, 0.61379606)], [(2, 0.54645), (3, 0.32455537)], [(3, 0.74071574)], [(3, 0.95713925)], [(2, 0.9221203)], [(2, 0.9756725)], [(0, 0.98244077)], [(2, 0.9817419)], [(2, 0.61445117), (3, 0.37874782)], [(2, 0.32808062), (3, 0.5286936)], [(0, 0.93626374)], [(2, 0.9183563)], [(3, 0.725294)], [(0, 0.45430368), (3, 0.5337675)], [(0, 0.8802032)], [(0, 0.9864173)], [(3, 0.94056916)], [(1, 0.78961)], [(0, 0.882604)], [(0, 0.6404532), (3, 0.34975824)], [(3, 0.9688778)], [(0, 0.96836084)], [(1, 0.6422317)], [(1, 0.98463047)], [(3, 0.9021445)], [(1, 0.82365227)], [(3, 0.7718896)], [(2, 0.7987916)], [(1, 0.42013866), (3, 0.33318862)], [(3, 0.96105)], [(0, 0.39090016), (2, 0.35328928)], [(0, 0.95358413)], [(0, 0.9362047)], [(0, 0.44831464), (3, 0.53190166)], [(1, 0.67555004)], [(1, 0.4275672), (2, 0.5311114)], [(0, 0.70342135)], [(0, 0.80349)], [(3, 0.94054043)], [(0, 0.37571603), (3, 0.60110813)], [(1, 0.81127924)], [(1, 0.99036723)], [(1, 0.5020416)], [(0, 0.337021), (2, 0.6418871)], [(2, 0.31032765), (3, 0.58299875)], [(1, 0.889678)], [(0, 0.9851414)], [(0, 0.69991964)], [(1, 0.5519927), (3, 0.4334356)], [(3, 0.9846656)], [(2, 0.9619355)], [(1, 0.87056875)], [(3, 0.98225874)], [(1, 0.8154288)], [(2, 0.7213064)], [(0, 0.85340095)], [(1, 0.7179659)], [(0, 0.5773079)], [(2, 0.43182927), (3, 0.55961484)], [(1, 0.57728595), (2, 0.38814312)], [(3, 0.72075194)], [(2, 0.93569595)], [(3, 0.9317524)], [(0, 0.96408373)], [(0, 0.8759231)], [(3, 0.931649)], [(0, 0.8524047)], [(3, 0.76833636)], [(2, 0.8483839)], [(1, 0.53787994), (2, 0.44644842)], [(0, 0.3271885), (3, 0.65432733)], [(0, 0.79171056)], [(3, 0.7953405)], [(3, 0.7883136)], [(0, 0.60616887), (1, 0.37612286)], [(0, 0.6738971)], [(2, 0.5922973), (3, 0.37588477)], [(3, 0.9195726)], [(0, 0.6686018), (1, 0.3069141)], [(0, 0.64496756), (1, 0.33714527)], [(1, 0.8590991)], [(3, 0.74610233)], [(3, 0.9709239)], [(1, 0.4535053), (3, 0.38875362)], [(0, 0.97837055)], [(1, 0.30855918), (3, 0.63422036)], [(2, 0.73770684)], [(3, 0.93153673)], [(0, 0.42107105), (3, 0.57064277)], [(0, 0.41054195), (2, 0.39616913)], [(1, 0.9953844)], [(1, 0.9771523)], [(0, 0.5330794), (2, 0.462515)], [(0, 0.62615633)], [(2, 0.9561454)], [(1, 0.5118137), (3, 0.47804582)], [(1, 0.7377187)], [(0, 0.91440433)], [(0, 0.4113653), (3, 0.57555753)], [(2, 0.97898376)], [(3, 0.9318189)], [(2, 0.7020275)], [(0, 0.9495393)], [(1, 0.478126), (3, 0.5048488)], [(3, 0.9527145)], [(3, 0.9198287)], [(1, 0.90905136)], [(1, 0.9690156)], [(3, 0.9611056)], [(0, 0.9534679)], [(3, 0.9611056)], [(0, 0.9541651)], [(0, 0.97257346)], [(1, 0.8893432)], [(3, 0.98411775)], [(3, 0.96902424)], [(1, 0.4631464), (3, 0.32815263)], [(1, 0.49298564), (3, 0.4917315)], [(3, 0.96408415)], [(2, 0.94706595)], [(1, 0.6616304)], [(2, 0.8827488)], [(1, 0.9178485)], [(1, 0.6971151)], [(1, 0.84910107)], [(0, 0.95433205)], [(3, 0.9572855)], [(1, 0.56744826), (2, 0.39803994)], [(1, 0.85006213)], [(0, 0.9831142)], [(1, 0.9190531)], [(3, 0.9574621)], [(0, 0.5237526), (2, 0.46618226)], [(3, 0.87522215)], [(0, 0.30994883), (3, 0.4550896)], [(2, 0.30588353), (3, 0.52742887)], [(3, 0.919617)], [(1, 0.9399932)], [(2, 0.559182)], [(0, 0.35756353), (2, 0.3859147)], [(0, 0.9079242)], [(3, 0.9666682)], [(2, 0.9595994)], [(2, 0.98856884)], [(2, 0.91564596)], [(3, 0.8315993)], [(1, 0.9907069)], [(3, 0.73181355)], [(0, 0.9617308)], [(0, 0.9268514)], [(0, 0.5296249), (3, 0.32509038)], [(0, 0.96443176)], [(3, 0.96400154)], [(2, 0.98574543)], [(0, 0.3829648), (3, 0.6069002)], [(1, 0.50831), (2, 0.4872928)], [(1, 0.45951527), (3, 0.30408403)], [(1, 0.46661735), (3, 0.5180696)], [(0, 0.3405388), (3, 0.6421873)], [(2, 0.9355484)], [(3, 0.95304084)], [(0, 0.97937894)], [(0, 0.85368276)], [(1, 0.78158796)], [(0, 0.4134238), (1, 0.57154703)], [(3, 0.96891433)], [(2, 0.95970654)], [(2, 0.36873215), (3, 0.61860186)], [(2, 0.9719259)], [(3, 0.97266835)], [(3, 0.9949344)], [(3, 0.9024765)], [(0, 0.40133834), (3, 0.55085194)], [(2, 0.5594189)], [(1, 0.571914)], [(1, 0.69935924)], [(0, 0.58647496), (2, 0.3236194)], [(3, 0.7731125)], [(3, 0.8555178)], [(1, 0.6328353), (2, 0.33260515)], [(0, 0.6073349), (1, 0.38137645)], [(0, 0.53880626), (2, 0.45073617)], [(1, 0.7515336)], [(3, 0.98558563)], [(0, 0.985516)], [(0, 0.9366755)], [(3, 0.99045014)], [(3, 0.5927205)], [(1, 0.92236644)], [(0, 0.32645527), (3, 0.6550605)], [(1, 0.93258005)], [(2, 0.9007589)], [(1, 0.3615513), (3, 0.60369104)], [(2, 0.4179658), (3, 0.5616724)], [(3, 0.94733024)], [(1, 0.96654254)], [(1, 0.5521311), (3, 0.41677287)], [(0, 0.46447986), (2, 0.5233898)], [(0, 0.9137532)], [(3, 0.9314701)], [(0, 0.30243245), (1, 0.6390533)], [(1, 0.5175382), (2, 0.44791532)], [(1, 0.98959833)], [(0, 0.5330767), (2, 0.46251768)], [(1, 0.9512814)], [(2, 0.792874)], [(3, 0.976826)], [(0, 0.9775323)], [(3, 0.9639853)], [(0, 0.7930312)], [(0, 0.40860748), (3, 0.4022089)], [(0, 0.97649467)], [(2, 0.9230724)], [(1, 0.41533795), (3, 0.58165115)], [(2, 0.833235)], [(0, 0.93555146)], [(2, 0.56740975)], [(3, 0.9193487)], [(1, 0.90864867)], [(0, 0.3210481), (3, 0.6052478)], [(0, 0.3024946), (3, 0.67212903)], [(0, 0.66661966), (3, 0.3224028)], [(1, 0.4412515), (2, 0.41204044)], [(3, 0.9314948)], [(0, 0.9260835)], [(0, 0.34066176), (2, 0.62726516)], [(2, 0.8995832)], [(2, 0.9619812)], [(1, 0.63422835), (2, 0.35478196)], [(3, 0.98849857)], [(3, 0.97802407)], [(0, 0.5811102), (3, 0.4004601)], [(0, 0.43898946), (1, 0.5265824)], [(0, 0.4821624), (1, 0.4216325)], [(0, 0.43372104), (3, 0.40973973)], [(3, 0.94054973)], [(2, 0.9704341)], [(0, 0.431499), (3, 0.5279581)], [(1, 0.52619505)], [(1, 0.96712524)], [(3, 0.7978459)], [(1, 0.95129144)], [(0, 0.37375483), (2, 0.5026035)], [(2, 0.93131804)], [(1, 0.9088858)], [(2, 0.9425512)], [(0, 0.9667814)], [(0, 0.7376868)], [(3, 0.78350276)], [(0, 0.5831935), (3, 0.395426)], [(0, 0.6919481)], [(3, 0.5849158)], [(0, 0.96387315)], [(2, 0.9527106)], [(0, 0.89607364)], [(3, 0.9667214)], [(2, 0.7367569)], [(3, 0.7836566)], [(0, 0.49127465), (1, 0.49178314)], [(0, 0.67297035), (3, 0.32003394)], [(3, 0.754427)], [(0, 0.37982467), (1, 0.6154761)], [(0, 0.5810455), (3, 0.4005248)], [(3, 0.6901642)], [(0, 0.7476511)], [(2, 0.9702136)], [(0, 0.9137257)], [(3, 0.94751084)], [(2, 0.803163)], [(0, 0.36835632), (1, 0.38280338)], [(1, 0.5595101)], [(2, 0.74488217)], [(2, 0.59612554)], [(1, 0.44025144), (3, 0.5377126)], [(0, 0.38253745), (1, 0.58306736)], [(2, 0.758415)], [(1, 0.98131526)], [(1, 0.7319146)], [(2, 0.9703685)], [(0, 0.3202658), (3, 0.36111465)], [(3, 0.930984)], [(0, 0.78617764)], [(0, 0.96872425)], [(0, 0.7698187)], [(1, 0.63086015)], [(1, 0.5763023), (3, 0.39262018)], [(3, 0.87629664)], [(0, 0.62225205), (1, 0.3550383)], [(0, 0.6461761), (3, 0.33243096)], [(3, 0.9314519)], [(1, 0.72124505)], [(3, 0.71504444)], [(2, 0.37102222), (3, 0.60734165)], [(2, 0.92742884)], [(1, 0.7906588)], [(1, 0.60951805), (3, 0.34672156)], [(1, 0.409071), (2, 0.51227075)], [(1, 0.3783297), (3, 0.38299116)], [(0, 0.40624022), (3, 0.5723861)], [(0, 0.6786651), (3, 0.30990338)], [(2, 0.3687147), (3, 0.61861926)], [(1, 0.92239827)], [(2, 0.5259015), (3, 0.457673)], [(2, 0.96859366)], [(3, 0.54516125)], [(3, 0.9667856)], [(0, 0.34565625), (1, 0.33111817), (3, 0.31956095)], [(2, 0.91658485)], [(1, 0.97725326)], [(3, 0.94746655)], [(3, 0.89503956)], [(1, 0.8239217)], [(3, 0.98076916)], [(3, 0.7487665)], [(2, 0.9717202)], [(3, 0.76425564)], [(0, 0.3746021), (3, 0.61344963)], [(3, 0.90182304)], [(1, 0.7943529)], [(3, 0.9689495)], [(2, 0.68720466), (3, 0.30670375)], [(0, 0.94807273)], [(3, 0.9756089)], [(0, 0.9365951)], [(0, 0.5959619)], [(0, 0.5730957), (1, 0.4139905)], [(2, 0.3190957), (3, 0.5459035)], [(3, 0.7992489)], [(1, 0.5387558)], [(1, 0.48935005), (3, 0.5014202)], [(0, 0.6639676), (2, 0.32100734)], [(1, 0.7671002)], [(1, 0.93113893)], [(0, 0.9639395)], [(0, 0.9667731)], [(0, 0.4188919), (2, 0.569402)], [(3, 0.7638442)], [(0, 0.62893057)], [(2, 0.90217084)], [(0, 0.7071101)], [(1, 0.43804374), (2, 0.3587664)], [(0, 0.8965533)], [(3, 0.6916051)], [(0, 0.9487338)], [(3, 0.56870943)], [(0, 0.35471934), (3, 0.6046319)], [(2, 0.46518847), (3, 0.4237918)], [(0, 0.9367971)], [(3, 0.8828891)], [(1, 0.37161458)], [(1, 0.3985878), (3, 0.41612488)], [(0, 0.75413626)], [(1, 0.30891535), (3, 0.67147887)], [(0, 0.9534524)], [(1, 0.9669333)], [(0, 0.9738065)], [(0, 0.9129983)], [(2, 0.8660632)], [(0, 0.94977486)], [(2, 0.96432275)], [(1, 0.5083141), (2, 0.4872887)], [(0, 0.9774176)], [(0, 0.9366925)], [(2, 0.45286196), (3, 0.52041733)], [(1, 0.58899415), (2, 0.36484548)], [(2, 0.6118261)], [(2, 0.93634444)], [(3, 0.94742185)], [(2, 0.32866892), (3, 0.6197748)], [(0, 0.7393255)], [(2, 0.66413116)], [(0, 0.47662538), (3, 0.49217588)], [(3, 0.9022397)], [(0, 0.9141472)], [(2, 0.96209544)], [(0, 0.40358222), (1, 0.37140495)], [(0, 0.86727965)], [(1, 0.83928174)], [(0, 0.926205)], [(0, 0.9669465)], [(2, 0.8817436)], [(3, 0.7335219)], [(2, 0.6703945), (3, 0.3006235)], [(3, 0.9884978)], [(2, 0.79166806)], [(1, 0.86259323)], [(2, 0.7422429)], [(1, 0.56196254), (3, 0.42854884)], [(2, 0.9170347)], [(0, 0.9665449)], [(3, 0.9193421)], [(0, 0.48595423), (1, 0.5050121)], [(0, 0.50069934), (1, 0.31520388)], [(0, 0.72903866)], [(2, 0.3958806), (3, 0.5908866)], [(3, 0.9316623)], [(1, 0.58156615), (2, 0.36672103)], [(1, 0.4444112)], [(3, 0.61042917)], [(2, 0.47834113), (3, 0.5129025)], [(2, 0.97449064)], [(0, 0.5554901), (2, 0.41761425)], [(1, 0.6236855)], [(0, 0.9817158)], [(0, 0.97094905)], [(3, 0.9408699)], [(0, 0.39395228), (1, 0.38260448)], [(0, 0.45968908), (1, 0.5321139)], [(0, 0.95398355)], [(2, 0.9023748)], [(0, 0.9260089)], [(0, 0.9709019)], [(2, 0.7801502)], [(2, 0.508335), (3, 0.46262473)], [(1, 0.46382493), (2, 0.5088905)], [(2, 0.71427464)], [(0, 0.7327514)], [(3, 0.9202388)], [(2, 0.3548204), (3, 0.6301838)], [(2, 0.8027769)], [(0, 0.91431457)], [(0, 0.6999036)], [(0, 0.96666753)], [(1, 0.95920455)], [(0, 0.39272618), (2, 0.40302336)], [(2, 0.95271194)], [(1, 0.5690778), (3, 0.31508029)], [(3, 0.8886845)], [(1, 0.39705583), (2, 0.3192312)], [(1, 0.9722178)], [(1, 0.978954)], [(1, 0.44840717), (2, 0.5412036)], [(1, 0.43573382), (3, 0.5582023)], [(3, 0.94386107)], [(0, 0.97539854)], [(3, 0.8746097)], [(3, 0.85894215)], [(0, 0.3190216), (3, 0.53774965)], [(2, 0.6345317), (3, 0.36330238)], [(0, 0.4478061), (3, 0.524181)], [(3, 0.95734507)], [(0, 0.5589365), (1, 0.40702218)], [(2, 0.75117165)], [(2, 0.9641241)], [(3, 0.65560174)], [(2, 0.7081091)], [(0, 0.79452646)], [(1, 0.8702345)], [(3, 0.983556)], [(2, 0.33502617), (3, 0.643353)], [(2, 0.79061466)], [(0, 0.39061522), (1, 0.46141076)], [(0, 0.3738026), (1, 0.6082692)], [(0, 0.34480584), (1, 0.6452754)], [(3, 0.9742948)], [(0, 0.9369815)], [(1, 0.32622424), (3, 0.49729156)], [(3, 0.94744545)], [(1, 0.977157)], [(1, 0.96213734)], [(2, 0.98360157)], [(2, 0.9595933)], [(1, 0.95599115)], [(3, 0.69703317)], [(0, 0.38558117), (2, 0.49520773)], [(1, 0.39709166), (3, 0.59983784)], [(2, 0.8349536)], [(0, 0.9539725)], [(3, 0.9755331)], [(0, 0.9497728)], [(3, 0.95733625)], [(3, 0.96089435)], [(3, 0.94049853)], [(1, 0.95587355)], [(3, 0.95304406)], [(3, 0.7991749)], [(3, 0.96664435)], [(2, 0.9275998)], [(1, 0.42049575)], [(2, 0.7992231)], [(0, 0.39099923), (3, 0.585826)], [(3, 0.826053)], [(1, 0.4422409), (3, 0.38986748)], [(2, 0.95970446)], [(2, 0.79762566)], [(3, 0.76791745)], [(3, 0.7001485)], [(3, 0.82969445)], [(0, 0.96662927)], [(1, 0.4008217), (2, 0.5888081)], [(3, 0.7633311)], [(0, 0.52428824), (1, 0.4531113)], [(0, 0.97528386)], [(0, 0.5573801)], [(0, 0.97933525)], [(0, 0.7211465)], [(3, 0.9742629)], [(2, 0.5313906), (3, 0.33350044)], [(2, 0.9273043)], [(1, 0.97078806)], [(0, 0.5248856), (1, 0.4576796)], [(1, 0.9831024)], [(1, 0.34280092), (3, 0.64801776)], [(3, 0.8613426)], [(1, 0.60869384), (3, 0.37743738)], [(2, 0.5976325)], [(0, 0.6593517), (3, 0.30538037)], [(2, 0.53910726), (3, 0.4405462)], [(0, 0.43160248)], [(3, 0.87593067)], [(1, 0.6990086)], [(0, 0.66561097), (1, 0.32387632)], [(2, 0.9730326)], [(2, 0.90451694)], [(0, 0.9709387)], [(3, 0.9608867)], [(0, 0.9540086)], [(2, 0.36174157)], [(0, 0.43313873), (1, 0.41765535)], [(0, 0.86689365)], [(1, 0.48221537), (3, 0.4997281)], [(1, 0.8677892)], [(3, 0.8717404)], [(0, 0.40617245), (3, 0.5625867)], [(3, 0.57175595)], [(0, 0.50114787), (3, 0.4734668)], [(0, 0.30816934), (3, 0.67806983)], [(0, 0.358297), (3, 0.61370337)], [(2, 0.37630156), (3, 0.6099028)], [(1, 0.8464616)], [(2, 0.9824395)], [(0, 0.96174145)], [(0, 0.46761212), (3, 0.48461267)], [(3, 0.9474363)], [(3, 0.8363172)], [(0, 0.43203157), (2, 0.54700655)], [(1, 0.9306272)], [(0, 0.91323304)], [(1, 0.4484937), (2, 0.50566417)], [(1, 0.6923027)], [(0, 0.47056997), (1, 0.3266288)], [(0, 0.71562254)], [(0, 0.6774026)], [(0, 0.52136445), (3, 0.46765217)], [(0, 0.812675)], [(0, 0.8324986)], [(3, 0.98407084)], [(0, 0.9846761)], [(2, 0.7248806)], [(1, 0.3207369), (3, 0.44393766)], [(0, 0.32440835), (3, 0.6661549)], [(2, 0.30878243), (3, 0.6774764)], [(0, 0.92752075)], [(2, 0.640767), (3, 0.3239719)], [(1, 0.98416615)], [(1, 0.513491), (3, 0.4819994)], [(3, 0.7659502)], [(0, 0.6108994), (3, 0.35376552)], [(0, 0.82913566)], [(3, 0.9529304)], [(3, 0.7264957)], [(2, 0.94262344)], [(0, 0.9142873)], [(1, 0.96904254)], [(1, 0.41283998), (2, 0.54961014)], [(2, 0.9755838)], [(2, 0.6256891), (3, 0.3586787)], [(3, 0.961083)], [(2, 0.3305981), (3, 0.40581948)], [(0, 0.55889547), (2, 0.40281653)], [(0, 0.9365623)], [(3, 0.9530565)], [(0, 0.92748845)], [(0, 0.6639777), (2, 0.32099727)], [(0, 0.45834532), (3, 0.53021324)], [(2, 0.908193)], [(2, 0.7614132)], [(0, 0.49276423), (3, 0.37534443)], [(2, 0.96710503)], [(3, 0.9573684)], [(0, 0.9439632)], [(1, 0.90888435)], [(0, 0.51842517), (3, 0.31535226)], [(3, 0.9780318)], [(1, 0.9671036)], [(0, 0.9644577)], [(2, 0.71763206)], [(0, 0.6093235), (2, 0.38292468)], [(3, 0.878235)], [(0, 0.8252539)], [(3, 0.9639539)], [(2, 0.3265127), (3, 0.6644803)], [(1, 0.35196972), (3, 0.63752097)], [(0, 0.5082282), (1, 0.46539685)], [(1, 0.86261755)], [(3, 0.9530803)], [(0, 0.30201474), (1, 0.67363006)], [(3, 0.82637876)], [(1, 0.81861174)], [(2, 0.42021906), (3, 0.54439044)], [(1, 0.4276698), (3, 0.3316648)], [(0, 0.95829356)], [(2, 0.42200324), (3, 0.4919656)], [(2, 0.833285)], [(3, 0.8002879)], [(2, 0.74161196)], [(0, 0.97256786)], [(2, 0.75769216)], [(0, 0.89655286)], [(1, 0.9594052)], [(2, 0.9157755)], [(3, 0.9756266)], [(0, 0.57273686), (1, 0.4143492)], [(0, 0.9763462)], [(0, 0.9363635)], [(3, 0.9667197)], [(0, 0.55262846), (3, 0.3822289)], [(0, 0.47163475), (3, 0.5207776)], [(2, 0.88060236)], [(1, 0.90874135)], [(2, 0.35719475), (3, 0.35544866)], [(0, 0.7279606)], [(2, 0.507728), (3, 0.48084658)], [(0, 0.39053595), (3, 0.32535672)], [(0, 0.536114), (1, 0.4585614)], [(2, 0.4391625), (3, 0.52155894)], [(0, 0.3984816), (1, 0.5916368)], [(0, 0.35398126), (3, 0.5787738)], [(1, 0.36877), (3, 0.57786083)], [(0, 0.9267887)], [(1, 0.73713225)], [(3, 0.94741803)], [(3, 0.59316456)], [(0, 0.43885368), (2, 0.5126235)], [(0, 0.37094036)], [(0, 0.5425149), (2, 0.44580743)], [(1, 0.9556013)], [(0, 0.97846913)], [(1, 0.96687114)], [(0, 0.9265062)], [(2, 0.95257264)], [(0, 0.9540448)], [(2, 0.9595781)], [(0, 0.6849662)], [(0, 0.642539), (1, 0.3466518)], [(3, 0.9028319)], [(1, 0.9088472)], [(0, 0.47926676), (2, 0.3359773)], [(3, 0.9742883)], [(3, 0.64036953)], [(3, 0.72280973)], [(0, 0.96438)], [(0, 0.9667765)], [(3, 0.9708634)], [(2, 0.83857304)], [(0, 0.79161006)], [(2, 0.9353018)], [(3, 0.90259004)], [(2, 0.3412654), (3, 0.63572633)], [(1, 0.5772913), (3, 0.41051522)], [(2, 0.9644961)], [(1, 0.9517006)], [(0, 0.69575804)], [(1, 0.9818766)], [(0, 0.47320384), (3, 0.5105706)], [(3, 0.65650785)], [(0, 0.8315136)], [(0, 0.94939053)], [(2, 0.9419455)], [(0, 0.80640835)], [(0, 0.97102374)], [(3, 0.9789223)], [(3, 0.9689199)], [(1, 0.5664732)], [(0, 0.34632158), (3, 0.64058864)], [(0, 0.9689658)], [(0, 0.48257932), (1, 0.46788892)], [(0, 0.96163625)], [(0, 0.6496714)], [(3, 0.990458)], [(0, 0.58280057), (2, 0.33056566)], [(1, 0.9514499)], [(1, 0.72380173)], [(2, 0.9020858)], [(0, 0.9877646)], [(3, 0.8581881)], [(1, 0.68735504)], [(1, 0.49747986), (2, 0.30317205)], [(2, 0.7929132)], [(1, 0.8883289)], [(2, 0.7331612)], [(3, 0.95735437)], [(2, 0.986462)], [(2, 0.8650569)], [(0, 0.8969342)], [(3, 0.78192186)], [(1, 0.5390188)], [(0, 0.58507264), (2, 0.39489293)], [(1, 0.984675)], [(3, 0.94768536)], [(0, 0.9775651)], [(3, 0.71112514)], [(0, 0.4482377), (3, 0.5164543)], [(3, 0.931255)], [(2, 0.7030131)], [(2, 0.8111177)], [(1, 0.9555162)], [(0, 0.86344135)], [(0, 0.5797047)], [(0, 0.6089426)], [(3, 0.93140393)], [(0, 0.93636376)], [(3, 0.3201383)], [(0, 0.5498696), (2, 0.40312535)], [(2, 0.9777053)], [(2, 0.38850948), (3, 0.5725128)], [(3, 0.9609543)], [(1, 0.8775946)], [(0, 0.3742428), (3, 0.6138131)], [(1, 0.95941275)], [(0, 0.37427446), (2, 0.49541977)], [(1, 0.42854273), (3, 0.5612998)], [(0, 0.37489477), (3, 0.3954264)], [(3, 0.9640018)], [(0, 0.7288283)], [(3, 0.9570861)], [(3, 0.9639999)], [(3, 0.9312546)], [(0, 0.96715754)], [(1, 0.92220175)], [(1, 0.3467038), (3, 0.64278674)], [(3, 0.9641793)], [(0, 0.96444124)], [(1, 0.69121933)], [(0, 0.86575556)], [(0, 0.894516)], [(0, 0.58183473), (3, 0.40443078)], [(0, 0.462731), (2, 0.3251252)], [(3, 0.9690024)], [(0, 0.8436026)], [(3, 0.737244)], [(2, 0.87739927)], [(1, 0.93230796)], [(2, 0.9462198)], [(2, 0.6809085)], [(3, 0.9709787)], [(2, 0.8737616)], [(2, 0.947064)], [(0, 0.9128185)], [(1, 0.71296835)], [(0, 0.42006814), (3, 0.3956282)], [(3, 0.9779909)], [(2, 0.45290834), (3, 0.51782167)], [(0, 0.9543812)], [(0, 0.9835607)], [(0, 0.75627637)], [(1, 0.42613673), (2, 0.5021903)], [(3, 0.8686901)], [(0, 0.5264643), (1, 0.46473935)], [(0, 0.36128014), (2, 0.6196034)], [(2, 0.7524382)], [(1, 0.31520134), (2, 0.67440546)], [(0, 0.5888794), (3, 0.39579508)], [(1, 0.40721616), (2, 0.5021478)], [(0, 0.94398624)], [(2, 0.8332235)], [(0, 0.9362174)], [(0, 0.9265981)], [(3, 0.98153883)], [(3, 0.9768818)], [(1, 0.33742076), (3, 0.40770087)], [(2, 0.33249414), (3, 0.660675)], [(1, 0.68756706)], [(0, 0.48123595), (1, 0.5009592)], [(0, 0.6140012), (2, 0.37557444)], [(1, 0.39167705), (3, 0.6007229)], [(1, 0.63590056)], [(2, 0.56996006), (3, 0.42125255)], [(3, 0.9187528)], [(0, 0.453205), (1, 0.5158275)], [(0, 0.92526305)], [(0, 0.94394344)], [(2, 0.37904525), (3, 0.4241118)], [(0, 0.7026494)], [(0, 0.6729885), (3, 0.32001585)], [(2, 0.98305017)], [(0, 0.96433896)], [(3, 0.96653146)], [(3, 0.95287263)], [(0, 0.5134098), (2, 0.46764868)], [(2, 0.6611397), (3, 0.32746798)], [(0, 0.6125154), (2, 0.36225942)], [(0, 0.31461495), (3, 0.5073173)], [(0, 0.5789228), (1, 0.31250557)], [(3, 0.9822171)], [(3, 0.50916797)], [(0, 0.4728126), (3, 0.5118898)], [(3, 0.43942204)], [(0, 0.692332)], [(2, 0.32845616), (3, 0.6208935)], [(3, 0.9406723)], [(3, 0.9188003)], [(2, 0.9824392)], [(2, 0.7511035)], [(0, 0.9739861)], [(2, 0.96846396)], [(1, 0.9779456)], [(0, 0.98703974)], [(1, 0.72500384)], [(3, 0.9526881)], [(0, 0.44686946), (1, 0.52692837)], [(0, 0.91413)], [(0, 0.7783913)], [(3, 0.9025702)], [(0, 0.95815206)], [(0, 0.7682955)], [(2, 0.62334245)], [(3, 0.9527373)], [(0, 0.6341483), (3, 0.34048656)], [(2, 0.9158769)], [(3, 0.9789791)], [(2, 0.6515323)], [(1, 0.67555684)], [(0, 0.92710555)], [(1, 0.9840893)], [(1, 0.32302812), (3, 0.66975003)], [(1, 0.98309755)], [(2, 0.96875614)], [(3, 0.8846055)], [(3, 0.9949821)], [(0, 0.31442708), (3, 0.592803)], [(1, 0.97708577)], [(0, 0.33341855), (3, 0.6452379)], [(2, 0.6118235)], [(1, 0.44217497), (3, 0.39010033)], [(3, 0.67745996)], [(0, 0.31781173), (1, 0.675776)], [(1, 0.49124533), (3, 0.31556684)], [(3, 0.95708555)], [(3, 0.7561661)], [(3, 0.9743144)], [(0, 0.8790648)], [(2, 0.46170038), (3, 0.5251005)], [(0, 0.7792565)], [(3, 0.9799121)], [(0, 0.950211)], [(3, 0.7692656)], [(0, 0.9110802)], [(3, 0.77112705)], [(3, 0.73483855)], [(3, 0.9710389)], [(2, 0.52334875)], [(1, 0.6098825), (3, 0.38252816)], [(0, 0.9584661)], [(2, 0.9032264)], [(1, 0.5083295), (2, 0.4872737)], [(0, 0.9145761)], [(2, 0.72382444)], [(0, 0.59167635)], [(0, 0.60347134), (3, 0.3834457)], [(0, 0.8283708)], [(0, 0.6309842)], [(0, 0.9750912)], [(1, 0.4363223), (3, 0.5541647)], [(3, 0.9192424)], [(0, 0.8536594)], [(0, 0.33962956), (3, 0.6493965)], [(3, 0.9609085)], [(0, 0.7085477)], [(0, 0.31432948), (2, 0.51534945)], [(1, 0.45025387), (2, 0.53706163)], [(1, 0.70199364)], [(3, 0.90271825)], [(0, 0.5727498), (1, 0.41433638)], [(3, 0.96654207)], [(0, 0.94973904)], [(0, 0.98563325)], [(0, 0.52999973), (3, 0.41201484)], [(0, 0.7244936)], [(3, 0.9688875)], [(0, 0.3894402), (2, 0.31294206)], [(2, 0.9479038)], [(1, 0.97230554)], [(3, 0.8448174)], [(3, 0.9524782)], [(1, 0.39375868), (2, 0.5858503)], [(3, 0.9023301)], [(0, 0.557498), (1, 0.39283177)], [(2, 0.92768556)], [(3, 0.5773897)], [(3, 0.96904224)], [(0, 0.7044099)], [(3, 0.9039274)], [(3, 0.98138297)], [(3, 0.8212863)], [(1, 0.43571833), (3, 0.5582179)], [(3, 0.93167347)], [(2, 0.7178555)], [(1, 0.93229175)], [(0, 0.9689602)], [(1, 0.76615614)], [(0, 0.36411047), (3, 0.62982345)], [(0, 0.57648814), (1, 0.40079987)], [(2, 0.77270174)], [(3, 0.8754734)], [(3, 0.54531574)], [(2, 0.67616683), (3, 0.3172588)], [(2, 0.5876231)], [(1, 0.4290641)], [(0, 0.8950978)], [(0, 0.98407817)], [(3, 0.9027657)], [(1, 0.9936838)], [(0, 0.36896473), (3, 0.59042674)], [(3, 0.75510275)], [(0, 0.96443146)], [(0, 0.43324265), (3, 0.3070839)], [(0, 0.3393456), (2, 0.6369576)], [(2, 0.92764914)], [(3, 0.9530415)], [(0, 0.4966431), (1, 0.48869714)], [(1, 0.9621269)], [(0, 0.50443584), (3, 0.47418657)], [(0, 0.49783164), (1, 0.47953987)], [(0, 0.37425974), (1, 0.33506596)], [(1, 0.92228395)], [(1, 0.69009835)], [(1, 0.82269174)], [(0, 0.6416033), (1, 0.34962213)], [(3, 0.72661775)], [(0, 0.9138101)], [(3, 0.634068)], [(3, 0.97803444)], [(3, 0.8874106)], [(0, 0.38727787), (2, 0.60832757)], [(2, 0.43086714), (3, 0.5542123)], [(1, 0.8891289)], [(1, 0.42253312), (3, 0.3340467)], [(0, 0.8125723)], [(3, 0.70217943)], [(1, 0.9091176)], [(3, 0.9743242)], [(3, 0.9666691)], [(1, 0.46827108), (2, 0.5189451)], [(3, 0.95306534)], [(3, 0.957416)], [(0, 0.6110668)], [(3, 0.94087124)], [(3, 0.97686887)], [(0, 0.978471)], [(3, 0.91968745)], [(2, 0.6046175), (3, 0.3248815)], [(1, 0.9553634)], [(0, 0.3925076)], [(0, 0.9134823)], [(0, 0.84813464)], [(2, 0.9424198)], [(0, 0.97256136)], [(0, 0.48791274), (1, 0.49800482)], [(3, 0.81283134)], [(3, 0.970879)], [(3, 0.68438613)], [(1, 0.47525978), (2, 0.3021144)], [(2, 0.71423703)], [(0, 0.539514), (2, 0.43489534)], [(3, 0.8723082)], [(0, 0.3338491), (2, 0.49588308)], [(2, 0.87487906)], [(0, 0.9641827)], [(0, 0.92060167)], [(0, 0.60249174), (1, 0.38064063)], [(0, 0.9783371)], [(0, 0.8292488)], [(3, 0.9021153)], [(0, 0.38832447), (3, 0.59189343)], [(0, 0.7925597)], [(2, 0.4504402), (3, 0.54287297)], [(3, 0.9403711)], [(1, 0.5716725), (2, 0.42346317)], [(3, 0.72280896)], [(1, 0.8595422)], [(1, 0.34019217), (3, 0.6251521)], [(3, 0.7554932)], [(1, 0.85862434)], [(0, 0.7459687)], [(3, 0.94076276)], [(3, 0.8245163)], [(3, 0.68415195)], [(2, 0.9866506)], [(0, 0.69864523)], [(0, 0.93624777)], [(2, 0.896284)], [(0, 0.75675946)], [(3, 0.48789045)], [(2, 0.4800046), (3, 0.50815755)], [(3, 0.7607654)], [(3, 0.9474812)], [(0, 0.3769953), (3, 0.59762335)], [(1, 0.8937407)], [(1, 0.6729738)], [(1, 0.89013547)], [(0, 0.40597615), (2, 0.48788923)], [(2, 0.8034117)], [(1, 0.677919), (2, 0.30810934)], [(1, 0.74572915)], [(1, 0.39890033), (3, 0.5951765)], [(2, 0.92760724)], [(1, 0.96653837)], [(0, 0.93588114)], [(2, 0.9168464)], [(1, 0.45253417), (2, 0.530401)], [(1, 0.5060969)], [(1, 0.6691398), (2, 0.31684235)], [(2, 0.70984316)], [(1, 0.95561934)], [(0, 0.7559156)], [(1, 0.64160085)], [(3, 0.9742953)], [(0, 0.55891424), (2, 0.4157333)], [(2, 0.80486494)], [(3, 0.9666794)], [(0, 0.3601561), (1, 0.4762696)], [(2, 0.47912425)], [(3, 0.8309845)], [(1, 0.5946299), (2, 0.37082216)], [(1, 0.53195626), (2, 0.4265032)], [(0, 0.6736112), (1, 0.31915212)], [(1, 0.59804827), (2, 0.33094046)], [(3, 0.81901425)], [(2, 0.9860843)], [(1, 0.5154487), (3, 0.4640099)], [(3, 0.9026004)], [(0, 0.6897911), (3, 0.30621287)], [(1, 0.5538939)], [(3, 0.8413476)], [(0, 0.41911474), (3, 0.37696525)], [(0, 0.9794016)], [(0, 0.973855)], [(1, 0.58730763), (3, 0.40912533)], [(0, 0.81496793)], [(2, 0.30875576), (3, 0.6775031)], [(0, 0.3336791), (3, 0.6568747)], [(3, 0.97799003)], [(2, 0.41310322), (3, 0.4123642)], [(2, 0.93569666)], [(1, 0.32359552), (3, 0.6559372)], [(0, 0.9141044)], [(1, 0.9620563)], [(1, 0.6947278)], [(1, 0.9463545)], [(1, 0.3504929), (3, 0.6441897)], [(3, 0.86690086)], [(0, 0.39060545), (1, 0.4614085)], [(0, 0.8151745)], [(2, 0.4462746), (3, 0.53205603)], [(2, 0.6313016), (3, 0.361292)], [(3, 0.9904566)], [(0, 0.93708634)], [(0, 0.8772242)], [(3, 0.75334877)], [(1, 0.5030462), (3, 0.47774133)], [(0, 0.30351603), (1, 0.6763572)], [(1, 0.8567374)], [(1, 0.9647824)], [(3, 0.9799715)], [(0, 0.6706609), (1, 0.32059965)], [(1, 0.9836318)], [(0, 0.79328865)], [(2, 0.73313475)], [(1, 0.9062703)], [(0, 0.75045323)], [(3, 0.8260152)], [(3, 0.96661544)], [(0, 0.7623163)], [(1, 0.46376735), (3, 0.5142442)], [(0, 0.9584635)], [(3, 0.7752977)], [(0, 0.6322011), (3, 0.3423942)], [(0, 0.3669673), (2, 0.6109206)], [(3, 0.98689103)], [(2, 0.56300265), (3, 0.41221514)], [(1, 0.77149415)], [(0, 0.98861885)], [(0, 0.97846776)], [(1, 0.83659977)], [(0, 0.93944675)], [(0, 0.76979834)], [(3, 0.9573936)], [(1, 0.73455423)], [(0, 0.4243735), (2, 0.5242527)], [(1, 0.95506716)], [(2, 0.68453), (3, 0.3017091)], [(0, 0.9795091)], [(0, 0.74277335)], [(0, 0.5380587), (3, 0.44053543)], [(1, 0.9669724)], [(1, 0.50247777), (3, 0.48662668)], [(0, 0.63058734), (2, 0.34586918)], [(1, 0.9319812)], [(1, 0.9813361)], [(0, 0.41311666), (1, 0.46519038)], [(0, 0.3942847), (1, 0.58709097)], [(2, 0.9833764)], [(3, 0.78354734)], [(2, 0.69124216)], [(0, 0.43914112)], [(3, 0.974184)], [(1, 0.9622291)], [(2, 0.9428977)], [(0, 0.60007185), (3, 0.3767146)], [(0, 0.4055081), (3, 0.30089784)], [(2, 0.95274824)], [(0, 0.86573714)], [(0, 0.36677417), (1, 0.59879774)], [(0, 0.33642834), (1, 0.5564248)], [(1, 0.72887677)], [(0, 0.9667644)], [(0, 0.8292478)], [(3, 0.9572677)], [(2, 0.92766607)], [(1, 0.7903854)], [(0, 0.92756706)], [(1, 0.7906539)], [(3, 0.96664375)], [(0, 0.91311187)], [(0, 0.4364784), (1, 0.5290937)], [(0, 0.70287275)], [(3, 0.95746255)], [(0, 0.61725956), (3, 0.368976)], [(2, 0.8083699)], [(2, 0.9702475)], [(3, 0.66922146)], [(1, 0.32976058), (3, 0.66245025)], [(3, 0.5931586)], [(1, 0.53862023), (3, 0.44913685)], [(2, 0.752342)], [(0, 0.94371825)], [(1, 0.70199126)], [(3, 0.98788077)], [(0, 0.6503642)], [(0, 0.78757375)], [(1, 0.4700644), (3, 0.5219622)], [(2, 0.97009796)], [(0, 0.36531526), (2, 0.5962756)], [(0, 0.5018187), (3, 0.41120738)], [(3, 0.93169165)], [(1, 0.87317854)], [(2, 0.93619365)], [(0, 0.9803187)], [(0, 0.7717878)], [(3, 0.95739627)], [(2, 0.7012484)], [(3, 0.9198446)], [(3, 0.95268357)], [(0, 0.32438493), (3, 0.6661784)], [(0, 0.7854749)], [(0, 0.33531085), (2, 0.63258976)], [(0, 0.774054)], [(0, 0.6247196), (3, 0.33473423)], [(3, 0.6617032)], [(1, 0.95601684)], [(3, 0.4918742)], [(3, 0.8421754)], [(0, 0.52970207), (1, 0.42042756)], [(2, 0.36747396), (3, 0.6206854)], [(0, 0.97638404)], [(0, 0.46423137), (2, 0.4927011)], [(2, 0.71992266)], [(0, 0.54178655), (2, 0.42648122)], [(0, 0.33517227), (2, 0.6468597)], [(3, 0.95697725)], [(1, 0.55502635), (3, 0.30735785)], [(0, 0.8755744)], [(2, 0.7558676)], [(2, 0.92742175)], [(2, 0.65146345)], [(1, 0.97916657)], [(2, 0.7710096)], [(0, 0.89613914)], [(1, 0.6143154)], [(0, 0.56985974), (2, 0.38189226)], [(0, 0.987036)], [(3, 0.9404779)], [(2, 0.7388909)], [(0, 0.49287894), (2, 0.32941684)], [(0, 0.61126614), (3, 0.38045684)], [(3, 0.7371992)], [(1, 0.44849008), (2, 0.5056678)], [(0, 0.38195935), (2, 0.5942319)], [(2, 0.4538961), (3, 0.44009733)], [(3, 0.95736647)], [(0, 0.3118164), (3, 0.57895)], [(1, 0.73127395)], [(2, 0.48836392), (3, 0.43864915)], [(0, 0.574576)], [(0, 0.415685), (2, 0.5749412)], [(0, 0.43951383), (2, 0.55011123)], [(1, 0.5888094), (3, 0.3984566)], [(0, 0.49634165), (1, 0.3193043)], [(1, 0.9559928)], [(3, 0.87420493)], [(0, 0.9831121)], [(2, 0.90208805)], [(2, 0.96650964)], [(1, 0.62319106)], [(1, 0.8590733)], [(0, 0.79231155)], [(2, 0.927505)], [(3, 0.8872718)], [(3, 0.78997546)], [(0, 0.94979846)], [(0, 0.8356587)], [(3, 0.97432476)], [(1, 0.8115898)], [(1, 0.9405146)], [(0, 0.9795744)], [(1, 0.7132804)], [(0, 0.6854676)], [(0, 0.75278205)], [(1, 0.82809263)], [(3, 0.7108023)], [(2, 0.97746325)], [(1, 0.8846331)], [(0, 0.59705424), (3, 0.39863402)], [(3, 0.9529814)], [(3, 0.8268553)], [(2, 0.560754), (3, 0.42498058)], [(2, 0.74686253)], [(3, 0.9846497)], [(0, 0.68260604)], [(0, 0.44964185), (3, 0.5372607)], [(3, 0.9472862)], [(0, 0.43811494), (1, 0.45606312)], [(2, 0.68713796)], [(1, 0.38873187), (2, 0.6036785)], [(0, 0.7499201)], [(1, 0.9457773)], [(3, 0.8054507)], [(0, 0.5902153)], [(1, 0.98731685)], [(0, 0.81665885)], [(2, 0.9089827)], [(2, 0.6992907)], [(3, 0.9742872)], [(0, 0.50734633), (2, 0.45792565)], [(1, 0.80621785)], [(3, 0.9573659)], [(2, 0.6258995), (3, 0.35237557)], [(3, 0.9798864)], [(0, 0.9639294)], [(0, 0.7500974)], [(2, 0.8204852)], [(1, 0.9395245)], [(0, 0.3468542), (2, 0.6392538)], [(1, 0.90936935)], [(0, 0.6747635), (3, 0.31274965)], [(0, 0.96172005)], [(3, 0.6206534)], [(0, 0.67388546)], [(0, 0.5169322)], [(1, 0.6049876), (3, 0.38043144)], [(1, 0.8880386)], [(2, 0.99105805)], [(0, 0.5702528), (2, 0.42038578)], [(1, 0.9837051)], [(0, 0.9144922)], [(0, 0.5606549)], [(0, 0.44534963), (3, 0.5393526)], [(1, 0.7375995)], [(3, 0.91920424)], [(1, 0.7392674)], [(3, 0.9402438)], [(1, 0.45052773), (2, 0.31645596)], [(1, 0.68668085)], [(3, 0.9864709)], [(3, 0.99286103)], [(2, 0.9425258)], [(1, 0.9780976)], [(1, 0.9692077)], [(3, 0.97685754)], [(0, 0.42759252), (3, 0.5561658)], [(3, 0.97902864)], [(3, 0.89487165)], [(0, 0.8473705)], [(2, 0.85373366)], [(2, 0.32586092), (3, 0.5531925)], [(0, 0.6478956), (2, 0.31740156)], [(0, 0.47945645), (2, 0.49825406)], [(0, 0.9836142)], [(3, 0.9318151)], [(0, 0.92596674)], [(3, 0.80519664)], [(0, 0.6018031), (3, 0.37020004)], [(2, 0.75584465)], [(3, 0.9406723)], [(2, 0.57800645), (3, 0.38691363)], [(1, 0.5183271), (3, 0.46776608)], [(2, 0.936463)], [(1, 0.96468276)], [(3, 0.8291927)], [(0, 0.6587134)], [(2, 0.9219662)], [(0, 0.5080578), (2, 0.47904333)], [(3, 0.77703977)], [(0, 0.91322255)], [(2, 0.3939257), (3, 0.51899606)], [(0, 0.6320737), (3, 0.34252155)], [(0, 0.35345027), (2, 0.49985248)], [(0, 0.554446), (2, 0.40834364)], [(2, 0.9170906)], [(0, 0.5676952), (2, 0.39382663)], [(0, 0.43399692), (3, 0.53799844)], [(0, 0.83339745)], [(1, 0.92225766)], [(1, 0.97902304)], [(1, 0.96468705)], [(3, 0.97416353)], [(0, 0.34263054), (3, 0.4905034)], [(0, 0.51025134), (3, 0.4744303)], [(0, 0.9495805)], [(2, 0.58758515)], [(1, 0.9327696)], [(0, 0.7740965)], [(3, 0.990833)], [(0, 0.70832795)], [(0, 0.682598)], [(0, 0.9274631)], [(2, 0.9025191)], [(2, 0.63894296), (3, 0.33796462)], [(2, 0.5603695), (3, 0.40441284)], [(2, 0.5653623), (3, 0.3171722)], [(3, 0.9767115)], [(0, 0.33050367), (1, 0.64951557)], [(0, 0.44000208), (3, 0.54942673)], [(0, 0.6698833), (1, 0.3250076)], [(0, 0.71376073)], [(0, 0.495352), (1, 0.48326182)], [(2, 0.9274361)], [(1, 0.9869529)], [(1, 0.3162564), (3, 0.638542)], [(2, 0.9166005)], [(2, 0.45692456), (3, 0.30787364)], [(3, 0.9196964)], [(0, 0.3005678), (1, 0.6853927)], [(2, 0.31627426), (3, 0.6568685)], [(1, 0.5575565)], [(3, 0.9573738)], [(3, 0.8753151)], [(0, 0.865294)], [(3, 0.78141856)], [(0, 0.5745451)], [(3, 0.9528758)], [(2, 0.38575494), (3, 0.55454034)], [(2, 0.87973684)], [(1, 0.9219679)], [(3, 0.97263145)], [(2, 0.74827605)], [(0, 0.89631534)], [(0, 0.4921006), (3, 0.48807678)], [(1, 0.6838262)], [(2, 0.35654816), (3, 0.6041832)], [(0, 0.5281807), (2, 0.4509089)], [(2, 0.94262916)], [(3, 0.70494485)], [(3, 0.8760414)], [(0, 0.41759804), (2, 0.5571277)], [(1, 0.4455075), (3, 0.546534)], [(0, 0.9617555)], [(0, 0.9860714)], [(2, 0.9428136)], [(0, 0.7539276)], [(1, 0.6280163), (2, 0.3569392)], [(0, 0.94387984)], [(1, 0.8814929)], [(0, 0.9835693)], [(0, 0.6606071), (1, 0.33373243)], [(0, 0.78615254)], [(0, 0.9739528)], [(0, 0.7046604)], [(0, 0.50778073), (3, 0.4791185)], [(2, 0.5390956)], [(2, 0.7576493)], [(0, 0.94968116)], [(1, 0.922606)], [(3, 0.9609278)], [(3, 0.88582367)], [(0, 0.97374356)], [(0, 0.94331145)], [(1, 0.4478294), (2, 0.5062652)], [(3, 0.96108276)], [(3, 0.63281417)], [(1, 0.909447)], [(3, 0.9609943)], [(0, 0.48580727), (1, 0.40928596)], [(2, 0.53426445), (3, 0.40572172)], [(2, 0.98608416)], [(0, 0.6508168)], [(0, 0.9369684)], [(1, 0.37897822), (2, 0.5688193)], [(0, 0.5627765), (3, 0.40601736)], [(1, 0.90825254)], [(0, 0.87724197)], [(3, 0.9520589)], [(0, 0.9491876)], [(3, 0.95291525)], [(1, 0.98959994)], [(0, 0.6107168), (3, 0.3708039)], [(0, 0.92708474)], [(3, 0.952859)], [(1, 0.7350331)], [(0, 0.93623596)], [(0, 0.94412166)], [(0, 0.96894675)], [(2, 0.70933455)], [(3, 0.8231757)], [(3, 0.560267)], [(0, 0.51064014), (3, 0.38986978)], [(3, 0.7070441)], [(0, 0.9365275)], [(3, 0.5389154)], [(3, 0.9529623)], [(0, 0.32669982), (2, 0.37537557)], [(2, 0.7332345)], [(2, 0.9765305)], [(3, 0.76904994)], [(2, 0.37293422), (3, 0.5760672)], [(0, 0.76452875)], [(0, 0.706347)], [(0, 0.58568627), (2, 0.39863253)], [(1, 0.97613233)], [(3, 0.95299095)], [(3, 0.9474559)], [(0, 0.8520168)], [(3, 0.9406891)], [(2, 0.96681356)], [(2, 0.48394206), (3, 0.50379425)], [(1, 0.6118504), (2, 0.3771308)], [(0, 0.9141245)], [(1, 0.33814248), (3, 0.6272019)], [(3, 0.9610356)], [(0, 0.9834548)], [(0, 0.46142617), (2, 0.5036351)], [(1, 0.7717305)], [(0, 0.5618752), (1, 0.41386205)], [(3, 0.96666026)], [(0, 0.6085463), (3, 0.370074)], [(2, 0.9031051)], [(0, 0.5761304), (3, 0.40250245)], [(3, 0.9528507)], [(1, 0.33513847), (2, 0.61845386)], [(0, 0.69100845)], [(2, 0.6028638)], [(3, 0.9406556)], [(0, 0.67025775)], [(3, 0.7268339)], [(2, 0.80600774)], [(3, 0.96415603)], [(0, 0.5881622), (2, 0.34641248)], [(1, 0.8888342)], [(1, 0.9824826)], [(3, 0.95280015)], [(1, 0.9465996)], [(1, 0.94023407)], [(0, 0.9856114)], [(0, 0.65935194), (2, 0.32435912)], [(0, 0.96418506)], [(1, 0.30394784), (3, 0.47091153)], [(0, 0.7608204)], [(2, 0.9162809)], [(0, 0.8708082)], [(1, 0.6877996)], [(0, 0.98828804)], [(1, 0.39708984), (3, 0.5998397)], [(0, 0.9578159)], [(0, 0.9823526)], [(2, 0.9743078)], [(3, 0.5442665)], [(0, 0.5647163), (1, 0.34781635)], [(0, 0.48635727)], [(1, 0.76440924)], [(0, 0.97754985)], [(2, 0.9422892)], [(1, 0.955986)], [(1, 0.7162287)], [(0, 0.6565211), (3, 0.33803564)], [(1, 0.9622241)], [(0, 0.370693), (1, 0.6197455)], [(1, 0.67791796), (3, 0.31749365)], [(1, 0.9401387)], [(0, 0.88917017)], [(3, 0.98605853)], [(1, 0.4455091), (3, 0.5465324)], [(0, 0.6288402), (3, 0.3526941)], [(0, 0.39484486), (2, 0.47225162)], [(0, 0.50739735), (2, 0.45787463)], [(1, 0.5941766), (2, 0.39704713)], [(1, 0.9902519)], [(1, 0.9514511)], [(0, 0.9399219)], [(0, 0.6601448), (3, 0.33627868)], [(0, 0.62509334), (2, 0.34298742)], [(2, 0.9126937)], [(2, 0.4437828), (3, 0.4838972)], [(2, 0.5083422), (3, 0.46261752)], [(3, 0.71767426)], [(3, 0.90259784)], [(2, 0.88176626)], [(3, 0.98285806)], [(1, 0.60164976), (3, 0.36711162)], [(0, 0.54966164), (3, 0.4223158)], [(1, 0.44765195), (2, 0.4642691)], [(3, 0.78474015)], [(1, 0.49173158)], [(0, 0.8536686)], [(0, 0.90004957)], [(0, 0.30665728), (2, 0.65307456)], [(0, 0.56248873), (1, 0.39913732)], [(1, 0.97810036)], [(2, 0.39608073), (3, 0.43495053)], [(2, 0.3674457), (3, 0.62071365)], [(3, 0.9835033)], [(1, 0.526914)], [(2, 0.8774065)], [(1, 0.9404029)], [(2, 0.9666228)], [(2, 0.34505984), (3, 0.6412288)], [(1, 0.9622322)], [(2, 0.77672625)], [(0, 0.36854333), (3, 0.6060636)], [(1, 0.94012845)], [(3, 0.96888864)], [(0, 0.41889048), (2, 0.5694034)], [(2, 0.9168666)], [(0, 0.981705)], [(0, 0.96179646)], [(0, 0.9142223)], [(1, 0.3758019), (3, 0.5893626)], [(3, 0.9798489)], [(1, 0.45732287), (2, 0.5131444)], [(1, 0.9259671)], [(2, 0.720355)], [(1, 0.7243678)], [(1, 0.98248255)], [(1, 0.89020795)], [(1, 0.98732)], [(0, 0.3506926), (3, 0.64524555)], [(0, 0.6663749), (3, 0.31226447)], [(1, 0.9095474)], [(1, 0.6838596)], [(0, 0.782583)], [(0, 0.92690605)], [(0, 0.94938356)], [(1, 0.9668295)], [(2, 0.75968397)], [(3, 0.9529503)], [(1, 0.9783211)], [(0, 0.73007345)], [(3, 0.9574434)], [(1, 0.498748)], [(3, 0.982207)], [(3, 0.91722083)], [(2, 0.66725385)], [(0, 0.971027)], [(2, 0.7427138)], [(0, 0.9823118)], [(0, 0.9135374)], [(0, 0.6599348), (2, 0.30839846)], [(3, 0.6990292)], [(0, 0.93651134)], [(2, 0.55456424), (3, 0.43269902)], [(1, 0.48756889), (3, 0.4992031)], [(2, 0.9806728)], [(3, 0.9404596)], [(3, 0.98156714)], [(1, 0.85483253)], [(0, 0.32024163), (3, 0.36112848)], [(2, 0.61050093), (3, 0.37577316)], [(2, 0.8074445)], [(0, 0.4777776), (3, 0.48694685)], [(3, 0.9709954)], [(3, 0.9317687)], [(0, 0.54627895), (3, 0.4364787)], [(1, 0.3982201), (3, 0.58953613)], [(3, 0.95303106)], [(3, 0.9319409)], [(0, 0.4142417), (2, 0.5582491)], [(1, 0.8446579)], [(3, 0.8416117)], [(1, 0.64832973), (3, 0.34747046)], [(0, 0.39152628), (3, 0.4146256)], [(3, 0.96900153)], [(3, 0.95289266)], [(3, 0.96896493)], [(0, 0.92691076)], [(0, 0.57200617), (2, 0.4089916)], [(2, 0.97186583)], [(3, 0.8879596)], [(0, 0.949338)], [(2, 0.9030496)], [(3, 0.9779911)], [(0, 0.9762483)], [(0, 0.9440426)], [(0, 0.43206292), (1, 0.37274367)], [(1, 0.55893576), (3, 0.42500934)], [(1, 0.98131084)], [(0, 0.33722335), (3, 0.5956888)], [(1, 0.30119163), (2, 0.67469835)], [(0, 0.61256045), (2, 0.36221436)], [(3, 0.97103727)], [(3, 0.9789279)], [(0, 0.3939537), (1, 0.38259497)], [(1, 0.9079237)], [(0, 0.9437756)], [(1, 0.6574464), (3, 0.3345826)], [(0, 0.93661356)], [(0, 0.8672923)], [(3, 0.94041795)], [(3, 0.6887182)], [(1, 0.73567486)], [(2, 0.3435695), (3, 0.62130404)], [(0, 0.89554924)], [(1, 0.66958195), (3, 0.31651863)], [(0, 0.8688088)], [(3, 0.9822174)], [(0, 0.6618056), (1, 0.31839147)], [(0, 0.93661064)], [(2, 0.31763995), (3, 0.647352)], [(1, 0.6912892)], [(3, 0.87543976)], [(3, 0.924357)], [(3, 0.86108756)], [(0, 0.92782015)], [(1, 0.80894524)], [(0, 0.48335594), (1, 0.49402863)], [(0, 0.6176906), (3, 0.35692674)], [(0, 0.43094882), (1, 0.5581989)], [(2, 0.5633968), (3, 0.41182086)], [(2, 0.9282063)], [(2, 0.9512098)], [(1, 0.8024218)], [(2, 0.37096086), (3, 0.6225943)], [(3, 0.8133688)], [(2, 0.8792106)], [(0, 0.45481476), (3, 0.5098639)], [(3, 0.8468982)], [(2, 0.9477383)], [(0, 0.83339185)], [(0, 0.38089764), (2, 0.3360727)], [(1, 0.50614196), (2, 0.4743639)], [(0, 0.5772877), (1, 0.41391033)], [(1, 0.4606091), (3, 0.52231187)], [(3, 0.73859376)], [(0, 0.649922), (1, 0.33315644)], [(1, 0.95882446)], [(3, 0.9472272)], [(2, 0.9562028)], [(0, 0.94385606)], [(0, 0.36807087), (1, 0.6164865)], [(1, 0.9179684)], [(3, 0.7259048)], [(1, 0.5144792), (2, 0.45095915)], [(0, 0.6923391)], [(2, 0.37805158), (3, 0.40606242)], [(0, 0.68122876), (1, 0.30913448)], [(1, 0.95128673)], [(0, 0.96397656)], [(2, 0.36548823), (3, 0.36819166)], [(2, 0.93585885)], [(3, 0.79651195)], [(1, 0.6851473)], [(3, 0.96892697)], [(3, 0.966721)], [(0, 0.9547029)], [(1, 0.3045365), (2, 0.6845056)], [(3, 0.70907754)], [(0, 0.4100938), (1, 0.5551861)], [(2, 0.6312842), (3, 0.36130938)], [(2, 0.31248906), (3, 0.5191523)], [(0, 0.91421247)], [(0, 0.9784998)], [(0, 0.9706353)], [(1, 0.62184656), (2, 0.36659893)], [(0, 0.979517)], [(1, 0.981224)], [(2, 0.61731744)], [(3, 0.9406023)], [(2, 0.48351538), (3, 0.373257)], [(0, 0.9492372)], [(0, 0.91413856)], [(0, 0.82338125)], [(0, 0.9801919)], [(0, 0.9141314)], [(2, 0.7725615)], [(3, 0.97562647)], [(0, 0.52333623)], [(2, 0.52371156)], [(1, 0.4840943), (2, 0.4695809)], [(0, 0.48880076), (2, 0.45537978)], [(3, 0.78182083)], [(0, 0.71748966)], [(0, 0.7021832)], [(3, 0.8869419)], [(2, 0.34153306), (3, 0.521341)], [(1, 0.5805133), (2, 0.4043476)], [(1, 0.42498145), (3, 0.56521416)], [(0, 0.9273465)], [(0, 0.91387004)], [(3, 0.8142174)], [(3, 0.9639124)], [(2, 0.40638322), (3, 0.39608815)], [(1, 0.955951)], [(3, 0.7935199)], [(3, 0.6189889)], [(0, 0.89823604)], [(0, 0.7366132)], [(0, 0.8259058)], [(3, 0.9710529)], [(0, 0.97258514)], [(3, 0.7491543)], [(2, 0.88101006)], [(0, 0.8965015)], [(3, 0.87603205)], [(3, 0.6297272)], [(3, 0.9315257)], [(2, 0.9646783)], [(1, 0.39395547), (3, 0.59553236)], [(0, 0.73801893)], [(0, 0.7313253)], [(2, 0.97929204)], [(2, 0.9800558)], [(1, 0.9826154)], [(1, 0.9872363)], [(0, 0.9612131)], [(0, 0.97641766)], [(0, 0.481793), (1, 0.49653366)], [(0, 0.4908315), (2, 0.4962191)], [(3, 0.7901488)], [(1, 0.5825583)], [(3, 0.96899736)], [(3, 0.8314388)], [(2, 0.94325495)], [(3, 0.9472825)], [(1, 0.49298626), (3, 0.49173093)], [(0, 0.926713)], [(0, 0.33965802), (3, 0.64936805)], [(0, 0.59985805), (3, 0.3870503)], [(2, 0.6961317)], [(3, 0.79890716)], [(0, 0.49945027), (3, 0.48747116)], [(3, 0.7744226)], [(3, 0.9799701)], [(0, 0.47190604), (3, 0.5127964)], [(2, 0.9801613)], [(0, 0.9688495)], [(0, 0.75333995)], [(0, 0.35050046), (2, 0.35356528)], [(0, 0.9368524)], [(3, 0.9318816)], [(1, 0.9550728)], [(0, 0.5498144), (3, 0.42216307)], [(0, 0.49760523), (3, 0.4870713)], [(3, 0.689459)], [(0, 0.9499862)], [(0, 0.7285353)], [(1, 0.45682842), (2, 0.38219905)], [(1, 0.64496493), (3, 0.34416667)], [(1, 0.7319005)], [(0, 0.7141505)], [(2, 0.7161101)], [(3, 0.9315676)], [(0, 0.37329283), (1, 0.47663733)], [(0, 0.9363964)], [(0, 0.32439592), (3, 0.6661674)], [(3, 0.95300597)], [(0, 0.5773114), (1, 0.41388658)], [(2, 0.5948901)], [(0, 0.9545616)], [(0, 0.8669328)], [(3, 0.84062546)], [(3, 0.9476828)], [(2, 0.5656641), (3, 0.3414814)], [(2, 0.8028014)], [(2, 0.9595374)], [(1, 0.9690875)], [(2, 0.94305295)], [(0, 0.9638766)], [(0, 0.57237923), (3, 0.41137025)], [(0, 0.9364429)], [(1, 0.92232275)], [(2, 0.6963929)], [(1, 0.48223114), (3, 0.49971232)], [(2, 0.9590879)], [(3, 0.7236705)], [(3, 0.6467653)], [(3, 0.5349031)], [(0, 0.7022545)], [(0, 0.8997636)], [(0, 0.7072222)], [(0, 0.53714967), (1, 0.44595522)], [(3, 0.913134)], [(3, 0.83749104)], [(0, 0.9752)], [(3, 0.77008224)], [(1, 0.5399992)], [(1, 0.90830654)], [(3, 0.6422579)], [(2, 0.9561975)], [(3, 0.9473383)], [(0, 0.6823243)], [(0, 0.96676797)], [(3, 0.7588954)], [(3, 0.90261316)], [(0, 0.5213789), (3, 0.46763766)], [(1, 0.50205576)], [(3, 0.96401435)], [(3, 0.95730215)], [(1, 0.5872582), (3, 0.39449233)], [(1, 0.64408624)], [(1, 0.66351324), (3, 0.33265698)], [(1, 0.4917529)], [(1, 0.96189237)], [(2, 0.9357215)], [(1, 0.74820346)], [(1, 0.6699716), (2, 0.30836645)], [(0, 0.9786951)], [(1, 0.976055)], [(1, 0.7216711)], [(0, 0.9264664)], [(0, 0.65075), (3, 0.33946663)], [(0, 0.9688203)], [(3, 0.91978544)], [(2, 0.92698157)], [(0, 0.6875413)], [(3, 0.95746243)], [(0, 0.92668486)], [(0, 0.3208817), (1, 0.66567475)], [(3, 0.95282847)], [(1, 0.7340544)], [(0, 0.9541856)], [(3, 0.7817327)], [(3, 0.983563)], [(3, 0.9790242)], [(1, 0.65469015), (2, 0.31359258)], [(3, 0.9529271)], [(0, 0.9823118)], [(1, 0.7347862)], [(2, 0.83322394)], [(3, 0.96110845)], [(1, 0.9704563)], [(3, 0.94010025)], [(0, 0.5256006), (1, 0.44570968)], [(0, 0.9880261)], [(0, 0.49608156), (1, 0.4893256)], [(2, 0.4243108), (3, 0.5526204)], [(3, 0.76174086)], [(0, 0.9692286)], [(2, 0.952623)], [(1, 0.5287602), (3, 0.3310174)], [(3, 0.94727343)], [(3, 0.982273)], [(3, 0.63710386)], [(3, 0.9756012)], [(3, 0.95282966)], [(2, 0.9730876)], [(3, 0.97896224)], [(3, 0.74783134)], [(3, 0.9317415)], [(2, 0.91946775)], [(1, 0.9592324)], [(1, 0.71082044)], [(0, 0.8825858)], [(2, 0.72919667)], [(1, 0.8894022)], [(3, 0.97087765)], [(1, 0.9721985)], [(2, 0.6882932)], [(0, 0.70320356)], [(3, 0.9317264)], [(3, 0.71080124)], [(0, 0.82925266)], [(3, 0.90234196)], [(0, 0.3798265), (1, 0.6154742)], [(1, 0.97725403)], [(0, 0.46158051), (1, 0.5275303)], [(0, 0.5919008), (2, 0.3790427)], [(0, 0.42077315), (2, 0.56401694)], [(0, 0.5426334), (3, 0.45156446)], [(3, 0.919719)], [(0, 0.9491867)], [(1, 0.9690701)], [(0, 0.9147396)], [(0, 0.9494095)], [(3, 0.9474412)], [(0, 0.5787959), (1, 0.33379266)], [(2, 0.60869265)], [(0, 0.85817254)], [(0, 0.41950908), (3, 0.57033724)], [(3, 0.9315785)], [(3, 0.80255455)], [(1, 0.406962), (3, 0.3885146)], [(2, 0.9429412)], [(1, 0.857687)], [(3, 0.9689977)], [(0, 0.6574202), (3, 0.32726884)], [(3, 0.95739114)], [(2, 0.38216)], [(2, 0.4402656), (3, 0.30258596)], [(3, 0.9688787)], [(2, 0.6621161)], [(0, 0.49551448), (2, 0.47503173)], [(0, 0.9432175)], [(0, 0.30882552), (2, 0.6722499)], [(2, 0.9350428)], [(3, 0.7768816)], [(3, 0.9021436)], [(2, 0.69484377)], [(2, 0.6055243), (3, 0.34374186)], [(3, 0.9639372)], [(1, 0.96710414)], [(2, 0.9625947)], [(2, 0.92761695)], [(0, 0.33842593), (2, 0.6511808)], [(0, 0.5208447), (1, 0.46388602)], [(0, 0.9544014)], [(2, 0.6447721)], [(3, 0.57736063)], [(2, 0.8414003)], [(3, 0.9404799)], [(1, 0.5997798), (3, 0.39101008)], [(3, 0.9667966)], [(2, 0.7977864)], [(3, 0.987932)], [(0, 0.95464164)], [(3, 0.95280796)], [(0, 0.91356957)], [(3, 0.9304071)], [(2, 0.6709193)], [(0, 0.94401157)], [(1, 0.56651103), (3, 0.33506522)], [(1, 0.7345186)], [(0, 0.89431214)], [(2, 0.61110276), (3, 0.37323117)], [(2, 0.3192447), (3, 0.62120306)], [(2, 0.6070516), (3, 0.36819014)], [(0, 0.5625758), (1, 0.39905024)], [(1, 0.9735821)], [(3, 0.70603377)], [(0, 0.98090476)], [(2, 0.6409017), (3, 0.3238464)], [(3, 0.96899277)], [(3, 0.9476857)], [(1, 0.4739866), (3, 0.50893813)], [(2, 0.66558784), (3, 0.31284386)], [(0, 0.9271186)], [(3, 0.79420954)], [(1, 0.7324538)], [(1, 0.93279314)], [(0, 0.4475256), (2, 0.48748904)], [(2, 0.93645)], [(2, 0.66438264), (3, 0.31406233)], [(3, 0.9709642)], [(0, 0.9267132)], [(1, 0.4057506), (3, 0.35417232)], [(0, 0.97939825)], [(1, 0.6098277), (3, 0.3590406)], [(0, 0.6829872)], [(0, 0.9260319)], [(0, 0.7034919)], [(1, 0.66593474), (3, 0.3057791)], [(0, 0.5723488), (3, 0.3798607)], [(1, 0.6071525), (3, 0.38439375)], [(0, 0.6459156), (1, 0.3488076)], [(0, 0.45149586), (3, 0.3820185)], [(0, 0.80217904)], [(0, 0.97258383)], [(3, 0.9027645)], [(0, 0.7499961)], [(1, 0.50346595)], [(1, 0.9647708)], [(0, 0.4381902), (1, 0.4560172)], [(2, 0.84258425)], [(1, 0.986975)], [(3, 0.9572663)], [(0, 0.9364015)], [(0, 0.7023147)], [(0, 0.34622744), (2, 0.64035535)], [(0, 0.43860883), (3, 0.43611097)], [(1, 0.8737072)], [(2, 0.37751937), (3, 0.57165945)], [(1, 0.43126848), (2, 0.54937047)], [(0, 0.5732214), (3, 0.40831995)], [(0, 0.9544535)], [(3, 0.94019896)], [(0, 0.6003183), (3, 0.38659003)], [(3, 0.94081867)], [(3, 0.84151983)], [(1, 0.7416512)], [(2, 0.95908934)], [(1, 0.8889597)], [(2, 0.49528337), (3, 0.46553695)], [(0, 0.34203368), (3, 0.6366253)], [(2, 0.9807202)], [(2, 0.9825759)], [(0, 0.61328095), (1, 0.36975113)], [(3, 0.9571519)], [(0, 0.34639084), (3, 0.6405194)], [(1, 0.75787073)], [(2, 0.765909)], [(1, 0.45055026), (2, 0.31646428)], [(3, 0.58849466)], [(1, 0.6411431), (3, 0.35001382)], [(0, 0.33399647), (3, 0.64465827)], [(0, 0.41760924), (2, 0.5571165)], [(0, 0.78157926)], [(2, 0.95236605)], [(3, 0.6970222)], [(3, 0.5142046)], [(1, 0.4432787)], [(1, 0.7208723)], [(0, 0.9273392)], [(2, 0.91682816)], [(1, 0.95142317)], [(3, 0.93177587)], [(3, 0.76998186)], [(1, 0.97230744)], [(1, 0.7803248)], [(1, 0.9723805)], [(0, 0.97395265)], [(0, 0.989366)], [(0, 0.94385535)], [(0, 0.3832428), (3, 0.37071875)], [(2, 0.40001968), (3, 0.55562377)], [(2, 0.5546018), (3, 0.4326614)], [(0, 0.40812722), (1, 0.5806869)], [(0, 0.9147821)], [(3, 0.91030556)], [(1, 0.70936793)], [(0, 0.82908815)], [(0, 0.91421026)], [(3, 0.8189713)], [(1, 0.7773063)], [(0, 0.6185755)], [(3, 0.94754577)], [(3, 0.9487201)], [(0, 0.9357149)], [(1, 0.71055406)], [(3, 0.7139083)], [(0, 0.84633785)], [(2, 0.935856)], [(0, 0.41796598), (2, 0.5694971)], [(0, 0.45826796)], [(1, 0.9649008)], [(3, 0.76168025)], [(2, 0.761003)], [(0, 0.49171656), (1, 0.4973898)], [(1, 0.9405136)], [(3, 0.95735395)], [(0, 0.9542774)], [(1, 0.7613828)], [(1, 0.74890506)], [(2, 0.8751773)], [(0, 0.42682514), (2, 0.54389155)], [(1, 0.9622006)], [(3, 0.9023257)], [(0, 0.86571836)], [(3, 0.8348092)], [(2, 0.8872987)], [(0, 0.48769352), (2, 0.45647144)], [(2, 0.79063433)], [(2, 0.41673893), (3, 0.5709354)], [(0, 0.9497942)], [(3, 0.9147494)], [(1, 0.70689106)], [(0, 0.6462705), (1, 0.31504124)], [(1, 0.81763786)], [(0, 0.7903858)], [(0, 0.76377195)], [(2, 0.9806983)], [(0, 0.95442027)], [(1, 0.3421961), (2, 0.30852315), (3, 0.34646097)], [(1, 0.9749837)], [(0, 0.97753215)], [(3, 0.9476421)], [(1, 0.7259652)], [(0, 0.63128006), (1, 0.32581037)], [(2, 0.8878169)], [(1, 0.90821815)], [(0, 0.5386881), (3, 0.43593296)], [(2, 0.90239495)], [(1, 0.69308084)], [(3, 0.9197004)], [(3, 0.9822281)], [(0, 0.68122214), (1, 0.30914116)], [(0, 0.4475463), (2, 0.52328825)], [(3, 0.9611002)], [(2, 0.47698516), (3, 0.47875273)], [(1, 0.5287446), (3, 0.33095694)], [(0, 0.83253914)], [(0, 0.5538055)], [(2, 0.9807185)], [(0, 0.38494894), (3, 0.57447755)], [(3, 0.94068253)], [(0, 0.56999224), (2, 0.3951045)], [(1, 0.7129409)], [(3, 0.8292964)], [(0, 0.6606092), (1, 0.33373034)], [(1, 0.85426545)], [(3, 0.931621)], [(2, 0.848907)], [(1, 0.8892732)], [(0, 0.36439), (1, 0.6291919)], [(0, 0.38762042), (1, 0.5862035)], [(3, 0.9790247)], [(1, 0.9668993)], [(2, 0.9621962)], [(0, 0.9494436)], [(3, 0.8228277)], [(0, 0.9143698)], [(1, 0.81250066)], [(0, 0.9272549)], [(0, 0.6150858), (3, 0.37296495)], [(1, 0.5968396), (3, 0.39186788)], [(0, 0.9687854)], [(3, 0.97996885)], [(3, 0.7704795)], [(1, 0.4743592), (2, 0.49122748)], [(3, 0.9814956)], [(1, 0.86010176)], [(0, 0.9498438)], [(1, 0.33485797), (3, 0.5493298)], [(1, 0.8499524)], [(0, 0.9901524)], [(2, 0.46689436), (3, 0.51666725)], [(1, 0.75736505)], [(1, 0.4853614), (3, 0.5025036)], [(0, 0.38045806), (2, 0.60612863)], [(1, 0.34224635), (2, 0.6407662)], [(1, 0.97735137)], [(0, 0.71539825)], [(0, 0.30002415), (3, 0.6868578)], [(3, 0.75934255)], [(0, 0.6931748), (2, 0.30211583)], [(0, 0.5871527)], [(3, 0.9741737)], [(0, 0.3046013), (2, 0.67304975)], [(2, 0.3559372), (3, 0.62376386)], [(2, 0.9220762)], [(3, 0.7306458)], [(1, 0.70934916)], [(1, 0.3698579), (3, 0.6257689)], [(0, 0.33944616), (3, 0.5627595)], [(3, 0.91998875)], [(1, 0.54317325), (3, 0.31216767)], [(0, 0.46363038), (1, 0.51951575)], [(0, 0.65715015), (3, 0.32975686)], [(0, 0.41212112), (1, 0.5501237)], [(3, 0.85702795)], [(1, 0.97715)], [(0, 0.7584973)], [(3, 0.9446333)], [(1, 0.9512987)], [(0, 0.31086317), (3, 0.6659104)], [(0, 0.5095789), (1, 0.48505145)], [(1, 0.46063837), (3, 0.52228266)], [(0, 0.82268935)], [(1, 0.9830898)], [(3, 0.9755245)], [(3, 0.9408036)], [(3, 0.9780463)], [(3, 0.54892)], [(2, 0.88125855)], [(0, 0.70160913)], [(0, 0.39125866), (2, 0.583282)], [(2, 0.9357435)], [(0, 0.98408526)], [(0, 0.66482633)], [(1, 0.88970643)], [(0, 0.9802478)], [(3, 0.95695615)], [(1, 0.92223114)], [(0, 0.8498467)], [(2, 0.85150117)], [(1, 0.34668788), (2, 0.4581744)], [(0, 0.6265537), (3, 0.3603333)], [(1, 0.92223394)], [(0, 0.67637914), (1, 0.31279224)], [(3, 0.9845989)], [(1, 0.9464772)], [(0, 0.30110028), (3, 0.6775239)], [(0, 0.8664695)], [(0, 0.6266515)], [(1, 0.90867764)], [(1, 0.72195524)], [(3, 0.98510355)], [(1, 0.5719712), (3, 0.3969516)], [(2, 0.97029227)], [(0, 0.8674442)], [(1, 0.9086897)], [(0, 0.6443268)], [(0, 0.9829504)], [(1, 0.97708166)], [(1, 0.3294471), (3, 0.6600696)], [(0, 0.55736053)], [(2, 0.97012854)], [(0, 0.98117)], [(0, 0.53840435)], [(1, 0.7686415)], [(3, 0.96406615)], [(2, 0.7642719)], [(1, 0.9884767)], [(2, 0.9278332)], [(1, 0.9408995)], [(0, 0.5790887), (3, 0.40468684)], [(1, 0.36861926), (3, 0.5479826)], [(3, 0.86541647)], [(0, 0.39968252), (3, 0.57231915)], [(0, 0.96165705)], [(3, 0.7601166)], [(3, 0.9807868)], [(2, 0.9162793)], [(0, 0.36355454), (1, 0.62233907)], [(3, 0.5823318)], [(0, 0.8369783)], [(1, 0.9224748)], [(3, 0.75542957)], [(0, 0.943777)], [(3, 0.6639727)], [(3, 0.9667221)], [(0, 0.6065852)], [(2, 0.325813), (3, 0.55305254)], [(1, 0.69711494)], [(2, 0.9022096)], [(3, 0.6872237)], [(2, 0.9702941)], [(2, 0.37110808)], [(3, 0.96664333)], [(2, 0.9522701)], [(3, 0.97900224)], [(2, 0.98357695)], [(2, 0.80832994)], [(0, 0.31370056), (3, 0.38992727)], [(3, 0.7093748)], [(2, 0.8489027)], [(3, 0.9756228)], [(0, 0.3250589), (1, 0.4390299)], [(1, 0.8348672)], [(0, 0.935949)], [(0, 0.77399534)], [(3, 0.69270426)], [(2, 0.7731495)], [(1, 0.73127156)], [(1, 0.5543228), (3, 0.30210257)], [(0, 0.9491939)], [(0, 0.67299575), (3, 0.32000858)], [(0, 0.31423166), (1, 0.4731809)], [(3, 0.95303667)], [(3, 0.59219325)], [(2, 0.9348989)], [(0, 0.6576596), (1, 0.3345292)], [(0, 0.9275639)], [(1, 0.97355396)], [(0, 0.98418635)], [(1, 0.35593852), (2, 0.5266357)], [(3, 0.9740869)], [(2, 0.6090287), (3, 0.38116106)], [(2, 0.8462461)], [(0, 0.4427831), (3, 0.36974972)], [(2, 0.94794726)], [(2, 0.9783045)], [(3, 0.94725704)], [(0, 0.94327193)], [(2, 0.44747162), (3, 0.53085893)], [(0, 0.56988704), (2, 0.391872)], [(3, 0.9823078)], [(3, 0.82921356)], [(0, 0.42588308), (3, 0.5588128)], [(2, 0.7842102)], [(2, 0.8816827)], [(1, 0.97612625)], [(0, 0.9377521)], [(1, 0.38709223), (3, 0.6090885)], [(3, 0.9741634)], [(2, 0.5382273), (3, 0.44363436)], [(0, 0.49223194), (1, 0.48639327)], [(0, 0.733373)], [(2, 0.9824272)], [(1, 0.85716057)], [(2, 0.9361384)], [(0, 0.4062734), (1, 0.47750944)], [(1, 0.3970884), (3, 0.5998411)], [(1, 0.53703237), (3, 0.4595443)], [(0, 0.92734647)], [(0, 0.60585517), (3, 0.38317937)], [(2, 0.4641626), (3, 0.5153168)], [(0, 0.43744174), (1, 0.5578124)], [(0, 0.5296613)], [(1, 0.44046825), (3, 0.32410407)], [(3, 0.9708703)], [(0, 0.961625)], [(0, 0.50850886), (1, 0.47900435)], [(3, 0.8684793)], [(1, 0.3422555), (2, 0.64075714)], [(2, 0.95936483)], [(0, 0.94380534)], [(3, 0.65095305)], [(0, 0.31528297), (3, 0.67162746)], [(0, 0.73040664)], [(0, 0.48722062), (1, 0.503914)], [(0, 0.7908241)], [(1, 0.40565905), (3, 0.3901651)], [(3, 0.95739865)], [(3, 0.89128804)], [(3, 0.67047215)], [(0, 0.9142374)], [(0, 0.8133284)], [(3, 0.9120347)], [(1, 0.6040864), (3, 0.38667822)], [(2, 0.91513336)], [(0, 0.5325266), (1, 0.3716483)], [(1, 0.34220642), (3, 0.51476496)], [(0, 0.92061573)], [(0, 0.98563313)], [(3, 0.94744545)], [(3, 0.84876794)], [(1, 0.90966034)], [(2, 0.3455773), (3, 0.43746066)], [(3, 0.98284274)], [(0, 0.34747353), (3, 0.48599318)], [(0, 0.5116209), (2, 0.45767212)], [(0, 0.94974357)], [(0, 0.8278558)], [(0, 0.32967198), (2, 0.32767174), (3, 0.34033743)], [(1, 0.96457964)], [(0, 0.9764784)], [(0, 0.8954312)], [(0, 0.42433318), (2, 0.5201927)], [(2, 0.7903721)], [(2, 0.63771856)], [(1, 0.39425102), (3, 0.36456743)], [(3, 0.95283264)], [(2, 0.30841044), (3, 0.61926067)], [(3, 0.9573814)], [(0, 0.96169)], [(0, 0.32032454), (3, 0.6215459)], [(0, 0.9145089)], [(0, 0.4582654)], [(1, 0.98354334)], [(2, 0.9743941)], [(1, 0.4689026), (3, 0.5242065)], [(1, 0.88912004)], [(0, 0.90674907)], [(0, 0.49633643), (1, 0.49975532)], [(1, 0.6515825), (3, 0.33034772)], [(1, 0.42610374), (2, 0.50227386)], [(2, 0.30174702), (3, 0.48334858)], [(0, 0.91373736)], [(0, 0.5044875), (3, 0.47413483)], [(0, 0.6594588)], [(3, 0.9609335)], [(0, 0.9274334)], [(0, 0.50048643), (3, 0.31577936)], [(3, 0.74382466)], [(3, 0.73044217)], [(1, 0.71619827)], [(3, 0.975554)], [(3, 0.82531285)], [(0, 0.86795455)], [(0, 0.34289312), (2, 0.63013476)], [(1, 0.9708897)], [(1, 0.946279)], [(2, 0.9883682)], [(1, 0.932228)], [(1, 0.9647152)], [(2, 0.7613721)], [(2, 0.9171535)], [(3, 0.543964)], [(0, 0.93667954)], [(2, 0.88060296)], [(0, 0.5306093), (1, 0.44938564)], [(3, 0.9806879)], [(0, 0.8086072)], [(3, 0.94072545)], [(3, 0.952947)], [(3, 0.931602)], [(3, 0.7283432)], [(3, 0.8736783)], [(2, 0.95889723)], [(0, 0.93655306)], [(1, 0.946406)], [(0, 0.41382062), (3, 0.5608134)], [(0, 0.62392455), (3, 0.34809652)], [(0, 0.9817796)], [(1, 0.6192645), (2, 0.35512987)], [(1, 0.87174004)], [(0, 0.9271746)], [(1, 0.75358766)], [(0, 0.896551)], [(3, 0.6887386)], [(3, 0.77900386)], [(0, 0.89364755)], [(2, 0.57471347)], [(3, 0.7545133)], [(0, 0.9438464)], [(0, 0.9362523)], [(3, 0.45222726)], [(1, 0.85764676)], [(1, 0.76501656)], [(3, 0.9864675)], [(3, 0.88399875)], [(1, 0.9405292)], [(1, 0.5571826)], [(3, 0.66241366)], [(0, 0.9583722)], [(1, 0.5716748), (2, 0.4234608)], [(3, 0.71201575)], [(1, 0.76803493)], [(1, 0.71083724)], [(1, 0.36859038), (3, 0.5480112)], [(1, 0.56974924), (3, 0.41897735)], [(0, 0.9259556)], [(3, 0.91970664)], [(1, 0.47588113), (3, 0.51462203)], [(0, 0.4016862), (3, 0.58887535)], [(3, 0.68258744)], [(1, 0.7197758)], [(3, 0.83662647)], [(0, 0.9363911)], [(0, 0.9362865)], [(2, 0.9165843)], [(3, 0.96105254)], [(0, 0.68840533)], [(1, 0.40526545), (3, 0.35472277)], [(0, 0.45693827), (3, 0.4349462)], [(2, 0.97936577)], [(1, 0.4203559), (2, 0.563338)], [(2, 0.7366627)], [(0, 0.9026511)], [(1, 0.96713674)], [(1, 0.9590114)], [(3, 0.9000531)], [(0, 0.9272048)], [(0, 0.5842229), (1, 0.39142156)], [(1, 0.34669426), (3, 0.6427963)], [(1, 0.75328726)], [(3, 0.67881024)], [(1, 0.35971946), (3, 0.62978315)], [(3, 0.98284847)], [(3, 0.94767874)], [(0, 0.98295903)], [(3, 0.87553823)], [(2, 0.9020851)], [(0, 0.72611743)], [(3, 0.7965257)], [(3, 0.9919664)], [(3, 0.90146685)], [(0, 0.49792612), (3, 0.4932534)], [(2, 0.56827325), (3, 0.41358238)], [(1, 0.7943867)], [(0, 0.9750326)], [(0, 0.33381823), (2, 0.4958995)], [(0, 0.47022575), (1, 0.5085775)], [(0, 0.6027437), (3, 0.36927032)], [(3, 0.9572614)], [(0, 0.36327365), (1, 0.60831654)], [(0, 0.4635066), (3, 0.5111362)], [(3, 0.86218)], [(3, 0.81870973)], [(0, 0.931695)], [(0, 0.5784775), (3, 0.41269407)], [(1, 0.71286464)], [(0, 0.9786949)], [(0, 0.96884274)], [(0, 0.949984)], [(2, 0.71580905)], [(0, 0.578146), (1, 0.37883505)], [(0, 0.449494), (1, 0.5437065)], [(0, 0.7698252)], [(3, 0.96896714)], [(0, 0.5661921), (3, 0.32944614)], [(0, 0.5983702)], [(0, 0.94372296)], [(2, 0.9917037)], [(1, 0.87478364)], [(1, 0.8888158)], [(3, 0.82954746)], [(0, 0.9775454)], [(1, 0.38785145), (2, 0.4829611)], [(0, 0.9802246)], [(3, 0.95698243)], [(2, 0.6104623), (3, 0.37387162)], [(1, 0.6113146), (3, 0.37592214)], [(0, 0.9493733)], [(3, 0.97691584)], [(3, 0.9689957)], [(0, 0.41798443), (1, 0.57151806)], [(1, 0.42225334), (3, 0.56976557)], [(3, 0.9196862)], [(0, 0.43319467), (1, 0.5498762)], [(1, 0.7802427)], [(3, 0.960988)], [(0, 0.39369312), (1, 0.595403)], [(1, 0.73562473)], [(0, 0.4320102), (2, 0.54702795)], [(3, 0.95724505)], [(0, 0.49362975), (1, 0.4883004)], [(2, 0.9023981)], [(0, 0.5247861), (1, 0.44659665)], [(0, 0.54444015), (3, 0.42430413)], [(1, 0.47730514), (3, 0.38681483)], [(2, 0.61002547), (3, 0.36964518)], [(1, 0.93278694)], [(3, 0.7049197)], [(0, 0.45693293), (3, 0.4349332)], [(3, 0.9893339)], [(2, 0.92706835)], [(2, 0.7275725)], [(0, 0.96867573)], [(0, 0.41137505), (3, 0.5755478)], [(0, 0.9540406)], [(1, 0.9556074)], [(1, 0.47725508), (3, 0.38679293)], [(2, 0.7491281)], [(3, 0.97420913)], [(2, 0.6320546), (3, 0.35869417)], [(3, 0.94728655)], [(3, 0.72664094)], [(3, 0.74324554)], [(2, 0.92761374)], [(0, 0.9544768)], [(1, 0.96456796)], [(1, 0.7324996)], [(2, 0.43182743), (3, 0.55961674)], [(1, 0.8568792)], [(1, 0.36133316), (3, 0.6259428)], [(1, 0.90830165)], [(0, 0.5763009), (1, 0.4203527)], [(1, 0.5390605)], [(2, 0.74166465)], [(2, 0.7799067)], [(3, 0.87596345)], [(2, 0.6953902)], [(0, 0.52504194), (3, 0.459651)], [(0, 0.54033995)], [(1, 0.9692052)], [(1, 0.61284274)], [(3, 0.93139035)], [(2, 0.45409712)], [(0, 0.74549806)], [(2, 0.8332368)], [(1, 0.59688807), (2, 0.37579164)], [(3, 0.43528068)], [(2, 0.48397228)], [(0, 0.35839224), (3, 0.61360806)], [(3, 0.6788037)], [(3, 0.79771084)], [(3, 0.9609363)], [(2, 0.53916955), (3, 0.3604066)], [(2, 0.7256063)], [(0, 0.6086013), (3, 0.37001908)], [(1, 0.9831025)], [(0, 0.46541482), (2, 0.51070267)], [(0, 0.663563)], [(3, 0.7830843)], [(3, 0.94765186)], [(0, 0.9363627)], [(2, 0.6858228)], [(0, 0.6411416), (1, 0.33258906)], [(2, 0.4815219), (3, 0.49678174)], [(1, 0.86638886)], [(1, 0.34713903), (3, 0.6396294)], [(1, 0.9773873)], [(3, 0.9707766)], [(3, 0.9187468)], [(2, 0.97172296)], [(1, 0.9691305)], [(0, 0.73761195)], [(0, 0.4570969), (1, 0.52685755)], [(0, 0.8490229)], [(2, 0.91657186)], [(0, 0.31492472), (1, 0.6260102)], [(2, 0.90260273)], [(0, 0.94373065)], [(0, 0.5244649), (1, 0.45939776)], [(0, 0.38013467), (1, 0.5595553)], [(2, 0.3782579), (3, 0.5727713)], [(1, 0.329931), (3, 0.41154322)], [(2, 0.9564113)], [(2, 0.6872176)], [(0, 0.9583997)], [(2, 0.39367756)], [(2, 0.5981761)], [(0, 0.70139277)], [(2, 0.9622639)], [(0, 0.9615946)], [(1, 0.7243407)], [(2, 0.39308012), (3, 0.5905366)], [(3, 0.91970474)], [(0, 0.93618065)], [(3, 0.97407466)], [(0, 0.9644954)], [(3, 0.69659585)], [(2, 0.9564217)], [(3, 0.8133614)], [(0, 0.93553406)], [(3, 0.51473635)], [(0, 0.95852214)], [(0, 0.3136336), (3, 0.67954475)], [(0, 0.98641914)], [(3, 0.902362)], [(3, 0.9474503)], [(1, 0.4405623), (3, 0.5414565)], [(2, 0.3776625), (3, 0.5715163)], [(0, 0.81910443)], [(3, 0.95286787)], [(2, 0.9470663)], [(0, 0.40164024), (1, 0.58788556)], [(0, 0.6186974), (3, 0.3559298)], [(0, 0.9440753)], [(0, 0.59430134), (1, 0.36703482)], [(0, 0.54378563), (1, 0.43168062)], [(1, 0.9228359)], [(0, 0.96167296)], [(0, 0.64301646), (1, 0.32257736)], [(1, 0.844073)], [(3, 0.76139086)], [(1, 0.81158966)], [(0, 0.9793793)], [(0, 0.545852), (1, 0.4045541)], [(1, 0.56906706), (3, 0.31510207)], [(3, 0.73350745)], [(0, 0.44966593), (3, 0.5372366)], [(3, 0.97688323)], [(0, 0.5867248)], [(0, 0.35095906), (3, 0.5492677)], [(1, 0.946641)], [(0, 0.94401497)], [(3, 0.9611801)], [(3, 0.960793)], [(2, 0.68083405)], [(3, 0.8686698)], [(1, 0.45903322), (3, 0.5063522)], [(0, 0.9541793)], [(0, 0.47890434), (1, 0.3597533)], [(2, 0.94215506)], [(1, 0.57851136), (3, 0.40339568)], [(0, 0.7571533)], [(3, 0.8012433)], [(2, 0.87921417)], [(1, 0.40623915), (3, 0.57993203)], [(0, 0.44015834), (3, 0.42079166)], [(2, 0.93482894)], [(1, 0.41197222), (3, 0.5533997)], [(0, 0.94933635)], [(3, 0.97080934)], [(2, 0.35560346), (3, 0.44876853)], [(2, 0.49780044), (3, 0.41069716)], [(0, 0.5134322), (2, 0.4676263)], [(0, 0.32099727), (3, 0.60529864)], [(3, 0.97897583)], [(0, 0.64951724), (1, 0.31962734)], [(1, 0.88914657)], [(2, 0.37335733), (3, 0.6050064)], [(3, 0.92404723)], [(0, 0.790715)], [(1, 0.3461803), (3, 0.63924783)], [(0, 0.9270987)], [(3, 0.7377582)], [(3, 0.9727334)], [(3, 0.9475463)], [(0, 0.97954255)], [(0, 0.5525371), (3, 0.3835885)], [(2, 0.7697633)], [(1, 0.80418736)], [(3, 0.8459944)], [(0, 0.36143243), (1, 0.6207584)], [(3, 0.9570861)], [(0, 0.6001067), (3, 0.3893418)], [(3, 0.9872367)], [(2, 0.8806286)], [(1, 0.64165294), (3, 0.3456611)], [(0, 0.8937006)], [(2, 0.4889015), (3, 0.4907933)], [(1, 0.7952556)], [(3, 0.98650557)], [(3, 0.986037)], [(0, 0.75199634)], [(3, 0.663954)], [(0, 0.95398504)], [(0, 0.33664626), (3, 0.5612466)], [(0, 0.9666187)], [(1, 0.64733166), (2, 0.33642715)], [(1, 0.95506227)], [(3, 0.9196906)], [(0, 0.56572306)], [(0, 0.30073887), (2, 0.6511457)], [(0, 0.5450073)], [(2, 0.6992721)], [(1, 0.9707819)], [(2, 0.92310387)], [(1, 0.5320177), (2, 0.4264418)], [(0, 0.67639405), (1, 0.31277734)], [(1, 0.84467775)], [(2, 0.9874589)], [(0, 0.3732326), (3, 0.6122726)], [(3, 0.9024986)], [(1, 0.90889853)], [(1, 0.9903668)], [(0, 0.9546447)], [(0, 0.96461445)], [(0, 0.97403157)], [(3, 0.93161637)], [(0, 0.7660292)], [(2, 0.5341681), (3, 0.40581802)], [(0, 0.46836096), (3, 0.5246392)], [(0, 0.87148905)], [(0, 0.9438703)], [(2, 0.7903533)], [(3, 0.9779358)], [(0, 0.8955763)], [(3, 0.98415494)], [(0, 0.68496877)], [(3, 0.43606594)], [(3, 0.8292028)], [(0, 0.58039576), (2, 0.3813773)], [(3, 0.74327123)], [(1, 0.3474977), (2, 0.5928174)], [(2, 0.8878332)], [(0, 0.95857644)], [(2, 0.6937242)], [(3, 0.9198277)], [(0, 0.65989745), (1, 0.31141955)], [(0, 0.7940924)], [(1, 0.53019553), (3, 0.4527927)], [(0, 0.55988073), (3, 0.30857164)], [(1, 0.96903425)], [(3, 0.7931972)], [(3, 0.7865648)], [(2, 0.5673925)], [(3, 0.84522665)], [(2, 0.6181822), (3, 0.37616244)], [(3, 0.7526466)], [(0, 0.4966558), (1, 0.4886844)], [(1, 0.3689053), (3, 0.57772547)], [(3, 0.8755517)], [(2, 0.9476339)], [(2, 0.95230705)], [(1, 0.84849197)], [(3, 0.972733)], [(1, 0.90852964)], [(3, 0.93181354)], [(1, 0.9328089)], [(0, 0.9824405)], [(3, 0.64683354)], [(1, 0.79593337)], [(2, 0.9617794)], [(0, 0.9691277)], [(1, 0.7336654)], [(0, 0.7543594)], [(0, 0.34928936), (3, 0.48864564)], [(0, 0.9753849)], [(0, 0.37319195), (3, 0.61231333)], [(2, 0.32573593), (3, 0.6451952)], [(2, 0.97320145)], [(3, 0.83310014)], [(0, 0.797887)], [(2, 0.9718968)], [(0, 0.9365838)], [(3, 0.94767845)], [(3, 0.9317301)], [(0, 0.9367189)], [(0, 0.40086982), (3, 0.38336626)], [(3, 0.9742038)], [(0, 0.8966748)], [(3, 0.9438664)], [(0, 0.652277), (3, 0.31241748)], [(1, 0.36963123)], [(0, 0.94988513)], [(0, 0.6227086), (1, 0.30403662)], [(3, 0.7126614)], [(0, 0.44508153)], [(0, 0.34237048), (1, 0.59391445)], [(2, 0.69504344)], [(0, 0.42655352), (1, 0.43410057)], [(0, 0.6419908), (1, 0.34839088)], [(0, 0.8432998)], [(3, 0.73571277)], [(0, 0.9145051)], [(3, 0.51012653)], [(3, 0.9742479)], [(0, 0.3817426), (1, 0.599426)], [(0, 0.4772126), (3, 0.3462508)], [(0, 0.40349698), (3, 0.5611824)], [(0, 0.97659045)], [(2, 0.6156057), (3, 0.37212887)], [(1, 0.9622227)], [(1, 0.96686274)], [(0, 0.3506946), (3, 0.64524347)], [(0, 0.91491187)], [(3, 0.91919065)], [(3, 0.9528827)], [(2, 0.6706597), (3, 0.31706655)], [(2, 0.34691682), (3, 0.64636344)], [(1, 0.42615062), (2, 0.50217915)], [(0, 0.4401545), (3, 0.42080393)], [(2, 0.91717386)], [(3, 0.87537104)], [(3, 0.9756521)], [(1, 0.43778598), (3, 0.3739672)], [(0, 0.84593123)], [(2, 0.45409885)], [(0, 0.65937686)], [(3, 0.87175316)], [(0, 0.60943156), (3, 0.37075382)], [(0, 0.38532302), (2, 0.59838825)], [(0, 0.97624755)], [(3, 0.9638714)], [(0, 0.86723834)], [(1, 0.4363028), (3, 0.5541842)], [(0, 0.4096383), (2, 0.55852246)], [(3, 0.94037086)], [(2, 0.7415767)], [(1, 0.6684038), (3, 0.31702775)], [(1, 0.7568764)], [(3, 0.9742524)], [(3, 0.9198497)], [(3, 0.9197664)], [(2, 0.9927857)], [(1, 0.75381607)], [(0, 0.30058703), (1, 0.6853734)], [(0, 0.9365147)], [(0, 0.35275936), (1, 0.42268226)], [(0, 0.44653064), (2, 0.43066463)], [(2, 0.9644626)], [(1, 0.4836232), (3, 0.50109273)], [(2, 0.79066086)], [(0, 0.4029436), (3, 0.5869052)], [(0, 0.94971955)], [(2, 0.9295158)], [(1, 0.95567834)], [(1, 0.74948883)], [(0, 0.52158904), (1, 0.4648127)], [(1, 0.58540857), (3, 0.41192436)], [(0, 0.9269008)], [(0, 0.91452616)], [(3, 0.9317101)], [(3, 0.9708602)], [(2, 0.9168188)], [(1, 0.9084901)], [(1, 0.73743683)], [(1, 0.37379244), (3, 0.6116173)], [(2, 0.39447042), (3, 0.44105715)], [(0, 0.96406937)], [(0, 0.8090168)], [(2, 0.91408914)], [(2, 0.97151273)], [(0, 0.7278853)], [(0, 0.57716286), (2, 0.37976146)], [(3, 0.9799497)], [(3, 0.9403198)], [(3, 0.9572763)], [(0, 0.94366866)], [(3, 0.9493211)], [(1, 0.9749835)], [(2, 0.38055506), (3, 0.60022134)], [(3, 0.9754146)], [(2, 0.9479117)], [(2, 0.73870647)], [(0, 0.9705796)], [(3, 0.957419)], [(3, 0.7753138)], [(1, 0.9095941)], [(3, 0.96876323)], [(3, 0.82992387)], [(2, 0.6144357), (3, 0.37876332)], [(0, 0.349416), (3, 0.4885866)], [(1, 0.9411431)], [(2, 0.5973849)], [(0, 0.31519082), (1, 0.66944516)], [(3, 0.9798771)], [(0, 0.86244786)], [(1, 0.3553771), (3, 0.63618827)], [(1, 0.65005213)], [(0, 0.34348968), (2, 0.63859993)], [(2, 0.9720224)], [(3, 0.96097606)], [(1, 0.728728)], [(3, 0.97428566)], [(0, 0.37069783), (3, 0.46038878)], [(0, 0.943266)], [(1, 0.5012512), (3, 0.44141302)], [(1, 0.77395165)], [(1, 0.9690387)], [(3, 0.7679025)], [(0, 0.6471703), (3, 0.3433838)], [(1, 0.9759285)], [(0, 0.5894612), (1, 0.37282714)], [(1, 0.78159386)], [(3, 0.97087276)], [(3, 0.8752856)], [(3, 0.93148345)], [(2, 0.9031048)], [(0, 0.94425184)], [(1, 0.59961814), (3, 0.33284315)], [(3, 0.90201753)], [(1, 0.96892583)], [(0, 0.50700545), (3, 0.48048466)], [(2, 0.9792397)], [(0, 0.40953445), (1, 0.3079655)], [(0, 0.9824156)], [(1, 0.7179411)], [(0, 0.9134666)], [(0, 0.8133144)], [(0, 0.9364427)], [(0, 0.95417964)], [(0, 0.72415)], [(0, 0.96915966)], [(1, 0.9621255)], [(3, 0.98149306)], [(2, 0.91567904)], [(2, 0.80526114)], [(0, 0.76189786)], [(0, 0.97539896)], [(0, 0.9135607)], [(1, 0.95116115)], [(0, 0.57353693), (1, 0.32386446)], [(3, 0.9690206)], [(1, 0.67001915)], [(2, 0.94799525)], [(0, 0.30002606), (3, 0.686855)], [(0, 0.30232054), (3, 0.690501)], [(2, 0.9812286)], [(0, 0.53386205), (1, 0.45083266)], [(0, 0.9147076)], [(0, 0.5995245), (3, 0.3598952)], [(3, 0.7753415)], [(0, 0.53627264), (3, 0.4423727)], [(1, 0.34510258), (2, 0.4587793)], [(0, 0.717243)], [(1, 0.3531068), (2, 0.5238759)], [(3, 0.9669272)], [(3, 0.6626693)], [(0, 0.40107605), (3, 0.38826993)], [(0, 0.34887135), (1, 0.3440834), (3, 0.30544832)], [(3, 0.96408135)], [(2, 0.48478997), (3, 0.4884407)], [(1, 0.70937896)], [(3, 0.7713944)], [(0, 0.61817586), (2, 0.36079174)], [(0, 0.67977715)], [(0, 0.9543408)], [(0, 0.6185831)], [(3, 0.9709332)], [(2, 0.7172857)], [(0, 0.95833117)], [(2, 0.9756653)], [(0, 0.48077556), (3, 0.47141233)], [(1, 0.95923823)], [(2, 0.6872414)], [(3, 0.99286103)], [(3, 0.9319728)], [(2, 0.9220287)], [(0, 0.9860719)], [(2, 0.9622696)], [(3, 0.7602656)], [(0, 0.6305915), (2, 0.34586504)], [(0, 0.32547775), (3, 0.6600442)], [(0, 0.9753982)], [(3, 0.97673297)], [(2, 0.84915507)], [(3, 0.972732)], [(3, 0.9314371)], [(0, 0.7410079)], [(3, 0.63737965)], [(0, 0.46839026), (3, 0.5246099)], [(0, 0.38247207), (2, 0.5952579)], [(1, 0.47229016)], [(3, 0.93162924)], [(3, 0.9405605)], [(3, 0.9472347)], [(1, 0.5278695)], [(1, 0.88863605)], [(0, 0.39422774), (1, 0.587148)], [(0, 0.71760094)], [(0, 0.48026472), (3, 0.4943432)], [(1, 0.6964051)], [(1, 0.6839202)], [(0, 0.7551474)], [(0, 0.7958101)], [(0, 0.59592897), (3, 0.39757407)], [(1, 0.47658175), (3, 0.37743694)], [(0, 0.5831397), (1, 0.4028844)], [(0, 0.3706684), (1, 0.61977005)], [(2, 0.96875453)], [(0, 0.56657046), (3, 0.3295271)], [(2, 0.58613247), (3, 0.4001371)], [(3, 0.75028276)], [(3, 0.99098706)], [(3, 0.9317671)], [(2, 0.46626058), (3, 0.50693387)], [(0, 0.96446294)], [(1, 0.31472), (2, 0.5746384)], [(3, 0.9317915)], [(3, 0.81533325)], [(3, 0.984082)], [(0, 0.6110266), (3, 0.35363826)], [(0, 0.7398801)], [(2, 0.9597541)], [(1, 0.92232287)], [(0, 0.9643317)], [(2, 0.9754733)], [(0, 0.8409563)], [(1, 0.9224347)], [(3, 0.78993326)], [(3, 0.96087617)], [(2, 0.69471073)], [(3, 0.9878918)], [(3, 0.91908497)], [(3, 0.9527809)], [(3, 0.96418643)], [(0, 0.58477473), (3, 0.31122637)], [(3, 0.72583467)], [(0, 0.66664237), (3, 0.3223801)], [(3, 0.9779356)], [(0, 0.4109856), (2, 0.5332974)], [(3, 0.5823474)], [(2, 0.37629926), (3, 0.60990506)], [(3, 0.9317125)], [(1, 0.3982463), (3, 0.49926886)], [(3, 0.71406364)], [(2, 0.777918)], [(2, 0.51385176), (3, 0.48073936)], [(0, 0.9438716)], [(0, 0.9498027)], [(2, 0.94566417)], [(2, 0.8716113)], [(3, 0.97561646)], [(0, 0.654514)], [(3, 0.9708184)], [(1, 0.7568952)], [(0, 0.616595), (1, 0.32572475)], [(0, 0.8372112)], [(0, 0.49238858)], [(1, 0.9093736)], [(3, 0.6042559)], [(1, 0.31628487), (3, 0.6385135)], [(0, 0.6986254)], [(3, 0.98227304)], [(2, 0.94289917)], [(1, 0.9793523)], [(1, 0.35510102), (3, 0.6336398)], [(2, 0.43100315), (3, 0.3362752)], [(0, 0.5684516), (1, 0.3879587)], [(2, 0.98339504)], [(0, 0.3570465), (2, 0.5218063)], [(2, 0.7978024)], [(0, 0.9442548)], [(1, 0.4211518), (3, 0.56661844)], [(0, 0.97630394)], [(1, 0.95917404)], [(0, 0.568088), (3, 0.34946433)], [(3, 0.95716476)], [(3, 0.9609189)], [(0, 0.97834665)], [(1, 0.9875645)], [(0, 0.41530505), (3, 0.5674267)], [(3, 0.968895)], [(0, 0.76672184)], [(2, 0.93567485)], [(3, 0.97564894)], [(1, 0.51473), (2, 0.45071352)], [(1, 0.83820885)], [(0, 0.37545893), (1, 0.42409387)], [(1, 0.49421242), (2, 0.49309745)], [(1, 0.5079072), (3, 0.48313046)], [(0, 0.96169)], [(0, 0.7017923)], [(1, 0.41564372)], [(3, 0.8308711)], [(3, 0.96097237)], [(1, 0.4519944), (3, 0.5358338)], [(0, 0.37981), (1, 0.6154907)], [(2, 0.38580713), (3, 0.5544882)], [(2, 0.38781577), (3, 0.3509562)], [(2, 0.9685933)], [(0, 0.48802954), (2, 0.4631579)], [(0, 0.380661), (3, 0.6048586)], [(2, 0.9062098)], [(1, 0.4331183), (3, 0.43031606)], [(3, 0.96875983)], [(3, 0.88341)], [(3, 0.6592153)], [(3, 0.48830244)], [(1, 0.4843699), (3, 0.4873706)], [(0, 0.60139567), (3, 0.38666517)], [(0, 0.97243804)], [(1, 0.46125183)], [(3, 0.99498206)], [(2, 0.9699847)], [(2, 0.3350117), (3, 0.64336747)], [(0, 0.43520057)], [(1, 0.9736535)], [(0, 0.7505552)], [(2, 0.7900733)], [(1, 0.8049151)], [(0, 0.92746365)], [(2, 0.67932254)], [(0, 0.9368369)], [(2, 0.84886485)], [(1, 0.703737)], [(1, 0.9790911)], [(1, 0.41762123), (3, 0.45086777)], [(2, 0.9160512)], [(0, 0.4959997)], [(3, 0.9609327)], [(3, 0.4263637)], [(0, 0.43635818), (2, 0.54369426)], [(1, 0.72995657)], [(1, 0.73764366)], [(3, 0.77301323)], [(0, 0.5975353), (3, 0.38997233)], [(2, 0.7238141)], [(2, 0.9833912)], [(3, 0.5806966)], [(0, 0.7853357)], [(3, 0.7187273)], [(0, 0.36336112), (1, 0.61023295)], [(2, 0.40131134), (3, 0.5770596)], [(0, 0.96175164)], [(3, 0.6412118)], [(3, 0.6520733)], [(0, 0.68114483)], [(1, 0.45916995), (2, 0.37099513)], [(0, 0.9545094)], [(2, 0.3606495), (3, 0.58860964)], [(1, 0.66857487)], [(0, 0.96152836)], [(1, 0.92246234)], [(3, 0.93161035)], [(3, 0.5931698)], [(1, 0.46810785), (2, 0.50613075)], [(0, 0.9870114)], [(3, 0.968916)], [(1, 0.3155378), (3, 0.67495245)], [(3, 0.9690216)], [(0, 0.5962047)], [(1, 0.99239033)], [(1, 0.9073177)], [(1, 0.3563279), (2, 0.6061342)], [(2, 0.717511)], [(1, 0.48347515), (3, 0.50477254)], [(3, 0.7716202)], [(0, 0.72015435)], [(2, 0.5655962), (3, 0.34154978)], [(0, 0.95846665)], [(0, 0.84075207)], [(1, 0.56906563), (3, 0.31509826)], [(2, 0.9592718)], [(0, 0.9645076)], [(3, 0.9742456)], [(2, 0.8801415)], [(0, 0.9436004)], [(0, 0.76189744)], [(0, 0.81513554)], [(1, 0.69638234)], [(3, 0.99027395)], [(3, 0.970845)], [(1, 0.49738133), (3, 0.38903427)], [(1, 0.97974455)], [(0, 0.9497608)], [(0, 0.9645942)], [(2, 0.9425957)], [(0, 0.83331597)], [(2, 0.49015045), (3, 0.49415892)], [(1, 0.5544122), (3, 0.3022896)], [(1, 0.60581076)], [(0, 0.5881138), (3, 0.38390568)], [(0, 0.6112174), (3, 0.37629858)], [(1, 0.5968434), (3, 0.39186397)], [(0, 0.9709826)], [(0, 0.6727615), (3, 0.31099048)], [(2, 0.8498083)], [(1, 0.67717147)], [(2, 0.35734373), (3, 0.6288727)], [(3, 0.9530771)], [(2, 0.97746015)], [(1, 0.39233845), (3, 0.5998511)], [(1, 0.53137225), (3, 0.40061584)], [(0, 0.39372504), (3, 0.598696)], [(0, 0.67299575), (3, 0.32000858)], [(3, 0.9404478)], [(1, 0.38708138), (3, 0.6090994)], [(0, 0.44380927), (2, 0.40069696)], [(1, 0.9722401)], [(2, 0.9280551)], [(3, 0.76289207)], [(0, 0.9273435)], [(0, 0.94989145)], [(3, 0.9472507)], [(1, 0.85006565)], [(0, 0.95827097)], [(0, 0.43937615), (3, 0.54082775)], [(3, 0.9313571)], [(3, 0.91926426)], [(0, 0.37711868), (1, 0.60754675)], [(3, 0.94084424)], [(0, 0.6027343), (1, 0.3731396)], [(3, 0.9841054)], [(3, 0.8756597)], [(2, 0.7215639)], [(2, 0.95943654)], [(0, 0.9725694)], [(0, 0.49037895), (3, 0.415498)], [(0, 0.3683003), (3, 0.6144255)], [(3, 0.9768546)], [(1, 0.5406665)], [(3, 0.60121244)], [(2, 0.77183366)], [(2, 0.7003702)], [(3, 0.94048786)], [(3, 0.931716)], [(1, 0.94015974)], [(3, 0.7602816)], [(2, 0.57805955), (3, 0.38686058)], [(1, 0.9669712)], [(0, 0.6065401)], [(3, 0.9939917)], [(1, 0.32791713), (2, 0.6062939)], [(2, 0.42352274), (3, 0.33862826)], [(1, 0.5370035), (3, 0.45957315)], [(2, 0.8484959)], [(0, 0.9365)], [(0, 0.9579934)], [(1, 0.66282624), (2, 0.30961874)], [(2, 0.56028664), (3, 0.42539963)], [(0, 0.6559618)], [(3, 0.94764036)], [(2, 0.9592789)], [(0, 0.40692124), (1, 0.57434815)], [(1, 0.4856672), (3, 0.49061507)], [(2, 0.66777194)], [(3, 0.96675414)], [(0, 0.679562), (1, 0.30692378)], [(3, 0.7453512)], [(3, 0.975575)], [(3, 0.9018163)], [(0, 0.91491073)], [(3, 0.94935536)], [(2, 0.48001838), (3, 0.5081438)], [(2, 0.5274209), (3, 0.45445585)], [(0, 0.9834518)], [(0, 0.9361999)], [(1, 0.6383313), (2, 0.3375602)], [(3, 0.9640534)], [(0, 0.8679626)], [(1, 0.5855574)], [(2, 0.75083286)], [(3, 0.9609086)], [(2, 0.5567917), (3, 0.42404795)], [(2, 0.57986605), (3, 0.38465858)], [(0, 0.79810184)], [(3, 0.9473676)], [(2, 0.80404484)], [(2, 0.9885092)], [(1, 0.6946835)], [(0, 0.6887787)], [(2, 0.96200645)], [(3, 0.9856503)], [(2, 0.9917054)], [(2, 0.40974656), (3, 0.45934057)], [(2, 0.53236765), (3, 0.44851026)], [(2, 0.9830497)], [(1, 0.86258346)], [(0, 0.5486482), (1, 0.39324692)], [(3, 0.7679105)], [(1, 0.598345)], [(3, 0.98459905)], [(3, 0.6881113)], [(1, 0.7000261)], [(0, 0.78022635)], [(0, 0.7289275)], [(0, 0.38187844)], [(1, 0.85855114)], [(2, 0.9724664)], [(2, 0.51503164), (3, 0.44999152)], [(1, 0.69329333)], [(2, 0.826323)], [(0, 0.55726415), (3, 0.428224)], [(0, 0.44816518), (3, 0.53936195)], [(3, 0.97981983)], [(3, 0.9405917)], [(0, 0.6172387), (3, 0.36899683)], [(3, 0.9405172)], [(0, 0.43772852), (3, 0.5145537)], [(0, 0.83396894)], [(1, 0.9621181)], [(0, 0.7412232)], [(1, 0.8731851)], [(3, 0.94762313)], [(0, 0.9846753)], [(0, 0.4027137), (1, 0.48316795)], [(3, 0.7175685)], [(3, 0.981537)], [(0, 0.9802514)], [(0, 0.9130789)], [(1, 0.5772936), (3, 0.410513)], [(2, 0.97848237)], [(3, 0.844448)], [(1, 0.6604287), (3, 0.30857313)], [(3, 0.957441)], [(0, 0.9641571)], [(3, 0.95739377)], [(2, 0.42031205), (3, 0.57226914)], [(0, 0.9270954)], [(1, 0.97708285)], [(0, 0.91444445)], [(0, 0.9907667)], [(2, 0.927676)], [(3, 0.7498123)], [(0, 0.95429635)], [(0, 0.9440057)], [(0, 0.34491256), (3, 0.62380785)], [(2, 0.40489233), (3, 0.5871914)], [(1, 0.53601915)], [(0, 0.89548963)], [(0, 0.9262776)], [(1, 0.64720047)], [(1, 0.39241353), (3, 0.58554554)], [(0, 0.65451455)], [(2, 0.9426308)], [(0, 0.9492578)], [(1, 0.3325807), (2, 0.56417155)], [(0, 0.82226664)], [(0, 0.9541757)], [(2, 0.97664315)], [(3, 0.71692294)], [(0, 0.8037636)], [(2, 0.9275841)], [(3, 0.9475094)], [(0, 0.39777496), (1, 0.57127076)], [(0, 0.9495786)], [(3, 0.87592614)], [(0, 0.51889825), (1, 0.456578)], [(1, 0.96206796)], [(2, 0.9863797)], [(2, 0.97195405)], [(3, 0.686165)], [(1, 0.5406481)], [(2, 0.65901333), (3, 0.3216873)], [(3, 0.9767256)], [(3, 0.90212476)], [(0, 0.58889216), (3, 0.39578235)], [(3, 0.8346951)], [(3, 0.9406351)], [(1, 0.9936858)], [(3, 0.9474297)], [(2, 0.81110495)], [(3, 0.93170685)], [(1, 0.57851964), (3, 0.40338737)], [(2, 0.5836907), (3, 0.40067655)], [(1, 0.6195519)], [(3, 0.95278287)], [(3, 0.8192774)], [(0, 0.9666771)], [(0, 0.98038)], [(3, 0.91970664)], [(3, 0.9756318)], [(0, 0.9740496)], [(2, 0.6031389)], [(0, 0.37320286), (3, 0.61230236)], [(2, 0.787523)], [(0, 0.97494656)], [(2, 0.7371589)], [(1, 0.34083363), (2, 0.35981092)], [(0, 0.37457135), (2, 0.5961569)], [(2, 0.9685885)], [(0, 0.47326487), (3, 0.5122257)], [(0, 0.7011199)], [(0, 0.9366105)], [(0, 0.66095227), (2, 0.30977947)], [(3, 0.85399544)], [(2, 0.9878603)], [(2, 0.96452427)], [(0, 0.9273988)], [(3, 0.686691)], [(2, 0.97724825)], [(3, 0.9922464)], [(1, 0.77558273)], [(0, 0.9144573)], [(2, 0.52447456), (3, 0.466502)], [(3, 0.96679926)], [(1, 0.8112713)], [(0, 0.9764784)], [(0, 0.35292518), (3, 0.5035433)], [(3, 0.97796756)], [(2, 0.46631226), (3, 0.5209292)], [(3, 0.9475645)], [(3, 0.9667846)], [(2, 0.7499675)], [(1, 0.77086645)], [(3, 0.5647475)], [(3, 0.97424704)], [(0, 0.7818881)], [(1, 0.93266475)], [(3, 0.6989913)], [(0, 0.4255668), (1, 0.5610552)], [(0, 0.94985974)], [(0, 0.91211987)], [(3, 0.874396)], [(0, 0.5519267), (1, 0.43451133)], [(0, 0.4422498), (2, 0.53059506)], [(2, 0.643561)], [(0, 0.39891124), (1, 0.5971803)], [(2, 0.54429215)], [(1, 0.96908957)], [(0, 0.9141833)], [(2, 0.41022718), (3, 0.56816113)], [(1, 0.35166836), (3, 0.59527755)], [(1, 0.5177541), (2, 0.4725791)], [(2, 0.9476681)], [(2, 0.988513)], [(1, 0.856913)], [(3, 0.98462266)], [(0, 0.93684334)], [(0, 0.34986213), (2, 0.3456161)], [(0, 0.63632125), (1, 0.35286304)], [(1, 0.447842), (2, 0.5062526)], [(3, 0.9021423)], [(2, 0.6131318), (3, 0.36770514)], [(0, 0.97068715)], [(0, 0.93598217)], [(2, 0.9032295)], [(1, 0.59320414), (2, 0.3604526)], [(3, 0.94740766)], [(3, 0.95304924)], [(1, 0.9591158)], [(3, 0.9196007)], [(3, 0.97430265)], [(1, 0.8585124)], [(1, 0.93229157)], [(0, 0.98662674)], [(3, 0.94746053)], [(2, 0.9266082)], [(1, 0.95560133)], [(0, 0.9498028)], [(1, 0.8897605)], [(2, 0.75679535)], [(2, 0.6787341), (3, 0.3101809)], [(1, 0.9466443)], [(1, 0.9081827)], [(3, 0.88836515)], [(0, 0.9764785)], [(0, 0.9723324)], [(3, 0.788871)], [(0, 0.40998125), (3, 0.57808006)], [(3, 0.8292996)], [(0, 0.579094), (3, 0.4046815)], [(3, 0.95303136)], [(1, 0.93248457)], [(2, 0.9525229)], [(1, 0.75211537)], [(2, 0.9028054)], [(1, 0.68762535)], [(0, 0.45336774), (3, 0.53285956)], [(3, 0.94756556)], [(1, 0.98460233)], [(2, 0.9428894)], [(2, 0.9782892)], [(0, 0.69230884)], [(3, 0.95000833)], [(0, 0.7044811)], [(3, 0.7847585)], [(0, 0.82760364)], [(2, 0.47918844)], [(0, 0.58889955), (3, 0.38791046)], [(1, 0.7009734)], [(3, 0.9406981)], [(2, 0.4102813), (3, 0.568107)], [(2, 0.93565774)], [(3, 0.9027171)], [(2, 0.97012883)], [(0, 0.5388407), (2, 0.45070174)], [(1, 0.94647586)], [(3, 0.8750704)], [(0, 0.587522), (2, 0.30995888)], [(0, 0.9135726)], [(3, 0.6385772)], [(3, 0.9756531)], [(0, 0.5093801), (3, 0.4834354)], [(2, 0.67479396), (3, 0.31023112)], [(0, 0.39849687), (1, 0.43152952)], [(3, 0.9572965)], [(3, 0.96091855)], [(3, 0.901953)], [(1, 0.7841726)], [(1, 0.5537934), (3, 0.4366786)], [(2, 0.88337547)], [(1, 0.3675037), (3, 0.6185963)], [(0, 0.34642413), (3, 0.6373439)], [(1, 0.96211034)], [(3, 0.93151873)], [(1, 0.41339964), (3, 0.57332295)], [(3, 0.9847011)], [(3, 0.56046385)], [(1, 0.3760211), (3, 0.6086641)], [(0, 0.9617392)], [(3, 0.9317703)], [(3, 0.70563304)], [(0, 0.5443435), (1, 0.30122408)], [(2, 0.9774122)], [(3, 0.97796583)], [(0, 0.9248644)], [(1, 0.98892564)], [(0, 0.60002285), (3, 0.37676355)], [(2, 0.9276598)], [(2, 0.96449983)], [(3, 0.97105247)], [(0, 0.9615937)], [(2, 0.6934098)], [(0, 0.30681455), (3, 0.6437395)], [(1, 0.33293182), (3, 0.58930284)], [(2, 0.8807717)], [(3, 0.9780106)], [(2, 0.9593584)], [(0, 0.9543783)], [(0, 0.6701613), (3, 0.3100396)], [(3, 0.9768435)], [(2, 0.4408241), (3, 0.31169057)], [(3, 0.9808058)], [(0, 0.3068196), (3, 0.64493376)], [(0, 0.5284852), (3, 0.44353855)], [(1, 0.6946443)], [(2, 0.9422822)], [(0, 0.41562155), (2, 0.5750047)], [(0, 0.45344743), (1, 0.53645056)], [(1, 0.9244155)], [(1, 0.85104704)], [(0, 0.8395481)], [(1, 0.908571)], [(0, 0.9377387)], [(0, 0.3775229), (1, 0.46897256)], [(2, 0.6930327)], [(2, 0.8748819)], [(2, 0.8717719)], [(3, 0.7298194)], [(3, 0.9885133)], [(0, 0.4272781), (3, 0.532102)], [(3, 0.76422673)], [(1, 0.74938774)], [(0, 0.93587065)], [(0, 0.9364614)], [(0, 0.9359853)], [(0, 0.96175206)], [(0, 0.68231976)], [(3, 0.9868441)], [(3, 0.9474318)], [(0, 0.32839453), (1, 0.396681)], [(3, 0.9840945)], [(0, 0.9877643)], [(0, 0.7416871)], [(3, 0.7958694)], [(0, 0.6065987)], [(0, 0.9134827)], [(1, 0.8898809)], [(1, 0.97225076)], [(3, 0.9529193)], [(0, 0.6747929), (3, 0.31272033)], [(3, 0.9198627)], [(0, 0.43348128), (1, 0.33345753)], [(0, 0.45826602)], [(2, 0.9665029)], [(3, 0.8379238)], [(3, 0.97273326)], [(1, 0.95105904)], [(0, 0.968865)], [(1, 0.8598512)], [(2, 0.9419565)], [(1, 0.940261)], [(1, 0.32752773), (3, 0.5189234)], [(1, 0.43715563), (3, 0.5316264)], [(0, 0.5025479), (3, 0.48434344)], [(0, 0.5502636)], [(1, 0.9326314)], [(0, 0.4659142), (3, 0.5272627)], [(1, 0.8438482)], [(1, 0.95926976)], [(2, 0.91530997)], [(1, 0.9869727)], [(2, 0.9269312)], [(0, 0.4409251), (3, 0.55383563)], [(3, 0.7251984)], [(0, 0.53387517), (3, 0.44633543)], [(1, 0.9228767)], [(1, 0.6015368), (2, 0.3199613)], [(3, 0.715966)], [(2, 0.7512071)], [(0, 0.8766719)], [(0, 0.8353967)], [(0, 0.6574177), (3, 0.32727134)], [(3, 0.97269523)], [(0, 0.9011084)], [(3, 0.8742108)], [(2, 0.9620037)], [(0, 0.36503413), (1, 0.5212597)], [(1, 0.7048354)], [(0, 0.9498863)], [(2, 0.4556075), (3, 0.38745752)], [(1, 0.9096642)], [(3, 0.91946584)], [(3, 0.8759265)], [(3, 0.83882236)], [(2, 0.42252013), (3, 0.55590296)], [(2, 0.7116297)], [(2, 0.8660728)], [(1, 0.5043968)], [(1, 0.96212447)], [(0, 0.37667018), (3, 0.5979365)], [(2, 0.6938183)], [(3, 0.78808033)], [(3, 0.45240125)], [(1, 0.5941791), (2, 0.39704466)], [(3, 0.33172384)], [(0, 0.9500022)], [(0, 0.9688524)], [(3, 0.838199)], [(2, 0.95612985)], [(2, 0.70881677)], [(1, 0.6292675), (3, 0.359836)], [(0, 0.9132266)], [(3, 0.90262383)], [(0, 0.37106732), (3, 0.61878437)], [(0, 0.54263765), (3, 0.45156023)], [(2, 0.84747016)], [(1, 0.54970366), (3, 0.4192002)], [(2, 0.5723064)], [(0, 0.9659881)], [(0, 0.3979711), (3, 0.5847471)], [(1, 0.63256156)], [(2, 0.6434474), (3, 0.31240305)], [(0, 0.68977576), (3, 0.30622816)], [(2, 0.88316256)], [(0, 0.44837648)], [(2, 0.98122567)], [(3, 0.8753194)], [(1, 0.41052836), (3, 0.39953634)], [(2, 0.53612727), (3, 0.3993027)], [(0, 0.96445704)], [(1, 0.5017372)], [(3, 0.9641231)], [(0, 0.5185181), (3, 0.31514895)], [(2, 0.97192544)], [(1, 0.97908604)], [(2, 0.98295)], [(2, 0.47409558), (3, 0.521111)], [(2, 0.9165688)], [(1, 0.93970704)], [(1, 0.60292244), (3, 0.38948768)], [(2, 0.92736536)], [(3, 0.9779692)], [(1, 0.667341), (3, 0.30701256)], [(0, 0.4557793), (1, 0.5047281)], [(0, 0.469655), (1, 0.33128124)], [(3, 0.9608339)], [(0, 0.4843802), (3, 0.39622283)], [(0, 0.98514354)], [(1, 0.38753548)], [(2, 0.94293)], [(0, 0.3447051), (2, 0.37489548)], [(0, 0.9365552)], [(0, 0.36223736), (3, 0.6342787)], [(1, 0.9781999)], [(2, 0.34476435), (3, 0.6349084)], [(2, 0.8018645)], [(0, 0.30976632), (2, 0.6691848)], [(3, 0.8839268)], [(3, 0.9727876)], [(3, 0.99045014)], [(1, 0.97220045)], [(2, 0.4100396), (3, 0.57426214)], [(3, 0.9195981)], [(0, 0.97748524)], [(0, 0.9435458)], [(0, 0.6565406), (3, 0.3324892)], [(0, 0.31503817), (1, 0.5674462)], [(1, 0.97249174)], [(2, 0.32722193), (3, 0.66377014)], [(3, 0.96878946)], [(2, 0.58463424), (3, 0.37130848)], [(3, 0.57556885)], [(3, 0.98558706)], [(1, 0.98062265)], [(3, 0.96740353)], [(3, 0.947383)], [(0, 0.42691907), (3, 0.5498537)], [(2, 0.6966118)], [(2, 0.64632046), (3, 0.31879687)], [(2, 0.36154702), (3, 0.60934675)], [(0, 0.96440524)], [(1, 0.48783508), (3, 0.49893686)], [(2, 0.75687575)], [(0, 0.34184882), (2, 0.63107014)], [(0, 0.5502205), (2, 0.3742909)], [(0, 0.8185882)], [(0, 0.9131392)], [(1, 0.4191496), (2, 0.4355082)], [(2, 0.4344821), (3, 0.48173025)], [(3, 0.8385678)], [(0, 0.8959635)], [(3, 0.72733486)], [(1, 0.66581124)], [(2, 0.4309053), (3, 0.55417407)], [(2, 0.9800582)], [(3, 0.947431)], [(3, 0.8893641)], [(2, 0.96449596)], [(1, 0.5998536), (2, 0.3192239)], [(2, 0.7995845)], [(2, 0.32563338), (3, 0.64529777)], [(1, 0.7803142)], [(0, 0.48376256), (2, 0.43657506)], [(3, 0.6391784)], [(1, 0.70865244)], [(0, 0.3046201), (1, 0.6800502)], [(3, 0.85825616)], [(2, 0.7613668)], [(2, 0.3003071), (3, 0.6552389)], [(2, 0.94290555)], [(0, 0.50631434), (1, 0.3074414)], [(2, 0.93490607)], [(3, 0.9742876)], [(0, 0.6868118), (3, 0.3065283)], [(2, 0.460765), (3, 0.526525)], [(0, 0.9274376)], [(0, 0.6680842)], [(0, 0.9364079)], [(2, 0.6611401), (3, 0.32746756)], [(0, 0.9750304)], [(1, 0.43397823), (3, 0.5514457)], [(0, 0.867723)], [(3, 0.6890495)], [(0, 0.8613659)], [(0, 0.91097826)], [(1, 0.41717038)], [(2, 0.32703876), (3, 0.49321735)], [(2, 0.848903)], [(0, 0.94326466)], [(0, 0.31825623), (2, 0.6748116)], [(3, 0.765573)], [(1, 0.61551553), (3, 0.37470397)], [(1, 0.97806865)], [(3, 0.9080186)], [(1, 0.90788966)], [(2, 0.85191214)], [(3, 0.70841545)], [(0, 0.92709994)], [(2, 0.9293309)], [(3, 0.93188155)], [(3, 0.9666323)], [(2, 0.5771575), (3, 0.40561822)], [(2, 0.90252167)], [(1, 0.8901548)], [(0, 0.77534825)], [(0, 0.94364524)], [(0, 0.9144744)], [(0, 0.91433036)], [(2, 0.6793701)], [(0, 0.8638991)], [(0, 0.8961404)], [(0, 0.613627)], [(2, 0.9135173)], [(0, 0.87715924)], [(0, 0.98177797)], [(2, 0.8794593)], [(3, 0.9317648)], [(0, 0.7854622)], [(3, 0.76689214)], [(2, 0.6007804), (3, 0.38492152)], [(0, 0.34246212), (1, 0.64640564)], [(0, 0.93651754)], [(0, 0.9666205)], [(0, 0.66105294)], [(0, 0.32672513), (2, 0.37534064)], [(2, 0.83810747)], [(0, 0.77953607)], [(0, 0.9724197)], [(0, 0.9146783)], [(0, 0.3857374), (3, 0.60231423)], [(0, 0.90257293)], [(3, 0.74532795)], [(2, 0.47831085), (3, 0.51293284)], [(0, 0.5161099), (3, 0.47507504)], [(1, 0.9772521)], [(1, 0.7890503)], [(3, 0.9405518)], [(0, 0.61957204), (3, 0.3451255)], [(1, 0.99482703)], [(1, 0.46011183), (3, 0.529413)], [(3, 0.8348047)], [(3, 0.94724417)], [(0, 0.9836387)], [(2, 0.6707049), (3, 0.32201517)], [(2, 0.9857463)], [(0, 0.5398811), (3, 0.37644356)], [(1, 0.8115952)], [(3, 0.7370869)], [(0, 0.97750586)], [(0, 0.4192159), (1, 0.5524185)], [(2, 0.93607044)], [(3, 0.96406025)], [(3, 0.7923359)], [(2, 0.9742923)], [(3, 0.9572811)], [(3, 0.8145335)], [(0, 0.31047), (3, 0.57958484)], [(0, 0.9841566)], [(0, 0.33153298), (3, 0.5310462)], [(1, 0.81374335)], [(3, 0.9756279)], [(0, 0.9146995)], [(2, 0.8816016)], [(2, 0.3017497), (3, 0.48334637)], [(3, 0.9405165)], [(2, 0.90262604)], [(2, 0.93568903)], [(2, 0.93613553)], [(1, 0.9226065)], [(0, 0.9851415)], [(3, 0.70601594)], [(0, 0.7715006)], [(3, 0.8290754)], [(2, 0.41835493), (3, 0.5659898)], [(3, 0.97432476)], [(1, 0.955951)], [(3, 0.9835618)], [(3, 0.9709638)], [(0, 0.83246595)], [(0, 0.954002)], [(3, 0.93165)], [(0, 0.97404927)], [(3, 0.90274054)], [(1, 0.6882232)], [(1, 0.3658088), (2, 0.54596347)], [(1, 0.33458972), (3, 0.65152115)], [(3, 0.97087735)], [(3, 0.87090915)], [(2, 0.9774262)], [(3, 0.9325446)], [(0, 0.54393655), (1, 0.43155217)], [(0, 0.5446421), (3, 0.43001953)], [(0, 0.7550083)], [(0, 0.67375594), (2, 0.31374848)], [(0, 0.5663176), (2, 0.3909161)], [(0, 0.9737339)], [(0, 0.9644966)], [(1, 0.8257177)], [(0, 0.9438315)], [(3, 0.94736296)], [(1, 0.98125356)], [(0, 0.38093585), (2, 0.33606368)], [(2, 0.60966104)], [(0, 0.70447165)], [(3, 0.54242426)], [(1, 0.53098685), (2, 0.4227772)], [(1, 0.8011652)], [(3, 0.9574608)], [(3, 0.9807652)], [(2, 0.62634677)], [(1, 0.9773873)], [(3, 0.9573083)], [(0, 0.4967744), (3, 0.49818194)], [(2, 0.609024), (3, 0.38116577)], [(0, 0.91416657)], [(0, 0.36765236), (1, 0.36787692)], [(3, 0.97085106)], [(3, 0.9528302)], [(1, 0.9646056)], [(2, 0.95227945)], [(2, 0.3999136), (3, 0.55572987)], [(0, 0.9822896)], [(1, 0.43244576), (3, 0.5284072)], [(2, 0.98760563)], [(3, 0.97991204)], [(0, 0.5549226), (2, 0.43793884)], [(1, 0.6895063)], [(1, 0.4839427), (2, 0.5047427)], [(3, 0.83661276)], [(0, 0.66949713), (3, 0.30514845)], [(3, 0.93163985)], [(0, 0.81042624)], [(1, 0.5948743)], [(2, 0.48883843), (3, 0.4719826)], [(1, 0.5429782)], [(0, 0.43060356), (3, 0.46761647)], [(3, 0.91936433)], [(3, 0.90253145)], [(2, 0.916602)], [(0, 0.8508182)], [(1, 0.711671)], [(1, 0.8585472)], [(0, 0.5964722)], [(1, 0.6195353)], [(0, 0.35851914), (3, 0.38663375)], [(0, 0.44847086)], [(0, 0.94980603)], [(2, 0.30174914), (3, 0.4833386)], [(3, 0.83469635)], [(3, 0.97797936)], [(0, 0.9368413)], [(0, 0.5535646), (3, 0.4376087)], [(0, 0.5372497)], [(0, 0.9583776)], [(0, 0.8460688)], [(1, 0.7364169)], [(1, 0.94638616)], [(3, 0.44920084)], [(0, 0.6136289)], [(2, 0.67745537)], [(1, 0.9590336)], [(0, 0.66355324), (1, 0.32522592)], [(2, 0.927611)], [(0, 0.9585974)], [(1, 0.8242496)], [(1, 0.9722362)], [(1, 0.9271175)], [(0, 0.7878473)], [(3, 0.7642635)], [(2, 0.83859915)], [(2, 0.75494856)], [(0, 0.47692364), (1, 0.5018195)], [(0, 0.96456087)], [(0, 0.5616462), (2, 0.41682878)], [(1, 0.34222677), (2, 0.6407858)], [(3, 0.74128795)], [(1, 0.9464597)], [(1, 0.96209246)], [(3, 0.9609807)], [(1, 0.62822425), (2, 0.3402451)], [(2, 0.97180617)], [(0, 0.34832534), (1, 0.4649734)], [(2, 0.57111794), (3, 0.3921316)], [(3, 0.97676927)], [(2, 0.93624455)], [(1, 0.62368363)], [(0, 0.47560343), (2, 0.36669785)], [(0, 0.92701787)], [(1, 0.60295314), (3, 0.38945693)], [(3, 0.9667452)], [(0, 0.6496728)], [(1, 0.5598851), (3, 0.4325204)], [(2, 0.9566705)], [(3, 0.90214044)], [(2, 0.95928663)], [(1, 0.69881034)], [(1, 0.77172476)], [(3, 0.93165606)], [(1, 0.32303536), (3, 0.66974276)], [(2, 0.985709)], [(3, 0.98077345)], [(1, 0.95148754)], [(3, 0.99098736)], [(3, 0.94762874)], [(3, 0.8238366)], [(0, 0.5082778), (1, 0.46534723)], [(0, 0.9234807)], [(3, 0.9799699)], [(0, 0.4874928), (3, 0.39442673)], [(2, 0.95194024)], [(0, 0.98666936)], [(1, 0.75974786)], [(2, 0.91526395)], [(3, 0.9780332)], [(0, 0.9614481)], [(1, 0.8924684)], [(2, 0.9806359)], [(2, 0.7039997)], [(1, 0.41729715), (2, 0.51078886)], [(1, 0.9923912)], [(3, 0.712948)], [(3, 0.96669203)], [(0, 0.60279775), (3, 0.36921623)], [(0, 0.5470129), (2, 0.3881431)], [(1, 0.8894669)], [(0, 0.7417264)], [(0, 0.57781804), (3, 0.40372062)], [(1, 0.5263196), (3, 0.4666375)], [(1, 0.5291473)], [(2, 0.8015122)], [(0, 0.91411376)], [(0, 0.826827)], [(0, 0.94369245)], [(1, 0.92254096)], [(2, 0.54362), (3, 0.44411856)], [(3, 0.94742244)], [(2, 0.9625946)], [(2, 0.7142706)], [(2, 0.30301052), (3, 0.6618383)], [(0, 0.7026627)], [(0, 0.97768575)], [(0, 0.64431286), (3, 0.34119505)], [(3, 0.6976285)], [(2, 0.97558033)], [(1, 0.9647557)], [(3, 0.9527734)], [(0, 0.4938576), (1, 0.48785657)], [(0, 0.8718554)], [(0, 0.31080535), (3, 0.66596824)], [(3, 0.94738764)], [(1, 0.7212823)], [(2, 0.9857427)], [(0, 0.9270954)], [(3, 0.9742086)], [(3, 0.72787696)], [(2, 0.3617417)], [(0, 0.9783567)], [(0, 0.95832527)], [(1, 0.31817812), (3, 0.64705175)], [(1, 0.65361583)], [(0, 0.9491976)], [(0, 0.3599278), (3, 0.59946847)], [(0, 0.4348216), (3, 0.5600367)], [(2, 0.8031632)], [(0, 0.82903934)], [(0, 0.8358851)], [(3, 0.895019)], [(1, 0.8051597)], [(0, 0.9644941)], [(0, 0.39891168), (1, 0.59717983)], [(1, 0.46229976), (3, 0.5197217)], [(0, 0.91393256)], [(3, 0.9904501)], [(1, 0.37095103)], [(1, 0.6810807)], [(3, 0.9667053)], [(2, 0.7993719)], [(2, 0.82126445)], [(0, 0.94998896)], [(3, 0.9689188)], [(2, 0.4767397), (3, 0.47226977)], [(2, 0.53667545), (3, 0.31444752)], [(0, 0.35800937), (1, 0.399282)], [(2, 0.97917414)], [(0, 0.91493595)], [(3, 0.9147693)], [(3, 0.9474585)], [(0, 0.9640824)], [(0, 0.8800073)], [(3, 0.9405969)], [(3, 0.9342325)], [(0, 0.31366223), (3, 0.6795161)], [(1, 0.53693944), (3, 0.45963725)], [(1, 0.753597)], [(2, 0.93585485)], [(0, 0.36365405), (1, 0.37721947)], [(0, 0.89532727)], [(0, 0.35964614), (3, 0.42604655)], [(0, 0.35261095), (1, 0.36621112)], [(0, 0.69342726)], [(3, 0.9402438)], [(0, 0.5957973), (1, 0.3894527)], [(1, 0.9737112)], [(1, 0.40030134), (3, 0.5921082)], [(0, 0.70472085)], [(0, 0.34289262), (2, 0.63013524)], [(0, 0.89595747)], [(1, 0.9668748)], [(0, 0.75889957)], [(2, 0.9858099)], [(0, 0.4994206), (3, 0.48750076)], [(3, 0.95732236)], [(3, 0.8345094)], [(0, 0.38845682), (3, 0.5962338)], [(1, 0.98430353)], [(0, 0.30595776), (3, 0.6359548)], [(0, 0.91454905)], [(1, 0.44638303), (3, 0.54094565)], [(2, 0.91669476)], [(3, 0.96676064)], [(0, 0.96675944)], [(3, 0.9689672)], [(3, 0.8540067)], [(3, 0.93128014)], [(1, 0.3932304), (3, 0.5928414)], [(0, 0.4880731), (2, 0.4631143)], [(0, 0.30960366), (1, 0.5789375)], [(3, 0.8637553)], [(3, 0.7187427)], [(1, 0.8884708)], [(1, 0.7708512)], [(0, 0.8084733)], [(3, 0.87544954)], [(2, 0.94235265)], [(0, 0.30108657), (3, 0.67753756)], [(3, 0.96394837)], [(3, 0.7098445)], [(3, 0.96392626)], [(2, 0.98016256)], [(0, 0.47915992), (3, 0.32636946)], [(1, 0.42754793), (3, 0.3617256)], [(3, 0.9768182)], [(0, 0.61108357), (3, 0.35358134)], [(0, 0.6148525), (1, 0.35048354)], [(0, 0.31074578), (2, 0.6767305)], [(1, 0.97990435)], [(2, 0.95257396)], [(3, 0.64377534)], [(0, 0.45939928), (1, 0.5094623)], [(1, 0.618291), (3, 0.36999235)], [(0, 0.86693144)], [(0, 0.44760153), (3, 0.5386346)], [(0, 0.3372952), (1, 0.63413846)], [(1, 0.5818836)], [(3, 0.9939923)], [(2, 0.9348331)], [(2, 0.6615344), (3, 0.33163503)], [(0, 0.4769882), (1, 0.50175494)], [(0, 0.3558919), (3, 0.62684196)], [(2, 0.8940197)], [(0, 0.46133173), (3, 0.51729405)], [(0, 0.45213607), (2, 0.4760219)], [(1, 0.4220304), (2, 0.3891929)], [(1, 0.63897175)], [(2, 0.93547136)], [(1, 0.53697455), (3, 0.45078263)], [(2, 0.94219315)], [(1, 0.50143874), (3, 0.4765789)], [(0, 0.35345107), (2, 0.49984825)], [(3, 0.9529166)], [(0, 0.5286681), (1, 0.42146268)], [(2, 0.98987055)], [(0, 0.96427023)], [(0, 0.35344744), (2, 0.499858)], [(2, 0.91663253)], [(2, 0.91662955)], [(0, 0.37544855), (3, 0.5220512)], [(3, 0.93174887)], [(2, 0.9353947)], [(0, 0.8568902)], [(0, 0.5924413), (1, 0.40346792)], [(1, 0.68400335)], [(0, 0.68578184)], [(0, 0.60640055), (2, 0.37963897)], [(2, 0.87285674)], [(3, 0.9688856)], [(0, 0.96902)], [(0, 0.80948)], [(1, 0.33485723), (3, 0.5439232)], [(3, 0.7419224)], [(0, 0.8088127)], [(0, 0.9267666)], [(0, 0.6560061)], [(0, 0.4623054), (1, 0.32570356)], [(3, 0.9769027)], [(3, 0.7636697)], [(0, 0.9264511)], [(2, 0.6850449)], [(2, 0.8052453)], [(0, 0.8674307)], [(3, 0.7153571)], [(3, 0.86061233)], [(1, 0.35692227), (3, 0.53857195)], [(1, 0.44345102), (3, 0.37046462)], [(3, 0.7272877)], [(0, 0.57086), (3, 0.3978748)], [(0, 0.4229667), (2, 0.3083407)], [(0, 0.31781542), (1, 0.6757723)], [(3, 0.87620324)], [(2, 0.9356555)], [(2, 0.3806071), (3, 0.60016936)], [(0, 0.36560202), (2, 0.61977726)], [(2, 0.8509198)], [(2, 0.95250213)], [(0, 0.5117589), (2, 0.4533977)], [(1, 0.92225903)], [(2, 0.9007617)], [(1, 0.31557325), (2, 0.4683147)], [(2, 0.75049406)], [(1, 0.35536557), (3, 0.63619983)], [(0, 0.76894283)], [(1, 0.4817225), (3, 0.50738573)], [(2, 0.9270981)], [(2, 0.90251833)], [(2, 0.902084)], [(1, 0.7803215)], [(1, 0.97911793)], [(2, 0.9361132)], [(2, 0.5323751), (3, 0.4553856)], [(0, 0.9274468)], [(3, 0.8708848)], [(3, 0.70751214)], [(1, 0.5773239), (2, 0.3881051)], [(0, 0.50361425), (3, 0.46830723)], [(0, 0.47023368), (1, 0.5085696)], [(1, 0.34483495), (2, 0.60900897)], [(0, 0.9860715)], [(2, 0.4669432), (3, 0.5127133)], [(1, 0.5338978), (3, 0.4294556)], [(1, 0.66837835), (3, 0.3236406)], [(0, 0.35232547), (3, 0.63855803)], [(1, 0.33773413), (3, 0.4077562)], [(3, 0.96887946)], [(1, 0.45938912), (3, 0.31716195)], [(3, 0.9020382)], [(2, 0.9168893)], [(0, 0.39168516), (3, 0.57701874)], [(1, 0.64613926), (3, 0.3469626)], [(2, 0.71015465)], [(1, 0.6258537), (3, 0.36635613)], [(0, 0.68681574), (3, 0.30264682)], [(2, 0.5456018), (3, 0.3249425)], [(3, 0.9768565)], [(3, 0.97691387)], [(0, 0.9670104)], [(2, 0.9857118)], [(1, 0.52617997)], [(0, 0.868227)], [(2, 0.7172906)], [(3, 0.96408516)], [(2, 0.52797616), (3, 0.45826244)], [(0, 0.4241259), (3, 0.5405819)], [(0, 0.33640033), (3, 0.5611185)], [(1, 0.98066187)], [(1, 0.81161004)], [(0, 0.97257113)], [(0, 0.7680994)], [(3, 0.97274435)], [(2, 0.8334456)], [(0, 0.7498842)], [(2, 0.9024716)], [(0, 0.8965611)], [(3, 0.9743004)], [(1, 0.5851679)], [(1, 0.3051094), (3, 0.49811953)], [(3, 0.9574529)], [(0, 0.9810826)], [(2, 0.60977453), (3, 0.3764996)], [(3, 0.9020611)], [(0, 0.7459665)], [(1, 0.4411885), (2, 0.41182038)], [(0, 0.91411245)], [(1, 0.88197035)], [(0, 0.46561593)], [(0, 0.55461407)], [(0, 0.95829386)], [(1, 0.67136854)], [(0, 0.44747356), (3, 0.3438305)], [(1, 0.31013918), (3, 0.67531115)], [(0, 0.9724307)], [(2, 0.92737305)], [(0, 0.97258663)], [(3, 0.8581153)], [(0, 0.9480337)], [(3, 0.6582699)], [(0, 0.6003807)], [(3, 0.69645)], [(1, 0.6705789)], [(0, 0.91413325)], [(3, 0.73387194)], [(1, 0.43932444), (3, 0.46240625)], [(1, 0.89035934)], [(3, 0.83103853)], [(0, 0.92648774)], [(1, 0.3870503), (3, 0.55956686)], [(2, 0.82200885)], [(3, 0.95303106)], [(0, 0.97529525)], [(0, 0.9724158)], [(2, 0.90148586)], [(2, 0.9168748)], [(0, 0.3507639), (1, 0.63460714)], [(3, 0.9741899)], [(0, 0.43137375), (2, 0.513622)], [(1, 0.94640785)], [(1, 0.3243129), (2, 0.65411127)], [(3, 0.68511015)], [(1, 0.5450719), (2, 0.44187862)], [(0, 0.4126969), (2, 0.55279315)], [(2, 0.96434397)], [(0, 0.936834)], [(0, 0.6655793), (1, 0.323908)], [(0, 0.6545141)], [(0, 0.3906822), (1, 0.38368413)], [(0, 0.6307519), (3, 0.35077372)], [(3, 0.91968745)], [(2, 0.39195183), (3, 0.57894826)], [(2, 0.9619796)], [(0, 0.6107201), (3, 0.37080058)], [(3, 0.9640149)], [(2, 0.5590138)], [(3, 0.7682317)], [(2, 0.76123464)], [(3, 0.95296717)], [(0, 0.98355544)], [(1, 0.6869898)], [(2, 0.6320623), (3, 0.35868645)], [(0, 0.95664126)], [(2, 0.93570745)], [(0, 0.48120335), (1, 0.5009919)], [(2, 0.76805305)], [(0, 0.7213251)], [(0, 0.9138892)], [(0, 0.3428908), (2, 0.6301371)], [(0, 0.39734563), (1, 0.5763054)], [(3, 0.9639892)], [(0, 0.9495405)], [(3, 0.947472)], [(2, 0.32553825), (3, 0.62367153)], [(0, 0.9432628)], [(1, 0.60644346)], [(0, 0.32926062), (2, 0.32755956), (3, 0.340861)], [(0, 0.91204923)], [(0, 0.95418346)], [(3, 0.9841185)], [(2, 0.8519304)], [(2, 0.74205995)], [(0, 0.687631), (1, 0.30368558)], [(0, 0.95665336)], [(3, 0.56459177)], [(2, 0.5693053), (3, 0.40394527)], [(1, 0.97218484)], [(0, 0.68993855)], [(0, 0.9272178)], [(2, 0.7559752)], [(2, 0.9819003)], [(2, 0.94792265)], [(2, 0.93605316)], [(1, 0.907979)], [(1, 0.839341)], [(2, 0.9864617)], [(1, 0.96475875)], [(1, 0.94080853)], [(3, 0.9840934)], [(0, 0.9261495)], [(0, 0.99076986)], [(3, 0.9895821)], [(3, 0.6232953)], [(0, 0.614849)], [(3, 0.67950577)], [(0, 0.68993413)], [(1, 0.36782128)], [(0, 0.47195053), (2, 0.30604967)], [(1, 0.6779106), (2, 0.30811766)], [(1, 0.6089012), (3, 0.35994515)], [(3, 0.7422948)], [(0, 0.9137774)], [(0, 0.954341)], [(2, 0.90207726)], [(0, 0.65839916), (3, 0.3291112)], [(1, 0.74076134)], [(1, 0.8450554)], [(2, 0.6037289)], [(2, 0.9904891)], [(0, 0.6609184), (1, 0.32716292)], [(0, 0.31135985), (1, 0.6778643)], [(0, 0.35606655), (1, 0.49255902)], [(2, 0.97190493)], [(0, 0.9810809)], [(1, 0.6236877), (3, 0.3683253)], [(0, 0.43919092)], [(3, 0.781503)], [(1, 0.3209485), (3, 0.5109277)], [(2, 0.91692364)], [(2, 0.33649895), (3, 0.43760136)], [(0, 0.38145307), (3, 0.60322684)], [(3, 0.7041323)], [(2, 0.6301169)], [(3, 0.9574863)], [(1, 0.3043267), (3, 0.4709144)], [(3, 0.96675336)], [(0, 0.5802347), (3, 0.40728024)], [(1, 0.969203)], [(3, 0.97264165)], [(3, 0.78027683)], [(3, 0.9689749)], [(0, 0.453428), (1, 0.53646994)], [(2, 0.31758365), (3, 0.59437203)], [(2, 0.9556262)], [(1, 0.9783216)], [(1, 0.97219807)], [(1, 0.31697783), (3, 0.4453584)], [(3, 0.98560846)], [(2, 0.5442589)], [(2, 0.90206087)], [(0, 0.93685085)], [(0, 0.96875757)], [(2, 0.7627504)], [(3, 0.8002618)], [(0, 0.9368484)], [(0, 0.31324628), (3, 0.49210238)], [(1, 0.37372857), (3, 0.6116812)], [(0, 0.49950126), (3, 0.35944316)], [(1, 0.7359753)], [(1, 0.745082)], [(3, 0.9756389)], [(0, 0.97098374)], [(3, 0.7702251)], [(3, 0.9609457)], [(2, 0.9215616)], [(0, 0.4488216), (3, 0.5387056)], [(0, 0.4331192), (3, 0.34531766)], [(2, 0.8406025)], [(0, 0.96441394)], [(1, 0.6360333)], [(0, 0.8193136)], [(2, 0.32697454), (3, 0.49338153)], [(0, 0.47831884), (1, 0.3603905)], [(3, 0.8688343)], [(0, 0.81498045)], [(2, 0.95250267)], [(0, 0.9752685)], [(0, 0.96159375)], [(1, 0.58620095), (3, 0.3999056)], [(1, 0.9670273)], [(1, 0.60988265), (3, 0.38252795)], [(1, 0.7449926)], [(0, 0.3448153), (3, 0.63197273)], [(1, 0.37610292), (3, 0.5083539)], [(0, 0.54036546), (1, 0.43326896)], [(0, 0.37496373), (1, 0.38373354)], [(3, 0.97098184)], [(2, 0.36452734), (3, 0.34026632)], [(0, 0.4962701), (1, 0.49288008)], [(0, 0.9128458)], [(0, 0.5502192), (2, 0.3742907)], [(2, 0.39536747), (3, 0.5811271)], [(0, 0.4394029), (3, 0.5486567)], [(2, 0.92741525)], [(3, 0.9689091)], [(0, 0.9138076)], [(0, 0.93594354)], [(2, 0.5459616), (3, 0.43686935)], [(2, 0.6142968), (3, 0.3804471)], [(3, 0.8112711)], [(1, 0.52209955), (3, 0.4434833)], [(0, 0.91454864)], [(2, 0.66293514), (3, 0.32486105)], [(3, 0.7755009)], [(0, 0.91393465)], [(2, 0.94281584)], [(0, 0.42469522)], [(0, 0.3884516), (3, 0.59623903)], [(1, 0.31744647), (3, 0.64776546)], [(1, 0.4336414), (2, 0.55572706)], [(0, 0.7949518)], [(0, 0.9368114)], [(3, 0.9316697)], [(1, 0.73713356)], [(3, 0.9572873)], [(3, 0.8002544)], [(1, 0.89761466)], [(2, 0.79107004)], [(0, 0.95817536)], [(0, 0.94365084)], [(0, 0.8660034)], [(0, 0.75801563)], [(3, 0.9573741)], [(1, 0.980554)], [(1, 0.7755664)], [(2, 0.91664267)], [(3, 0.7502845)], [(0, 0.97237444)], [(3, 0.9688842)], [(0, 0.8952189)], [(1, 0.70381284)], [(1, 0.49707097), (3, 0.4907443)], [(3, 0.77842796)], [(2, 0.93514884)], [(0, 0.4818998), (2, 0.5042629)], [(0, 0.55730885)], [(3, 0.9667508)], [(0, 0.57974815), (3, 0.34906298)], [(2, 0.97012323)], [(3, 0.5396163)], [(2, 0.9157624)], [(2, 0.988366)], [(0, 0.85367846)], [(2, 0.9559512)], [(1, 0.3751443), (2, 0.44610575)], [(3, 0.9317803)], [(0, 0.37319952), (3, 0.61230576)], [(2, 0.94787085)], [(1, 0.9139551)], [(0, 0.5121964)], [(3, 0.72965324)], [(1, 0.6713053)], [(1, 0.9649305)], [(0, 0.5958906)], [(1, 0.7354919)], [(0, 0.9499112)], [(0, 0.91454375)], [(0, 0.70632213)], [(3, 0.9401892)], [(3, 0.9726308)], [(0, 0.8688912)], [(0, 0.9499999)], [(0, 0.42733857), (3, 0.5320416)], [(0, 0.8961408)], [(0, 0.92762274)], [(3, 0.75140846)], [(3, 0.91945827)], [(3, 0.9530067)], [(2, 0.72259456)], [(1, 0.88885474)], [(3, 0.931711)], [(1, 0.9773837)], [(1, 0.78522253)], [(1, 0.977031)], [(1, 0.9514763)], [(3, 0.8251834)], [(2, 0.6147841), (3, 0.33524054)], [(1, 0.68514854)], [(0, 0.4081439), (1, 0.58067024)], [(2, 0.5172259), (3, 0.44392595)], [(0, 0.78026676)], [(3, 0.81125855)], [(3, 0.961031)], [(3, 0.8186382)], [(0, 0.32531333), (2, 0.6452588)], [(3, 0.9780259)], [(1, 0.4768748), (3, 0.50263697)], [(3, 0.9879277)], [(0, 0.57730013), (1, 0.41389784)], [(3, 0.9196275)], [(3, 0.76213396)], [(1, 0.9619004)], [(0, 0.98512405)], [(2, 0.79207987)], [(2, 0.9813248)], [(0, 0.93684727)], [(1, 0.9224917)], [(3, 0.9815297)], [(3, 0.74094635)], [(0, 0.35466996), (3, 0.60468125)], [(0, 0.34673527), (2, 0.61018276)], [(3, 0.98222905)], [(3, 0.9573932)], [(1, 0.85300595)], [(3, 0.9778914)], [(3, 0.588499)], [(3, 0.6155241)], [(1, 0.9556568)], [(2, 0.35312322), (3, 0.6341857)], [(0, 0.68327874)], [(1, 0.96896946)], [(3, 0.60412663)], [(1, 0.879109)], [(2, 0.970247)], [(0, 0.8767982)], [(0, 0.9495873)], [(3, 0.9790755)], [(0, 0.73933244)], [(1, 0.97708404)], [(3, 0.82602453)], [(3, 0.9193038)], [(2, 0.93545645)], [(2, 0.60756856)], [(0, 0.6821548)], [(2, 0.98574615)], [(3, 0.9743246)], [(0, 0.9143749)], [(0, 0.45688254), (3, 0.37330475)], [(0, 0.91392344)], [(0, 0.42433557), (1, 0.5512614)], [(0, 0.3955882), (3, 0.57639796)], [(1, 0.32975638), (3, 0.66245455)], [(0, 0.4474336), (1, 0.5385256)], [(0, 0.36120337), (2, 0.595996)], [(0, 0.43677026), (3, 0.33278942)], [(2, 0.74534386)], [(0, 0.30666286), (2, 0.6530686)], [(0, 0.7966731)], [(1, 0.9749599)], [(1, 0.87346095)], [(3, 0.69427323)], [(2, 0.88008225)], [(2, 0.9042583)], [(2, 0.45095262), (3, 0.5138894)], [(0, 0.6026687), (3, 0.36934528)], [(2, 0.98071873)], [(3, 0.68049353)], [(1, 0.71295595)], [(2, 0.5023815), (3, 0.46269938)], [(2, 0.8815531)], [(0, 0.5057077), (3, 0.47609088)], [(2, 0.9484726)], [(1, 0.93227607)], [(3, 0.72095644)], [(2, 0.48485193), (3, 0.4883787)], [(1, 0.3216137), (3, 0.32945138)], [(1, 0.9515738)], [(3, 0.9472542)], [(1, 0.6688898), (2, 0.31261778)], [(2, 0.9562154)], [(1, 0.5853538), (3, 0.31624526)], [(2, 0.38553622), (3, 0.40318477)], [(0, 0.64112055), (1, 0.3326101)], [(0, 0.71378)], [(0, 0.74521375)], [(1, 0.70326966)], [(0, 0.45974433), (3, 0.517048)], [(3, 0.8760807)], [(3, 0.8031322)], [(0, 0.6251699), (1, 0.36665553)], [(0, 0.79221684)], [(0, 0.5780325), (1, 0.37894857)], [(3, 0.96110016)], [(2, 0.72272295)], [(0, 0.9831472)], [(0, 0.7467856)], [(0, 0.3066532), (2, 0.6530787)], [(0, 0.96701646)], [(0, 0.7768796)], [(2, 0.3616303), (3, 0.6347399)], [(1, 0.4649235), (3, 0.51976347)], [(1, 0.5815548)], [(2, 0.34233502), (3, 0.64787173)], [(1, 0.4585239), (3, 0.36486438)], [(0, 0.913264)], [(0, 0.66136044), (1, 0.32252818)], [(3, 0.9312522)], [(2, 0.8052483)], [(0, 0.5393268), (3, 0.33255282)], [(1, 0.31487173), (3, 0.6724425)], [(0, 0.4526016), (1, 0.538799)], [(3, 0.94746625)], [(0, 0.7754805)], [(2, 0.9805483)], [(0, 0.8951873)], [(1, 0.5038949), (3, 0.49088725)], [(0, 0.95447135)], [(2, 0.45280534), (3, 0.5204739)], [(1, 0.43283212), (3, 0.550101)], [(0, 0.98960435)], [(3, 0.8762952)], [(1, 0.31462175), (3, 0.43338215)], [(1, 0.71278673)], [(0, 0.30251205), (3, 0.6721116)], [(3, 0.9756588)], [(0, 0.9643153)], [(0, 0.93644637)], [(2, 0.551162), (3, 0.3980319)], [(0, 0.75415826)], [(0, 0.4156969), (2, 0.5749293)], [(0, 0.9708741)], [(2, 0.60409427), (3, 0.34508997)], [(0, 0.9669519)], [(0, 0.66084456), (2, 0.30988714)], [(1, 0.42432806), (2, 0.449373)], [(0, 0.9270818)], [(1, 0.3989249), (3, 0.5877828)], [(3, 0.95720196)], [(0, 0.5451076), (1, 0.43869668)], [(0, 0.61154395), (1, 0.38049853)], [(1, 0.6658165)], [(0, 0.8336672)], [(3, 0.97417563)], [(1, 0.3421985), (3, 0.5148029)], [(3, 0.8576203)], [(0, 0.6031169), (1, 0.32038745)], [(0, 0.84647614)], [(3, 0.5812562)], [(1, 0.9235865)], [(1, 0.9325028)], [(3, 0.96073407)], [(0, 0.70120335)], [(2, 0.7878937)], [(2, 0.8470644)], [(0, 0.44606248), (2, 0.5368144)], [(0, 0.9868401)], [(1, 0.9737147)], [(0, 0.578263), (3, 0.40327564)], [(1, 0.9320256)], [(3, 0.97993296)], [(0, 0.61858153)], [(1, 0.9512853)], [(2, 0.97651505)], [(3, 0.9845946)], [(1, 0.85750073)], [(2, 0.94706565)], [(1, 0.9723182)], [(0, 0.40613058), (3, 0.5626286)], [(1, 0.9311436)], [(0, 0.60879374), (1, 0.3813012)], [(1, 0.52093023)], [(3, 0.9900433)], [(3, 0.69404405)], [(2, 0.8220066)], [(0, 0.52409893), (3, 0.4596921)], [(0, 0.3973195), (3, 0.58644575)], [(0, 0.8204602)], [(1, 0.6556273)], [(0, 0.7829478)], [(3, 0.72047865)], [(3, 0.8031052)], [(0, 0.9358349)], [(3, 0.77629864)], [(0, 0.54388744)], [(0, 0.49354193)], [(0, 0.9495003)], [(1, 0.8884026)], [(0, 0.58949876), (1, 0.37279248)], [(0, 0.94418794)], [(3, 0.93170244)], [(0, 0.5707726), (1, 0.40288258)], [(0, 0.4339696), (2, 0.55431175)], [(2, 0.95889795)], [(1, 0.6126962)], [(2, 0.64447564)], [(0, 0.6857867)], [(3, 0.9314106)], [(3, 0.966797)], [(0, 0.44957003), (1, 0.5259013)], [(0, 0.9369355)], [(3, 0.97690547)], [(2, 0.77250767)], [(0, 0.6919855)], [(0, 0.36355832), (1, 0.62233526)], [(2, 0.7552153)], [(2, 0.95927405)], [(0, 0.36618698), (3, 0.6243795)], [(0, 0.4698023)], [(0, 0.66014427), (3, 0.33627918)], [(3, 0.9187269)], [(3, 0.72312516)], [(0, 0.81563723)], [(0, 0.6604856), (3, 0.31151515)], [(1, 0.9705715)], [(2, 0.9624029)], [(1, 0.5595505)], [(1, 0.9620701)], [(3, 0.9667429)], [(1, 0.7924496)], [(2, 0.5645197), (3, 0.39132747)], [(0, 0.66714144), (3, 0.3115262)], [(0, 0.9688321)], [(0, 0.59979236)], [(0, 0.97926235)], [(0, 0.55958676), (1, 0.35089996)], [(2, 0.9620256)], [(3, 0.9851112)], [(1, 0.9790236)], [(2, 0.59141374), (3, 0.38489935)], [(0, 0.58436644), (3, 0.4011519)], [(1, 0.8883852)], [(3, 0.94066983)], [(0, 0.39070114), (1, 0.600924)], [(3, 0.78178936)], [(0, 0.45138457), (3, 0.5080508)], [(2, 0.4877019), (3, 0.5074861)], [(0, 0.37951946), (3, 0.45232248)], [(0, 0.49845085)], [(0, 0.6746614), (3, 0.30996093)], [(0, 0.3870335), (3, 0.5817149)], [(2, 0.4869724), (3, 0.47804725)], [(3, 0.9463975)], [(0, 0.6303976), (3, 0.35112804)], [(0, 0.5663409), (1, 0.39915597)], [(0, 0.972394)], [(3, 0.9841172)], [(1, 0.37358487), (3, 0.62120056)], [(3, 0.96103925)], [(0, 0.53334355), (1, 0.4438867)], [(0, 0.87523764)], [(0, 0.7217367)], [(0, 0.8685733)], [(0, 0.37068206), (3, 0.6232456)], [(2, 0.4290478), (3, 0.5641026)], [(1, 0.97043407)], [(3, 0.9317172)], [(0, 0.96891946)], [(3, 0.9210784)], [(0, 0.97638625)], [(3, 0.7883281)], [(3, 0.9407487)], [(2, 0.5899326)], [(0, 0.94962156)], [(1, 0.98197085)], [(2, 0.9037479)], [(0, 0.6754653), (3, 0.3091612)], [(0, 0.3662005), (3, 0.61243284)], [(3, 0.9312646)], [(0, 0.38761607), (1, 0.5862078)], [(0, 0.62809277), (3, 0.3546261)], [(0, 0.7645132)], [(0, 0.7478317)], [(2, 0.76140004)], [(3, 0.95289314)], [(1, 0.41601312), (3, 0.31980208)], [(0, 0.46266618), (3, 0.5060547)], [(1, 0.9668636)], [(2, 0.73662573)], [(0, 0.97859025)], [(0, 0.6062134), (1, 0.3760784)], [(0, 0.70539474)], [(2, 0.69930196)], [(2, 0.92767185)], [(0, 0.69766873)], [(3, 0.95287716)], [(0, 0.8961811)], [(1, 0.69403887)], [(0, 0.8825942)], [(3, 0.9172335)], [(2, 0.5103964), (3, 0.4798168)], [(1, 0.7093822)], [(1, 0.8902018)], [(1, 0.85483307)], [(3, 0.9607913)], [(0, 0.6631602), (2, 0.31796736)], [(1, 0.888116)], [(3, 0.96669585)], [(3, 0.9474135)], [(3, 0.95738375)], [(3, 0.8764091)], [(0, 0.9544989)], [(1, 0.9798551)], [(0, 0.60192585), (3, 0.3700772)], [(2, 0.9777055)], [(1, 0.90872616)], [(0, 0.9127648)], [(0, 0.41365537), (2, 0.56091785)], [(0, 0.37705466), (1, 0.6076108)], [(1, 0.91395444)], [(1, 0.641333), (3, 0.34781447)], [(0, 0.9708151)], [(0, 0.3706229), (1, 0.4797187)], [(0, 0.62711376), (3, 0.35560316)], [(0, 0.9497735)], [(3, 0.8141539)], [(0, 0.37377363), (2, 0.50260276)], [(3, 0.6343445)], [(0, 0.9548323)], [(0, 0.30541205), (1, 0.67002976)], [(3, 0.3896398)], [(1, 0.95600295)], [(2, 0.6454799), (3, 0.3412852)], [(2, 0.5848115), (3, 0.4074546)], [(1, 0.3094687), (3, 0.39542997)], [(2, 0.36076978), (3, 0.58848935)], [(0, 0.34243536), (3, 0.64701813)], [(0, 0.66135406), (1, 0.32253456)], [(1, 0.873188)], [(1, 0.36986205), (3, 0.6257647)], [(0, 0.42419946), (1, 0.54139405)], [(2, 0.7875265)], [(0, 0.9362777)], [(0, 0.91423607)], [(0, 0.92725706)], [(3, 0.7120432)], [(2, 0.97299105)], [(0, 0.39110336), (2, 0.570369)], [(1, 0.82412773)], [(0, 0.45743617), (3, 0.5252875)], [(2, 0.5331847)], [(2, 0.70963997)], [(0, 0.6169068), (2, 0.3743994)], [(3, 0.98601073)], [(0, 0.5590245), (2, 0.40641227)], [(3, 0.7711518)], [(2, 0.44326365), (3, 0.54404646)], [(0, 0.6185899)], [(2, 0.9716491)], [(2, 0.35557306), (3, 0.44880426)], [(0, 0.94949955)], [(1, 0.7463379)], [(0, 0.4731784), (2, 0.49488604)], [(2, 0.40127316), (3, 0.5770978)], [(3, 0.7821941)], [(0, 0.977555)], [(0, 0.9751883)], [(2, 0.9456575)], [(0, 0.5869964), (1, 0.40460122)], [(2, 0.4895323), (3, 0.47875103)], [(0, 0.9438823)], [(3, 0.97804743)], [(1, 0.39465302), (3, 0.3179745)], [(0, 0.7048146)], [(0, 0.42869547), (3, 0.54997474)], [(2, 0.45211235), (3, 0.5346524)], [(3, 0.89444375)], [(0, 0.97931945)], [(2, 0.6345389), (3, 0.36329514)], [(0, 0.91355926)], [(0, 0.9362534)], [(3, 0.9727177)], [(0, 0.94425005)], [(0, 0.9871048)], [(1, 0.66270953)], [(3, 0.9406781)], [(1, 0.9846358)], [(0, 0.39945114), (1, 0.57418966)], [(2, 0.73356074)], [(2, 0.6947303)], [(0, 0.9890864)], [(3, 0.9640145)], [(1, 0.34733668), (2, 0.5922453)], [(2, 0.6784294)], [(1, 0.7108225)], [(0, 0.95819205)], [(3, 0.66039926)], [(2, 0.8578013)], [(3, 0.9473288)], [(0, 0.8132866)], [(1, 0.6532204)], [(0, 0.45140395), (1, 0.394092)], [(0, 0.36840427), (3, 0.6062026)], [(3, 0.97267705)], [(0, 0.97233415)], [(0, 0.8579993)], [(3, 0.9082236)], [(2, 0.9154759)], [(0, 0.9141468)], [(0, 0.9280084)], [(2, 0.9265876)], [(2, 0.7978051)], [(0, 0.7996627)], [(1, 0.5153931), (3, 0.46406552)], [(0, 0.9795429)], [(0, 0.6737533), (2, 0.31375113)], [(0, 0.49037805), (3, 0.4155053)], [(1, 0.9464773)], [(3, 0.75363904)], [(3, 0.96653897)], [(0, 0.51099306), (2, 0.36787027)], [(0, 0.30210933), (1, 0.67353547)], [(0, 0.36145833), (2, 0.38314053)], [(0, 0.5651749), (1, 0.41710714)], [(1, 0.92246836)], [(1, 0.9760819)], [(3, 0.80789983)], [(0, 0.3637947), (3, 0.6301392)], [(2, 0.7576125)], [(0, 0.9578326)], [(3, 0.7220778)], [(3, 0.7358742)], [(2, 0.98646265)], [(0, 0.9870144)], [(0, 0.6104998), (3, 0.37853536)], [(1, 0.52828914), (3, 0.44590032)], [(3, 0.9665945)], [(0, 0.9134807)], [(2, 0.31597844), (3, 0.38653103)], [(0, 0.9751175)], [(0, 0.9130744)], [(3, 0.8753099)], [(1, 0.96460706)], [(0, 0.41022274), (3, 0.5699943)], [(2, 0.9617819)], [(1, 0.79210943)], [(0, 0.86788535)], [(0, 0.8680369)], [(1, 0.4087241), (2, 0.30073348)], [(0, 0.7244703)], [(0, 0.9134796)], [(3, 0.79540133)], [(0, 0.896027)], [(0, 0.7792367)], [(0, 0.4341558), (3, 0.3002352)], [(3, 0.9527652)], [(1, 0.5450752), (2, 0.44187534)], [(0, 0.9494996)], [(0, 0.37045777), (3, 0.37719274)], [(0, 0.7225117)], [(2, 0.5973922)], [(2, 0.58623713), (3, 0.3965476)], [(0, 0.67909145), (3, 0.30947706)], [(0, 0.96869075)], [(3, 0.9742413)], [(3, 0.95296246)], [(2, 0.87625843)], [(2, 0.32620558), (3, 0.54663527)], [(0, 0.7533389)], [(2, 0.5449919), (3, 0.31679702)], [(1, 0.89011353)], [(3, 0.7129362)], [(0, 0.6638497), (2, 0.31248474)], [(0, 0.97094965)], [(0, 0.43512392), (3, 0.55953705)], [(1, 0.6664101)], [(3, 0.97682434)], [(1, 0.7104555)], [(0, 0.98166484)], [(2, 0.51359636)], [(1, 0.53984123)], [(0, 0.87402)], [(2, 0.93625635)], [(3, 0.7626955)], [(0, 0.98036903)], [(0, 0.92628646)], [(3, 0.9191787)], [(0, 0.68235904)], [(0, 0.9263914)], [(0, 0.9774673)], [(0, 0.4221894), (3, 0.5624791)], [(0, 0.30219698), (2, 0.67903996)], [(0, 0.92751694)], [(3, 0.9027697)], [(0, 0.8255604)], [(2, 0.7766976)], [(1, 0.5048805), (2, 0.4418703)], [(1, 0.78518915)], [(2, 0.5824515), (3, 0.4080379)], [(3, 0.98151976)], [(0, 0.9260624)], [(0, 0.741058)], [(1, 0.46202052), (2, 0.4969796)], [(1, 0.41836694), (2, 0.5296032)], [(0, 0.9583661)], [(3, 0.93351346)], [(3, 0.58442634)], [(0, 0.85953623)], [(1, 0.45027506), (2, 0.5370404)], [(0, 0.96163213)], [(0, 0.66505384), (3, 0.3176631)], [(0, 0.9139498)], [(0, 0.7225833)], [(0, 0.45856467), (3, 0.34203404)], [(0, 0.95021164)], [(2, 0.84055454)], [(3, 0.9573702)], [(2, 0.9428049)], [(2, 0.33228132), (3, 0.40843597)], [(3, 0.9318622)], [(3, 0.9407595)], [(1, 0.8898811)], [(3, 0.8179005)], [(3, 0.9317485)], [(2, 0.5976283)], [(0, 0.5999056), (3, 0.38957262)], [(1, 0.95131725)], [(3, 0.93174344)], [(0, 0.39796227), (3, 0.5847559)], [(2, 0.3084456), (3, 0.6192255)], [(2, 0.68720543), (3, 0.30670288)], [(2, 0.67843866)], [(0, 0.98641914)], [(0, 0.5549306), (2, 0.4379308)], [(3, 0.7984274)], [(2, 0.4032566), (3, 0.5368248)], [(3, 0.9574924)], [(2, 0.30865958), (3, 0.44928563)], [(0, 0.55357087), (3, 0.43760243)], [(1, 0.45738485), (2, 0.5130824)], [(0, 0.9540899)], [(0, 0.89476705)], [(3, 0.93090594)], [(1, 0.62456256), (3, 0.34965414)], [(3, 0.8749506)], [(0, 0.94371825)], [(0, 0.7129774)], [(3, 0.9726221)], [(2, 0.8301835)], [(2, 0.31558827), (3, 0.66278267)], [(0, 0.8460821)], [(2, 0.7942993)], [(2, 0.791601)], [(3, 0.9640143)], [(0, 0.9368507)], [(3, 0.6987259)], [(2, 0.6681799)], [(0, 0.47315058), (3, 0.51630723)], [(0, 0.961753)], [(3, 0.9192018)], [(0, 0.79202825)], [(3, 0.9610348)], [(0, 0.30023384), (1, 0.6773467)], [(0, 0.41739067), (3, 0.5628053)], [(0, 0.4274638), (3, 0.5639815)], [(3, 0.7462218)], [(1, 0.67376554), (3, 0.308274)], [(1, 0.7119218)], [(1, 0.724765)], [(0, 0.94424546)], [(1, 0.9862401)], [(3, 0.5931733)], [(0, 0.95014733)], [(0, 0.34553164), (1, 0.46072128)], [(2, 0.95648676)], [(3, 0.98684335)], [(0, 0.4947465), (3, 0.46458507)], [(1, 0.4638728), (2, 0.5088421)], [(1, 0.8978629)], [(0, 0.9707123)], [(0, 0.97094107)], [(3, 0.94747937)], [(3, 0.9528427)], [(3, 0.7480803)], [(2, 0.73044777)], [(0, 0.89510614)], [(3, 0.9895654)], [(3, 0.92535794)], [(1, 0.73566043)], [(2, 0.58751327)], [(0, 0.914247)], [(3, 0.9192375)], [(0, 0.7201827)], [(0, 0.40860823), (3, 0.5830979)], [(0, 0.92656136)], [(3, 0.9768604)], [(3, 0.71098614)], [(3, 0.7518832)], [(3, 0.9860857)], [(3, 0.97099566)], [(0, 0.9545623)], [(1, 0.82065153)], [(3, 0.9573727)], [(0, 0.44896197)], [(1, 0.59428185), (3, 0.37108833)], [(2, 0.96662706)], [(3, 0.95270765)], [(3, 0.78004706)], [(3, 0.98790956)], [(0, 0.91424924)], [(0, 0.65920806), (1, 0.3126255)], [(1, 0.9075301)], [(0, 0.68548554), (3, 0.30669972)], [(0, 0.9617351)], [(0, 0.30105922), (2, 0.3961726)], [(1, 0.90816903)], [(0, 0.7674987)], [(3, 0.82722265)], [(2, 0.8467851)], [(2, 0.43182436), (3, 0.5596197)], [(3, 0.6129026)], [(3, 0.9403252)], [(0, 0.94903624)], [(3, 0.8791663)], [(2, 0.92727757)], [(0, 0.95836616)], [(1, 0.42227805), (3, 0.5697408)], [(1, 0.6047075), (3, 0.38071167)], [(2, 0.93538237)], [(0, 0.63730085), (1, 0.35053048)], [(3, 0.981484)], [(3, 0.7292879)], [(1, 0.64385056), (3, 0.34341618)], [(3, 0.49777222)], [(1, 0.73125106)], [(0, 0.7468175)], [(3, 0.96669275)], [(0, 0.7138156)], [(3, 0.8436562)], [(3, 0.9023434)], [(2, 0.5083388), (3, 0.46262088)], [(3, 0.8647104)], [(1, 0.9458673)], [(1, 0.31553414), (3, 0.649603)], [(3, 0.9573952)], [(0, 0.65021276), (3, 0.33880574)], [(0, 0.9777457)], [(2, 0.63032037)], [(3, 0.9639763)], [(0, 0.5589629), (1, 0.4069958)], [(1, 0.87687486)], [(0, 0.7021493)], [(1, 0.6383489), (2, 0.33754262)], [(0, 0.36241373), (3, 0.63410205)], [(2, 0.36173964)], [(0, 0.5591491), (1, 0.40974635)], [(2, 0.38754356), (3, 0.5774056)], [(3, 0.8345119)], [(1, 0.9225663)], [(3, 0.6269654)], [(0, 0.37327793), (1, 0.47662508)], [(2, 0.7090617)], [(0, 0.34784862), (2, 0.5217708)], [(1, 0.6635908)], [(1, 0.64403915), (3, 0.34468085)], [(3, 0.8420428)], [(3, 0.9574438)], [(3, 0.64286894)], [(1, 0.87059665)], [(2, 0.35557476), (3, 0.4488009)], [(3, 0.9474546)], [(1, 0.9515635)], [(1, 0.946443)], [(2, 0.9165981)], [(0, 0.34204757), (3, 0.65215254)], [(3, 0.6807503)], [(0, 0.3986338), (2, 0.36153212)], [(3, 0.9790751)], [(3, 0.9641683)], [(2, 0.9166774)], [(2, 0.9860066)], [(2, 0.70883054)], [(3, 0.95726603)], [(0, 0.42748553), (2, 0.53795385)], [(2, 0.9171047)], [(0, 0.78637713)], [(2, 0.98292965)], [(0, 0.7233896)], [(2, 0.97652864)], [(2, 0.38687718), (3, 0.5975083)], [(2, 0.9592396)], [(3, 0.97431517)], [(3, 0.73708934)], [(0, 0.49054527), (3, 0.40373492)], [(2, 0.34153152), (3, 0.52133995)], [(2, 0.6147826), (3, 0.335247)], [(0, 0.84813696)], [(0, 0.32544628), (3, 0.66007566)], [(2, 0.77639526)], [(1, 0.52202445), (3, 0.46404985)], [(0, 0.7400244)], [(2, 0.9363388)], [(1, 0.60166574), (3, 0.36709565)], [(3, 0.9574915)], [(0, 0.34688097), (2, 0.5211543)], [(3, 0.7104958)], [(2, 0.96447086)], [(0, 0.68194157)], [(3, 0.9767401)], [(3, 0.6948244)], [(0, 0.70539147)], [(0, 0.3502501), (3, 0.5181197)], [(3, 0.79271597)], [(0, 0.65800345)], [(2, 0.834063)], [(3, 0.9573568)], [(0, 0.40748256), (1, 0.5582584)], [(3, 0.94036794)], [(0, 0.37318647), (1, 0.539681)], [(0, 0.9834516)], [(0, 0.95014787)], [(2, 0.42848536), (3, 0.5274323)], [(3, 0.98227125)], [(0, 0.66721106)], [(0, 0.36223722), (3, 0.6342789)], [(0, 0.4732467), (3, 0.5122439)], [(3, 0.9640866)], [(0, 0.63024265), (3, 0.3483707)], [(2, 0.6025343), (3, 0.38366637)], [(1, 0.7248977)], [(1, 0.77931017)], [(0, 0.50821036), (1, 0.46541464)], [(1, 0.8267808)], [(2, 0.53097135), (3, 0.34030807)], [(1, 0.39069882), (3, 0.32400426)], [(1, 0.695334)], [(0, 0.5380296), (3, 0.44056448)], [(1, 0.98408824)], [(2, 0.31223387), (3, 0.37866926)], [(3, 0.52085316)], [(1, 0.75695527)], [(0, 0.91390467)], [(0, 0.94993913)], [(3, 0.9664556)], [(0, 0.9129912)], [(1, 0.8577358)], [(2, 0.9818475)], [(2, 0.9858513)], [(2, 0.78423464)], [(1, 0.4964938), (3, 0.49334648)], [(2, 0.78367114)], [(3, 0.8493122)], [(2, 0.84890234)], [(0, 0.599939), (3, 0.38953927)], [(3, 0.94746846)], [(0, 0.750566)], [(3, 0.93156904)], [(3, 0.97425276)], [(1, 0.50945526), (3, 0.47725716)], [(2, 0.9593534)], [(1, 0.34890017), (3, 0.6052506)], [(3, 0.87524873)], [(1, 0.9779641)], [(2, 0.9527541)], [(2, 0.9025304)], [(1, 0.62669337)], [(0, 0.34289327), (2, 0.6301337)], [(3, 0.7487388)], [(3, 0.71288097)], [(2, 0.7800949)], [(0, 0.9259236)], [(3, 0.72430253)], [(0, 0.44272745), (3, 0.5496823)], [(0, 0.31335127), (3, 0.4061208)], [(0, 0.3025513), (3, 0.69138426)], [(2, 0.9642016)], [(1, 0.66836166), (3, 0.32146725)], [(0, 0.966171)], [(3, 0.5281722)], [(0, 0.8591055)], [(0, 0.9273972)], [(2, 0.44541508), (3, 0.5066007)], [(1, 0.5383135), (3, 0.44640648)], [(1, 0.95537114)], [(3, 0.5424773)], [(0, 0.72573274)], [(3, 0.6662892)], [(0, 0.41209176), (3, 0.5473027)], [(3, 0.69761735)], [(2, 0.95252514)], [(3, 0.97098494)], [(0, 0.9687835)], [(3, 0.9868907)], [(0, 0.40897375), (1, 0.57977617)], [(0, 0.4516726), (2, 0.34503704)], [(1, 0.48247096), (3, 0.4862889)], [(1, 0.92329264)], [(1, 0.94637865)], [(3, 0.90991724)], [(2, 0.98520505)], [(3, 0.7107778)], [(0, 0.97395825)], [(0, 0.51994485), (2, 0.3778427)], [(2, 0.9755717)], [(3, 0.9667542)], [(1, 0.9773319)], [(1, 0.56392676), (3, 0.41904935)], [(2, 0.98574376)], [(2, 0.981976)], [(2, 0.9564129)], [(3, 0.96904767)], [(1, 0.551629), (3, 0.42029804)], [(2, 0.4504402), (3, 0.54287297)], [(3, 0.7298219)], [(1, 0.972425)], [(0, 0.5797552), (3, 0.34906444)], [(0, 0.8772226)], [(0, 0.4658747), (2, 0.37579465)], [(0, 0.7245933)], [(2, 0.59762794)], [(0, 0.31805477), (2, 0.6609543)], [(0, 0.5962366), (3, 0.3230717)], [(3, 0.742207)], [(1, 0.63632244), (3, 0.3431927)], [(2, 0.47420508)], [(0, 0.47848868), (1, 0.34527716)], [(1, 0.9464182)], [(0, 0.7907434)], [(3, 0.54843026)], [(1, 0.58916545), (3, 0.39951208)], [(3, 0.9756478)], [(3, 0.6837025)], [(2, 0.76122344)], [(0, 0.45401856), (3, 0.5340503)], [(1, 0.43870175), (3, 0.53009486)], [(0, 0.9266733)], [(2, 0.84312737)], [(2, 0.97927403)], [(3, 0.90257215)], [(0, 0.30214348), (2, 0.6790916)], [(0, 0.33045378), (1, 0.6495654)], [(3, 0.9316017)], [(0, 0.70620674)], [(1, 0.71341664)], [(0, 0.9855187)], [(3, 0.9638661)], [(3, 0.93171215)], [(3, 0.9828872)], [(2, 0.9883682)], [(0, 0.7569159)], [(0, 0.43758953), (1, 0.55152446)], [(0, 0.5993342), (2, 0.37108418)], [(0, 0.6047396)], [(3, 0.94013)], [(2, 0.71427935)], [(3, 0.829813)], [(3, 0.97089267)], [(3, 0.76089656)], [(0, 0.89506423)], [(3, 0.7777133)], [(0, 0.47989112), (3, 0.5069854)], [(0, 0.44130558), (3, 0.47883266)], [(1, 0.7362308)], [(0, 0.5093489), (2, 0.4256209)], [(0, 0.5326785)], [(1, 0.7264584)], [(3, 0.7376577)], [(2, 0.37271297), (3, 0.61501133)], [(2, 0.69223416)], [(0, 0.9264769)], [(3, 0.77157044)], [(0, 0.5822272), (2, 0.39788482)], [(0, 0.98235)], [(3, 0.9639861)], [(0, 0.954433)], [(3, 0.9798864)], [(0, 0.4862559)], [(0, 0.75914335)], [(3, 0.91968775)], [(1, 0.7382217)], [(3, 0.9529407)], [(1, 0.31193927), (3, 0.6767959)], [(1, 0.43818352), (2, 0.35876942)], [(3, 0.9319173)], [(1, 0.6952059)], [(2, 0.8812725)], [(0, 0.31135747), (1, 0.6778667)], [(2, 0.5673107), (3, 0.42087027)], [(1, 0.93457067)], [(2, 0.73073286)], [(1, 0.94588304)], [(2, 0.85294116)], [(2, 0.98337364)], [(0, 0.77412033)], [(1, 0.8526232)], [(0, 0.5640575)], [(0, 0.9644201)], [(0, 0.8239705)], [(2, 0.9668878)], [(0, 0.3033686), (1, 0.6766613)], [(0, 0.8088105)], [(3, 0.96095)], [(3, 0.870326)], [(2, 0.7154729)], [(0, 0.97242606)], [(1, 0.82394797)], [(0, 0.9643382)], [(3, 0.940406)], [(0, 0.5061116)], [(3, 0.91983914)], [(2, 0.9839484)], [(0, 0.92599815)], [(3, 0.7872681)], [(3, 0.9405862)], [(3, 0.87375957)], [(2, 0.97745985)], [(3, 0.947337)], [(0, 0.34350395), (2, 0.6385849)], [(0, 0.94369155)], [(1, 0.92225903)], [(3, 0.7653456)], [(0, 0.9642701)], [(0, 0.9440178)], [(1, 0.8922661)], [(1, 0.43812692), (3, 0.47551063)], [(3, 0.9689199)], [(0, 0.33343413), (1, 0.53452015)], [(3, 0.87565833)], [(1, 0.6647541), (2, 0.31748942)], [(0, 0.61364794)], [(3, 0.76674324)], [(3, 0.9640595)], [(2, 0.8040049)], [(2, 0.9272913)], [(1, 0.6034411), (3, 0.37280637)], [(1, 0.9805981)], [(3, 0.96395564)], [(1, 0.6993421)], [(3, 0.9690169)], [(3, 0.96663946)], [(1, 0.9707349)], [(3, 0.96664405)], [(2, 0.9357955)], [(3, 0.9572477)], [(3, 0.9474897)], [(1, 0.8888794)], [(0, 0.4818821), (2, 0.5042818)], [(2, 0.9362442)], [(3, 0.97835666)], [(2, 0.9522599)], [(1, 0.68607855)], [(3, 0.9317694)], [(3, 0.9609821)], [(2, 0.7422293)], [(1, 0.7253463)], [(2, 0.4184203), (3, 0.48612687)], [(3, 0.91974205)], [(3, 0.9225863)], [(0, 0.36712074), (3, 0.39891627)], [(2, 0.84979945)], [(3, 0.9688934)], [(0, 0.6596814)], [(3, 0.7194458)], [(1, 0.7714871)], [(2, 0.9820175)], [(0, 0.44273272), (3, 0.54967713)], [(1, 0.5895214), (3, 0.38851222)], [(2, 0.9168864)], [(3, 0.9476366)], [(0, 0.3428527), (2, 0.6301751)], [(0, 0.6521348), (3, 0.3125597)], [(0, 0.34931147), (2, 0.63172007)], [(1, 0.93187684)], [(1, 0.5854141), (3, 0.41191885)], [(1, 0.7563276)], [(0, 0.48616952), (3, 0.50471646)], [(0, 0.8710232)], [(0, 0.85049367)], [(2, 0.52199143)], [(1, 0.77169526)], [(1, 0.3871567), (3, 0.56770283)], [(3, 0.93183637)], [(0, 0.9786122)], [(1, 0.51202387), (3, 0.42516324)], [(0, 0.31503314), (1, 0.56744)], [(3, 0.9936682)], [(0, 0.34752914), (1, 0.64408404)], [(3, 0.5352095)], [(2, 0.3175787), (3, 0.59437484)], [(3, 0.98384964)], [(0, 0.60346), (3, 0.38345706)], [(3, 0.9780015)], [(0, 0.4880702), (2, 0.4631172)], [(2, 0.5690909), (3, 0.3798966)], [(2, 0.539201), (3, 0.35903788)], [(0, 0.65839356), (3, 0.32911676)], [(3, 0.9741651)], [(0, 0.95436954)], [(3, 0.800851)], [(1, 0.9936863)], [(2, 0.66938156)], [(0, 0.6450535)], [(1, 0.6838728)], [(3, 0.8153367)], [(1, 0.9006552)], [(2, 0.90110767)], [(2, 0.47370055), (3, 0.48203713)], [(1, 0.4242869), (3, 0.5640165)], [(0, 0.39499116), (1, 0.56306773)], [(2, 0.9213362)], [(1, 0.476944), (3, 0.51292884)], [(2, 0.35758117), (3, 0.62606627)], [(0, 0.96449506)], [(0, 0.9442438)], [(1, 0.67085505)], [(3, 0.9709837)], [(0, 0.34741673), (2, 0.6386913)], [(3, 0.8178691)], [(0, 0.6443509)], [(3, 0.95300794)], [(0, 0.8349738)], [(0, 0.7912284)], [(2, 0.90226007)], [(3, 0.9888162)], [(0, 0.56563056), (3, 0.4238314)], [(0, 0.91462445)], [(3, 0.97803515)], [(3, 0.7313133)], [(1, 0.7679214)], [(1, 0.67897826), (3, 0.30395713)], [(0, 0.5197226)], [(0, 0.97642016)], [(3, 0.70203346)], [(2, 0.97668415)], [(0, 0.65561634), (3, 0.32115558)], [(0, 0.6797849)], [(1, 0.9591167)], [(1, 0.32995817), (3, 0.4114958)], [(0, 0.59023535)], [(3, 0.91919035)], [(2, 0.5676242), (3, 0.41423148)], [(0, 0.9161012)], [(1, 0.43810904), (2, 0.5154824)], [(0, 0.7800549)], [(2, 0.9671056)], [(2, 0.7464141)], [(3, 0.70195925)], [(2, 0.3469037), (3, 0.6213897)], [(3, 0.95293814)], [(0, 0.9644138)], [(3, 0.57708704)], [(0, 0.51977295), (3, 0.46880567)], [(3, 0.97687423)], [(2, 0.72919667)], [(2, 0.57680297)], [(0, 0.8475213)], [(1, 0.72411186)], [(0, 0.89599144)], [(3, 0.86755574)], [(0, 0.3886031), (3, 0.59412205)], [(2, 0.45211035), (3, 0.53465444)], [(1, 0.42613605), (2, 0.5022288)], [(2, 0.9595449)], [(1, 0.9222332)], [(3, 0.7536114)], [(0, 0.36826614), (3, 0.61445963)], [(3, 0.824621)], [(3, 0.9742685)], [(1, 0.95130104)], [(0, 0.9494159)], [(1, 0.46341115), (3, 0.52764195)], [(0, 0.7289211)], [(2, 0.90280193)], [(3, 0.7845087)], [(0, 0.37204045), (2, 0.579621)], [(2, 0.93567854)], [(2, 0.5082829), (3, 0.46267685)], [(0, 0.41483098), (3, 0.5498769)], [(1, 0.69531405)], [(1, 0.9859329)], [(0, 0.91442287)], [(0, 0.35779953), (2, 0.4574331)], [(2, 0.4536101), (3, 0.5306732)], [(3, 0.9196381)], [(3, 0.8760568)], [(1, 0.9647025)], [(3, 0.8506891)], [(0, 0.9234721)], [(1, 0.8593835)], [(2, 0.8815787)], [(1, 0.9722248)], [(0, 0.92719245)], [(2, 0.9020514)], [(0, 0.95466465)], [(3, 0.811308)], [(2, 0.8031269)], [(1, 0.62599283), (3, 0.35195515)], [(3, 0.71872866)], [(0, 0.46594846)], [(0, 0.34013298), (3, 0.64142376)], [(3, 0.729713)], [(2, 0.66678023)], [(1, 0.97066766)], [(1, 0.46063954), (3, 0.52228147)], [(1, 0.63759935)], [(1, 0.60719234), (3, 0.38435394)], [(0, 0.3244034), (3, 0.6661599)], [(0, 0.47317532), (3, 0.5105991)], [(0, 0.42453185), (1, 0.5472064)], [(0, 0.9645155)], [(2, 0.68720216)], [(1, 0.79825884)], [(2, 0.88168633)], [(3, 0.86359334)], [(1, 0.5103623), (3, 0.4736031)], [(0, 0.5961909), (3, 0.36316535)], [(2, 0.97461194)], [(1, 0.9557565)], [(2, 0.47920725)], [(0, 0.9689488)], [(2, 0.6555349), (3, 0.31761098)], [(2, 0.84804034)], [(2, 0.94254667)], [(3, 0.986506)], [(1, 0.96187323)], [(3, 0.72830117)], [(1, 0.83346725)], [(0, 0.49276757), (3, 0.3753351)], [(0, 0.4179894), (1, 0.57151306)], [(0, 0.89593667)], [(1, 0.7736707)], [(0, 0.894882)], [(3, 0.9402407)], [(3, 0.94741416)], [(2, 0.54582214), (3, 0.43501887)], [(2, 0.8519197)], [(0, 0.52158135), (1, 0.4648204)], [(1, 0.42065334), (3, 0.55359685)], [(0, 0.5058445), (3, 0.47098878)], [(0, 0.55096716), (1, 0.35752788)], [(3, 0.9778478)], [(3, 0.5302159)], [(3, 0.9607886)], [(1, 0.6520371)], [(3, 0.9756498)], [(3, 0.79353344)], [(3, 0.5782618)], [(0, 0.92757934)], [(1, 0.45811832), (2, 0.38332516)], [(3, 0.870869)], [(2, 0.76661974)], [(0, 0.91489637)], [(0, 0.50072944), (1, 0.31517795)], [(3, 0.95282906)], [(1, 0.74669343)], [(3, 0.97565633)], [(0, 0.97752917)], [(2, 0.31764513), (3, 0.4757939)], [(0, 0.92703134)], [(1, 0.94951034)], [(1, 0.46799156), (3, 0.52251816)], [(1, 0.9459909)], [(1, 0.9773522)], [(1, 0.9397089)], [(0, 0.7062528)], [(2, 0.8471653)], [(2, 0.4839621), (3, 0.5037742)], [(2, 0.9161002)], [(0, 0.3288169), (3, 0.6479854)], [(3, 0.8363759)], [(2, 0.90304863)], [(3, 0.8997211)], [(0, 0.89463216)], [(0, 0.40224618), (3, 0.57929677)], [(3, 0.7777513)], [(0, 0.61248106), (2, 0.36229378)], [(0, 0.8016316)], [(2, 0.61734176)], [(0, 0.47999343), (3, 0.49465373)], [(0, 0.66014844), (3, 0.33627498)], [(0, 0.7193788)], [(0, 0.9480534)], [(0, 0.81931704)], [(2, 0.84629035)], [(2, 0.97043264)], [(0, 0.9617965)], [(2, 0.83482677)], [(0, 0.68118745), (1, 0.30917582)], [(0, 0.8961661)], [(3, 0.99399114)], [(2, 0.39456132), (3, 0.5897776)], [(2, 0.9724762)], [(1, 0.83485633)], [(2, 0.93546563)], [(2, 0.5928427), (3, 0.38669905)], [(0, 0.36677304), (1, 0.42538664)], [(3, 0.91959816)], [(0, 0.74758935)], [(0, 0.9438298)], [(3, 0.78571916)], [(0, 0.9497722)], [(1, 0.36278722), (2, 0.60573894)], [(3, 0.98078996)], [(1, 0.57159954)], [(0, 0.5241168), (3, 0.45967418)], [(0, 0.3804712), (2, 0.606114)], [(3, 0.94751036)], [(0, 0.97252834)], [(2, 0.6045848), (3, 0.34459898)], [(0, 0.40327644), (3, 0.5847773)], [(3, 0.98408073)], [(3, 0.9740469)], [(2, 0.98394895)], [(3, 0.9239197)], [(3, 0.96089804)], [(1, 0.9188476)], [(1, 0.9691995)], [(1, 0.922356)], [(3, 0.96406305)], [(0, 0.48742518), (1, 0.4900628)], [(0, 0.82162875)], [(0, 0.30881077), (2, 0.6722646)], [(2, 0.3763134), (3, 0.609891)], [(0, 0.3416222), (2, 0.6312772)], [(1, 0.5520222), (3, 0.43340608)], [(0, 0.976421)], [(0, 0.97521645)], [(3, 0.6172451)], [(2, 0.66327167)], [(0, 0.31612456), (2, 0.6788472)], [(2, 0.61004764), (3, 0.36962306)], [(1, 0.76268244)], [(3, 0.6551367)], [(0, 0.95443946)], [(0, 0.73299843)], [(2, 0.9358404)], [(1, 0.47693095), (3, 0.51294184)], [(3, 0.7606959)], [(0, 0.6794047)], [(0, 0.83589107)], [(0, 0.62441087), (3, 0.3687619)], [(2, 0.956401)], [(3, 0.947456)], [(0, 0.35902494), (1, 0.3491918)], [(3, 0.9406818)], [(1, 0.8900543)], [(0, 0.9368731)], [(0, 0.7712574)], [(0, 0.9764419)], [(1, 0.5301263), (3, 0.45286208)], [(3, 0.86356)], [(0, 0.44903085), (3, 0.30285338)], [(0, 0.4024168)], [(3, 0.7371707)], [(0, 0.53879404), (3, 0.42993176)], [(2, 0.7237727)], [(0, 0.8959909)], [(3, 0.8764666)], [(0, 0.69048744)], [(2, 0.33472332), (3, 0.63354415)], [(3, 0.71990144)], [(0, 0.95420563)], [(0, 0.9792536)], [(0, 0.9617917)], [(1, 0.38261732), (2, 0.59895366)], [(3, 0.5407335)], [(3, 0.7514197)], [(0, 0.7697964)], [(1, 0.9224257)], [(0, 0.3118689), (1, 0.6769318)], [(2, 0.44076124)], [(1, 0.79827535)], [(0, 0.49635854), (2, 0.49572104)], [(0, 0.3586318), (3, 0.6133685)], [(0, 0.59648293)], [(3, 0.64121133)], [(3, 0.95275015)], [(1, 0.49179107)], [(3, 0.7231425)], [(2, 0.4837388), (3, 0.32254916)], [(0, 0.9137511)], [(1, 0.95898736)], [(0, 0.9615317)], [(0, 0.32022), (3, 0.60577416)], [(0, 0.50257736), (2, 0.45900065)], [(3, 0.94749224)], [(0, 0.5709566), (2, 0.39413503)], [(3, 0.8884275)], [(1, 0.51405025), (3, 0.47671828)], [(0, 0.9723187)], [(1, 0.92232144)], [(0, 0.66727114), (1, 0.3219008)], [(0, 0.57747185), (3, 0.41493952)], [(0, 0.43980572), (1, 0.55376065)], [(0, 0.30197605), (2, 0.67925215)], [(0, 0.51519245), (3, 0.46160802)], [(3, 0.96899855)], [(0, 0.46457863), (3, 0.5191959)], [(0, 0.97071064)], [(1, 0.48958313), (3, 0.49331388)], [(3, 0.97994924)], [(0, 0.969151)], [(0, 0.9801868)], [(3, 0.930515)], [(0, 0.9109753)], [(3, 0.94739115)], [(3, 0.98563397)], [(0, 0.93631744)], [(1, 0.6556479), (3, 0.33424443)], [(1, 0.48294878), (3, 0.50176716)], [(0, 0.6876266), (1, 0.30369002)], [(2, 0.7299873)], [(2, 0.88204026)], [(0, 0.97072333)], [(0, 0.62067884), (3, 0.35133097)], [(3, 0.6537585)], [(1, 0.6295706), (3, 0.33134294)], [(0, 0.4326501), (2, 0.48029223)], [(3, 0.75869113)], [(0, 0.6637482)], [(0, 0.94406056)], [(0, 0.30444548), (3, 0.6346974)], [(2, 0.8660585)], [(1, 0.4607316), (2, 0.52729976)], [(0, 0.89512867)], [(0, 0.8324863)], [(0, 0.91352344)], [(2, 0.97746795)], [(3, 0.8717327)], [(1, 0.6571663), (3, 0.3079917)], [(1, 0.4127173), (3, 0.57905394)], [(2, 0.9624047)], [(1, 0.65715975), (3, 0.3079983)], [(2, 0.9274319)], [(0, 0.75126845)], [(0, 0.33038488), (1, 0.65500367)], [(3, 0.97565347)], [(0, 0.4528973), (1, 0.5385033)], [(0, 0.9346169)], [(3, 0.9666766)], [(3, 0.91878945)], [(3, 0.68338543)], [(2, 0.95642203)], [(0, 0.97530055)], [(0, 0.5087463), (3, 0.4658613)], [(3, 0.79269975)], [(0, 0.4075174), (1, 0.5795698)], [(3, 0.91880065)], [(3, 0.96098715)], [(3, 0.6228018)], [(2, 0.5261425), (3, 0.44699237)], [(3, 0.9022376)], [(2, 0.45693964), (3, 0.52391154)], [(0, 0.5441361), (3, 0.4278634)], [(0, 0.3939431), (3, 0.53015786)], [(0, 0.31074953), (2, 0.67672676)], [(0, 0.736963)], [(1, 0.9556201)], [(3, 0.91996014)], [(0, 0.54500854)], [(0, 0.9366826)], [(0, 0.92689013)], [(2, 0.945646)], [(1, 0.9407379)], [(2, 0.95932573)], [(0, 0.627712)], [(2, 0.48518488), (3, 0.3912216)], [(2, 0.94264084)], [(3, 0.902389)], [(0, 0.64202476), (1, 0.3483568)], [(0, 0.98018694)], [(0, 0.3031589), (3, 0.6769993)], [(1, 0.73846173)], [(2, 0.9462102)], [(0, 0.9543355)], [(2, 0.9432544)], [(3, 0.8408443)], [(1, 0.6367554), (3, 0.34523225)], [(0, 0.30557656), (3, 0.45490736)], [(3, 0.90276664)], [(2, 0.96876365)], [(0, 0.9480666)], [(1, 0.9214871)], [(2, 0.9742919)], [(1, 0.40872526), (2, 0.30049196)], [(1, 0.7582646)], [(3, 0.8675287)], [(2, 0.7213042)], [(3, 0.9798359)], [(3, 0.8636011)], [(3, 0.5514222)], [(0, 0.48902056), (1, 0.498046)], [(1, 0.9781971)], [(2, 0.7993653)], [(2, 0.5781257), (3, 0.3867944)], [(0, 0.8064048)], [(3, 0.9667542)], [(0, 0.6559338)], [(0, 0.9368522)], [(2, 0.88147736)], [(1, 0.36400133), (2, 0.6045252)], [(1, 0.96221375)], [(0, 0.60105675), (1, 0.3945418)], [(2, 0.308786), (3, 0.6643559)], [(3, 0.9028669)], [(0, 0.3670845), (3, 0.6144856)], [(0, 0.52392393), (2, 0.45734787)], [(2, 0.55222666), (3, 0.43144414)], [(1, 0.8894228)], [(3, 0.97902256)], [(1, 0.9645835)], [(3, 0.9742207)], [(3, 0.7312709)], [(0, 0.34280643), (1, 0.6258504)], [(2, 0.8814615)], [(0, 0.9436548)], [(2, 0.9169075)], [(1, 0.8440661)], [(0, 0.9841832)], [(2, 0.9561513)], [(3, 0.97996986)], [(0, 0.9545734)], [(2, 0.75113684)], [(3, 0.9314668)], [(0, 0.73089147)], [(1, 0.48221418), (3, 0.506894)], [(0, 0.4011117), (1, 0.5893404)], [(2, 0.8774741)], [(1, 0.7431423)], [(0, 0.50937635), (3, 0.4834391)], [(0, 0.36489233), (1, 0.33350462)], [(3, 0.70935607)], [(0, 0.74156654)], [(2, 0.63953334), (3, 0.32867005)], [(3, 0.919702)], [(0, 0.9370565)], [(2, 0.44879436), (3, 0.5070128)], [(0, 0.97518784)], [(1, 0.88970536)], [(3, 0.9475789)], [(3, 0.88322943)], [(0, 0.49609905), (1, 0.48930812)], [(3, 0.95741785)], [(3, 0.97565436)], [(0, 0.44015992), (3, 0.4207801)], [(3, 0.9708772)], [(2, 0.93624884)], [(0, 0.37470868), (2, 0.40729433)], [(1, 0.34942418), (3, 0.5745793)], [(0, 0.39104444), (3, 0.58578074)], [(0, 0.472585), (1, 0.3849618)], [(0, 0.9269695)], [(0, 0.6312103), (1, 0.34449807)], [(2, 0.9835703)], [(0, 0.42471644)], [(3, 0.99399054)], [(1, 0.955819)], [(2, 0.6118368)], [(2, 0.9017514)], [(2, 0.4257916), (3, 0.3057749)], [(2, 0.76566064)], [(0, 0.36839575), (1, 0.38278586)], [(0, 0.44883922), (3, 0.54234076)], [(2, 0.3868431), (3, 0.5975424)], [(1, 0.3600885), (3, 0.4896224)], [(0, 0.36696732), (2, 0.6109205)], [(3, 0.5717564)], [(0, 0.611129), (1, 0.37102476)], [(3, 0.78158146)], [(0, 0.4862587), (3, 0.4923683)], [(0, 0.9739841)], [(1, 0.9846363)], [(3, 0.93143046)], [(0, 0.93684524)], [(0, 0.50119823), (3, 0.47341654)], [(2, 0.9824352)], [(3, 0.97541547)], [(1, 0.9783214)], [(1, 0.95585674)], [(3, 0.68953395)], [(1, 0.37598202), (3, 0.60870314)], [(0, 0.7550004)], [(2, 0.94768393)], [(0, 0.76520616)], [(0, 0.33173516), (1, 0.32151753), (3, 0.33680364)], [(0, 0.52543384), (3, 0.45137146)], [(2, 0.8332366)], [(3, 0.67952824)], [(0, 0.966012)], [(0, 0.76018476)], [(3, 0.9203452)], [(1, 0.92239267)], [(0, 0.49916625), (2, 0.48096228)], [(0, 0.4879751), (1, 0.36057323)], [(0, 0.45154586), (3, 0.5078895)], [(0, 0.5692877), (3, 0.40532577)], [(2, 0.9561427)], [(3, 0.51685804)], [(0, 0.9641877)], [(3, 0.97804666)], [(0, 0.719335)], [(0, 0.33447802), (2, 0.6124104)], [(0, 0.96167153)], [(0, 0.4505878), (1, 0.39528853)], [(1, 0.9735547)], [(2, 0.9020418)], [(2, 0.8489659)], [(0, 0.50300944), (3, 0.4832308)], [(3, 0.93158376)], [(0, 0.67344934), (3, 0.31512585)], [(0, 0.7580688)], [(0, 0.9435295)], [(0, 0.37997106), (2, 0.60798717)], [(3, 0.31535733)], [(0, 0.67911994), (3, 0.30944854)], [(1, 0.82753485)], [(2, 0.92742914)], [(2, 0.93447113)], [(0, 0.5007909), (3, 0.47383457)], [(2, 0.50632596), (3, 0.47733173)], [(2, 0.7473532)], [(1, 0.9705799)], [(0, 0.9492653)], [(2, 0.47106475), (3, 0.5072907)], [(2, 0.34256533), (3, 0.6479066)], [(3, 0.983557)], [(2, 0.74163187)], [(0, 0.9367055)], [(2, 0.74130523)], [(2, 0.7335207)], [(2, 0.3069353), (3, 0.4227134)], [(1, 0.9807015)], [(0, 0.7299331)], [(0, 0.9432671)], [(0, 0.53351575), (1, 0.3179047)], [(2, 0.80665386)], [(3, 0.8296494)], [(2, 0.38192892), (3, 0.59648377)], [(0, 0.43680227), (3, 0.332762)], [(0, 0.80932224)], [(1, 0.39741218), (3, 0.36117774)], [(2, 0.9623368)], [(3, 0.9017856)], [(1, 0.9692083)], [(3, 0.9640816)], [(2, 0.3772486), (3, 0.61049753)], [(0, 0.4162889), (1, 0.5793022)], [(2, 0.9621204)], [(0, 0.43760082), (1, 0.55151314)], [(0, 0.99198395)], [(3, 0.82890767)], [(3, 0.90252876)], [(1, 0.35440862), (3, 0.6357768)], [(0, 0.66234386)], [(0, 0.6051738), (3, 0.30038142)], [(2, 0.6745018), (3, 0.31278303)], [(1, 0.35291603), (3, 0.60205156)], [(2, 0.38779286), (3, 0.60521024)], [(1, 0.5911654), (3, 0.32053202)], [(2, 0.95932233)], [(0, 0.82679856)], [(0, 0.63353616), (3, 0.3466609)], [(3, 0.8966098)], [(0, 0.8015818)], [(0, 0.9723682)], [(1, 0.34357014), (2, 0.46778846)], [(0, 0.9618523)], [(0, 0.9493163)], [(2, 0.9782953)], [(2, 0.7467517)], [(1, 0.9825383)], [(0, 0.37829006), (1, 0.48417667)], [(3, 0.90840286)], [(1, 0.93685913)], [(1, 0.9214372)], [(1, 0.5538964)], [(0, 0.9364049)], [(1, 0.5154752), (3, 0.4309612)], [(3, 0.8341983)], [(3, 0.9317623)], [(0, 0.57669973), (1, 0.40868458)], [(1, 0.38262627), (2, 0.5989447)], [(2, 0.56823486), (3, 0.41361994)], [(1, 0.7952498)], [(2, 0.47075003), (3, 0.5076873)], [(1, 0.4244309), (3, 0.5698446)], [(1, 0.502982), (3, 0.47780547)], [(1, 0.9939847)], [(3, 0.86111003)], [(3, 0.6925089)], [(0, 0.6391419), (2, 0.33195677)], [(3, 0.98363286)], [(0, 0.39533353), (2, 0.5837344)], [(2, 0.93609774)], [(3, 0.96103597)], [(1, 0.9812638)], [(2, 0.5460156), (3, 0.43681535)], [(1, 0.7455628)], [(1, 0.9761564)], [(1, 0.32252964), (3, 0.64288926)], [(2, 0.9026046)], [(3, 0.8935316)], [(0, 0.91370505)], [(1, 0.9083415)], [(2, 0.93582624)], [(0, 0.9919839)], [(3, 0.8289212)], [(3, 0.9934599)], [(3, 0.96094996)], [(0, 0.49388328), (3, 0.47083417)], [(3, 0.99224764)], [(0, 0.98178476)], [(3, 0.79969674)], [(0, 0.68925405)], [(3, 0.9573447)], [(2, 0.9835538)], [(2, 0.5598976), (3, 0.42572865)], [(0, 0.5233578)], [(0, 0.33874685), (2, 0.6508599)], [(1, 0.90793663)], [(3, 0.95293194)], [(3, 0.9756212)], [(1, 0.56854886)], [(2, 0.7109147)], [(0, 0.7845133)], [(2, 0.9159744)], [(1, 0.75328124)], [(0, 0.9617412)], [(1, 0.97222364)], [(2, 0.38545933), (3, 0.58771056)], [(0, 0.4668853), (3, 0.51330334)], [(1, 0.95920897)], [(0, 0.4350362), (2, 0.31164002)], [(2, 0.985863)], [(0, 0.31432799), (2, 0.5153464)], [(1, 0.31193656), (3, 0.67679864)], [(2, 0.9431746)], [(3, 0.5074531)], [(2, 0.45213342), (3, 0.5346314)], [(3, 0.46956804)], [(3, 0.9028047)], [(1, 0.75847507)], [(0, 0.93685687)], [(1, 0.756851)], [(0, 0.66994363)], [(0, 0.33174747), (1, 0.32179806), (3, 0.33651087)], [(2, 0.35762078), (3, 0.62859565)], [(3, 0.97269547)], [(3, 0.975585)], [(1, 0.955519)], [(0, 0.8595511)], [(0, 0.55728865)], [(3, 0.97995085)], [(1, 0.9339953)], [(2, 0.45845678), (3, 0.5097061)], [(0, 0.78533715)], [(0, 0.93619394)], [(1, 0.7457265)], [(1, 0.9092354)], [(3, 0.9780347)], [(3, 0.9023919)], [(0, 0.94960743)], [(1, 0.99025154)], [(0, 0.38339418), (1, 0.44457006)], [(3, 0.9404848)], [(1, 0.9086558)], [(3, 0.7497742)], [(0, 0.9751993)], [(0, 0.5916796)], [(0, 0.43264592), (2, 0.48030388)], [(0, 0.9494138)], [(0, 0.9801837)], [(0, 0.37086684), (3, 0.52738595)], [(0, 0.52304703), (2, 0.33761647)], [(1, 0.9723685)], [(2, 0.7719884)], [(0, 0.92653334)], [(3, 0.67446333)], [(2, 0.38682693), (3, 0.5975585)], [(0, 0.976421)], [(3, 0.9027765)], [(1, 0.75386935)], [(3, 0.902307)], [(0, 0.9263998)], [(1, 0.79437685)], [(0, 0.915231)], [(0, 0.3220161), (3, 0.6547776)], [(0, 0.7567978)], [(0, 0.87676257)], [(1, 0.40081242), (2, 0.58881736)], [(0, 0.64788085), (2, 0.34689158)], [(0, 0.35544688), (2, 0.6221314)], [(3, 0.8655351)], [(1, 0.9722673)], [(0, 0.52081233)], [(3, 0.9639528)], [(2, 0.4540853)], [(0, 0.9616708)], [(0, 0.6822218), (1, 0.31373212)], [(3, 0.9779685)], [(2, 0.88854426)], [(3, 0.9315351)], [(0, 0.94343746)], [(1, 0.9555898)], [(3, 0.98467594)], [(0, 0.524321), (3, 0.46884793)], [(0, 0.9366342)], [(3, 0.957362)], [(3, 0.97562444)], [(0, 0.92782027)], [(3, 0.8214309)], [(3, 0.5791361)], [(2, 0.75786185)], [(0, 0.93572325)], [(3, 0.846434)], [(0, 0.89631534)], [(1, 0.400804), (2, 0.58882576)], [(3, 0.89240617)], [(3, 0.7739565)], [(0, 0.91418886)], [(0, 0.9546124)], [(2, 0.9893181)], [(0, 0.9140692)], [(0, 0.5372846)], [(0, 0.9583961)], [(3, 0.96669185)], [(0, 0.5073569), (2, 0.45791513)], [(1, 0.43806416), (2, 0.51552737)], [(3, 0.7387014)], [(3, 0.96415305)], [(2, 0.46806884), (3, 0.52184767)], [(2, 0.47691488)], [(3, 0.75205135)], [(1, 0.46117803), (3, 0.52933145)], [(0, 0.3963848), (1, 0.41957864)], [(1, 0.91098696)], [(3, 0.56473994)], [(3, 0.7710986)], [(1, 0.96458274)], [(0, 0.75713)], [(1, 0.7364818)], [(3, 0.95737696)], [(3, 0.96407026)], [(0, 0.47327393), (3, 0.5122167)], [(1, 0.9779579)], [(3, 0.96659636)], [(0, 0.8600876)], [(1, 0.3526513), (2, 0.6157041)], [(3, 0.9314686)], [(0, 0.7569488)], [(2, 0.7512322)], [(2, 0.30867755), (3, 0.4492708)], [(0, 0.3756976), (3, 0.60112655)], [(3, 0.95739055)], [(2, 0.9478714)], [(3, 0.96900207)], [(0, 0.57025146), (2, 0.4203869)], [(3, 0.8013523)], [(0, 0.9665078)], [(2, 0.98068565)], [(3, 0.7289498)], [(3, 0.947541)], [(0, 0.7824607)], [(3, 0.7276856)], [(0, 0.93622994)], [(0, 0.9536234)], [(1, 0.5739823), (2, 0.3882105)], [(3, 0.7273431)], [(2, 0.9622657)], [(0, 0.9142112)], [(3, 0.9187537)], [(3, 0.93154794)], [(0, 0.6832525)], [(1, 0.34731263), (2, 0.5437926)], [(0, 0.91447246)], [(3, 0.9525977)], [(0, 0.60012436), (3, 0.38932425)], [(2, 0.9718676)], [(0, 0.3828123), (1, 0.6059346)], [(3, 0.9607964)], [(0, 0.9148353)], [(0, 0.7021803)], [(3, 0.96670693)], [(0, 0.47661912)], [(0, 0.841085)], [(0, 0.80639076)], [(0, 0.56488883), (3, 0.40392795)], [(0, 0.9137608)], [(0, 0.4772066), (1, 0.5165011)], [(1, 0.72435427)], [(2, 0.49262667), (3, 0.4882128)], [(1, 0.955585)], [(1, 0.9464761)], [(2, 0.34254596), (3, 0.647926)], [(3, 0.9529658)], [(3, 0.82918715)], [(0, 0.84362453)], [(0, 0.73950136)], [(1, 0.90307003)], [(0, 0.972371)], [(2, 0.9157306)], [(1, 0.5780057), (2, 0.38045964)], [(3, 0.86555654)], [(1, 0.77729565)], [(1, 0.9326464)], [(2, 0.8136669)], [(0, 0.9725696)], [(0, 0.95483524)], [(0, 0.41003346), (3, 0.5780278)], [(2, 0.594859)], [(1, 0.98593193)], [(1, 0.9669791)], [(0, 0.5339268), (1, 0.4507679)], [(3, 0.7335788)], [(2, 0.9799684)], [(3, 0.6615544)], [(0, 0.581052), (3, 0.4005183)], [(2, 0.41300893), (3, 0.5358283)], [(3, 0.6980992)], [(2, 0.92688364)], [(0, 0.8587424)], [(0, 0.4962974)], [(0, 0.38104174), (1, 0.45107105)], [(0, 0.3655889), (1, 0.59998274)], [(2, 0.6112659)], [(0, 0.3025567), (2, 0.31782576), (3, 0.37540385)], [(2, 0.9647993)], [(2, 0.94768864)], [(1, 0.9846395)], [(3, 0.93145585)], [(3, 0.8687308)], [(3, 0.9799495)], [(3, 0.6862013)], [(2, 0.97668004)], [(2, 0.47997797), (3, 0.50818425)], [(0, 0.5498343), (3, 0.41482866)], [(0, 0.97382)], [(0, 0.66418743), (3, 0.31853196)], [(1, 0.6183693), (3, 0.36104175)], [(0, 0.7642987)], [(2, 0.976509)], [(2, 0.8060605)], [(2, 0.47707695)], [(0, 0.72449577)], [(2, 0.5671863), (3, 0.40615624)], [(1, 0.7715749)], [(1, 0.7107945)], [(0, 0.338729), (2, 0.6508777)], [(1, 0.9819274)], [(3, 0.979911)], [(3, 0.9573705)], [(0, 0.3995484), (1, 0.57409245)], [(3, 0.9474815)], [(3, 0.43602288)], [(1, 0.8244359)], [(1, 0.5273514)], [(0, 0.99069697)], [(2, 0.9020591)], [(1, 0.9724301)], [(0, 0.8959429)], [(2, 0.32654446), (3, 0.66444856)], [(0, 0.593544), (2, 0.35509056)], [(0, 0.9919838)], [(3, 0.6788064)], [(0, 0.98418367)], [(0, 0.5339974), (3, 0.44064265)], [(0, 0.3754382), (1, 0.6085764)], [(3, 0.8982728)], [(3, 0.9610711)], [(1, 0.70338297)], [(2, 0.48102203), (3, 0.50993276)], [(1, 0.77077365)], [(0, 0.5772815), (1, 0.41391644)], [(0, 0.3078353), (1, 0.67802507)], [(0, 0.48552534), (2, 0.43479365)], [(3, 0.9316341)], [(0, 0.70582724)], [(1, 0.67719525)], [(2, 0.9719516)], [(3, 0.96899295)], [(0, 0.954341)], [(0, 0.5924438), (1, 0.4034654)], [(3, 0.91952515)], [(1, 0.42857468), (3, 0.55604863)], [(0, 0.64110905), (1, 0.3326217)], [(0, 0.61511636), (3, 0.37293437)], [(2, 0.64075106)], [(1, 0.9311591)], [(2, 0.9230874)], [(3, 0.53882885)], [(2, 0.64302087)], [(2, 0.8792311)], [(0, 0.92680055)], [(2, 0.9719133)], [(3, 0.7602162)], [(0, 0.43859458), (3, 0.4360749)], [(0, 0.56403047), (3, 0.40478644)], [(2, 0.88175744)], [(1, 0.9164274)], [(1, 0.4205798), (3, 0.55367035)], [(3, 0.74806625)], [(1, 0.42386457), (3, 0.51471037)], [(3, 0.90280384)], [(0, 0.4702973), (1, 0.50850594)], [(0, 0.5709317), (1, 0.40272903)], [(0, 0.9709207)], [(1, 0.49998447)], [(1, 0.9761046)], [(3, 0.73183393)], [(1, 0.9722026)], [(2, 0.9356167)], [(1, 0.9398259)], [(0, 0.4720351), (3, 0.5181824)], [(1, 0.6982939)], [(3, 0.96401)], [(0, 0.9139725)], [(2, 0.95889795)], [(1, 0.99070644)], [(2, 0.9685857)], [(1, 0.33985496), (3, 0.55168223)], [(0, 0.9442524)], [(2, 0.9840828)], [(1, 0.7017947)], [(3, 0.9798499)], [(1, 0.4593309), (3, 0.31732523)], [(1, 0.5406401)], [(0, 0.5694727), (1, 0.4209481)], [(0, 0.34740388), (3, 0.4860052)], [(2, 0.9274221)], [(0, 0.32590377), (3, 0.66605484)], [(2, 0.96195996)], [(1, 0.36857462), (3, 0.5480279)], [(1, 0.72022814)], [(3, 0.97273374)], [(0, 0.4701803), (2, 0.5005389)], [(0, 0.94385535)], [(0, 0.90395737)], [(1, 0.39247516), (3, 0.38225308)], [(0, 0.9641405)], [(3, 0.8488126)], [(0, 0.72572356)], [(3, 0.9855847)], [(3, 0.9170295)], [(1, 0.92354983)], [(0, 0.66896164), (1, 0.31305087)], [(2, 0.94766265)], [(3, 0.8296486)], [(3, 0.9021489)], [(2, 0.9276052)], [(2, 0.91688055)], [(3, 0.9814903)], [(0, 0.59623194), (3, 0.3230766)], [(1, 0.6922618)], [(2, 0.98201686)], [(0, 0.32671714), (1, 0.6579183)], [(0, 0.9639634)], [(0, 0.6443397)], [(2, 0.70867676)], [(0, 0.36222804), (3, 0.634288)], [(0, 0.66904646), (1, 0.31698713)], [(3, 0.7371564)], [(1, 0.4994033), (3, 0.3579638)], [(3, 0.78141314)], [(1, 0.3536325), (3, 0.6403114)], [(3, 0.9756927)], [(1, 0.9797515)], [(2, 0.33486587), (3, 0.6334016)], [(0, 0.97926444)], [(3, 0.9405168)], [(1, 0.7260052)], [(0, 0.7923274)], [(1, 0.67717135)], [(3, 0.9573857)], [(1, 0.6245451), (2, 0.35500777)], [(0, 0.4794052), (2, 0.4983053)], [(0, 0.7981352)], [(0, 0.96172774)], [(3, 0.7283614)], [(0, 0.97624326)], [(2, 0.8179059)], [(3, 0.68709326)], [(2, 0.42152986), (3, 0.5661441)], [(2, 0.98785913)], [(1, 0.9939847)], [(1, 0.9403895)], [(3, 0.9609551)], [(2, 0.35497135), (3, 0.45781592)], [(0, 0.8470105)], [(1, 0.97497594)], [(0, 0.71237016)], [(0, 0.94958866)], [(0, 0.7459704)], [(3, 0.94754946)], [(3, 0.8451508)], [(2, 0.94292957)], [(0, 0.97242975)], [(1, 0.7030486)], [(2, 0.745597)], [(3, 0.8289087)], [(1, 0.8130403)], [(2, 0.4246691), (3, 0.56349385)], [(1, 0.5369445), (3, 0.45963213)], [(0, 0.3092659), (3, 0.6554421)], [(3, 0.94762945)], [(1, 0.9588019)], [(0, 0.6082484)], [(0, 0.30728275), (1, 0.3091036), (3, 0.38127792)], [(2, 0.9755738)], [(0, 0.89595693)], [(1, 0.95151186)], [(2, 0.73675466)], [(3, 0.72769177)], [(2, 0.9646756)], [(2, 0.4255543), (3, 0.5354361)], [(1, 0.85899633)], [(0, 0.47764137), (3, 0.48708308)], [(1, 0.41332608), (2, 0.56112635)], [(3, 0.9317449)], [(1, 0.93258125)], [(0, 0.3949902), (1, 0.56306916)], [(0, 0.41015977), (3, 0.5700573)], [(0, 0.9751888)], [(3, 0.9778621)], [(1, 0.7494242)], [(2, 0.8812618)], [(0, 0.41452026), (3, 0.56703085)], [(2, 0.7415921)], [(3, 0.9851314)], [(0, 0.4963364), (1, 0.31928524)], [(1, 0.8951872)], [(3, 0.76073414)], [(1, 0.9558087)], [(2, 0.9423815)], [(3, 0.93155503)], [(3, 0.76556104)], [(2, 0.96996695)], [(0, 0.9795954)], [(0, 0.8941973)], [(2, 0.60176826)], [(0, 0.55172306), (1, 0.43773174)], [(2, 0.647272)], [(3, 0.7205561)], [(0, 0.4667849), (3, 0.5134038)], [(1, 0.7259306)], [(1, 0.38525033), (2, 0.57694507)], [(0, 0.53182596)], [(2, 0.9806358)], [(2, 0.901507)], [(0, 0.31432024), (2, 0.5153434)], [(3, 0.6472969)], [(0, 0.49346492), (3, 0.37685898)], [(0, 0.35519558), (2, 0.6223826)], [(3, 0.59317327)], [(1, 0.8382204)], [(2, 0.72660094)], [(1, 0.5406344)], [(2, 0.60635555)], [(1, 0.35975066), (3, 0.629752)], [(3, 0.9609276)], [(2, 0.8510159)], [(2, 0.31765336), (3, 0.6473386)], [(2, 0.95583326)], [(0, 0.43353367), (3, 0.30605242)], [(0, 0.4355324), (1, 0.53821254)], [(1, 0.8901137)], [(2, 0.91618526)], [(3, 0.7506418)], [(1, 0.7132485)], [(2, 0.46671122), (3, 0.50648993)], [(3, 0.77751404)], [(0, 0.4351877)], [(3, 0.8385467)], [(0, 0.5426872), (1, 0.4418781)], [(2, 0.7896705)], [(3, 0.6639324)], [(3, 0.974287)], [(2, 0.9560163)], [(0, 0.9274275)], [(2, 0.92747235)], [(0, 0.64574635)], [(0, 0.95819664)], [(3, 0.99083304)], [(0, 0.6416034), (1, 0.34962198)], [(3, 0.95278883)], [(1, 0.6950807)], [(1, 0.95928407)], [(3, 0.9607829)], [(0, 0.9643404)], [(2, 0.7332039)], [(3, 0.69874585)], [(0, 0.92519337)], [(0, 0.32177633), (1, 0.4424957)], [(1, 0.73671025)], [(0, 0.5594667), (3, 0.42075577)], [(0, 0.71934825)], [(0, 0.5924547), (1, 0.4034546)], [(0, 0.33704987), (2, 0.6418582)], [(2, 0.7929069)], [(2, 0.8300711)], [(0, 0.659219), (1, 0.31261453)], [(0, 0.4116681), (3, 0.45509195)], [(0, 0.7575821)], [(3, 0.72585344)], [(0, 0.9711451)], [(2, 0.9476511)], [(0, 0.70289165)], [(1, 0.7925226)], [(0, 0.7618775)], [(1, 0.65434605)], [(3, 0.947544)], [(1, 0.97707856)], [(0, 0.62587035), (1, 0.36597297)], [(1, 0.7068994)], [(0, 0.7415597)], [(2, 0.7610003)], [(0, 0.5642932), (2, 0.41051155)], [(1, 0.629521), (3, 0.33139253)], [(2, 0.37053168), (3, 0.44818243)], [(2, 0.5250687), (3, 0.46781525)], [(3, 0.9474624)], [(0, 0.5967848)], [(0, 0.7067846)], [(1, 0.9556382)], [(1, 0.34531808), (2, 0.6230862)], [(1, 0.33484095), (3, 0.5493796)], [(2, 0.94620293)], [(0, 0.42100284), (3, 0.56523764)], [(2, 0.7445705)], [(0, 0.54501224)], [(1, 0.59453326)], [(3, 0.97424144)], [(1, 0.6627399), (3, 0.3026598)], [(0, 0.6796338), (1, 0.30743724)], [(0, 0.91512877)], [(0, 0.98802644)], [(1, 0.976066)], [(3, 0.95280963)], [(2, 0.9422737)], [(2, 0.96668446)], [(1, 0.36789036)], [(0, 0.9859735)], [(1, 0.96896374)], [(0, 0.926054)], [(0, 0.5093637), (2, 0.42560613)], [(3, 0.9727329)], [(3, 0.97424066)], [(0, 0.3662474), (3, 0.612386)], [(3, 0.70517516)], [(2, 0.66059345), (3, 0.3331885)], [(3, 0.93167347)], [(0, 0.84095234)], [(0, 0.49742463), (3, 0.4168078)], [(1, 0.5639216), (3, 0.41905454)], [(1, 0.6329152), (2, 0.32922247)], [(2, 0.9280526)], [(2, 0.6448133)], [(0, 0.7535249)], [(2, 0.9852769)], [(0, 0.595906), (3, 0.39759696)], [(0, 0.9492886)], [(2, 0.7160875)], [(2, 0.8825959)], [(2, 0.4246891), (3, 0.56347376)], [(3, 0.79803675)], [(0, 0.3146159), (3, 0.50733995)], [(1, 0.9831701)], [(1, 0.48090073), (3, 0.51015043)], [(0, 0.6537897), (1, 0.32741284)], [(0, 0.6278004), (3, 0.3467421)], [(1, 0.9591764)], [(0, 0.48757938), (3, 0.4771153)], [(1, 0.36742845), (3, 0.55434436)], [(0, 0.78784066)], [(1, 0.75826204)], [(0, 0.9617194)], [(0, 0.5038371), (2, 0.46161002)], [(1, 0.95881087)], [(0, 0.9801438)], [(1, 0.98188657)], [(3, 0.8157664)], [(3, 0.72582436)], [(0, 0.9365028)], [(1, 0.7313011)], [(0, 0.82527065)], [(2, 0.7467582)], [(1, 0.31577066), (3, 0.6760408)], [(0, 0.46453947), (1, 0.32786036)], [(0, 0.45044592), (2, 0.31302595)], [(1, 0.67557716)], [(2, 0.7407317)], [(0, 0.46888486), (3, 0.49585268)], [(0, 0.3985715), (1, 0.43143314)], [(1, 0.9229161)], [(0, 0.8963977)], [(0, 0.49633396), (1, 0.31929272)], [(1, 0.3466987), (3, 0.6427918)], [(1, 0.78877914)], [(0, 0.7157702)], [(0, 0.45300362), (2, 0.5305726)], [(3, 0.69299084)], [(1, 0.379941), (3, 0.36494473)], [(0, 0.68982345)], [(3, 0.94061035)], [(1, 0.9463236)], [(0, 0.5011472), (1, 0.3396219)], [], [(0, 0.94987977)], [(2, 0.52891207), (3, 0.465773)], [(0, 0.3284072), (1, 0.39662614)], [(3, 0.8064168)], [(0, 0.949594)], [(3, 0.7135447)], [(3, 0.7170724)], [(2, 0.8024374)], [(2, 0.7388582)], [(3, 0.6528453)], [(1, 0.5595072)], [(0, 0.9666122)], [(3, 0.63600343)], [(0, 0.34551114), (3, 0.6498727)], [(2, 0.9022425)], [(1, 0.4880719), (3, 0.36411265)], [(0, 0.4616274)], [(0, 0.9266752)], [(1, 0.6535611)], [(3, 0.78811496)], [(1, 0.9846776)], [(0, 0.6613741), (1, 0.32251453)], [(1, 0.47675875), (2, 0.49376506)], [(1, 0.9405942)], [(0, 0.47162968), (3, 0.52078265)], [(1, 0.4836128), (3, 0.42474058)], [(3, 0.7476935)], [(2, 0.6667883)], [(3, 0.93170124)], [(2, 0.7926988)], [(2, 0.90426284)], [(3, 0.94750136)], [(1, 0.49268445)], [(0, 0.8661895)], [(3, 0.7413058)], [(3, 0.83373576)], [(1, 0.73631155)], [(2, 0.97011167)], [(0, 0.37046444), (3, 0.37716758)], [(1, 0.6808545)], [(0, 0.833584)], [(0, 0.86871195)], [(1, 0.43813974), (3, 0.47550184)], [(2, 0.67394435), (3, 0.31334049)], [(2, 0.9476136)], [(0, 0.59607285), (1, 0.3891771)], [(3, 0.98600984)], [(1, 0.9791637)], [(0, 0.9669524)], [(0, 0.7791386)], [(1, 0.59396034), (3, 0.38407332)], [(0, 0.90393424)], [(0, 0.97090256)], [(0, 0.3398064), (1, 0.33353978)], [(0, 0.7326004)], [(0, 0.55941737), (3, 0.42080513)], [(1, 0.61043483), (3, 0.35029885)], [(1, 0.88966566)], [(3, 0.97103643)], [(2, 0.92902136)], [(2, 0.6880346)], [(1, 0.3054562), (3, 0.6739911)], [(3, 0.9318)], [(3, 0.98227125)], [(0, 0.43319145), (1, 0.54987943)], [(0, 0.9363843)], [(3, 0.96876204)], [(1, 0.9465685)], [(1, 0.62034845), (3, 0.3345662)], [(1, 0.76885223)], [(0, 0.96902674)], [(2, 0.9595431)], [(1, 0.43621558), (3, 0.557356)], [(3, 0.9322723)], [(0, 0.4870171), (2, 0.44791198)], [(0, 0.33279774), (2, 0.610272)], [(0, 0.40998128), (3, 0.57807994)], [(2, 0.7943182)], [(0, 0.6537267)], [(1, 0.93276507)], [(0, 0.97646767)], [(0, 0.9363231)], [(1, 0.98120546)], [(1, 0.41534507), (3, 0.58164394)], [(0, 0.8634496)], [(0, 0.9147006)], [(3, 0.7168384)], [(1, 0.35503802), (2, 0.61774397)], [(0, 0.6595413)], [(3, 0.9610346)], [(2, 0.58620733), (3, 0.3965774)], [(0, 0.9139044)], [(3, 0.94050604)], [(2, 0.93579245)], [(0, 0.92724514)], [(3, 0.82025576)], [(2, 0.7635267)], [(3, 0.86753446)], [(1, 0.60529965), (3, 0.37094796)], [(3, 0.94049627)], [(2, 0.7791202)], [(0, 0.97631335)], [(0, 0.5777602), (2, 0.4093668)], [(3, 0.97993994)], [(3, 0.90239215)], [(1, 0.6152761), (2, 0.30265048)], [(0, 0.927386)], [(0, 0.93636554)], [(0, 0.7114654)], [(1, 0.4840346), (2, 0.46964055)], [(2, 0.6636621), (3, 0.3206319)], [(0, 0.97240156)], [(1, 0.49279284)], [(0, 0.43379942), (1, 0.3095577)], [(0, 0.7141833)], [(1, 0.932798)], [(1, 0.65933484), (2, 0.32372957)], [(1, 0.93226534)], [(2, 0.7997869)], [(0, 0.9264419)], [(0, 0.5950346), (2, 0.33954033)], [(1, 0.9427891)], [(0, 0.61131465), (3, 0.3845021)], [(1, 0.908145)], [(1, 0.969037)], [(0, 0.30174288), (2, 0.6909209)], [(2, 0.8019111)], [(1, 0.7680408)], [(3, 0.9472455)], [(3, 0.6631033)], [(0, 0.43157503), (3, 0.52788204)], [(2, 0.6709235), (3, 0.3000945)], [(1, 0.96902364)], [(2, 0.6083567)], [(3, 0.9755823)], [(2, 0.6674372)], [(3, 0.8516253)], [(2, 0.5431886), (3, 0.44607824)], [(3, 0.9756562)], [(3, 0.9316966)], [(3, 0.8387931)], [(0, 0.30255604), (2, 0.3178229), (3, 0.37540743)], [(3, 0.9835289)], [(3, 0.94433606)], [(0, 0.8948138)], [(2, 0.58211464), (3, 0.4056235)], [(0, 0.5894588), (1, 0.37283438)], [(2, 0.5923036), (3, 0.37588403)], [(3, 0.74034595)], [(3, 0.94052064)], [(2, 0.5373204)], [(0, 0.6481234), (3, 0.34830004)], [(1, 0.97059774)], [(1, 0.83296496)], [(2, 0.74456376)], [(0, 0.3502877), (2, 0.35065988)], [(1, 0.9325796)], [(0, 0.95457906)], [(2, 0.5660503), (3, 0.42213064)], [(2, 0.94622415)], [(0, 0.61857337)], [(0, 0.8941296)], [(1, 0.962043)], [(0, 0.60267526), (3, 0.36933875)], [(0, 0.3078295), (1, 0.67803085)], [(0, 0.85689956)], [(1, 0.6203512), (3, 0.33456346)], [(0, 0.78191143)], [(0, 0.9840683)], [(0, 0.57320535), (3, 0.4083359)], [(3, 0.58849585)], [(2, 0.88078415)], [(0, 0.411805), (3, 0.560187)], [(3, 0.5047544)], [(1, 0.9226349)], [(3, 0.9768421)], [(3, 0.9193154)], [(0, 0.9369729)], [(1, 0.93186176)], [(0, 0.91459817)], [(0, 0.74519485)], [(0, 0.98177713)], [(1, 0.5863939), (2, 0.34250355)], [(1, 0.99268544)], [(3, 0.94030875)], [(0, 0.9708998)], [(0, 0.67233235), (1, 0.32016453)], [(3, 0.9472911)], [(3, 0.9641942)], [(3, 0.8760644)], [(2, 0.4889317), (3, 0.49076313)], [(0, 0.9753211)], [(0, 0.9143062)], [(0, 0.45490506), (1, 0.33192122)], [(0, 0.9764198)], [(0, 0.44277456), (2, 0.53006446)], [(1, 0.661061)], [(0, 0.9776241)], [(3, 0.9637673)], [(2, 0.7215718)], [(2, 0.31925324), (3, 0.62119454)], [(0, 0.96689975)], [(1, 0.4782865), (2, 0.30231494)], [(3, 0.8260248)], [(0, 0.9581529)], [(1, 0.9589622)], [(0, 0.92757016)], [(1, 0.9515891)], [(1, 0.7616805)], [(3, 0.78172725)], [(3, 0.6895793)], [(0, 0.5169305)], [(0, 0.66078204), (1, 0.3344426)], [(2, 0.39308083), (3, 0.5905359)], [(1, 0.67061913)], [(0, 0.66482407)], [(3, 0.73210275)], [(1, 0.41568872), (2, 0.5086987)], [(0, 0.4452209), (3, 0.36282864)], [(3, 0.81444275)], [(0, 0.92605126)], [(1, 0.76015645)], [(0, 0.9134629)], [(0, 0.32938537), (2, 0.4647121)], [(2, 0.87925625)], [(0, 0.6722463), (3, 0.31863675)], [(2, 0.33667156), (3, 0.58271694)], [(3, 0.6998487)], [(3, 0.95743895)], [(0, 0.92726564)], [(0, 0.9360816)], [(3, 0.69726884)], [(2, 0.42205814), (3, 0.55881596)], [(0, 0.57516384), (2, 0.38193765)], [(1, 0.55582863), (3, 0.43147644)], [(3, 0.9474192)], [(3, 0.98515415)], [(0, 0.95835984)], [(3, 0.81180704)], [(0, 0.41629142), (1, 0.57929975)], [(0, 0.41364458), (3, 0.5701349)], [(2, 0.3079245), (3, 0.4206487)], [(2, 0.7853487)], [(0, 0.65507877), (3, 0.3169681)], [(2, 0.97439706)], [(3, 0.9822652)], [(3, 0.9740832)], [(2, 0.9514616)], [(2, 0.5171511), (3, 0.44400075)], [(3, 0.9027424)], [(2, 0.55839837), (3, 0.42880684)], [(0, 0.3182635), (2, 0.67480433)], [(1, 0.93108356)], [(1, 0.7023915)], [(1, 0.4503142), (3, 0.5186528)], [(2, 0.95615226)], [(1, 0.4057569), (3, 0.38978425)], [(0, 0.478587), (1, 0.5097611)], [(2, 0.92772335)], [(0, 0.77924865)], [(3, 0.93161774)], [(0, 0.3806446), (3, 0.60487497)], [(3, 0.9707811)], [(2, 0.88251764)], [(2, 0.90205383)], [(3, 0.53322434)], [(0, 0.5975712)], [(2, 0.5295473), (3, 0.42609683)], [(2, 0.9026745)], [(3, 0.58278966)], [(1, 0.5045315)], [(2, 0.6752124), (3, 0.30547726)], [(0, 0.39277846), (1, 0.59631234)], [(3, 0.6359471)], [(3, 0.9312958)], [(1, 0.8888844)], [(3, 0.95733875)], [(3, 0.96399605)], [(0, 0.943989)], [(0, 0.8037472)], [(3, 0.8296591)], [(3, 0.50919676)], [(0, 0.52856225), (3, 0.41345373)], [(0, 0.5475865), (1, 0.4356842)], [(0, 0.39406916), (1, 0.3334538)], [(2, 0.60979337), (3, 0.3764808)], [(2, 0.91691923)], [(0, 0.9868404)], [(2, 0.52594894), (3, 0.4576256)], [(0, 0.5663868), (3, 0.32948774)], [(3, 0.7129129)], [(0, 0.39460796), (3, 0.5959287)], [(1, 0.7686411)], [(0, 0.9436056)], [(2, 0.30881548), (3, 0.5754538)], [(2, 0.91687596)], [(1, 0.6964815)], [(2, 0.9793653)], [(0, 0.98776495)], [(2, 0.31774357), (3, 0.6472484)], [(3, 0.74128264)], [(0, 0.7571688)], [(1, 0.9819729)], [(0, 0.9499104)], [(0, 0.72836447)], [(2, 0.9161297)], [(2, 0.9792142)], [(0, 0.98311406)], [(0, 0.7648292)], [(0, 0.54639316)], [(0, 0.76895887)], [(3, 0.8260049)], [(3, 0.85825616)], [(0, 0.56040436), (3, 0.32454616)], [(0, 0.84327424)], [(2, 0.9424346)], [(2, 0.9898731)], [(3, 0.8950438)], [(1, 0.73770034)], [(1, 0.71081257)], [(1, 0.72018874)], [(3, 0.75061387)], [(2, 0.34476125), (3, 0.6349116)], [(1, 0.97498095)], [(2, 0.9361195)], [(1, 0.903086)], [(0, 0.4731677), (3, 0.5162902)], [(1, 0.96705455)], [(3, 0.953095)], [(0, 0.787155)], [(0, 0.30472896), (2, 0.4058074)], [(3, 0.9893325)], [(0, 0.9359326)], [(0, 0.6919949)], [(3, 0.95738876)], [(1, 0.4150123), (2, 0.37061158)], [(0, 0.865732)], [(3, 0.87520516)], [(0, 0.95828897)], [(3, 0.8814316)], [(3, 0.74928707)], [(2, 0.73113215)], [(0, 0.7145528)], [(0, 0.34945714), (3, 0.48855153)], [(0, 0.943421)], [(0, 0.43895796), (1, 0.52661395)], [(0, 0.9144471)], [(1, 0.9646028)], [(3, 0.98851305)], [(0, 0.9775493)], [(1, 0.47687885)], [(3, 0.71217144)], [(3, 0.8674804)], [(0, 0.9366334)], [(3, 0.9756223)], [(3, 0.9021429)], [(1, 0.8896816)], [(3, 0.9726871)], [(2, 0.56722426), (3, 0.40611827)], [(2, 0.935311)], [(0, 0.67229706), (1, 0.32019982)], [(1, 0.75221074)], [(0, 0.3989182), (1, 0.59717333)], [(0, 0.7261183)], [(0, 0.9645321)], [(0, 0.87712497)], [(0, 0.9149377)], [(0, 0.9541239)], [(3, 0.9529058)], [(3, 0.9799401)], [(0, 0.4178248), (1, 0.45691478)], [(0, 0.3160136), (1, 0.5500111)], [(0, 0.9665884)], [(0, 0.786162)], [(0, 0.38722375), (1, 0.43712234)], [(3, 0.9405795)], [(0, 0.96462065)], [(0, 0.9497871)], [(0, 0.93689096)], [(2, 0.79937327)], [(0, 0.9846737)], [(0, 0.42764816), (3, 0.55611026)], [(0, 0.31431994), (2, 0.6538655)], [(0, 0.9639835)], [(0, 0.6584536), (3, 0.32905677)], [(0, 0.513452), (2, 0.4676065)], [(3, 0.97994024)], [(2, 0.9595863)], [(1, 0.5287466), (3, 0.33092391)], [(0, 0.8547515)], [(1, 0.46388894), (2, 0.50882673)], [(0, 0.5753872), (3, 0.33400923)], [(1, 0.7212514)], [(0, 0.77398926)], [(1, 0.94597363)], [(0, 0.7242382)], [(3, 0.74887854)], [(3, 0.9027072)], [(0, 0.47888863), (2, 0.50717133)], [(3, 0.93163776)], [(3, 0.9708972)], [(3, 0.92392373)], [(0, 0.50324714), (1, 0.47237092)], [(3, 0.93175745)], [(0, 0.773983)], [(3, 0.9407618)], [(0, 0.9566523)], [(3, 0.7508892)], [(3, 0.76791656)], [(3, 0.9641163)], [(0, 0.53174794), (2, 0.4582849)], [(0, 0.4331899), (1, 0.549881)], [(2, 0.97558355)], [(1, 0.47290543), (3, 0.49585733)], [(1, 0.87399065)], [(2, 0.349348), (3, 0.6363007)], [(2, 0.9625065)], [(3, 0.70682955)], [(3, 0.7800704)], [(0, 0.6499649), (3, 0.3220145)], [(2, 0.59486634)], [(3, 0.930975)], [(3, 0.96671027)], [(0, 0.97950894)], [(2, 0.41566676), (3, 0.30190116)], [(0, 0.983044)], [(0, 0.9491924)], [(1, 0.95777076)], [(3, 0.8030784)], [(0, 0.33295795), (3, 0.66021276)], [(3, 0.9408557)], [(2, 0.46807066), (3, 0.5218458)], [(0, 0.92348117)], [(1, 0.7966424)], [(1, 0.4585492), (3, 0.3648137)], [(0, 0.65255004), (2, 0.34242865)], [(2, 0.94243246)], [(1, 0.9463326)], [(1, 0.5079682), (2, 0.39295313)], [(0, 0.5252394), (3, 0.41678005)], [(0, 0.3139048), (1, 0.6819697)], [(1, 0.8901568)], [(0, 0.9134514)], [(3, 0.91968685)], [(2, 0.93628263)], [(2, 0.75243545)], [(1, 0.58828247), (3, 0.391212)], [(1, 0.37936187), (3, 0.34654182)], [(3, 0.9196499)], [(3, 0.6936303)], [(2, 0.66712236), (3, 0.31367242)], [(1, 0.7288694)], [(0, 0.36717412), (2, 0.62672305)], [(0, 0.47234213), (3, 0.5178754)], [(0, 0.3576806), (3, 0.49392822)], [(0, 0.9738118)], [(0, 0.76082855)], [(0, 0.6607824), (1, 0.33444223)], [(0, 0.39154288), (3, 0.41461936)], [(0, 0.8467717)], [(3, 0.9708802)], [(3, 0.69993603)], [(3, 0.71014935)], [(0, 0.9725697)], [(1, 0.94059265)], [(1, 0.7113037)], [(1, 0.8894112)], [(0, 0.3744894), (2, 0.40709043)], [(0, 0.6404493), (3, 0.3497621)], [(0, 0.57644665), (2, 0.41138697)], [(2, 0.40493405), (3, 0.5878134)], [(2, 0.7191366)], [(0, 0.9366607)], [(0, 0.30812383), (3, 0.67811537)], [(0, 0.6169056), (2, 0.3744006)], [(2, 0.8015316)], [(3, 0.708245)], [(1, 0.3440479), (2, 0.6419716)], [(1, 0.48439497), (3, 0.4873456)], [(3, 0.86138237)], [(0, 0.73477715)], [(0, 0.96461487)], [(0, 0.8126665)], [(3, 0.87532693)], [(2, 0.7024263)], [(1, 0.8891103)], [(1, 0.77928805)], [(2, 0.9687971)], [(3, 0.57105994)], [(2, 0.4617389), (3, 0.52506196)], [(2, 0.7182265)], [(0, 0.7034078)], [(1, 0.39244437), (3, 0.58551466)], [(2, 0.97295976)], [(2, 0.83619297)], [(3, 0.96409863)], [(0, 0.34493202), (3, 0.631856)], [(0, 0.7227804)], [(3, 0.77103204)], [(3, 0.7028478)], [(3, 0.84480155)], [(1, 0.99102885)], [(3, 0.7679205)], [(3, 0.69636256)], [(0, 0.74141324)], [(0, 0.35896254), (1, 0.63343525)], [(1, 0.5301978), (3, 0.45279047)], [(3, 0.966629)], [(0, 0.9138486)], [(0, 0.30964276), (1, 0.6798403)], [(1, 0.8185578)], [(0, 0.55588394), (2, 0.43755344)], [(2, 0.49014676), (3, 0.49416262)], [(0, 0.50524133), (2, 0.48712838)], [(2, 0.9667077)], [(1, 0.9072993)], [(0, 0.9615474)], [(3, 0.9474298)], [(3, 0.94755465)], [(0, 0.47660777), (1, 0.4524121)], [(2, 0.9922619)], [(0, 0.52946204), (1, 0.44942072)], [(0, 0.9643357)], [(1, 0.39727375), (3, 0.58470994)], [(3, 0.96104974)], [(2, 0.77991813)], [(2, 0.9668842)], [(1, 0.7312488)], [(2, 0.9812241)], [(3, 0.7634675)], [(0, 0.86029005)], [(1, 0.39647102), (2, 0.31906575)], [(1, 0.5319653), (2, 0.42649418)], [(0, 0.5774262), (1, 0.40904552)], [(0, 0.4196523), (1, 0.30951357)], [(1, 0.34230253), (3, 0.60983914)], [(1, 0.770835)], [(1, 0.49706024), (3, 0.49075502)], [(3, 0.9885135)], [(0, 0.41203004), (3, 0.5473644)], [(3, 0.9193571)], [(1, 0.4807207), (3, 0.48466307)], [(1, 0.3665586), (3, 0.62750214)], [(0, 0.74134105)], [(1, 0.81126577)], [(0, 0.36713794), (2, 0.62614954)], [(2, 0.95959365)], [(0, 0.9265891)], [(1, 0.43125334), (2, 0.5493856)], [(2, 0.9852054)], [(1, 0.9324862)], [(0, 0.6426546), (1, 0.30709597)], [(0, 0.61045796), (3, 0.3785772)], [(1, 0.5262044)], [(2, 0.48393732), (3, 0.503799)], [(1, 0.96684885)], [(0, 0.9870119)], [(2, 0.37042803), (3, 0.6172825)], [(1, 0.94628024)], [(2, 0.3056505), (3, 0.6740114)], [(0, 0.3706926), (1, 0.6197458)], [(0, 0.42101905), (3, 0.5652215)], [(2, 0.916559)], [(2, 0.37709972), (3, 0.5837145)], [(0, 0.5656274), (3, 0.4238346)], [(2, 0.9160765)], [(0, 0.5317707), (3, 0.32974237)], [(3, 0.8487803)], [(1, 0.45336977), (3, 0.3888825)], [(2, 0.97926986)], [(1, 0.9645902)], [(0, 0.42189506), (3, 0.57357204)], [(2, 0.97848004)], [(1, 0.34277043), (3, 0.62245005)], [(1, 0.71793526)], [(0, 0.36171997), (1, 0.60987175)], [(0, 0.31825948), (2, 0.6748083)], [(0, 0.56510764), (1, 0.40336558)], [(0, 0.9025742)], [(1, 0.959763)], [(3, 0.9574576)], [(0, 0.43084043), (3, 0.5586233)], [(1, 0.51906365), (3, 0.47655115)], [(2, 0.9646745)], [(0, 0.3448745), (3, 0.62384593)], [(2, 0.8815601)], [(3, 0.82909936)], [(3, 0.95291525)], [(1, 0.46198165), (3, 0.5227054)], [(0, 0.92762834)], [(2, 0.4792303), (3, 0.33429897)], [(0, 0.81654423)], [(0, 0.31805906), (2, 0.66095)], [(3, 0.9195703)], [(3, 0.76534396)], [(1, 0.3350429), (3, 0.5767121)], [(2, 0.4225237), (3, 0.5558994)], [(3, 0.9815887)], [(0, 0.5419506), (3, 0.44708252)], [(1, 0.9515752)], [(0, 0.97076327)], [(3, 0.9726916)], [(3, 0.66232723)], [(0, 0.58208644)], [(0, 0.9435111)], [(3, 0.60413903)], [(2, 0.710934)], [(0, 0.9143866)], [(2, 0.7422722)], [(0, 0.7017948)], [(0, 0.3872315), (1, 0.43712613)], [(3, 0.9743247)], [(3, 0.97261673)], [(0, 0.45976594), (3, 0.51702636)], [(0, 0.85259277)], [(0, 0.4963088)], [(3, 0.9780015)], [(1, 0.88816893)], [(3, 0.95280665)], [(1, 0.9093705)], [(1, 0.8884117)], [(3, 0.91992646)], [(0, 0.96701646)], [(2, 0.30726984), (3, 0.42194423)], [(2, 0.5202762), (3, 0.41815913)], [(3, 0.9780022)], [(0, 0.74121785)], [(2, 0.7552022)], [(1, 0.77384675)], [(3, 0.67073697)], [(2, 0.624948)], [(2, 0.3736079), (3, 0.32618415)], [(0, 0.98101616)], [(3, 0.78184104)], [(0, 0.66945213), (3, 0.30519348)], [(0, 0.9726225)], [(0, 0.39798337), (3, 0.58473474)], [(1, 0.69936687)], [(1, 0.39819393), (2, 0.45211723)], [(1, 0.3511083)], [(1, 0.99482703)], [(1, 0.5189619), (3, 0.47665298)], [(2, 0.7004313)], [(1, 0.699335)], [(0, 0.9643187)], [(1, 0.7626812)], [(1, 0.9836381)], [(3, 0.5740953)], [(3, 0.96400666)], [(2, 0.9703623)], [(0, 0.7413144)], [(3, 0.9666684)], [(0, 0.9668015)], [(0, 0.43979865), (1, 0.5537678)], [(0, 0.46917546), (3, 0.4441952)], [(0, 0.59219426), (3, 0.38800478)], [(0, 0.352045), (1, 0.47062936)], [(0, 0.44728932), (2, 0.48773327)], [(0, 0.9644261)], [(1, 0.9124414)], [(3, 0.968944)], [(0, 0.95419186)], [(2, 0.77911097)], [(1, 0.5120167), (3, 0.4251764)], [(2, 0.4607725), (3, 0.52651757)], [(2, 0.7786522)], [(1, 0.7930284)], [(0, 0.70240617)], [(3, 0.9573309)], [(0, 0.6723859)], [(0, 0.70811266)], [(0, 0.36501455), (3, 0.3513943)], [(0, 0.37240574), (3, 0.599558)], [(3, 0.98602754)], [(3, 0.9855756)], [(0, 0.46956795), (1, 0.3141689)], [(0, 0.6320148), (3, 0.339974)], [(0, 0.4409331), (3, 0.55382764)], [(0, 0.9138132)], [(3, 0.65479386)], [(0, 0.6576768), (1, 0.3345119)], [(2, 0.34963012), (3, 0.63851374)], [(2, 0.78004366)], [(2, 0.48736742), (3, 0.47334668)], [(0, 0.93609107)], [(0, 0.9692279)], [(3, 0.9709839)], [(3, 0.6209602)], [(1, 0.98317236)], [(0, 0.43432248), (3, 0.53767455)], [(0, 0.72585034)], [(3, 0.5046369)], [(0, 0.9667899)], [(3, 0.9023341)], [(0, 0.6839501), (1, 0.3082938)], [(3, 0.8594492)], [(3, 0.9757653)], [(3, 0.86115277)], [(1, 0.95560205)], [(2, 0.44322616), (3, 0.5440839)], [(2, 0.48758936), (3, 0.502318)], [(0, 0.4332161), (1, 0.54985476)], [(2, 0.30311584), (3, 0.67204785)], [(3, 0.7628417)], [(1, 0.9889207)], [(3, 0.98403096)], [(0, 0.94469786)], [(3, 0.9639158)], [(2, 0.31751093), (3, 0.45665884)], [(3, 0.81310666)], [(0, 0.9364492)], [(2, 0.9358541)], [(0, 0.45867088), (2, 0.532826)], [(3, 0.9611101)], [(3, 0.97557944)], [(1, 0.9084482)], [(0, 0.9273349)], [(0, 0.9666269)], [(1, 0.3878531), (2, 0.48295844)], [(1, 0.54302907), (3, 0.43994215)], [(3, 0.79594165)], [(1, 0.9836971)], [(0, 0.38539392), (1, 0.5659396)], [(0, 0.34892234), (3, 0.34683883)], [(3, 0.9689587)], [(3, 0.77810496)], [(3, 0.83012825)], [(3, 0.905775)], [(0, 0.6455164)], [(3, 0.9779904)], [(1, 0.667393), (3, 0.3069605)], [(0, 0.34144542), (1, 0.6321011)], [(3, 0.96666586)], [(1, 0.45466846)], [(0, 0.3988063), (1, 0.36160377)], [(0, 0.62787867), (3, 0.32432222)], [(0, 0.6503651)], [(0, 0.38559508), (2, 0.49521175)], [(0, 0.3589543), (1, 0.6334435)], [(3, 0.95741814)], [(3, 0.76026434)], [(1, 0.6956056)], [(0, 0.7684013)], [(3, 0.96108425)], [(0, 0.54507935), (3, 0.43172547)], [(3, 0.6957738)], [(0, 0.5024813), (3, 0.48441)], [(0, 0.984601)], [(2, 0.94289243)], [(1, 0.4336365), (2, 0.55573195)], [(0, 0.9784952)], [(1, 0.83343226)], [(0, 0.9140511)], [(0, 0.9367114)], [(1, 0.62566084), (3, 0.36306962)], [(3, 0.94744056)], [(3, 0.56261504)], [(3, 0.956033)], [(1, 0.3953004), (3, 0.5982435)], [(0, 0.35139963), (3, 0.6132474)], [(3, 0.96896356)], [(1, 0.60276103), (2, 0.30856788)], [(0, 0.7791617)], [(1, 0.41825774), (2, 0.47394192)], [(0, 0.3631164), (3, 0.61709106)], [(0, 0.47695884), (1, 0.50178427)], [(3, 0.7111587)], [(1, 0.36152595), (3, 0.6037165)], [(0, 0.753344)], [(1, 0.5502246), (3, 0.4240132)], [(0, 0.5353231), (3, 0.42406598)], [(1, 0.7322402)], [(1, 0.8329453)], [(0, 0.45290303), (1, 0.5384975)], [(2, 0.54560184), (3, 0.32503673)], [(3, 0.90276927)], [(0, 0.91373235)], [(3, 0.9610368)], [(1, 0.4797837), (2, 0.30632618)], [(0, 0.9836091)], [(0, 0.9739861)], [(0, 0.7246998)], [(2, 0.9276528)], [(1, 0.8440927)], [(3, 0.7203598)], [(0, 0.96126777)], [(0, 0.33438972), (1, 0.419722)], [(1, 0.9771623)], [(0, 0.48388484), (2, 0.4364906)], [(2, 0.6173463)], [(1, 0.97619605)], [(1, 0.4926724)], [(2, 0.4188631), (3, 0.5725966)], [(0, 0.9643179)], [(2, 0.73313594)], [(2, 0.9098146)], [(0, 0.6060865), (1, 0.37618014)], [(0, 0.7528427)], [(3, 0.96088755)], [(2, 0.72530496)], [(0, 0.9877649)], [(0, 0.59179956), (2, 0.3791448)], [(0, 0.9709488)], [(3, 0.79931265)], [(1, 0.9463359)], [(0, 0.6253644), (3, 0.36609712)], [(2, 0.66211194), (3, 0.32226825)], [(3, 0.90786636)], [(1, 0.97058135)], [(1, 0.61257184), (3, 0.36884254)], [(3, 0.94053465)], [(0, 0.94370997)], [(3, 0.986057)], [(2, 0.37395254), (3, 0.5089539)], [(0, 0.9725294)], [(0, 0.8436138)], [(1, 0.6789109), (3, 0.3040245)], [(0, 0.9369108)], [(3, 0.83419406)], [(0, 0.97237056)], [(0, 0.32112256), (1, 0.6654307)], [(1, 0.44711757), (3, 0.5375821)], [(0, 0.4269339), (2, 0.54378265)], [(1, 0.6873218), (3, 0.30374444)], [(3, 0.94060856)], [(3, 0.9193924)], [(3, 0.9949821)], [(0, 0.48302704), (1, 0.40084207)], [(3, 0.7263583)], [(0, 0.9134491)], [(0, 0.36228675), (3, 0.4806558)], [(2, 0.47918266)], [(3, 0.5046904)], [(2, 0.9732079)], [(1, 0.7171753)], [(0, 0.56947535), (1, 0.4209454)], [(3, 0.94047797)], [(1, 0.78636926)], [(3, 0.94746643)], [(3, 0.9527202)], [(3, 0.89956075)], [(0, 0.8317245)], [(3, 0.947532)], [(1, 0.6104517), (3, 0.35028204)], [(2, 0.93540394)], [(0, 0.9128636)], [(1, 0.3151951), (3, 0.6715132)], [(1, 0.34219268), (2, 0.3085154), (3, 0.34647208)], [(3, 0.97682714)], [(0, 0.38065624), (3, 0.60486335)], [(2, 0.61430794), (3, 0.38043597)], [(0, 0.82823986)], [(3, 0.94074696)], [(3, 0.9573768)], [(2, 0.62372506)], [(0, 0.4606401), (1, 0.5287983)], [(0, 0.4273721), (3, 0.38034353)], [(1, 0.9225132)], [(3, 0.7545858)], [(3, 0.9610552)], [(1, 0.9790964)], [(1, 0.98815954)], [(0, 0.70332366)], [(2, 0.95565057)], [(1, 0.34220445), (3, 0.5147744)], [(0, 0.94369644)], [(2, 0.43935847), (3, 0.5287933)], [(0, 0.9893662)], [(3, 0.9573985)], [(0, 0.8963319)], [(1, 0.6940594)], [(0, 0.7509112)], [(3, 0.9609398)], [(3, 0.9473687)], [(0, 0.3465516), (2, 0.44263905)], [(0, 0.89599425)], [(3, 0.94733596)], [(3, 0.9527511)], [(2, 0.3260712), (3, 0.5413866)], [(2, 0.9476798)], [(0, 0.4480176), (3, 0.53822213)], [(0, 0.784691)], [(2, 0.6161451), (3, 0.31929582)], [(3, 0.8294909)], [(0, 0.74925935)], [(3, 0.9755274)], [(3, 0.8760821)], [(3, 0.94054866)], [(2, 0.97917604)], [(1, 0.76461715)], [(0, 0.53721905), (1, 0.455269)], [(3, 0.9756561)], [(0, 0.5640487)], [(3, 0.57106906)], [(2, 0.95274144)], [(1, 0.74571484)], [(0, 0.94372106)], [(3, 0.960892)], [(0, 0.35288364), (1, 0.36599573)], [(3, 0.8298274)], [(0, 0.5440596), (3, 0.42793995)], [(2, 0.9479383)], [(0, 0.5341353), (1, 0.3440369)], [(1, 0.95929635)], [(0, 0.9358654)], [(2, 0.36548737), (3, 0.3681986)], [(0, 0.82760864)], [(0, 0.62812114), (3, 0.35459772)], [(1, 0.9825458)], [(3, 0.97787887)], [(3, 0.96665347)], [(0, 0.7303514)], [(0, 0.8633762)], [(1, 0.5221048), (3, 0.44347808)], [(3, 0.74188936)], [(2, 0.8214267)], [(0, 0.9137907)], [(3, 0.7251022)], [(0, 0.32715598), (2, 0.6586127)], [(2, 0.8040461)], [(3, 0.8141593)], [(2, 0.4303251), (3, 0.5569468)], [(3, 0.76131076)], [(3, 0.7968098)], [(3, 0.5717561)], [(3, 0.7996603)], [(2, 0.56717), (3, 0.4061725)], [(0, 0.6239469), (3, 0.36922595)], [(0, 0.59145606), (3, 0.3923124)], [(0, 0.35140464), (1, 0.6333132)], [(0, 0.6982706)], [(3, 0.79138887)], [(2, 0.74455917)], [(2, 0.8797871)], [(2, 0.9836183)], [(0, 0.35403067), (2, 0.35090452)], [(3, 0.9407567)], [(0, 0.5566379), (1, 0.43557647)], [(0, 0.35698715), (3, 0.63418573)], [(3, 0.9689812)], [(3, 0.678853)], [(3, 0.9768727)], [(0, 0.8186035)], [(0, 0.85224354)], [(1, 0.68495977), (3, 0.3023001)], [(3, 0.5723425)], [(3, 0.98515224)], [(1, 0.4631423)], [(0, 0.5501154), (1, 0.4274105)], [(2, 0.50238466), (3, 0.46269622)], [(3, 0.87553686)], [(3, 0.9689972)], [(0, 0.8258951)], [(0, 0.93646294)], [(2, 0.6940396)], [(2, 0.31907097), (3, 0.5459437)], [(1, 0.5173113), (3, 0.4784331)], [(0, 0.43382326), (1, 0.30952516)], [(0, 0.61474764), (1, 0.35058758)], [(0, 0.6017697), (2, 0.33225948)], [(3, 0.9790288)], [(3, 0.702095)], [(1, 0.5275911), (3, 0.45784965)], [(2, 0.7547496)], [(0, 0.34343985), (3, 0.6403515)], [(2, 0.74092996)], [(0, 0.83252174)], [(3, 0.96661264)], [(0, 0.9667877)], [(0, 0.7227123)], [(1, 0.7179605)], [(2, 0.61107385)], [(1, 0.9555994)], [(3, 0.8453981)], [(3, 0.95721674)], [(2, 0.93569434)], [(3, 0.9406349)], [(3, 0.97429025)], [(3, 0.9741615)], [(2, 0.9166651)], [(1, 0.534472), (3, 0.4342973)], [(2, 0.31751117), (3, 0.45665702)], [(0, 0.95414984)], [(3, 0.96675175)], [(1, 0.97046155)], [(3, 0.93140733)], [(0, 0.38722998), (1, 0.43712848)], [(3, 0.9317655)], [(0, 0.68786293)], [(1, 0.7671903)], [(1, 0.73475856)], [(2, 0.81246835)], [(0, 0.36133313), (2, 0.61955047)], [(3, 0.6994625)], [(0, 0.641861), (3, 0.33495596)], [(3, 0.44207066)], [(3, 0.9878844)], [(1, 0.6068318), (3, 0.3649515)], [(0, 0.4459943), (2, 0.5368825)], [(2, 0.9478697)], [(3, 0.9726878)], [(2, 0.74109775)], [(3, 0.8174513)], [(0, 0.58202726)], [(3, 0.6966007)], [(0, 0.81685615)], [(3, 0.7129434)], [(0, 0.9139976)], [(1, 0.3374357), (3, 0.62790877)], [(2, 0.74312586)], [(2, 0.9646085)], [(0, 0.97078997)], [(3, 0.95734024)], [(1, 0.9515744)], [(2, 0.4813791), (3, 0.4867185)], [(0, 0.5829592)], [(0, 0.95445937)], [(2, 0.85068405)], [(0, 0.7256104)], [(1, 0.3112789), (2, 0.6365066)], [(0, 0.7677759)], [(2, 0.40593886), (3, 0.5547933)], [(3, 0.90268856)], [(0, 0.91512895)], [(3, 0.93191725)], [(3, 0.6683164)], [(2, 0.5564196)], [(0, 0.958125)], [(0, 0.4543467), (3, 0.5337245)], [(0, 0.9271983)], [(1, 0.57390434), (2, 0.3882885)], [(0, 0.4778629), (3, 0.41267917)], [(0, 0.4988196), (3, 0.4886869)], [(3, 0.97553957)], [(3, 0.9573974)], [(3, 0.7633498)], [(1, 0.3967642), (3, 0.5007876)], [(0, 0.8982375)], [(0, 0.78861153)], [(0, 0.89469665)], [(0, 0.6177151), (3, 0.3569023)], [(0, 0.32728744), (3, 0.50265896)], [(3, 0.9027741)], [(1, 0.37854037), (3, 0.37701526)], [(0, 0.3044426), (3, 0.6801983)], [(0, 0.8937138)], [(1, 0.89122635)], [(0, 0.34464476), (2, 0.633028)], [(1, 0.6795316), (3, 0.30347565)], [(3, 0.95736057)], [(1, 0.47073594), (3, 0.5179491)], [(0, 0.9545117)], [(1, 0.96493095)], [(0, 0.9368487)], [(0, 0.4395239), (3, 0.33630648)], [(3, 0.9190483)], [(1, 0.3421783), (3, 0.5542993)], [(0, 0.7903877)], [(3, 0.9726271)], [(0, 0.96165806)], [(0, 0.6280511), (3, 0.34396735)], [(3, 0.97100204)], [(3, 0.9193524)], [(1, 0.7259637)], [(1, 0.9799042)], [(0, 0.62883294), (3, 0.34323096)], [(1, 0.97480255)], [(0, 0.50062066), (3, 0.49531817)], [(3, 0.91955566)], [(0, 0.53457624), (3, 0.34496647)], [(0, 0.94385606)], [(0, 0.79037887)], [(3, 0.9317125)], [(0, 0.9500324)], [(0, 0.42762494), (2, 0.32439834)], [(3, 0.81210667)], [(3, 0.77630174)], [(0, 0.9830441)], [(3, 0.9640697)], [(2, 0.9017504)], [(2, 0.91686904)], [(1, 0.3972224), (3, 0.5847613)], [(1, 0.9689057)], [(1, 0.34223115), (3, 0.65217805)], [(2, 0.9744917)], [(2, 0.8779557)], [(0, 0.5146276), (1, 0.4683943)], [(1, 0.9224215)], [(2, 0.5151643), (3, 0.46920785)], [(3, 0.98412013)], [(3, 0.7096465)], [(1, 0.7597942)], [(1, 0.4893592), (3, 0.5014106)], [(0, 0.6168903), (2, 0.37441587)], [(2, 0.87377083)], [(1, 0.8825442)], [(0, 0.53165376)], [(3, 0.96097606)], [(0, 0.5657527), (1, 0.3958716)], [(1, 0.9670604)], [(1, 0.9465741)], [(3, 0.9799681)], [(2, 0.94235486)], [(0, 0.39275628), (3, 0.5992074)], [(3, 0.9317089)], [(2, 0.5286337), (3, 0.46605134)], [(0, 0.6822327), (1, 0.31372124)], [(3, 0.98077303)], [(3, 0.98350346)], [(1, 0.73712885)], [(1, 0.9773325)], [(0, 0.7680957)], [(2, 0.57974106), (3, 0.38478345)], [(2, 0.5312609), (3, 0.3016044)], [(0, 0.51250184), (1, 0.4290267)], [(2, 0.9428034)], [(1, 0.31810987), (3, 0.64712006)], [(1, 0.9325263)], [(1, 0.76965475)], [(0, 0.9137436)], [(2, 0.87947094)], [(0, 0.38355753), (3, 0.3698348)], [(3, 0.82890064)], [(1, 0.48934188), (3, 0.50142837)], [(0, 0.50113946), (1, 0.33962086)], [(0, 0.37412906), (1, 0.6079288)], [(3, 0.8538352)], [(0, 0.93655527)], [(0, 0.9539407)], [(3, 0.9322702)], [(2, 0.685174)], [(0, 0.4634645), (3, 0.37172008)], [(0, 0.69669986)], [(3, 0.91971487)], [(0, 0.9614032)], [(1, 0.51544756), (3, 0.464011)], [(0, 0.97248554)], [(3, 0.6748459)], [(3, 0.9689682)], [(2, 0.5024472), (3, 0.46263376)], [(0, 0.56922084), (3, 0.40539265)], [(1, 0.7376342)], [(3, 0.7096621)], [(0, 0.9145266)], [(0, 0.6796201), (1, 0.30745095)], [(1, 0.9096588)], [(0, 0.9273231)], [(0, 0.5449484), (3, 0.43185645)], [(1, 0.58386135)], [(2, 0.5752761)], [(2, 0.58209157), (3, 0.40564653)], [(1, 0.40917635), (3, 0.57907516)], [(3, 0.9028318)], [(1, 0.30950263), (3, 0.39541814)], [(1, 0.8891029)], [(0, 0.87517625)], [(0, 0.69993746)], [(1, 0.9748826)], [(2, 0.67527586), (3, 0.3054138)], [(1, 0.9879025)], [(3, 0.80089587)], [(0, 0.5336949)], [(0, 0.6110852), (1, 0.37106973)], [(0, 0.3708696), (3, 0.46025702)], [(0, 0.755357)], [(1, 0.92245436)], [(1, 0.9920461)], [(0, 0.40506607), (2, 0.5041316)], [(0, 0.9669061)], [(3, 0.8689296)], [(1, 0.65326154)], [(3, 0.7133354)], [(1, 0.4151655), (3, 0.53655505)], [(0, 0.8464693)], [(2, 0.91692567)], [(0, 0.45004985), (3, 0.53012884)], [(1, 0.9797931)], [(3, 0.9639895)], [(2, 0.97181374)], [(2, 0.8801441)], [(1, 0.8590653)], [(3, 0.56263226)], [(0, 0.4929445), (2, 0.4777468)], [(0, 0.79745185)], [(0, 0.58202773)], [(2, 0.74489266)], [(0, 0.41689926), (3, 0.56777155)], [(1, 0.89129007)], [(3, 0.9024739)], [(2, 0.90110725)], [(1, 0.6345354)], [(3, 0.9475267)], [(0, 0.9667768)], [(0, 0.4080036), (1, 0.5790836)], [(1, 0.734185)], [(2, 0.6268539), (3, 0.3581765)], [(2, 0.713434)], [(3, 0.80506206)], [(2, 0.4801287)], [(0, 0.92726)], [(3, 0.9640617)], [(3, 0.96408165)], [(2, 0.6872419)], [(2, 0.9014803)], [(3, 0.699944)], [(0, 0.9265592)], [(3, 0.9893352)], [(0, 0.6087022), (1, 0.38251266)], [(0, 0.9144495)], [(0, 0.31305993), (3, 0.4903491)], [(1, 0.68437725)], [(0, 0.74967366)], [(0, 0.83238053)], [(0, 0.9496846)], [(1, 0.67419827), (3, 0.31528243)], [(3, 0.9847014)], [(3, 0.9768262)], [(0, 0.7416781)], [(2, 0.44671893), (3, 0.53014106)], [(2, 0.98255044)], [(2, 0.9792865)], [(1, 0.5569638), (3, 0.39805192)], [(2, 0.9561844)], [(2, 0.9666999)], [(0, 0.94350827)], [(0, 0.5612676), (3, 0.43306026)], [(1, 0.9723053)], [(2, 0.9917043)], [(1, 0.6592882), (2, 0.32377616)], [(3, 0.83636695)], [(3, 0.99027395)], [(1, 0.85875666)], [(2, 0.67725104)], [(1, 0.9087253)], [(0, 0.8650588)], [(2, 0.58551145)], [(1, 0.9087122)], [(0, 0.9583117)], [(1, 0.87758607)], [(3, 0.9317577)], [(1, 0.9620556)], [(2, 0.96240175)], [(3, 0.5092302)], [(0, 0.45212582), (2, 0.4760185)], [(1, 0.34888908), (3, 0.6052616)], [(0, 0.48099574), (3, 0.4910253)], [(3, 0.96899074)], [(0, 0.96165913)], [(0, 0.95483595)], [(2, 0.98496354)], [(2, 0.96461374)], [(0, 0.39849514), (1, 0.5916233)], [(1, 0.9223443)], [(0, 0.39736196), (1, 0.5762891)], [(3, 0.4696307)], [(1, 0.39891973), (3, 0.595157)], [(2, 0.7880078)], [(2, 0.72272)], [(2, 0.9356026)], [(0, 0.914385)], [(0, 0.62770736)], [(3, 0.902367)], [(0, 0.6312774), (1, 0.32581303)], [(0, 0.8409408)], [(1, 0.9311595)], [(3, 0.9021535)], [(3, 0.9798818)], [(1, 0.69639385)], [(0, 0.38923198), (3, 0.57545626)], [(0, 0.54179674), (2, 0.42647105)], [(0, 0.6531479)], [(1, 0.9226265)], [(0, 0.8104272)], [(0, 0.5011528), (3, 0.4734619)], [(1, 0.6755475)], [(3, 0.9404892)], [(3, 0.79619426)], [(3, 0.9608419)], [(3, 0.952857)], [(2, 0.96240413)], [(0, 0.98361385)], [(0, 0.95800966)], [(1, 0.9807017)], [(0, 0.96919733)], [(0, 0.91403794)], [(2, 0.7248813)], [(0, 0.94460136)], [(0, 0.8957803)], [(0, 0.5697645), (3, 0.42007795)], [(0, 0.69575447)], [(2, 0.3555551), (3, 0.44880402)], [(0, 0.9498504)], [(0, 0.96434444)], [(0, 0.79081994)], [(2, 0.8283497)], [(0, 0.8216104)], [(2, 0.8774012)], [(2, 0.98538256)], [(3, 0.9194442)], [(1, 0.60319215)], [(0, 0.39426276), (1, 0.58711296)], [(3, 0.9316499)], [(3, 0.9474434)], [(1, 0.91395664)], [(2, 0.9356863)], [(0, 0.7916357)], [(0, 0.9039444)], [(1, 0.95129126)], [(0, 0.8073642)], [(2, 0.48482135), (3, 0.48840934)], [(3, 0.931407)], [(0, 0.6278015), (1, 0.35441247)], [(2, 0.9703735)], [(0, 0.74150497)], [(1, 0.94646996)], [(0, 0.7413441)], [(0, 0.6868341), (3, 0.3026285)], [(0, 0.44329673), (1, 0.43630376)], [(0, 0.9899347)], [(3, 0.9667467)], [(0, 0.81844723)], [(3, 0.78598756)], [(3, 0.7926956)], [(2, 0.9910571)], [(1, 0.9226107)], [(0, 0.6391228), (2, 0.33197588)], [(3, 0.957066)], [(2, 0.93645793)], [(0, 0.41634727)], [(1, 0.37980554), (2, 0.3248071)], [(3, 0.8953777)], [(3, 0.836637)], [(1, 0.9590386)], [(3, 0.9949345)], [(0, 0.94980514)], [(0, 0.71419233)], [(3, 0.9779699)], [(3, 0.91970193)], [(0, 0.92667854)], [(1, 0.6421627)], [(0, 0.9776256)], [(0, 0.82785946)], [(1, 0.38772196), (3, 0.591754)], [(3, 0.93932503)], [(1, 0.95931834)], [(2, 0.9716369)], [(2, 0.68035185)], [(2, 0.9169544)], [(2, 0.8856848)], [(1, 0.53915554)], [(3, 0.817904)], [(3, 0.91907114)], [(0, 0.44745693), (3, 0.36377236)], [(0, 0.48793325), (2, 0.46356025)], [(0, 0.41019925), (3, 0.5700178)], [(1, 0.8814606)], [(0, 0.544424), (3, 0.42432034)], [(1, 0.96896374)], [(1, 0.9761959)], [(0, 0.46164265), (2, 0.3234934)], [(1, 0.3634372), (3, 0.5972249)], [(3, 0.9667533)], [(2, 0.7528919)], [(2, 0.9792181)], [(3, 0.9688728)], [(1, 0.843784)], [(3, 0.8298767)], [(1, 0.9846012)], [(0, 0.9480515)], [(2, 0.6922101)], [(2, 0.51747173), (3, 0.4382594)], [(2, 0.9357259)], [(1, 0.90188545)], [(1, 0.7068879)], [(0, 0.9582394)], [(1, 0.7362974)], [(3, 0.9197756)], [(2, 0.8949197)], [(0, 0.8007056)], [(2, 0.7365453)], [(0, 0.43482798), (3, 0.56003034)], [(0, 0.9669481)], [(0, 0.9135958)], [(3, 0.98560834)], [(0, 0.94993824)], [(2, 0.68394667)], [(1, 0.42112425), (3, 0.566646)], [(3, 0.6294947)], [(2, 0.9021662)], [(0, 0.681621)], [(0, 0.4940801), (3, 0.4934369)], [(0, 0.3402564), (2, 0.646346)], [(1, 0.8937389)], [(1, 0.723766)], [(0, 0.42614403), (1, 0.51434225)], [(1, 0.97824013)], [(0, 0.4398125), (1, 0.55375385)], [(0, 0.88835675)], [(0, 0.9864192)], [(3, 0.9474226)], [(2, 0.902312)], [(0, 0.57144636), (3, 0.41007856)], [(1, 0.9093732)], [(0, 0.97088933)], [(3, 0.90856516)], [(3, 0.90209246)], [(3, 0.9314884)], [(0, 0.5962581), (1, 0.38834596)], [(1, 0.62453616), (2, 0.35501674)], [(3, 0.82317173)], [(1, 0.98467714)], [(3, 0.97896403)], [(2, 0.91745514)], [(3, 0.9573011)], [(1, 0.5155202), (2, 0.36310357)], [(0, 0.90395826)], [(2, 0.51521283)], [(0, 0.6304866), (1, 0.3566494)], [(0, 0.35767543), (3, 0.49394265)], [(1, 0.48225304), (3, 0.49969044)], [(3, 0.9799765)], [(1, 0.47506782), (3, 0.33351895)], [(0, 0.74822766)], [(0, 0.9907703)], [(2, 0.8405581)], [(1, 0.940488)], [(0, 0.9365274)], [(0, 0.94975203)], [(1, 0.3322233), (3, 0.6560407)], [(0, 0.7777142)], [(3, 0.9841763)], [(3, 0.7461129)], [(2, 0.99272585)], [(3, 0.9709213)], [(3, 0.9611056)], [(1, 0.9465832)], [(0, 0.60786796), (3, 0.37904897)], [(0, 0.37963188), (3, 0.5950277)], [(2, 0.8482689)], [(0, 0.96190727)], [(1, 0.39889666), (3, 0.59518015)], [(0, 0.57232404)], [(3, 0.916918)], [(0, 0.82338417)], [(1, 0.95919645)], [(3, 0.9846767)], [(1, 0.88987863)], [(2, 0.6522014)], [(3, 0.93161464)], [(2, 0.98908305)], [(2, 0.915614)], [(1, 0.9884757)], [(0, 0.98607206)], [(0, 0.74767655)], [(3, 0.9840301)], [(2, 0.3841919), (3, 0.5941799)], [(0, 0.5909853), (1, 0.3706754)], [(3, 0.9815477)], [(0, 0.74348116)], [(1, 0.5752264), (3, 0.41022113)], [(3, 0.75007963)], [(1, 0.5148673), (3, 0.4759011)], [(2, 0.7154508)], [(3, 0.737793)], [(3, 0.94070876)], [(3, 0.94082344)], [(2, 0.3654841), (3, 0.36821255)], [(3, 0.9473841)], [(0, 0.6861159)], [(3, 0.70499665)], [(0, 0.71272904)], [(2, 0.94791776)], [(3, 0.9530547)], [(0, 0.59623694), (3, 0.3230702)], [(0, 0.579069), (3, 0.40470648)], [(2, 0.98067313)], [(3, 0.9742764)], [(1, 0.95940876)], [(2, 0.51805943)], [(3, 0.73220474)], [(0, 0.51356506), (3, 0.4824333)], [(1, 0.50347286)], [(3, 0.9841766)], [(3, 0.9316425)], [(2, 0.91715854)], [(0, 0.89632994)], [(1, 0.35438472), (3, 0.63580066)], [(3, 0.96414477)], [(0, 0.9364198)], [(1, 0.66890025), (2, 0.31260732)], [(3, 0.9530803)], [(1, 0.561991), (3, 0.41880888)], [(1, 0.9790934)], [(0, 0.30230755), (3, 0.69051397)], [(1, 0.8902038)], [(1, 0.35507917), (2, 0.6177028)], [(0, 0.9142052)], [(0, 0.41891032), (2, 0.5693836)], [(0, 0.8708329)], [(1, 0.96489215)], [(3, 0.97267073)], [(2, 0.60469157), (3, 0.32473794)], [(2, 0.5660519), (3, 0.42212906)], [(3, 0.9147517)], [(0, 0.9641548)], [(1, 0.92271996)], [(0, 0.39229977), (3, 0.31457606)], [(0, 0.73011655)], [(1, 0.6834817), (3, 0.31194356)], [(0, 0.9670059)], [(0, 0.62338054)], [(3, 0.9641943)], [(0, 0.8962659)]]\n",
            "There are 2691 reviews afer filtering\n",
            "Example reviews that passed the filter:\n",
            "\n",
            "Was looking for a good pizza this place is not good pizza they charged me 25.00 for a burnt cold pizza i would recommend papa johns over this place save yourself the heartache\n",
            "---------------------------------------------------------------\n",
            "Great ambiance !!!! Great music delicious food.  Pizza was what is should be nice and crunchy, soft warm dough topping not making the pizza soggy very flavorful.  \n",
            "\n",
            "Not a fan of the margarita pizza that one has to be a different dough.  To soft and very very  soggy felt like dough was not cooked through.\n"
          ],
          "name": "stdout"
        }
      ]
    },
    {
      "cell_type": "markdown",
      "metadata": {
        "id": "ZSlnMPhyJyc2",
        "colab_type": "text"
      },
      "source": [
        "TODO: food_based_reviews has the review ids that passed filtering. take those and rerun the image classifier"
      ]
    }
  ]
}