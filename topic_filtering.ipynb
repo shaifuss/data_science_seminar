{
  "nbformat": 4,
  "nbformat_minor": 0,
  "metadata": {
    "colab": {
      "name": "topic_filtering.ipynb",
      "provenance": [],
      "mount_file_id": "16y--_ZDLfGLHuuQMJCVqYv8teqDHMxNC",
      "authorship_tag": "ABX9TyOkh6OZOHy28HqXUGcUejZH"
    },
    "kernelspec": {
      "name": "python3",
      "display_name": "Python 3"
    }
  },
  "cells": [
    {
      "cell_type": "code",
      "metadata": {
        "id": "Y-vPFvziHYMV",
        "colab_type": "code",
        "colab": {}
      },
      "source": [
        "import numpy as np\n",
        "import pandas as pd\n",
        "import json\n",
        "\n"
      ],
      "execution_count": 5,
      "outputs": []
    },
    {
      "cell_type": "code",
      "metadata": {
        "id": "wfst91OkIcNX",
        "colab_type": "code",
        "colab": {}
      },
      "source": [
        "def load_reviews():\n",
        "  # load stuff\n",
        "  with open(r'/content/drive/My Drive/Data Science Class/pizza_reviews.json', 'r') as f:\n",
        "    pizza_reviews = json.load(f)\n",
        "  return pizza_reviews\n",
        "review_list = load_reviews()"
      ],
      "execution_count": 3,
      "outputs": []
    },
    {
      "cell_type": "code",
      "metadata": {
        "id": "YVd2N2IXJAO7",
        "colab_type": "code",
        "colab": {
          "base_uri": "https://localhost:8080/",
          "height": 204
        },
        "outputId": "eb81d1d1-1bc6-416e-ea9b-8a9729748989"
      },
      "source": [
        "review_df = pd.DataFrame(review_list)\n",
        "\n",
        "text_df = review_df[['review_id', 'text']].copy()\n",
        "text_df.head()"
      ],
      "execution_count": 13,
      "outputs": [
        {
          "output_type": "execute_result",
          "data": {
            "text/html": [
              "<div>\n",
              "<style scoped>\n",
              "    .dataframe tbody tr th:only-of-type {\n",
              "        vertical-align: middle;\n",
              "    }\n",
              "\n",
              "    .dataframe tbody tr th {\n",
              "        vertical-align: top;\n",
              "    }\n",
              "\n",
              "    .dataframe thead th {\n",
              "        text-align: right;\n",
              "    }\n",
              "</style>\n",
              "<table border=\"1\" class=\"dataframe\">\n",
              "  <thead>\n",
              "    <tr style=\"text-align: right;\">\n",
              "      <th></th>\n",
              "      <th>review_id</th>\n",
              "      <th>text</th>\n",
              "    </tr>\n",
              "  </thead>\n",
              "  <tbody>\n",
              "    <tr>\n",
              "      <th>0</th>\n",
              "      <td>mM8i91yWP1QbImEvz5ds0w</td>\n",
              "      <td>In the heart of Chinatown, I discovered it enr...</td>\n",
              "    </tr>\n",
              "    <tr>\n",
              "      <th>1</th>\n",
              "      <td>09qxjFi4abaW66JeSLazuQ</td>\n",
              "      <td>Was a Chicago style deep dish.  Homemade type ...</td>\n",
              "    </tr>\n",
              "    <tr>\n",
              "      <th>2</th>\n",
              "      <td>K-wdPGHbErfxbKK6PetrmA</td>\n",
              "      <td>First time eating there and everything was so ...</td>\n",
              "    </tr>\n",
              "    <tr>\n",
              "      <th>3</th>\n",
              "      <td>jkVxX4ieJwVRO9n4E8tNMw</td>\n",
              "      <td>More than just  Pizza. This location is small ...</td>\n",
              "    </tr>\n",
              "    <tr>\n",
              "      <th>4</th>\n",
              "      <td>Lb9r62Qlu12ZB909CbFeOQ</td>\n",
              "      <td>I ordered a pizza at 4:49. Got an email that s...</td>\n",
              "    </tr>\n",
              "  </tbody>\n",
              "</table>\n",
              "</div>"
            ],
            "text/plain": [
              "                review_id                                               text\n",
              "0  mM8i91yWP1QbImEvz5ds0w  In the heart of Chinatown, I discovered it enr...\n",
              "1  09qxjFi4abaW66JeSLazuQ  Was a Chicago style deep dish.  Homemade type ...\n",
              "2  K-wdPGHbErfxbKK6PetrmA  First time eating there and everything was so ...\n",
              "3  jkVxX4ieJwVRO9n4E8tNMw  More than just  Pizza. This location is small ...\n",
              "4  Lb9r62Qlu12ZB909CbFeOQ  I ordered a pizza at 4:49. Got an email that s..."
            ]
          },
          "metadata": {
            "tags": []
          },
          "execution_count": 13
        }
      ]
    },
    {
      "cell_type": "markdown",
      "metadata": {
        "id": "qUQlNqBINkOG",
        "colab_type": "text"
      },
      "source": [
        "word level preprocessing utils"
      ]
    },
    {
      "cell_type": "code",
      "metadata": {
        "id": "PpkiPLh-NzPG",
        "colab_type": "code",
        "colab": {
          "base_uri": "https://localhost:8080/",
          "height": 119
        },
        "outputId": "1448f7be-e1a7-4ab5-b1df-f3332bc6f365"
      },
      "source": [
        "import nltk\n",
        "nltk.download('stopwords')\n",
        "nltk.download('averaged_perceptron_tagger')\n",
        "\n",
        "from nltk.corpus import stopwords\n",
        "from nltk.tokenize import word_tokenize\n",
        "from nltk.stem.porter import PorterStemmer\n",
        "\n",
        "from textblob import Word"
      ],
      "execution_count": 41,
      "outputs": [
        {
          "output_type": "stream",
          "text": [
            "[nltk_data] Downloading package stopwords to /root/nltk_data...\n",
            "[nltk_data]   Package stopwords is already up-to-date!\n",
            "[nltk_data] Downloading package averaged_perceptron_tagger to\n",
            "[nltk_data]     /root/nltk_data...\n",
            "[nltk_data]   Package averaged_perceptron_tagger is already up-to-\n",
            "[nltk_data]       date!\n"
          ],
          "name": "stdout"
        }
      ]
    },
    {
      "cell_type": "code",
      "metadata": {
        "id": "bljAxTQuNLZK",
        "colab_type": "code",
        "colab": {
          "base_uri": "https://localhost:8080/",
          "height": 241
        },
        "outputId": "28b6abfe-4d47-47e3-dba8-4d3b891c20b9"
      },
      "source": [
        "# remove numbers and punctuation marks\n",
        "def filter_punctuation(word_list):\n",
        "    return [word for word in word_list if word.isalpha()]\n",
        "\n",
        "# remove unimportant connective words such as \"and\", \"the\", etc\n",
        "def filter_stopwords(word_list):\n",
        "  return [word for word in word_list if word not in stopwords.words('english')]\n",
        "\n",
        "# TODO is this helpful or not?\n",
        "#def retain_nouns_verbs(word_list):\n",
        "#    return [word for (word, pos) in nltk.pos_tag(word_list) if pos[:2] in ['NN', 'VBP', 'VBN']]\n",
        "\n",
        "# normlize for part of speech\n",
        "def stem_words(word_list):\n",
        "  ps = PorterStemmer()\n",
        "  return [ps.stem(word) for word in word_list]\n",
        "\n",
        "#TODO textblob sucks find something better\n",
        "def fix_spelling(word_list):\n",
        "  checked_list = []\n",
        "  for word in word_list:\n",
        "      w = Word(word)\n",
        "      suggestions = w.spellcheck()\n",
        "      if suggestions:\n",
        "          print(\"word: {}, suggestions: {}\".format(word, suggestions))\n",
        "          if suggestions[0][1] > 0.33:\n",
        "            checked_list.append(suggestions[0][0])\n",
        "  return checked_list\n",
        "\n",
        "\n",
        "\n",
        "\n",
        "test = ['fries', 'bakekd', 'blayck', 'pizzas', 'jkhkjh', 'oo', 'frkied', 'fry', 'ran', 'runs', 'bakes']\n",
        "print(fix_spelling(test))"
      ],
      "execution_count": 43,
      "outputs": [
        {
          "output_type": "stream",
          "text": [
            "word: fries, suggestions: [('fires', 0.4222222222222222), ('cries', 0.34444444444444444), ('flies', 0.08888888888888889), ('tries', 0.05555555555555555), ('dries', 0.044444444444444446), ('furies', 0.011111111111111112), ('frise', 0.011111111111111112), ('fried', 0.011111111111111112), ('frees', 0.011111111111111112)]\n",
            "word: bakekd, suggestions: [('baked', 1.0)]\n",
            "word: blayck, suggestions: [('black', 1.0)]\n",
            "word: pizzas, suggestions: [('pizzas', 0.0)]\n",
            "word: jkhkjh, suggestions: [('jkhkjh', 0.0)]\n",
            "word: oo, suggestions: [('oo', 1.0)]\n",
            "word: frkied, suggestions: [('fried', 1.0)]\n",
            "word: fry, suggestions: [('cry', 0.31919642857142855), ('dry', 0.2924107142857143), ('try', 0.19419642857142858), ('fly', 0.08705357142857142), ('fury', 0.04241071428571429), ('fro', 0.03571428571428571), ('wry', 0.011160714285714286), ('fr', 0.011160714285714286), ('fray', 0.004464285714285714), ('frye', 0.002232142857142857)]\n",
            "word: ran, suggestions: [('ran', 1.0)]\n",
            "word: runs, suggestions: [('runs', 1.0)]\n",
            "word: bakes, suggestions: [('takes', 0.5151515151515151), ('makes', 0.18181818181818182), ('baker', 0.16498316498316498), ('lakes', 0.04377104377104377), ('cakes', 0.016835016835016835), ('bases', 0.016835016835016835), ('baked', 0.016835016835016835), ('rakes', 0.010101010101010102), ('bakers', 0.010101010101010102), ('wakes', 0.006734006734006734), ('bales', 0.006734006734006734), ('bake', 0.006734006734006734), ('babes', 0.003367003367003367)]\n",
            "['fires', 'baked', 'black', 'oo', 'fried', 'ran', 'runs', 'takes']\n"
          ],
          "name": "stdout"
        }
      ]
    },
    {
      "cell_type": "code",
      "metadata": {
        "id": "23SUE1RhVN83",
        "colab_type": "code",
        "colab": {}
      },
      "source": [
        "def pre_proccess(text):\n",
        "  word_list = word_tokenize(text)\n",
        "  word_list = filter_punctuation(word_list)\n",
        "  word_list = fix_spelling(word_list) \n",
        "  word_list = filter_stopwords(word_list)\n",
        "  #word_list = retain_nouns(word_list)\n",
        "  word_list = stem_words(word_list):\n",
        "  \n"
      ],
      "execution_count": null,
      "outputs": []
    }
  ]
}