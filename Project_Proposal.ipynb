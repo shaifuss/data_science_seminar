{
  "nbformat": 4,
  "nbformat_minor": 0,
  "metadata": {
    "colab": {
      "name": "Project Proposal",
      "provenance": [],
      "authorship_tag": "ABX9TyPN+0aRYB/DGZ5+k5tKjMV3"
    },
    "kernelspec": {
      "name": "python3",
      "display_name": "Python 3"
    }
  },
  "cells": [
    {
      "cell_type": "markdown",
      "metadata": {
        "id": "u0ZncVnESPvL",
        "colab_type": "text"
      },
      "source": [
        "Final Project: Proposal\n",
        "\n",
        "Title: Something something review score from pictures.\n",
        "\n",
        "Ziv Branstein\n",
        "\n",
        "Avishai Fuss"
      ]
    }
  ]
}