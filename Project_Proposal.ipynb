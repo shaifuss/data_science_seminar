{
  "nbformat": 4,
  "nbformat_minor": 0,
  "metadata": {
    "colab": {
      "name": "Project Proposal",
      "provenance": [],
      "authorship_tag": "ABX9TyMyo0bkJIRqZhsURo7evGxD"
    },
    "kernelspec": {
      "name": "python3",
      "display_name": "Python 3"
    }
  },
  "cells": [
    {
      "cell_type": "markdown",
      "metadata": {
        "id": "u0ZncVnESPvL",
        "colab_type": "text"
      },
      "source": [
        "Final Project: Proposal\n",
        "\n",
        "Title: Something something review score from pictures.\n",
        "\n",
        "Ziv Branstein\n",
        "\n",
        "Avishai Fuss 332658608"
      ]
    },
    {
      "cell_type": "markdown",
      "metadata": {
        "id": "YFxVYOC5UWJ9",
        "colab_type": "text"
      },
      "source": [
        "Project Goals\n",
        "\n",
        "Given a product class, we aim to determine whether a picture of a product from said class can be used to accurately predicate customer product ratings.\n",
        "\n",
        "\n",
        "\n",
        "\n",
        "\n"
      ]
    },
    {
      "cell_type": "markdown",
      "metadata": {
        "id": "LCoX8T_BUWbI",
        "colab_type": "text"
      },
      "source": [
        "Motivation\n",
        "\n",
        "Online shopping has been on the rise for some time now around the world, while traditional brick-and-mortar businesses struggle to compete. For instance, in the US over the past ten years, e-commerce has grown at a rate ~4x faster than that of retail overall.\n",
        "\n",
        "![alt text](https://drive.google.com/uc?id=10qsPsFmOaztfLJZhwP8Vhg4NkWRBU9IM)\n",
        "\n",
        "This shifting landscape has brought vast changes to the customer experience and has impacted the way customers make purchasing decisions. Rather than browsing the aisles at a local store, consumers can survey a wide variety of options of several competitors at once. They're no longer limited to the inventory and shelf space of a physical store. \n",
        "\n",
        "Online reviews are the biggest game changer. The online experience offers consumers the chance to get neutral third-party feedback from others who have already tried the product. This is instead of having to get advice from retail sales associates who are incentivized to push products. It's no wonder that, according to Northwestern University's Spiegel Research Center, [almost 95% of online shoppers consult reviews before making a purchase](https://spiegel.medill.northwestern.edu/_pdf/Spiegel_Online%20Review_eBook_Jun2017_FINAL.pdf). \n",
        "\n",
        "It comes as no surprise, then, that businesses tend to invest heavily in curating their online reputation in ways that have eroded consumer trust in online reviews. One such example is [brushing](https://en.wikipedia.org/wiki/Brushing_(e-commerce)), where business owners buy their own products in order to review them as \"verified\" purchasers. Less dubious methods are common as well. The Spiegel Center report highlights several innocuous factors that can be manipulated to influence consumer behavior. \n",
        "\n",
        "![alt text](https://drive.google.com/uc?id=13wYhV2yIvUjzIggWc9v9N3mFp8zzstXI)\n",
        "\n",
        "What if we could just do away with the whole game of cat and mouse? In this project, we aim to test the hypothesis that product images alone are enough to glean information about customer reviews. If successful, this strategy has the potential to restore consumer trust in the world of online shopping. They say a picture is worth a thousand words...\n",
        "\n"
      ]
    },
    {
      "cell_type": "markdown",
      "metadata": {
        "id": "MfcoRoYJUl7h",
        "colab_type": "text"
      },
      "source": [
        "Data Exploration\n",
        "\n",
        "This hypothesis is obviously relevant only to certain sectors. Customers likely don't care what the insulation in their house looks like, as long as it gets the job done. We've chosen to test our hypothesis on the [Yelp dataset](https://www.yelp.com/dataset) - an extensive collection of reviews and ratings for businesses located in 11 metropolitan areas. In order to make reasonable comparisons, we've narrowed our scope to reviews of pizzarias. "
      ]
    },
    {
      "cell_type": "markdown",
      "metadata": {
        "id": "ONPK9YnaVmqm",
        "colab_type": "text"
      },
      "source": [
        "Solution Design\n",
        "\n",
        "- some ideas: \n",
        "    - classify the image against the review\n",
        "    - seperately, classify the text against the review\n",
        "    - component analysis: see if the classification is stronger with the text, without, different types of image classification strategies, feature extraction etc...\n",
        "    - try different preprocesssing methods / filtering to see what improves results\n",
        "    something else: can it be a chain? pic predicts the text which predicts the final score?\n",
        "    - feature extraction: understand what people like about what theyre scoring high / what they don't like about what theyre scoring low"
      ]
    },
    {
      "cell_type": "markdown",
      "metadata": {
        "id": "oOgQBXeFU1PR",
        "colab_type": "text"
      },
      "source": [
        "Initial Results"
      ]
    }
  ]
}