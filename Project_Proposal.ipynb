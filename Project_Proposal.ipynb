{
  "nbformat": 4,
  "nbformat_minor": 0,
  "metadata": {
    "colab": {
      "name": "Project Proposal",
      "provenance": [],
      "authorship_tag": "ABX9TyM9GSWP7mYFAP5RR+PcP3Ag"
    },
    "kernelspec": {
      "name": "python3",
      "display_name": "Python 3"
    }
  },
  "cells": [
    {
      "cell_type": "markdown",
      "metadata": {
        "id": "u0ZncVnESPvL",
        "colab_type": "text"
      },
      "source": [
        "Final Project: Proposal\n",
        "\n",
        "Title: Something something review score from pictures.\n",
        "\n",
        "Ziv Branstein\n",
        "\n",
        "Avishai Fuss"
      ]
    },
    {
      "cell_type": "markdown",
      "metadata": {
        "id": "YFxVYOC5UWJ9",
        "colab_type": "text"
      },
      "source": [
        "Project Goals\n",
        "(once this is more clear, we'll really be able to get to work)\n",
        "\n",
        "- some ideas: \n",
        "    - classify the image against the review\n",
        "    - seperately, classify the text against the review\n",
        "    - component analysis: see if the classification is stronger with the text, without, different types of image classification strategies, feature extraction etc...\n",
        "    - try different preprocesssing methods / filtering to see what improves results\n",
        "    something else: can it be a chain? pic predicts the text which predicts the final score?\n",
        "    - feature extraction: understand what people like about what theyre scoring high / what they don't like about what theyre scoring low\n",
        "\n",
        "\n",
        "\n",
        "\n",
        "\n",
        "\n"
      ]
    },
    {
      "cell_type": "markdown",
      "metadata": {
        "id": "LCoX8T_BUWbI",
        "colab_type": "text"
      },
      "source": [
        "Motivation\n",
        "\n",
        "Online reviews are a huge factor in today's e-commerce landscape. For consumers, its a crapshoot - sifting through tons of reviews, trying to figure out whats real and whats not. Trying to trust people on the internet sucks. \n",
        "\n",
        "reviews suck for business owners too. so much effort and worry about maintaining a brand / reputation. \n",
        "\n",
        "What if we could just do away with the whole process? It would be so much easier if you could just take a pic of the item you want and get a score that you could trust. This would be great for businesses as well, save time and money on focus group testing, other product development stuff \n",
        "\n",
        "feature extraction: useful for learning about consumer habits on a macro level, learning about popular trends before anyone has a chance to write about them. \n",
        "\n"
      ]
    },
    {
      "cell_type": "markdown",
      "metadata": {
        "id": "MfcoRoYJUl7h",
        "colab_type": "text"
      },
      "source": [
        "Data Exploration"
      ]
    },
    {
      "cell_type": "markdown",
      "metadata": {
        "id": "ONPK9YnaVmqm",
        "colab_type": "text"
      },
      "source": [
        "Solution Design"
      ]
    },
    {
      "cell_type": "markdown",
      "metadata": {
        "id": "oOgQBXeFU1PR",
        "colab_type": "text"
      },
      "source": [
        "Initial Results"
      ]
    }
  ]
}