{
  "nbformat": 4,
  "nbformat_minor": 0,
  "metadata": {
    "colab": {
      "name": "multiple_instance_proposal",
      "provenance": [],
      "collapsed_sections": [],
      "mount_file_id": "17_7A_RSM9FmL3NvQT0MFs_JYEIqWgEzM",
      "authorship_tag": "ABX9TyN89NGFR2Fztz7RivgQmeol"
    },
    "kernelspec": {
      "name": "python3",
      "display_name": "Python 3"
    },
    "accelerator": "GPU"
  },
  "cells": [
    {
      "cell_type": "code",
      "metadata": {
        "id": "44ERhmyil56x",
        "colab_type": "code",
        "colab": {}
      },
      "source": [
        "from collections import defaultdict\n",
        "import numpy as np\n",
        "from tensorflow.keras.applications.xception import Xception, preprocess_input\n",
        "from tensorflow.keras.preprocessing import image\n",
        "from tensorflow.keras.models import Model, Sequential\n",
        "from tensorflow.keras.layers import Dense, GlobalAveragePooling2D, ConvLSTM2D, Reshape, BatchNormalization, Conv3D\n",
        "from tensorflow.keras.optimizers import RMSprop\n",
        "from tensorflow.keras.callbacks import EarlyStopping\n",
        "from tensorflow.keras import Input, utils\n",
        "from sklearn.model_selection import train_test_split\n",
        "\n",
        "import os\n",
        "import json\n",
        "import pprint\n",
        "\n",
        "BAG_SIZE = 2"
      ],
      "execution_count": 0,
      "outputs": []
    },
    {
      "cell_type": "code",
      "metadata": {
        "id": "f1luMYw-6xRJ",
        "colab_type": "code",
        "colab": {
          "base_uri": "https://localhost:8080/",
          "height": 51
        },
        "outputId": "875bc101-469f-4585-8ae2-67859955e39d"
      },
      "source": [
        "# load stuff\n",
        "review_pix_dir = r'/content/drive/My Drive/Data Science Class/review_photos2/review_photos'\n",
        "review_ids_with_photos = list(os.listdir(review_pix_dir))\n",
        "with open(r'/content/drive/My Drive/Data Science Class/pizza_reviews.json', 'r') as f:\n",
        "    pizza_reviews = json.load(f)\n",
        "\n",
        "pizza_reviews_by_id = {pizza_review[\"review_id\"]: pizza_review for pizza_review in pizza_reviews}\n",
        "print(\"There are {} candidate reviews\".format(len(review_ids_with_photos)))\n",
        "# filter out review ids that don't have enough pictures\n",
        "for review_id in os.listdir(review_pix_dir):\n",
        "  pixdir = os.path.join(review_pix_dir, review_id)\n",
        "  subdir = os.path.join(review_pix_dir, pixdir)\n",
        "  if len(os.listdir(subdir)) < BAG_SIZE:\n",
        "    review_ids_with_photos.remove(review_id)\n",
        "print(\"Of those, {} have enough pictures\".format(len(review_ids_with_photos)))"
      ],
      "execution_count": 37,
      "outputs": [
        {
          "output_type": "stream",
          "text": [
            "There are 647 candidate reviews\n",
            "Of those, 173 have enough pictures\n"
          ],
          "name": "stdout"
        }
      ]
    },
    {
      "cell_type": "code",
      "metadata": {
        "id": "-crJVQZRqhCW",
        "colab_type": "code",
        "colab": {
          "base_uri": "https://localhost:8080/",
          "height": 34
        },
        "outputId": "b570bccc-b96c-4c28-f428-f9d4ae7a2591"
      },
      "source": [
        "\n",
        "\n",
        "stars_to_photos = defaultdict(lambda: [])\n",
        "bag_counter = 0\n",
        "for review_id_with_photos in review_ids_with_photos:\n",
        "    review_path = os.path.join(review_pix_dir, review_id_with_photos)\n",
        "    image_bag = []  # will produce multiple bags per review\n",
        "    for i, filename in enumerate(os.listdir(review_path)):\n",
        "        img_path = os.path.join(review_path, filename)\n",
        "        img = image.load_img(img_path, target_size=(299, 299))\n",
        "        img_array = image.img_to_array(img)\n",
        "        x = np.expand_dims(img_array, axis=0)\n",
        "        x = preprocess_input(x)\n",
        "        \n",
        "        image_bag.append(x)\n",
        "        #\n",
        "        if i == BAG_SIZE - 1:\n",
        "          bag_counter += 1\n",
        "          t = np.stack(image_bag, axis=0)\n",
        "          stars_to_photos[pizza_reviews_by_id[review_id_with_photos][\"stars\"]].append(t)\n",
        "          image_bag = []\n",
        "print(\"Created {} bags of size {}\".format(bag_counter, BAG_SIZE))\n"
      ],
      "execution_count": 38,
      "outputs": [
        {
          "output_type": "stream",
          "text": [
            "Created 173 bags of size 2\n"
          ],
          "name": "stdout"
        }
      ]
    },
    {
      "cell_type": "code",
      "metadata": {
        "id": "h-gYT7LnmKNe",
        "colab_type": "code",
        "outputId": "72496090-5bbe-409c-e737-fd4c55a6d7ed",
        "colab": {
          "base_uri": "https://localhost:8080/",
          "height": 493
        }
      },
      "source": [
        "from tensorflow.keras.models import Sequential\n",
        "#from keras.layers.convolutional import Conv3D\n",
        "#from keras.layers.convolutional_recurrent import ConvLSTM2D\n",
        "#from keras.layers.normalization import BatchNormalization\n",
        "\n",
        "# We create a layer which take as input movies of shape\n",
        "# (n_frames, width, height, channels) and returns a movie\n",
        "# of identical shape.\n",
        "\n",
        "seq = Sequential()\n",
        "seq.add(ConvLSTM2D(filters=40, kernel_size=(3, 3),\n",
        "                   input_shape=(BAG_SIZE, 299, 299, 3),\n",
        "                   padding='same', return_sequences=True))\n",
        "seq.add(BatchNormalization())\n",
        "\n",
        "seq.add(ConvLSTM2D(filters=40, kernel_size=(3, 3),\n",
        "                   padding='same', return_sequences=True))\n",
        "\n",
        "seq.add(BatchNormalization())\n",
        "\n",
        "seq.add(ConvLSTM2D(filters=40, kernel_size=(3, 3),\n",
        "                   padding='same', return_sequences=True))\n",
        "\n",
        "seq.add(BatchNormalization())\n",
        "\n",
        "seq.add(ConvLSTM2D(filters=40, kernel_size=(3, 3),\n",
        "                   padding='same', return_sequences=True))\n",
        "\n",
        "seq.add(BatchNormalization())\n",
        "\n",
        "seq.add(Conv3D(filters=1, kernel_size=(3, 3, 3),\n",
        "               activation='sigmoid',\n",
        "               padding='same', data_format='channels_last'))\n",
        "seq.add(Reshape((-1, 1)))\n",
        "seq.compile(loss='binary_crossentropy', optimizer='adadelta')\n",
        "seq.summary()"
      ],
      "execution_count": 44,
      "outputs": [
        {
          "output_type": "stream",
          "text": [
            "Model: \"sequential_1\"\n",
            "_________________________________________________________________\n",
            "Layer (type)                 Output Shape              Param #   \n",
            "=================================================================\n",
            "conv_lst_m2d_4 (ConvLSTM2D)  (None, 2, 299, 299, 40)   62080     \n",
            "_________________________________________________________________\n",
            "batch_normalization_4 (Batch (None, 2, 299, 299, 40)   160       \n",
            "_________________________________________________________________\n",
            "conv_lst_m2d_5 (ConvLSTM2D)  (None, 2, 299, 299, 40)   115360    \n",
            "_________________________________________________________________\n",
            "batch_normalization_5 (Batch (None, 2, 299, 299, 40)   160       \n",
            "_________________________________________________________________\n",
            "conv_lst_m2d_6 (ConvLSTM2D)  (None, 2, 299, 299, 40)   115360    \n",
            "_________________________________________________________________\n",
            "batch_normalization_6 (Batch (None, 2, 299, 299, 40)   160       \n",
            "_________________________________________________________________\n",
            "conv_lst_m2d_7 (ConvLSTM2D)  (None, 2, 299, 299, 40)   115360    \n",
            "_________________________________________________________________\n",
            "batch_normalization_7 (Batch (None, 2, 299, 299, 40)   160       \n",
            "_________________________________________________________________\n",
            "conv3d_1 (Conv3D)            (None, 2, 299, 299, 1)    1081      \n",
            "_________________________________________________________________\n",
            "reshape_1 (Reshape)          (None, None, 1)           0         \n",
            "=================================================================\n",
            "Total params: 409,881\n",
            "Trainable params: 409,561\n",
            "Non-trainable params: 320\n",
            "_________________________________________________________________\n"
          ],
          "name": "stdout"
        }
      ]
    },
    {
      "cell_type": "code",
      "metadata": {
        "id": "CV1xeUgYPanX",
        "colab_type": "code",
        "outputId": "30dd47b2-47a9-4f70-f56e-2fb623fe6294",
        "colab": {
          "base_uri": "https://localhost:8080/",
          "height": 34
        }
      },
      "source": [
        "one_star = np.rollaxis(np.concatenate(stars_to_photos[1], axis=1),1)\n",
        "two_star = np.rollaxis(np.concatenate(stars_to_photos[2], axis=1), 1)\n",
        "five_star = np.rollaxis(np.concatenate(stars_to_photos[5], axis=1), 1)\n",
        "\n",
        "X = np.concatenate([one_star] + [two_star])\n",
        "X = np.concatenate([X] + [five_star])\n",
        "y = np.repeat(0.0, len(stars_to_photos[1]) + len(stars_to_photos[2]))\n",
        "y = np.concatenate([y, np.repeat(1.0, len(stars_to_photos[5]))]).reshape(-1, 1)\n",
        "X.shape, y.shape"
      ],
      "execution_count": 45,
      "outputs": [
        {
          "output_type": "execute_result",
          "data": {
            "text/plain": [
              "((107, 2, 299, 299, 3), (107, 1))"
            ]
          },
          "metadata": {
            "tags": []
          },
          "execution_count": 45
        }
      ]
    },
    {
      "cell_type": "code",
      "metadata": {
        "id": "CBnhQq7mP23r",
        "colab_type": "code",
        "outputId": "03a8c5b0-cf95-4af8-e9a6-24baf372a2fc",
        "colab": {
          "base_uri": "https://localhost:8080/",
          "height": 34
        }
      },
      "source": [
        "X_train, X_test, y_train, y_test = train_test_split(X, y, test_size=0.3, stratify=y, random_state=42)\n",
        "X_train.shape, y_train.shape, X_test.shape, y_test.shape"
      ],
      "execution_count": 46,
      "outputs": [
        {
          "output_type": "execute_result",
          "data": {
            "text/plain": [
              "((74, 2, 299, 299, 3), (74, 1), (33, 2, 299, 299, 3), (33, 1))"
            ]
          },
          "metadata": {
            "tags": []
          },
          "execution_count": 46
        }
      ]
    },
    {
      "cell_type": "code",
      "metadata": {
        "id": "8qhBXg2gP5Z9",
        "colab_type": "code",
        "outputId": "d4883de3-6eb8-4f50-80ff-766a444384f3",
        "colab": {
          "base_uri": "https://localhost:8080/",
          "height": 119
        }
      },
      "source": [
        "seq.fit(X_train, y_train, batch_size=3, validation_split=0.3, epochs=50, callbacks=[EarlyStopping(patience=15, restore_best_weights=True)])"
      ],
      "execution_count": 0,
      "outputs": [
        {
          "output_type": "stream",
          "text": [
            "Epoch 1/50\n",
            "17/17 [==============================] - 45s 3s/step - loss: 0.7748 - val_loss: 0.6928\n",
            "Epoch 2/50\n",
            "17/17 [==============================] - 43s 3s/step - loss: 0.7582 - val_loss: 0.6924\n",
            "Epoch 3/50\n",
            " 3/17 [====>.........................] - ETA: 22s - loss: 0.7364"
          ],
          "name": "stdout"
        }
      ]
    },
    {
      "cell_type": "code",
      "metadata": {
        "id": "JLUb79K4xGpV",
        "colab_type": "code",
        "colab": {}
      },
      "source": [
        "seq.evaluate(X_test, y_test)"
      ],
      "execution_count": 0,
      "outputs": []
    }
  ]
}